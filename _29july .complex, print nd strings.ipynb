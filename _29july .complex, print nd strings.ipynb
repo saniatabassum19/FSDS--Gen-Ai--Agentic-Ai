{
 "cells": [
  {
   "cell_type": "markdown",
   "id": "17e32011-cbb8-4c54-b27e-0825a3e64e75",
   "metadata": {},
   "source": [
    "# COMPLEX DATA TYPE "
   ]
  },
  {
   "cell_type": "markdown",
   "id": "5af946e1-f462-4477-af7a-d7c4d200b0f6",
   "metadata": {},
   "source": [
    "# complex numbers, which consist of a real and an imaginary part"
   ]
  },
  {
   "cell_type": "code",
   "execution_count": null,
   "id": "86675cff-43bc-49ff-bfec-b2bd198a34ab",
   "metadata": {},
   "outputs": [],
   "source": [
    "# Creating a Complex Number\n",
    "#A complex number is created by appending the letter j (or J) to the imaginary part. The\n",
    "# format is:"
   ]
  },
  {
   "cell_type": "code",
   "execution_count": 1,
   "id": "846da2a9-6cc9-491c-9402-789b903a0b36",
   "metadata": {},
   "outputs": [],
   "source": [
    "a = 4 + 5j"
   ]
  },
  {
   "cell_type": "code",
   "execution_count": 2,
   "id": "02aa704c-a320-439c-8aaa-63c087b2faba",
   "metadata": {},
   "outputs": [
    {
     "data": {
      "text/plain": [
       "complex"
      ]
     },
     "execution_count": 2,
     "metadata": {},
     "output_type": "execute_result"
    }
   ],
   "source": [
    "type(a)"
   ]
  },
  {
   "cell_type": "markdown",
   "id": "cb96dd72-cf86-4b25-bf80-5c965bd8b947",
   "metadata": {},
   "source": [
    "# Accessing the Real and Imaginary Parts"
   ]
  },
  {
   "cell_type": "code",
   "execution_count": null,
   "id": "9e54e145-3ca7-416f-aca1-396843ab8be3",
   "metadata": {},
   "outputs": [],
   "source": [
    "# using the .real and .imag attributes"
   ]
  },
  {
   "cell_type": "code",
   "execution_count": 3,
   "id": "3302bdb6-5178-4664-9093-5bbb8cdcec86",
   "metadata": {},
   "outputs": [
    {
     "name": "stdout",
     "output_type": "stream",
     "text": [
      "4.0\n"
     ]
    }
   ],
   "source": [
    "print(a.real)"
   ]
  },
  {
   "cell_type": "code",
   "execution_count": 4,
   "id": "a3f98113-4cf9-40be-828e-293a9c2d3586",
   "metadata": {},
   "outputs": [
    {
     "name": "stdout",
     "output_type": "stream",
     "text": [
      "5.0\n"
     ]
    }
   ],
   "source": [
    "print(a.imag)"
   ]
  },
  {
   "cell_type": "markdown",
   "id": "7fb374d9-3a9f-4141-bc63-a1e11e44164e",
   "metadata": {},
   "source": [
    "# Operations with Complex Numbers"
   ]
  },
  {
   "cell_type": "code",
   "execution_count": 6,
   "id": "656a4deb-c7c8-4c16-8f4d-695a5558b6eb",
   "metadata": {},
   "outputs": [
    {
     "data": {
      "text/plain": [
       "(4+5j)"
      ]
     },
     "execution_count": 6,
     "metadata": {},
     "output_type": "execute_result"
    }
   ],
   "source": [
    "a"
   ]
  },
  {
   "cell_type": "code",
   "execution_count": 7,
   "id": "e33b3e7d-f104-46b2-a659-28f4a8daa64c",
   "metadata": {},
   "outputs": [
    {
     "data": {
      "text/plain": [
       "(6+7j)"
      ]
     },
     "execution_count": 7,
     "metadata": {},
     "output_type": "execute_result"
    }
   ],
   "source": [
    "b = 6 + 7j\n",
    "b"
   ]
  },
  {
   "cell_type": "code",
   "execution_count": 8,
   "id": "d0f96495-81c6-4169-af09-538117b4ea3b",
   "metadata": {},
   "outputs": [
    {
     "data": {
      "text/plain": [
       "(10+12j)"
      ]
     },
     "execution_count": 8,
     "metadata": {},
     "output_type": "execute_result"
    }
   ],
   "source": [
    "a + b"
   ]
  },
  {
   "cell_type": "code",
   "execution_count": 9,
   "id": "fd626955-64b7-47a2-87ac-64917e187d38",
   "metadata": {},
   "outputs": [
    {
     "data": {
      "text/plain": [
       "(-2-2j)"
      ]
     },
     "execution_count": 9,
     "metadata": {},
     "output_type": "execute_result"
    }
   ],
   "source": [
    "a - b"
   ]
  },
  {
   "cell_type": "code",
   "execution_count": 10,
   "id": "4dd41374-796e-4c4a-9fe3-99d7df226b86",
   "metadata": {},
   "outputs": [
    {
     "data": {
      "text/plain": [
       "(-11+58j)"
      ]
     },
     "execution_count": 10,
     "metadata": {},
     "output_type": "execute_result"
    }
   ],
   "source": [
    "a * b"
   ]
  },
  {
   "cell_type": "code",
   "execution_count": 15,
   "id": "2a573932-f1ab-4363-a11a-e0b3fccb823a",
   "metadata": {},
   "outputs": [
    {
     "data": {
      "text/plain": [
       "(0.6941176470588236+0.02352941176470587j)"
      ]
     },
     "execution_count": 15,
     "metadata": {},
     "output_type": "execute_result"
    }
   ],
   "source": [
    "a /b"
   ]
  },
  {
   "cell_type": "markdown",
   "id": "1658d023-d183-4bb1-850d-41f872d4fd2a",
   "metadata": {},
   "source": [
    "# Using Built-in Functions"
   ]
  },
  {
   "cell_type": "code",
   "execution_count": 19,
   "id": "b0a7ed4a-e54b-4dfd-ac88-53967bbe8008",
   "metadata": {},
   "outputs": [],
   "source": [
    "\n",
    "# Python provides several functions to work with complex numbers, such as:\n",
    " # abs(z): Returns the magnitude (absolute value) of the complex number.\n",
    " # conj(z): Returns the complex conjugate of the number\n"
   ]
  },
  {
   "cell_type": "code",
   "execution_count": 20,
   "id": "bd94c5c2-c93f-4a9a-8661-0f14577337ea",
   "metadata": {},
   "outputs": [
    {
     "data": {
      "text/plain": [
       "(4+5j)"
      ]
     },
     "execution_count": 20,
     "metadata": {},
     "output_type": "execute_result"
    }
   ],
   "source": [
    "a"
   ]
  },
  {
   "cell_type": "code",
   "execution_count": 22,
   "id": "16f8d8f3-2828-4301-801d-8249ab9fc67d",
   "metadata": {},
   "outputs": [
    {
     "name": "stdout",
     "output_type": "stream",
     "text": [
      "6.4031242374328485\n"
     ]
    }
   ],
   "source": [
    "print(abs(a))   # magnitude"
   ]
  },
  {
   "cell_type": "code",
   "execution_count": null,
   "id": "709ca2ab-8147-43b2-9c1b-3d89bfcf9fd4",
   "metadata": {},
   "outputs": [],
   "source": []
  },
  {
   "cell_type": "markdown",
   "id": "20a431af-1cc5-49e6-bce0-404601b29674",
   "metadata": {},
   "source": [
    "# print is use for answer"
   ]
  },
  {
   "cell_type": "code",
   "execution_count": 26,
   "id": "d1a1400b-c390-47bf-9b20-e46c09f51a71",
   "metadata": {},
   "outputs": [
    {
     "data": {
      "text/plain": [
       "20"
      ]
     },
     "execution_count": 26,
     "metadata": {},
     "output_type": "execute_result"
    }
   ],
   "source": [
    "a=10\n",
    "b=20\n",
    "a              # without print function \n",
    "b"
   ]
  },
  {
   "cell_type": "code",
   "execution_count": 27,
   "id": "58c83fe3-73e6-44ee-81e3-fa1f1b648c28",
   "metadata": {},
   "outputs": [
    {
     "name": "stdout",
     "output_type": "stream",
     "text": [
      "10\n",
      "20\n"
     ]
    }
   ],
   "source": [
    "a=10\n",
    "b=20\n",
    "print(a)\n",
    "print(b)"
   ]
  },
  {
   "cell_type": "code",
   "execution_count": 28,
   "id": "bf6a6813-85db-4e92-988a-a9b7bd861fbf",
   "metadata": {},
   "outputs": [
    {
     "name": "stdout",
     "output_type": "stream",
     "text": [
      "10\n",
      "10 20\n",
      "python\n",
      "10 20 python\n"
     ]
    }
   ],
   "source": [
    "print(10)\n",
    "print(10,20)\n",
    "print('python')\n",
    "print(10,20,'python')"
   ]
  },
  {
   "cell_type": "code",
   "execution_count": 29,
   "id": "273bfb2f-8e53-4bf8-9d5b-7456751b2176",
   "metadata": {},
   "outputs": [
    {
     "name": "stdout",
     "output_type": "stream",
     "text": [
      "500\n"
     ]
    }
   ],
   "source": [
    "num1=200\n",
    "num2=300\n",
    "add=num1+num2\n",
    "print(add)"
   ]
  },
  {
   "cell_type": "markdown",
   "id": "1a293776-cff1-441c-8d33-a549535bafc5",
   "metadata": {},
   "source": [
    "# print result with string"
   ]
  },
  {
   "cell_type": "code",
   "execution_count": 33,
   "id": "a84c1e47-82bb-466b-9ef3-9acf575fa7b5",
   "metadata": {},
   "outputs": [
    {
     "name": "stdout",
     "output_type": "stream",
     "text": [
      "The addition of 20 and 30 is 50\n"
     ]
    }
   ],
   "source": [
    "num1=20\n",
    "num2=30\n",
    "add=num1+num2\n",
    "print(\"The addition of\",num1, \"and\" ,num2, \"is\",add)"
   ]
  },
  {
   "cell_type": "code",
   "execution_count": 34,
   "id": "81543eac-ac6e-4f36-8470-b1b417e52832",
   "metadata": {},
   "outputs": [],
   "source": [
    "name='Python'\n",
    "age=20\n",
    "city='hyd'\n",
    "#hello my name is python and i am 10 year old from hydrabad"
   ]
  },
  {
   "cell_type": "code",
   "execution_count": 37,
   "id": "54799ae3-0f59-4abe-9301-41d8aec3873e",
   "metadata": {},
   "outputs": [
    {
     "name": "stdout",
     "output_type": "stream",
     "text": [
      "hello my name is Python and i am 20 old from hyd\n"
     ]
    }
   ],
   "source": [
    "print(\"hello my name is\",name,\"and i am\",age,\"old from\",city)"
   ]
  },
  {
   "cell_type": "markdown",
   "id": "b10fc0a3-1ecd-4ab4-ad6b-6e5b7e24f2d7",
   "metadata": {},
   "source": [
    "# print Format method"
   ]
  },
  {
   "cell_type": "code",
   "execution_count": null,
   "id": "d900a37a-c0ed-4366-a0bb-dc45a58b5170",
   "metadata": {},
   "outputs": [],
   "source": [
    "# appply .format(val1,val2,....val-n method"
   ]
  },
  {
   "cell_type": "code",
   "execution_count": 38,
   "id": "594291db-d21c-4921-b4d5-4e710821b5ef",
   "metadata": {},
   "outputs": [
    {
     "name": "stdout",
     "output_type": "stream",
     "text": [
      "the addition of 20 and 30 is = 50\n"
     ]
    }
   ],
   "source": [
    "num1=20\n",
    "num2=30\n",
    "add=num1+num2\n",
    "print(\"the addition of {} and {} is = {}\".format(num1, num2, add) )"
   ]
  },
  {
   "cell_type": "code",
   "execution_count": 44,
   "id": "f88a0759-8a1e-45cf-a990-ac35f4dccd54",
   "metadata": {},
   "outputs": [
    {
     "name": "stdout",
     "output_type": "stream",
     "text": [
      "Hello my name is Python, and i am 20 year old from hyd\n"
     ]
    }
   ],
   "source": [
    "name='Python'\n",
    "age=20\n",
    "city='hyd'\n",
    "#hello my name is python and i am 10 year old from hyd\n",
    "print('Hello my name is {}, and i am {} year old from {}'.format(name,age,city))"
   ]
  },
  {
   "cell_type": "code",
   "execution_count": 45,
   "id": "7e769c15-1c70-4ed0-9300-88ef12e816cc",
   "metadata": {},
   "outputs": [
    {
     "name": "stdout",
     "output_type": "stream",
     "text": [
      "The average of 100, 25,333 is =152.66666666666666 or 152.67\n"
     ]
    }
   ],
   "source": [
    "num1=100\n",
    "num2=25\n",
    "num3=333\n",
    "avg=(num1+num2+num3)/3 # or we can use avg=round(num1+num2+num3)/3,2)\n",
    "avg1=round((num1+num2+num3)/3,2)\n",
    "# The avrage of num1,num2,num3 is = avg\n",
    "print('The average of {}, {},{} is ={} or {}'.format(num1,num2,num3,avg,avg1))"
   ]
  },
  {
   "cell_type": "code",
   "execution_count": 46,
   "id": "fa41936b-dab8-4367-81ac-4ec906c2c260",
   "metadata": {},
   "outputs": [
    {
     "data": {
      "text/plain": [
       "152.67"
      ]
     },
     "execution_count": 46,
     "metadata": {},
     "output_type": "execute_result"
    }
   ],
   "source": [
    "round(avg,2) # round of till 2 digite after decimal"
   ]
  },
  {
   "cell_type": "code",
   "execution_count": 50,
   "id": "9c4822b1-f2cf-49bb-8225-03c98a645a4b",
   "metadata": {},
   "outputs": [],
   "source": [
    "#More short format meythod(f string method)\n",
    " #variable should be in curly braces\n",
    " #and write everything inside quots ''\n",
    " #at starting simpaly add f\n",
    " "
   ]
  },
  {
   "cell_type": "code",
   "execution_count": 53,
   "id": "0650141f-f55f-4de0-97ee-c99d9b1afd8b",
   "metadata": {},
   "outputs": [
    {
     "name": "stdout",
     "output_type": "stream",
     "text": [
      "THE addition of 20 and 30 is = 50\n"
     ]
    }
   ],
   "source": [
    "num1=20\n",
    "num2=30\n",
    "add = num1 + num2\n",
    "print(f\"THE addition of {num1} and {num2} is = {add}\")"
   ]
  },
  {
   "cell_type": "code",
   "execution_count": null,
   "id": "3738f787-934c-44b2-8e48-92c12111c5ec",
   "metadata": {},
   "outputs": [],
   "source": [
    "name='Python'\n",
    "age=20\n",
    "city='hyd'\n",
    "#hello my name is python and i am 10 year old from hydrabad"
   ]
  },
  {
   "cell_type": "code",
   "execution_count": 56,
   "id": "5b21144f-68b2-42ba-821c-4900e6d69443",
   "metadata": {},
   "outputs": [
    {
     "name": "stdout",
     "output_type": "stream",
     "text": [
      "Hello my name is Python and i am 20 year old from hyd\n"
     ]
    }
   ],
   "source": [
    "print(f\"Hello my name is {name} and i am {age} year old from {city}\")"
   ]
  },
  {
   "cell_type": "markdown",
   "id": "8125c813-ae00-471f-b1f8-1a2b417142a0",
   "metadata": {},
   "source": [
    "# End statement"
   ]
  },
  {
   "cell_type": "code",
   "execution_count": 57,
   "id": "461268b9-6293-451f-ac96-e4c1498d6f9c",
   "metadata": {},
   "outputs": [],
   "source": [
    "# Here we will use end statement that joint line from end of one string to starting of other string"
   ]
  },
  {
   "cell_type": "code",
   "execution_count": 59,
   "id": "768d42d7-791c-4a80-9421-2b0f602917ea",
   "metadata": {},
   "outputs": [
    {
     "name": "stdout",
     "output_type": "stream",
     "text": [
      "hello\n",
      "good morning\n"
     ]
    }
   ],
   "source": [
    "print('hello') # 1st statement\n",
    "print('good morning') # 2nd statement\n",
    "# i want print like:- hello good morning"
   ]
  },
  {
   "cell_type": "code",
   "execution_count": 68,
   "id": "92884f57-a858-4326-8aa4-3a5091765742",
   "metadata": {},
   "outputs": [
    {
     "name": "stdout",
     "output_type": "stream",
     "text": [
      "hello very Good Morning\n"
     ]
    }
   ],
   "source": [
    "print(\"hello\",end='')\n",
    "print(\" very Good Morning\")"
   ]
  },
  {
   "cell_type": "code",
   "execution_count": 71,
   "id": "4ad49d3f-83e8-48ba-8911-d518324be46f",
   "metadata": {},
   "outputs": [
    {
     "name": "stdout",
     "output_type": "stream",
     "text": [
      "hello sir/mam How can we help you?\n"
     ]
    }
   ],
   "source": [
    "print(\"hello sir/mam\",end='')\n",
    "print(\" How can we help you?\")"
   ]
  },
  {
   "cell_type": "markdown",
   "id": "f3b2d6e2-13f8-4c43-a72c-d274f2868e9e",
   "metadata": {},
   "source": [
    "# Seperator"
   ]
  },
  {
   "cell_type": "code",
   "execution_count": null,
   "id": "ff0ca313-ebe4-4ccc-a259-ca8f9ce51911",
   "metadata": {},
   "outputs": [],
   "source": [
    "# here one print statement only we use\n",
    "# inside one print statement we have multipal values\n",
    "# we want to seperate these multipal values with anything"
   ]
  },
  {
   "cell_type": "code",
   "execution_count": 74,
   "id": "5b0c8477-71a9-48cf-8a41-7a8ff54316b4",
   "metadata": {},
   "outputs": [
    {
     "name": "stdout",
     "output_type": "stream",
     "text": [
      "hello---> hiee---> how are you\n"
     ]
    }
   ],
   "source": [
    "print('hello' ,' hiee',' how are you',sep='--->')"
   ]
  },
  {
   "cell_type": "code",
   "execution_count": 76,
   "id": "b0c936f9-5469-4d8c-a471-1789cba2084b",
   "metadata": {},
   "outputs": [
    {
     "name": "stdout",
     "output_type": "stream",
     "text": [
      "hiee$ ssup$ How are you\n"
     ]
    }
   ],
   "source": [
    "print(\"hiee\", \" ssup\", \" How are you\",sep='$')"
   ]
  },
  {
   "cell_type": "code",
   "execution_count": 78,
   "id": "e486e714-4111-49ce-8131-5f68b43a9874",
   "metadata": {},
   "outputs": [
    {
     "name": "stdout",
     "output_type": "stream",
     "text": [
      "hello    hai    how are you\n"
     ]
    }
   ],
   "source": [
    "print('hello','hai','how are you',sep='    ')"
   ]
  },
  {
   "cell_type": "code",
   "execution_count": 79,
   "id": "565568e3-3cf3-4b4e-ab55-afd85c2251dc",
   "metadata": {},
   "outputs": [
    {
     "name": "stdout",
     "output_type": "stream",
     "text": [
      "hello@hai@how are you\n"
     ]
    }
   ],
   "source": [
    "print('hello','hai','how are you',sep='@')"
   ]
  },
  {
   "cell_type": "code",
   "execution_count": 82,
   "id": "ebe3b927-d58a-4426-a8bf-c662608586d4",
   "metadata": {},
   "outputs": [
    {
     "name": "stdout",
     "output_type": "stream",
     "text": [
      "3 .\n"
     ]
    }
   ],
   "source": [
    "print(3,'.') # . is far from 3 so here we will use sep method"
   ]
  },
  {
   "cell_type": "code",
   "execution_count": 85,
   "id": "091520f4-d4e9-43f5-bf88-f87d0fe6b084",
   "metadata": {},
   "outputs": [
    {
     "name": "stdout",
     "output_type": "stream",
     "text": [
      "3.\n"
     ]
    }
   ],
   "source": [
    "print(3,'.',sep='') # see now space setteld(also use to remove space B/W words)"
   ]
  },
  {
   "cell_type": "code",
   "execution_count": 86,
   "id": "b73083a3-6f9b-491c-b6ad-bbb11c0308e1",
   "metadata": {},
   "outputs": [
    {
     "name": "stdout",
     "output_type": "stream",
     "text": [
      "1 2 3.\n"
     ]
    }
   ],
   "source": [
    "print(1,2,end=' ')\n",
    "print(3,'.',sep='')\n",
    "# will print 1 2 3."
   ]
  },
  {
   "cell_type": "markdown",
   "id": "3dc3e374-cebc-488c-af15-4bbc8af189fe",
   "metadata": {},
   "source": [
    "# --------------------------------"
   ]
  },
  {
   "cell_type": "code",
   "execution_count": 92,
   "id": "09f170c3-a436-445b-b7b2-4e605d6327f4",
   "metadata": {},
   "outputs": [
    {
     "name": "stdout",
     "output_type": "stream",
     "text": [
      "P\n",
      "1\n",
      "Hello, World!\n",
      "13\n",
      "I hope you are enjoying 30 days of python challenge\n"
     ]
    }
   ],
   "source": [
    "# Single line comment\n",
    "letter = 'P'                # A string could be a single character or a bunch of texts\n",
    "print(letter)               # P\n",
    "print(len(letter))          # 1\n",
    "greeting = 'Hello, World!'  # String could be  a single or double quote,\"Hello, World!\"\n",
    "print(greeting)             # Hello, World!\n",
    "print(len(greeting))        # 13\n",
    "sentence = \"I hope you are enjoying 30 days of python challenge\"\n",
    "print(sentence)\n"
   ]
  },
  {
   "cell_type": "code",
   "execution_count": 94,
   "id": "f3453d95-1ec1-4929-890f-4c4808eef7fc",
   "metadata": {},
   "outputs": [
    {
     "name": "stdout",
     "output_type": "stream",
     "text": [
      "I am a teacher and enjoy teaching.\n",
      "I didn't find anything as rewarding as empowering people.\n",
      "That is why I created 30 days of python.\n",
      "I am a teacher and enjoy teaching.\n",
      "I didn't find anything as rewarding as empowering people.\n",
      "That is why I created 30 days of python.\n"
     ]
    }
   ],
   "source": [
    "# Multiline String\n",
    "multiline_string = '''I am a teacher and enjoy teaching.\n",
    "I didn't find anything as rewarding as empowering people.\n",
    "That is why I created 30 days of python.'''\n",
    "print(multiline_string)\n",
    "# Another way of doing the same thing\n",
    "multiline_string = \"\"\"I am a teacher and enjoy teaching.\n",
    "I didn't find anything as rewarding as empowering people.\n",
    "That is why I created 30 days of python.\"\"\"\n",
    "print(multiline_string)"
   ]
  },
  {
   "cell_type": "markdown",
   "id": "16f37e67-2183-411a-ba0b-8547002cdecb",
   "metadata": {},
   "source": [
    "# String Concatenation"
   ]
  },
  {
   "cell_type": "code",
   "execution_count": 97,
   "id": "2f507ee9-f450-4ab5-88a6-423e9237fd0e",
   "metadata": {},
   "outputs": [
    {
     "name": "stdout",
     "output_type": "stream",
     "text": [
      "Sania Tabassum\n",
      "5\n",
      "8\n",
      "False\n",
      "14\n"
     ]
    }
   ],
   "source": [
    "# String Concatenation\n",
    "first_name = 'Sania'\n",
    "last_name = 'Tabassum'\n",
    "space = ' '\n",
    "full_name = first_name  +  space + last_name\n",
    "print(full_name) # Sania Tabassum\n",
    "# Checking length of a string using len() builtin function\n",
    "print(len(first_name))  # 5\n",
    "print(len(last_name))   # 8\n",
    "print(len(first_name) > len(last_name)) # False\n",
    "print(len(full_name)) # 14"
   ]
  },
  {
   "cell_type": "markdown",
   "id": "17063c66-0c5e-4105-b220-b8c37a0de7fa",
   "metadata": {},
   "source": [
    "#### Unpacking characters "
   ]
  },
  {
   "cell_type": "code",
   "execution_count": 98,
   "id": "56724460-036e-4337-9be3-b3cf9f676be8",
   "metadata": {},
   "outputs": [
    {
     "name": "stdout",
     "output_type": "stream",
     "text": [
      "P\n",
      "y\n",
      "t\n",
      "h\n",
      "o\n",
      "n\n"
     ]
    }
   ],
   "source": [
    "#### Unpacking characters \n",
    "language = 'Python'\n",
    "a,b,c,d,e,f = language # unpacking sequence characters into variables\n",
    "print(a) # P\n",
    "print(b) # y\n",
    "print(c) # t \n",
    "print(d) # h\n",
    "print(e) # o\n",
    "print(f) # n"
   ]
  },
  {
   "cell_type": "code",
   "execution_count": 107,
   "id": "a372b5a4-5260-46c1-94a6-ef7e31d57a2b",
   "metadata": {},
   "outputs": [
    {
     "name": "stdout",
     "output_type": "stream",
     "text": [
      "S\n",
      "a\n",
      "n\n",
      "i\n",
      "a\n"
     ]
    }
   ],
   "source": [
    "word = \"Sania\"\n",
    "u,v,w,x,y = word\n",
    "print(u)\n",
    "print(v)\n",
    "print(w)\n",
    "print(x)\n",
    "print(y)\n",
    " \n"
   ]
  },
  {
   "cell_type": "markdown",
   "id": "873ee047-dde1-4aca-baf6-6d801b67b971",
   "metadata": {},
   "source": [
    "# Accessing characters in strings by index"
   ]
  },
  {
   "cell_type": "code",
   "execution_count": 108,
   "id": "f0bf63d6-a210-448e-9340-57e16786845f",
   "metadata": {},
   "outputs": [
    {
     "name": "stdout",
     "output_type": "stream",
     "text": [
      "P\n",
      "y\n",
      "n\n"
     ]
    }
   ],
   "source": [
    "# Accessing characters in strings by index\n",
    "language = 'Python'\n",
    "first_letter = language[0]\n",
    "print(first_letter) # P\n",
    "second_letter = language[1]\n",
    "print(second_letter) # y\n",
    "last_index = len(language) - 1\n",
    "last_letter = language[last_index]\n",
    "print(last_letter) # n"
   ]
  },
  {
   "cell_type": "code",
   "execution_count": 141,
   "id": "84c6d8eb-085c-4733-86b6-7520a56073ad",
   "metadata": {},
   "outputs": [
    {
     "name": "stdout",
     "output_type": "stream",
     "text": [
      "C\n",
      "o\n",
      "d\n"
     ]
    },
    {
     "data": {
      "text/plain": [
       "'Conrad'"
      ]
     },
     "execution_count": 141,
     "metadata": {},
     "output_type": "execute_result"
    }
   ],
   "source": [
    "lang = \"Conrad\"\n",
    "first_let = lang[0]\n",
    "print(first_let)\n",
    "sec_let = lang[1]\n",
    "print(sec_let)\n",
    "last_let= len(lang) - 1\n",
    "last_let = lang[last_index]\n",
    "print(last_let)\n",
    "lang"
   ]
  },
  {
   "cell_type": "markdown",
   "id": "cb8852af-0cc3-41a9-adac-1f6ac2c47ae2",
   "metadata": {},
   "source": [
    "# If we want to start from right end we can use negative indexing. -1 is the last index"
   ]
  },
  {
   "cell_type": "code",
   "execution_count": 116,
   "id": "2c5bb5f2-425f-458e-a10a-ee3da92926bf",
   "metadata": {},
   "outputs": [
    {
     "name": "stdout",
     "output_type": "stream",
     "text": [
      "n\n",
      "o\n"
     ]
    }
   ],
   "source": [
    "# If we want to start from right end we can use negative indexing. -1 is the last index\n",
    "language = 'Python'\n",
    "last_letter = language[-1]\n",
    "print(last_letter) # n\n",
    "second_last = language[-2]\n",
    "print(second_last) # o"
   ]
  },
  {
   "cell_type": "code",
   "execution_count": 119,
   "id": "99f88bc9-8deb-4cb5-9bc2-a5af365c09f7",
   "metadata": {},
   "outputs": [
    {
     "name": "stdout",
     "output_type": "stream",
     "text": [
      "n\n",
      "m\n"
     ]
    },
    {
     "data": {
      "text/plain": [
       "'Damon'"
      ]
     },
     "execution_count": 119,
     "metadata": {},
     "output_type": "execute_result"
    }
   ],
   "source": [
    "lang=\"Damon\"\n",
    "last_let = lang[-1]\n",
    "print(last_let)\n",
    "third_let=lang[-3]\n",
    "print(third_let)\n",
    "lang"
   ]
  },
  {
   "cell_type": "markdown",
   "id": "5c217207-8d19-431b-b08c-998cae30bdd6",
   "metadata": {},
   "source": [
    "# Slicing"
   ]
  },
  {
   "cell_type": "code",
   "execution_count": 121,
   "id": "1bb8c51b-89dc-4eb5-8a15-2ec9609085f4",
   "metadata": {},
   "outputs": [
    {
     "name": "stdout",
     "output_type": "stream",
     "text": [
      "Pyt\n",
      "hon\n",
      "hon\n",
      "hon\n"
     ]
    }
   ],
   "source": [
    "# Slicing\n",
    "\n",
    "language = 'Python'\n",
    "first_three = language[0:3] # starts at zero index and up to 3 but not include 3\n",
    "last_three = language[3:6]\n",
    "print(first_three)\n",
    "print(last_three) # hon\n",
    "# Another way\n",
    "last_three = language[-3:]\n",
    "print(last_three)   # hon\n",
    "last_three = language[3:]\n",
    "print(last_three)   # hon"
   ]
  },
  {
   "cell_type": "code",
   "execution_count": 131,
   "id": "d6edc2ef-9b79-48e6-ba1e-c04d79244a39",
   "metadata": {},
   "outputs": [
    {
     "name": "stdout",
     "output_type": "stream",
     "text": [
      "Ste\n",
      "vee\n"
     ]
    }
   ],
   "source": [
    "lang = \"Stevee\"\n",
    "fir_three = lang[:3]\n",
    "print(fir_three)\n",
    "last_3 = lang[3:]\n",
    "print(last_3)"
   ]
  },
  {
   "cell_type": "markdown",
   "id": "38eda7f3-e56e-4f87-a605-c7dc8dfada8c",
   "metadata": {},
   "source": [
    "# Skipping character while splitting Python strings"
   ]
  },
  {
   "cell_type": "code",
   "execution_count": 132,
   "id": "deeed8b1-9823-4851-a360-a2ed9617c037",
   "metadata": {},
   "outputs": [
    {
     "name": "stdout",
     "output_type": "stream",
     "text": [
      "Pto\n"
     ]
    }
   ],
   "source": [
    "# Skipping character while splitting Python strings\n",
    "language = 'Python'\n",
    "pto = language[0:6:2] # \n",
    "print(pto) # pto\n"
   ]
  },
  {
   "cell_type": "code",
   "execution_count": 136,
   "id": "03a65276-7562-42a5-a759-239199c4c8f6",
   "metadata": {},
   "outputs": [
    {
     "name": "stdout",
     "output_type": "stream",
     "text": [
      "Vrt\n"
     ]
    }
   ],
   "source": [
    "lang = \"Virat\"\n",
    "vrt= lang[0:5:2]\n",
    "print(vrt)"
   ]
  },
  {
   "cell_type": "code",
   "execution_count": 140,
   "id": "cf6637c6-7de7-474e-b52e-6f693e81d4ae",
   "metadata": {},
   "outputs": [
    {
     "name": "stdout",
     "output_type": "stream",
     "text": [
      "Anr\n"
     ]
    }
   ],
   "source": [
    "lang = \"Avengers\"\n",
    "lol = lang[0:8:3]\n",
    "print(lol)"
   ]
  },
  {
   "cell_type": "markdown",
   "id": "f230954d-7110-458f-8c36-0a2f40e5b993",
   "metadata": {},
   "source": [
    "# Escape sequence"
   ]
  },
  {
   "cell_type": "code",
   "execution_count": 143,
   "id": "3d45bcd7-e4c6-4d25-af7a-872ceede8b5f",
   "metadata": {},
   "outputs": [
    {
     "name": "stdout",
     "output_type": "stream",
     "text": [
      "I hope every one enjoying the python challenge.\n",
      "Do you ?\n",
      "Days\tTopics\tExercises\n",
      "Day 1\t3\t5\n",
      "Day 2\t3\t5\n",
      "Day 3\t3\t5\n",
      "Day 4\t3\t5\n",
      "This is a back slash  symbol (\\)\n",
      "In every programming language it starts with \"Hello, World!\"\n"
     ]
    }
   ],
   "source": [
    "print('I hope every one enjoying the python challenge.\\nDo you ?') # line break\n",
    "print('Days\\tTopics\\tExercises')\n",
    "print('Day 1\\t3\\t5')\n",
    "print('Day 2\\t3\\t5')\n",
    "print('Day 3\\t3\\t5')\n",
    "print('Day 4\\t3\\t5')\n",
    "print('This is a back slash  symbol (\\\\)') # To write a back slash\n",
    "print('In every programming language it starts with \\\"Hello, World!\\\"')"
   ]
  },
  {
   "cell_type": "markdown",
   "id": "1b07a915-9d59-4510-b90d-cbef607eed86",
   "metadata": {},
   "source": [
    "   ### \\t automatically keeps columns more uniform, especially in tabular data."
   ]
  },
  {
   "cell_type": "code",
   "execution_count": 152,
   "id": "6c74b101-1cb5-4257-836a-ee08c8f62432",
   "metadata": {},
   "outputs": [
    {
     "name": "stdout",
     "output_type": "stream",
     "text": [
      "lets create a table \n",
      "Excited huh?? \n",
      "Date\tMonths\tYears\n",
      "1st \tJan \t1979\n",
      "19th \tApril \t2004\n"
     ]
    }
   ],
   "source": [
    "print(\"lets create a table \\nExcited huh?? \")\n",
    "print(\"Date\\tMonths\\tYears\")\n",
    "print(\"1st \\tJan \\t1979\")\n",
    "print(\"19th \\tApril \\t2004\")"
   ]
  },
  {
   "cell_type": "markdown",
   "id": "0ad85ac7-6fcb-49aa-8423-5776ba4eb641",
   "metadata": {},
   "source": [
    "# String Methods\n",
    "# capitalize(): Converts the first character the string to Capital Letter"
   ]
  },
  {
   "cell_type": "code",
   "execution_count": 145,
   "id": "592ce0cf-7ec0-4ce5-bf21-9f5beeb30d56",
   "metadata": {},
   "outputs": [
    {
     "name": "stdout",
     "output_type": "stream",
     "text": [
      "Thirty days of python\n"
     ]
    }
   ],
   "source": [
    "challenge = 'thirty days of python'\n",
    "print(challenge.capitalize()) # 'Thirty days of python'"
   ]
  },
  {
   "cell_type": "code",
   "execution_count": 153,
   "id": "ea1aba0a-b2ee-49fc-9abc-2fe33b985dbb",
   "metadata": {},
   "outputs": [
    {
     "name": "stdout",
     "output_type": "stream",
     "text": [
      "How are you ? how may i help you??\n"
     ]
    }
   ],
   "source": [
    "sent = \"how are you ? how may i help you??\"\n",
    "print(sent.capitalize())"
   ]
  },
  {
   "cell_type": "markdown",
   "id": "bd530b2d-44b5-4d5f-92b1-bee366dce2eb",
   "metadata": {},
   "source": [
    "# # count(): returns occurrences of substring in string, count(substring, start=.., end=..)"
   ]
  },
  {
   "cell_type": "code",
   "execution_count": 154,
   "id": "7c1f3a00-2ad1-4e9f-ba46-07c10cf9c443",
   "metadata": {},
   "outputs": [
    {
     "name": "stdout",
     "output_type": "stream",
     "text": [
      "3\n",
      "1\n",
      "2\n"
     ]
    }
   ],
   "source": [
    "challenge = 'thirty days of python'\n",
    "print(challenge.count('y')) # 3\n",
    "print(challenge.count('y', 7, 14)) # 1\n",
    "print(challenge.count('th')) # 2`"
   ]
  },
  {
   "cell_type": "code",
   "execution_count": 157,
   "id": "6ee18e1a-f908-4985-9253-39ca7b37416c",
   "metadata": {},
   "outputs": [
    {
     "name": "stdout",
     "output_type": "stream",
     "text": [
      "2\n"
     ]
    }
   ],
   "source": [
    "letters = \"asssaddddffgggghhhjjjjkkklll\"\n",
    "print(letters.count(\"a\"))"
   ]
  },
  {
   "cell_type": "code",
   "execution_count": 158,
   "id": "b86032cf-97f4-47a5-a7ae-eee0c4f31f33",
   "metadata": {},
   "outputs": [
    {
     "name": "stdout",
     "output_type": "stream",
     "text": [
      "4\n"
     ]
    }
   ],
   "source": [
    "print(letters.count(\"g\"))"
   ]
  },
  {
   "cell_type": "code",
   "execution_count": 159,
   "id": "2ff1165a-dba0-4549-b84f-b7fc20e9ca8d",
   "metadata": {},
   "outputs": [
    {
     "name": "stdout",
     "output_type": "stream",
     "text": [
      "3\n"
     ]
    }
   ],
   "source": [
    "print(letters.count(\"s\"))"
   ]
  },
  {
   "cell_type": "markdown",
   "id": "64775719-6be9-4f69-b1d8-4e6bd249ec43",
   "metadata": {},
   "source": [
    "# endswith(): Checks if a string ends with a specified ending\n"
   ]
  },
  {
   "cell_type": "code",
   "execution_count": 161,
   "id": "b4147ff5-e4ef-4d89-8fc1-6ce941d7a0f9",
   "metadata": {},
   "outputs": [
    {
     "name": "stdout",
     "output_type": "stream",
     "text": [
      "True\n",
      "False\n"
     ]
    }
   ],
   "source": [
    "challenge = 'thirty days of python'\n",
    "print(challenge.endswith('on'))   # True\n",
    "print(challenge.endswith('tion')) # False\n"
   ]
  },
  {
   "cell_type": "code",
   "execution_count": 162,
   "id": "ce93dd09-269f-4b3a-956b-057498302b41",
   "metadata": {},
   "outputs": [
    {
     "name": "stdout",
     "output_type": "stream",
     "text": [
      "False\n"
     ]
    }
   ],
   "source": [
    "san = \" hello everyone my name is Sania Tabassum\"\n",
    "print(san.endswith(\"nia\"))"
   ]
  },
  {
   "cell_type": "code",
   "execution_count": 163,
   "id": "1a42c459-0ead-4c59-b84c-a84c5ae20b00",
   "metadata": {},
   "outputs": [
    {
     "name": "stdout",
     "output_type": "stream",
     "text": [
      "True\n"
     ]
    }
   ],
   "source": [
    "print(san.endswith(\"ssum\"))"
   ]
  },
  {
   "cell_type": "markdown",
   "id": "6b498667-a5af-4a0b-84ea-5c43a9baa5ed",
   "metadata": {},
   "source": [
    "# # expandtabs(): Replaces tab character with spaces, default tab size is 8. It takes tab size argument"
   ]
  },
  {
   "cell_type": "code",
   "execution_count": 164,
   "id": "c00d882c-17f1-4b5d-9cb1-a0c2fcb9c7b7",
   "metadata": {},
   "outputs": [
    {
     "name": "stdout",
     "output_type": "stream",
     "text": [
      "thirty  days    of      python\n",
      "thirty    days      of        python\n"
     ]
    }
   ],
   "source": [
    "challenge = 'thirty\\tdays\\tof\\tpython'\n",
    "print(challenge.expandtabs())   # 'thirty  days    of      python'\n",
    "print(challenge.expandtabs(10)) # 'thirty    days      of        python'\n"
   ]
  },
  {
   "cell_type": "code",
   "execution_count": 177,
   "id": "1b76bab8-a9c1-4e3e-84e0-24573fecaae8",
   "metadata": {},
   "outputs": [
    {
     "name": "stdout",
     "output_type": "stream",
     "text": [
      " hello   everyone       my      name    is      Sania   Tabassum\n",
      " hello           everyone       my              name            is              Sania           Tabassum\n"
     ]
    }
   ],
   "source": [
    "san = \" hello\\t everyone\\tmy\\tname\\tis\\tSania\\tTabassum\"\n",
    "print(san.expandtabs())\n",
    "print(san.expandtabs(16))"
   ]
  },
  {
   "cell_type": "markdown",
   "id": "68ff6288-1f0b-4bbc-865c-d471b536d741",
   "metadata": {},
   "source": [
    "# find(): Returns the index of first occurrence of substring"
   ]
  },
  {
   "cell_type": "code",
   "execution_count": 178,
   "id": "deb78d70-6738-41a2-ae64-f85fe79463a5",
   "metadata": {},
   "outputs": [
    {
     "name": "stdout",
     "output_type": "stream",
     "text": [
      "5\n",
      "0\n"
     ]
    }
   ],
   "source": [
    "challenge = 'thirty days of python'\n",
    "print(challenge.find('y'))  # 5\n",
    "print(challenge.find('th')) # 0"
   ]
  },
  {
   "cell_type": "code",
   "execution_count": 182,
   "id": "70936d6a-a08c-448a-993f-99eacf27de80",
   "metadata": {},
   "outputs": [
    {
     "name": "stdout",
     "output_type": "stream",
     "text": [
      "25\n",
      "48\n",
      "r\n"
     ]
    }
   ],
   "source": [
    "soil = \"Tree removal weakens soil, increasing landslide risk.\"\n",
    "print(soil.find(\",\"))\n",
    "print(soil.find(\"risk\"))\n",
    "print(soil[48])"
   ]
  },
  {
   "cell_type": "markdown",
   "id": "01426589-1612-4a77-835e-0001040ea773",
   "metadata": {},
   "source": [
    "# format()\tformats string into nicer output    "
   ]
  },
  {
   "cell_type": "code",
   "execution_count": 183,
   "id": "3a624f32-8a94-4f5c-be9b-f0ecfc88f3b8",
   "metadata": {},
   "outputs": [
    {
     "name": "stdout",
     "output_type": "stream",
     "text": [
      "I am Asabeneh Yetayeh. I am a teacher. I live in Finland.\n"
     ]
    }
   ],
   "source": [
    "first_name = 'Asabeneh'\n",
    "last_name = 'Yetayeh'\n",
    "job = 'teacher'\n",
    "country = 'Finland'\n",
    "sentence = 'I am {} {}. I am a {}. I live in {}.'.format(first_name, last_name, job, country)\n",
    "print(sentence) # I am Asabeneh Yetayeh. I am a teacher. I live in Finland."
   ]
  },
  {
   "cell_type": "code",
   "execution_count": 194,
   "id": "7b60e8b0-759d-4b48-b013-0c8d0a218081",
   "metadata": {},
   "outputs": [
    {
     "name": "stdout",
     "output_type": "stream",
     "text": [
      "Yesterday,I went to the park near my house.The weather was bright and sunny, and the sky looked so clear. I saw many children playing on the swings and running around happily.\n"
     ]
    }
   ],
   "source": [
    "yes =  \"I went to the park near my house.\"\n",
    "wea = \"bright and sunny, and the sky looked so clear.\"\n",
    "running = \"playing on the swings and running around happily.\"\n",
    "print(\"Yesterday,{}The weather was {} I saw many children {}\".format(yes,wea,running))\n",
    "\n"
   ]
  },
  {
   "cell_type": "code",
   "execution_count": 195,
   "id": "0bdc4dce-dbf4-4ab0-9915-f45d2d1ec186",
   "metadata": {},
   "outputs": [
    {
     "name": "stdout",
     "output_type": "stream",
     "text": [
      "The area of circle with 10 is 3.14\n"
     ]
    }
   ],
   "source": [
    "radius = 10\n",
    "pi = 3.14\n",
    "area = pi # radius ## 2\n",
    "result = 'The area of circle with {} is {}'.format(str(radius), str(area))\n",
    "print(result) # The area of circle with 10 is 314.0\n"
   ]
  },
  {
   "cell_type": "markdown",
   "id": "ea60aae7-1710-4150-a2bc-f422556e4dc2",
   "metadata": {},
   "source": [
    "# index(): Returns the index of substring"
   ]
  },
  {
   "cell_type": "code",
   "execution_count": 197,
   "id": "5aaf5d9e-ab1f-4c3e-b538-fc81516f87ea",
   "metadata": {},
   "outputs": [
    {
     "name": "stdout",
     "output_type": "stream",
     "text": [
      "5\n",
      "0\n"
     ]
    }
   ],
   "source": [
    "\n",
    "challenge = 'thirty days of python'\n",
    "print(challenge.find('y'))  # 5\n",
    "print(challenge.find('th')) # 0"
   ]
  },
  {
   "cell_type": "markdown",
   "id": "e8402192-efe9-4921-843f-3b31e9f40c4e",
   "metadata": {},
   "source": [
    "# .isalnum() checks if all characters in the string are alphanumeric.\n",
    "\n",
    "# Alphanumeric means: only letters (A–Z, a–z) and/or digits (0–9).\n",
    "\n",
    "# No spaces, no symbols, no punctuation.\n",
    "\n",
    "# Why this prints True"
   ]
  },
  {
   "cell_type": "code",
   "execution_count": 198,
   "id": "5af547b3-ad97-4931-99d8-5341d6159838",
   "metadata": {},
   "outputs": [
    {
     "name": "stdout",
     "output_type": "stream",
     "text": [
      "True\n"
     ]
    }
   ],
   "source": [
    "challenge = 'ThirtyDaysPython'\n",
    "print(challenge.isalnum()) # True"
   ]
  },
  {
   "cell_type": "code",
   "execution_count": 199,
   "id": "56599acd-10b0-4784-80f8-7d3bbdb1ff24",
   "metadata": {},
   "outputs": [
    {
     "name": "stdout",
     "output_type": "stream",
     "text": [
      "False\n"
     ]
    }
   ],
   "source": [
    "word = \"hello there !!\"\n",
    "print(word.isalnum())"
   ]
  },
  {
   "cell_type": "code",
   "execution_count": 200,
   "id": "c804f2e6-36b5-41e2-9faa-88811724bbb6",
   "metadata": {},
   "outputs": [
    {
     "name": "stdout",
     "output_type": "stream",
     "text": [
      "True\n",
      "False\n",
      "False\n"
     ]
    }
   ],
   "source": [
    "hallenge = '30DaysPython'\n",
    "print(challenge.isalnum()) # True\n",
    "\n",
    "challenge = 'thirty days of python'\n",
    "print(challenge.isalnum()) # False\n",
    "\n",
    "challenge = 'thirty days of python 2019'\n",
    "print(challenge.isalnum()) # False"
   ]
  },
  {
   "cell_type": "markdown",
   "id": "2e867a83-d7cc-4866-bf0e-50103f195b4a",
   "metadata": {},
   "source": [
    "# isalpha(): Checks if all characters are alphabets"
   ]
  },
  {
   "cell_type": "markdown",
   "id": "f574485d-c855-4aa2-8512-de35d5e052b1",
   "metadata": {},
   "source": [
    "# Returns True if all characters are alphabetic.\n",
    "# Returns False if the string contains:\n",
    "# spaces\n",
    "# numbers\n",
    "# symbols (like !, @, #)\n",
    "# is empty"
   ]
  },
  {
   "cell_type": "code",
   "execution_count": 202,
   "id": "fc9b56d5-fba0-41d2-885d-258029197324",
   "metadata": {},
   "outputs": [
    {
     "name": "stdout",
     "output_type": "stream",
     "text": [
      "False\n",
      "False\n"
     ]
    }
   ],
   "source": [
    "challenge = 'days of python'\n",
    "print(challenge.isalpha()) # False\n",
    "num = '123'\n",
    "print(num.isalpha())      # False"
   ]
  },
  {
   "cell_type": "code",
   "execution_count": 205,
   "id": "2a6cff29-b147-4716-8f90-d74db9211ca0",
   "metadata": {},
   "outputs": [
    {
     "name": "stdout",
     "output_type": "stream",
     "text": [
      "True\n",
      "False\n"
     ]
    }
   ],
   "source": [
    "lol = \"abcdefgh\"\n",
    "print(lol.isalpha())\n",
    "mom = \"123\"\n",
    "print(mom.isalpha())"
   ]
  },
  {
   "cell_type": "markdown",
   "id": "2ebc57f5-d9fe-45d3-aeee-7d783c19e8aa",
   "metadata": {},
   "source": [
    "# isdecimal(): Checks Decimal Characters"
   ]
  },
  {
   "cell_type": "code",
   "execution_count": 208,
   "id": "9bd804dc-4e88-4926-bd9a-613f1c240ce2",
   "metadata": {},
   "outputs": [
    {
     "name": "stdout",
     "output_type": "stream",
     "text": [
      "True\n",
      "False\n"
     ]
    }
   ],
   "source": [
    "num = '10'\n",
    "print(num.isdecimal()) # True\n",
    "num = '10.5'\n",
    "print(num.isdecimal()) # False"
   ]
  },
  {
   "cell_type": "markdown",
   "id": "fce75145-2fdc-4a24-95ca-e2b4c0686b62",
   "metadata": {},
   "source": [
    "# isdigit(): Checks Digit Characters"
   ]
  },
  {
   "cell_type": "code",
   "execution_count": 217,
   "id": "b24d4457-4c74-42ae-9085-1c8e3df5b24f",
   "metadata": {},
   "outputs": [
    {
     "name": "stdout",
     "output_type": "stream",
     "text": [
      "False\n",
      "True\n",
      "False\n"
     ]
    }
   ],
   "source": [
    "challenge = 'Thirty'\n",
    "print(challenge.isdigit()) # False\n",
    "challenge = '30'\n",
    "print(challenge.isdigit())   # True\n",
    "num = \"10.5\"\n",
    "print(num.isdigit())"
   ]
  },
  {
   "cell_type": "markdown",
   "id": "0a975bad-2473-4d3f-b4d8-49b47e3bf9aa",
   "metadata": {},
   "source": [
    "# isidentifier():Checks for valid identifier means it check if a string is a valid variable name"
   ]
  },
  {
   "cell_type": "code",
   "execution_count": 212,
   "id": "b28028dc-0cb9-4fbe-ac0c-573f99cdcfe4",
   "metadata": {},
   "outputs": [
    {
     "name": "stdout",
     "output_type": "stream",
     "text": [
      "False\n",
      "True\n"
     ]
    }
   ],
   "source": [
    "challenge = '30DaysOfPython'\n",
    "print(challenge.isidentifier()) # False, because it starts with a number\n",
    "challenge = 'thirty_days_of_python'\n",
    "print(challenge.isidentifier()) # True\n"
   ]
  },
  {
   "cell_type": "markdown",
   "id": "cbefc912-9911-41ee-95ca-84482dd21e81",
   "metadata": {},
   "source": [
    "# islower():Checks if all alphabets in a string are lowercase"
   ]
  },
  {
   "cell_type": "code",
   "execution_count": 213,
   "id": "958a2d11-8dad-4cd4-98c0-ab3d4e14c26c",
   "metadata": {},
   "outputs": [
    {
     "name": "stdout",
     "output_type": "stream",
     "text": [
      "True\n",
      "False\n"
     ]
    }
   ],
   "source": [
    "challenge = 'thirty days of python'\n",
    "print(challenge.islower()) # True\n",
    "challenge = 'Thirty days of python'\n",
    "print(challenge.islower()) # False"
   ]
  },
  {
   "cell_type": "markdown",
   "id": "9ce2f476-603d-43d1-9752-cdc4c9caca4e",
   "metadata": {},
   "source": [
    "# isupper(): returns if all characters are uppercase characters"
   ]
  },
  {
   "cell_type": "code",
   "execution_count": 214,
   "id": "aa8d6189-469c-48a3-bc4f-9e2602553e57",
   "metadata": {},
   "outputs": [
    {
     "name": "stdout",
     "output_type": "stream",
     "text": [
      "False\n",
      "True\n"
     ]
    }
   ],
   "source": [
    "challenge = 'thirty days of python'\n",
    "print(challenge.isupper()) #  False\n",
    "challenge = 'THIRTY DAYS OF PYTHON'\n",
    "print(challenge.isupper()) # True"
   ]
  },
  {
   "cell_type": "markdown",
   "id": "89afb353-0ee3-4f78-99aa-42af3690efe1",
   "metadata": {},
   "source": [
    "# isnumeric():Checks numeric characters"
   ]
  },
  {
   "cell_type": "code",
   "execution_count": 220,
   "id": "5e4c3d0e-2d76-44f5-8919-e6aaea756400",
   "metadata": {},
   "outputs": [
    {
     "name": "stdout",
     "output_type": "stream",
     "text": [
      "True\n",
      "False\n",
      "False\n"
     ]
    }
   ],
   "source": [
    "num = '10'\n",
    "print(num.isnumeric())      # True\n",
    "print('ten'.isnumeric())    # False\n",
    "print(\"1/4\".isnumeric())   #False"
   ]
  },
  {
   "cell_type": "markdown",
   "id": "04d67a4b-0c78-4e89-bf33-e9090d3e088f",
   "metadata": {},
   "source": [
    "# join(): Returns a concatenated string"
   ]
  },
  {
   "cell_type": "code",
   "execution_count": 221,
   "id": "7e374412-9da4-416c-89d8-f5c319dc6728",
   "metadata": {},
   "outputs": [
    {
     "name": "stdout",
     "output_type": "stream",
     "text": [
      "HTML#, CSS#, JavaScript#, React\n"
     ]
    }
   ],
   "source": [
    "web_tech = ['HTML', 'CSS', 'JavaScript', 'React']\n",
    "result = '#, '.join(web_tech)\n",
    "print(result) # 'HTML# CSS# JavaScript# React'"
   ]
  },
  {
   "cell_type": "code",
   "execution_count": 230,
   "id": "5af32584-cf79-40e8-9729-5d58567ecf77",
   "metadata": {},
   "outputs": [
    {
     "name": "stdout",
     "output_type": "stream",
     "text": [
      "1-- ,-- 2-- ,-- 3-- ,-- 4-- ,-- 5\n"
     ]
    }
   ],
   "source": [
    "num = \"1,2,3,4,5\"\n",
    "res = '-- '.join(num)\n",
    "print(res)"
   ]
  },
  {
   "cell_type": "markdown",
   "id": "2ca073a4-2c93-491a-98b4-125528482cc0",
   "metadata": {},
   "source": [
    "# strip(): Removes both leading and trailing characters"
   ]
  },
  {
   "cell_type": "code",
   "execution_count": 233,
   "id": "09386b78-1ff3-4b76-83c7-eb8b08e54fb0",
   "metadata": {},
   "outputs": [
    {
     "name": "stdout",
     "output_type": "stream",
     "text": [
      " thirty days of python \n",
      "thirty days of python\n"
     ]
    }
   ],
   "source": [
    "challenge = ' thirty days of python '\n",
    "print(challenge.strip('y')) \n",
    "print(challenge.strip())"
   ]
  },
  {
   "cell_type": "markdown",
   "id": "ca14cd9f-caa0-4803-b359-bcd208b0c2f3",
   "metadata": {},
   "source": [
    "# replace(): Replaces substring inside"
   ]
  },
  {
   "cell_type": "code",
   "execution_count": 234,
   "id": "0ccde878-ece6-4c8d-97fe-998228c1a2b2",
   "metadata": {},
   "outputs": [
    {
     "name": "stdout",
     "output_type": "stream",
     "text": [
      "thirty days of coding\n"
     ]
    }
   ],
   "source": [
    "challenge = 'thirty days of python'\n",
    "print(challenge.replace('python', 'coding')) # 'thirty days of coding'"
   ]
  },
  {
   "cell_type": "code",
   "execution_count": 236,
   "id": "44fc128d-134e-45e0-8fc4-5bbf5e04f5fa",
   "metadata": {},
   "outputs": [
    {
     "name": "stdout",
     "output_type": "stream",
     "text": [
      "50 days of python\n"
     ]
    }
   ],
   "source": [
    "print(challenge.replace('thirty','50'))"
   ]
  },
  {
   "cell_type": "markdown",
   "id": "eb1af02a-6dc4-42cc-a671-618a6e221f34",
   "metadata": {},
   "source": [
    "# split():Splits String from Left"
   ]
  },
  {
   "cell_type": "code",
   "execution_count": 237,
   "id": "8878df00-c1b6-41cd-8472-81b20e635dc1",
   "metadata": {},
   "outputs": [
    {
     "name": "stdout",
     "output_type": "stream",
     "text": [
      "['thirty', 'days', 'of', 'python']\n"
     ]
    }
   ],
   "source": [
    "challenge = 'thirty days of python'\n",
    "print(challenge.split()) # ['thirty', 'days', 'of', 'python']\n"
   ]
  },
  {
   "cell_type": "markdown",
   "id": "1d9d797f-f00f-40e9-8809-55b0c77850ff",
   "metadata": {},
   "source": [
    "# title(): Returns a Title Cased String\n"
   ]
  },
  {
   "cell_type": "code",
   "execution_count": 240,
   "id": "80b92712-e86e-4202-8db3-4c189f764595",
   "metadata": {},
   "outputs": [
    {
     "name": "stdout",
     "output_type": "stream",
     "text": [
      "Thirty Days Of Python\n"
     ]
    }
   ],
   "source": [
    "challenge = 'thirty days of python'\n",
    "print(challenge.title()) # Thirty Days Of Python\n"
   ]
  },
  {
   "cell_type": "code",
   "execution_count": 241,
   "id": "3b232dfb-4e3b-48f5-bd5f-4b10fc386f66",
   "metadata": {},
   "outputs": [
    {
     "name": "stdout",
     "output_type": "stream",
     "text": [
      "As If The All An\n"
     ]
    }
   ],
   "source": [
    "ss = \"as if the all an\"\n",
    "print(ss.title())"
   ]
  },
  {
   "cell_type": "markdown",
   "id": "d9c976c0-bc8a-42a3-b79a-3a673eeae61e",
   "metadata": {},
   "source": [
    "# swapcase(): Checks if String Starts with the Specified String\n",
    "  "
   ]
  },
  {
   "cell_type": "code",
   "execution_count": 243,
   "id": "d0755869-7815-4774-9518-f63995b77875",
   "metadata": {},
   "outputs": [
    {
     "name": "stdout",
     "output_type": "stream",
     "text": [
      "THIRTY DAYS OF PYTHON\n",
      "tHIRTY dAYS oF pYTHON\n"
     ]
    }
   ],
   "source": [
    "challenge = 'thirty days of python'\n",
    "print(challenge.swapcase())   # THIRTY DAYS OF PYTHON\n",
    "challenge = 'Thirty Days Of Python'\n",
    "print(challenge.swapcase())  # tHIRTY dAYS oF pYTHON\n"
   ]
  },
  {
   "cell_type": "markdown",
   "id": "40fa23de-46e4-4157-86ca-9bca1216b38d",
   "metadata": {},
   "source": [
    "# startswith(): Checks if String Starts with the Specified String\n"
   ]
  },
  {
   "cell_type": "code",
   "execution_count": 244,
   "id": "2e591dc2-ecc1-4911-99fa-a09900ad26d9",
   "metadata": {},
   "outputs": [
    {
     "name": "stdout",
     "output_type": "stream",
     "text": [
      "True\n",
      "False\n"
     ]
    }
   ],
   "source": [
    "challenge = 'thirty days of python'\n",
    "print(challenge.startswith('thirty')) # True\n",
    "challenge = '30 days of python'\n",
    "print(challenge.startswith('thirty')) # False"
   ]
  }
 ],
 "metadata": {
  "kernelspec": {
   "display_name": "Python 3 (ipykernel)",
   "language": "python",
   "name": "python3"
  },
  "language_info": {
   "codemirror_mode": {
    "name": "ipython",
    "version": 3
   },
   "file_extension": ".py",
   "mimetype": "text/x-python",
   "name": "python",
   "nbconvert_exporter": "python",
   "pygments_lexer": "ipython3",
   "version": "3.13.5"
  }
 },
 "nbformat": 4,
 "nbformat_minor": 5
}
