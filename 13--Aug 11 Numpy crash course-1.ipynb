{
 "cells": [
  {
   "cell_type": "markdown",
   "id": "55726dbf-0d08-447f-9b9e-af7394cd4a86",
   "metadata": {},
   "source": [
    "# Numpy"
   ]
  },
  {
   "cell_type": "code",
   "execution_count": 6,
   "id": "808a4f09-438d-4502-917c-2c6065151069",
   "metadata": {},
   "outputs": [],
   "source": [
    "import numpy as np"
   ]
  },
  {
   "cell_type": "code",
   "execution_count": 7,
   "id": "5d9d500c-24e6-4e24-9f1f-0429679a0ed6",
   "metadata": {},
   "outputs": [
    {
     "data": {
      "text/plain": [
       "'2.2.6'"
      ]
     },
     "execution_count": 7,
     "metadata": {},
     "output_type": "execute_result"
    }
   ],
   "source": [
    "np.__version__\n"
   ]
  },
  {
   "cell_type": "code",
   "execution_count": 10,
   "id": "9086d661-26f8-4bc3-b89e-c0c15ffb25b7",
   "metadata": {},
   "outputs": [
    {
     "data": {
      "text/plain": [
       "[0, 1, 2, 3, 4, 5]"
      ]
     },
     "execution_count": 10,
     "metadata": {},
     "output_type": "execute_result"
    }
   ],
   "source": [
    "my_list = [0,1,2,3,4,5]\n",
    "my_list"
   ]
  },
  {
   "cell_type": "code",
   "execution_count": 12,
   "id": "c3608365-7e01-4a50-86d4-53ab606459b8",
   "metadata": {},
   "outputs": [
    {
     "data": {
      "text/plain": [
       "list"
      ]
     },
     "execution_count": 12,
     "metadata": {},
     "output_type": "execute_result"
    }
   ],
   "source": [
    "type(my_list)"
   ]
  },
  {
   "cell_type": "code",
   "execution_count": 14,
   "id": "9d523aef-deaa-42a9-bf2c-e217a4288ee5",
   "metadata": {},
   "outputs": [
    {
     "data": {
      "text/plain": [
       "array([0, 1, 2, 3, 4, 5])"
      ]
     },
     "execution_count": 14,
     "metadata": {},
     "output_type": "execute_result"
    }
   ],
   "source": [
    "arr = np.array(my_list)\n",
    "arr"
   ]
  },
  {
   "cell_type": "code",
   "execution_count": 15,
   "id": "b5262f13-c013-457d-b77c-6a631f1bd57a",
   "metadata": {},
   "outputs": [
    {
     "name": "stdout",
     "output_type": "stream",
     "text": [
      "<class 'numpy.ndarray'>\n"
     ]
    }
   ],
   "source": [
    "print(type(arr)) # nd stands for multidimensional array"
   ]
  },
  {
   "cell_type": "code",
   "execution_count": 16,
   "id": "e8359829-1215-4768-a12b-d6a1df5a7ff4",
   "metadata": {},
   "outputs": [
    {
     "data": {
      "text/plain": [
       "array([0, 1, 2, 3, 4, 5, 6, 7, 8, 9])"
      ]
     },
     "execution_count": 16,
     "metadata": {},
     "output_type": "execute_result"
    }
   ],
   "source": [
    "np.arange(10)"
   ]
  },
  {
   "cell_type": "code",
   "execution_count": 17,
   "id": "9efadbe4-cdc2-43c1-b2ed-d229307565dc",
   "metadata": {},
   "outputs": [
    {
     "data": {
      "text/plain": [
       "array([10, 11, 12, 13, 14, 15, 16, 17, 18, 19])"
      ]
     },
     "execution_count": 17,
     "metadata": {},
     "output_type": "execute_result"
    }
   ],
   "source": [
    "np.arange(10,20)"
   ]
  },
  {
   "cell_type": "code",
   "execution_count": 19,
   "id": "2628b3a1-dc27-4ea0-b480-b8e0b5503a5e",
   "metadata": {},
   "outputs": [
    {
     "data": {
      "text/plain": [
       "array([10, 15, 20, 25, 30, 35, 40, 45])"
      ]
     },
     "execution_count": 19,
     "metadata": {},
     "output_type": "execute_result"
    }
   ],
   "source": [
    "np.arange(10,50,5)"
   ]
  },
  {
   "cell_type": "code",
   "execution_count": 20,
   "id": "00abb793-7f60-46b8-857d-deb1a954f9d0",
   "metadata": {},
   "outputs": [
    {
     "data": {
      "text/plain": [
       "array([], dtype=int64)"
      ]
     },
     "execution_count": 20,
     "metadata": {},
     "output_type": "execute_result"
    }
   ],
   "source": [
    "np.arange(20,10) # Always remember 1st arg is less than 2nd argument"
   ]
  },
  {
   "cell_type": "code",
   "execution_count": 21,
   "id": "1e595b23-7451-44f1-8e07-b614803e4add",
   "metadata": {},
   "outputs": [
    {
     "data": {
      "text/plain": [
       "array([-20, -19, -18, -17, -16, -15, -14, -13, -12, -11, -10,  -9,  -8,\n",
       "        -7,  -6,  -5,  -4,  -3,  -2,  -1,   0,   1,   2,   3,   4,   5,\n",
       "         6,   7,   8,   9])"
      ]
     },
     "execution_count": 21,
     "metadata": {},
     "output_type": "execute_result"
    }
   ],
   "source": [
    "np.arange(-20,10)"
   ]
  },
  {
   "cell_type": "code",
   "execution_count": 22,
   "id": "d95b72fc-9b2d-4b0f-90fc-b1063ea3f1f2",
   "metadata": {},
   "outputs": [
    {
     "data": {
      "text/plain": [
       "array([0., 0., 0., 0., 0.])"
      ]
     },
     "execution_count": 22,
     "metadata": {},
     "output_type": "execute_result"
    }
   ],
   "source": [
    "np.zeros(5) #parameter tuning"
   ]
  },
  {
   "cell_type": "code",
   "execution_count": 23,
   "id": "b29a07e5-933a-4427-9b77-db539c04ce92",
   "metadata": {},
   "outputs": [
    {
     "data": {
      "text/plain": [
       "array([0, 0, 0, 0, 0])"
      ]
     },
     "execution_count": 23,
     "metadata": {},
     "output_type": "execute_result"
    }
   ],
   "source": [
    "np.zeros(5 , dtype=int) # hyperparameter tuning  # id array"
   ]
  },
  {
   "cell_type": "code",
   "execution_count": 24,
   "id": "d675f7fc-716c-4dd2-b325-b36cc45bb9d8",
   "metadata": {},
   "outputs": [
    {
     "data": {
      "text/plain": [
       "array([[0., 0.],\n",
       "       [0., 0.]])"
      ]
     },
     "execution_count": 24,
     "metadata": {},
     "output_type": "execute_result"
    }
   ],
   "source": [
    "np.zeros([2,2]) # 2d array"
   ]
  },
  {
   "cell_type": "code",
   "execution_count": 25,
   "id": "472ce415-917a-42a1-9965-0bc98b12411c",
   "metadata": {},
   "outputs": [
    {
     "data": {
      "text/plain": [
       "array([[0., 0., 0., 0.],\n",
       "       [0., 0., 0., 0.],\n",
       "       [0., 0., 0., 0.],\n",
       "       [0., 0., 0., 0.],\n",
       "       [0., 0., 0., 0.]])"
      ]
     },
     "execution_count": 25,
     "metadata": {},
     "output_type": "execute_result"
    }
   ],
   "source": [
    "np.zeros([5,4]) # nd array"
   ]
  },
  {
   "cell_type": "code",
   "execution_count": 27,
   "id": "dfee6070-d274-4a1f-9c24-1aeca8320bbf",
   "metadata": {},
   "outputs": [
    {
     "data": {
      "text/plain": [
       "array([[0., 0., 0., 0., 0., 0., 0., 0., 0., 0.],\n",
       "       [0., 0., 0., 0., 0., 0., 0., 0., 0., 0.],\n",
       "       [0., 0., 0., 0., 0., 0., 0., 0., 0., 0.],\n",
       "       [0., 0., 0., 0., 0., 0., 0., 0., 0., 0.],\n",
       "       [0., 0., 0., 0., 0., 0., 0., 0., 0., 0.],\n",
       "       [0., 0., 0., 0., 0., 0., 0., 0., 0., 0.],\n",
       "       [0., 0., 0., 0., 0., 0., 0., 0., 0., 0.],\n",
       "       [0., 0., 0., 0., 0., 0., 0., 0., 0., 0.],\n",
       "       [0., 0., 0., 0., 0., 0., 0., 0., 0., 0.],\n",
       "       [0., 0., 0., 0., 0., 0., 0., 0., 0., 0.]])"
      ]
     },
     "execution_count": 27,
     "metadata": {},
     "output_type": "execute_result"
    }
   ],
   "source": [
    "np.zeros([10,10])"
   ]
  },
  {
   "cell_type": "code",
   "execution_count": 28,
   "id": "2d8a5d10-3289-47ac-bf77-37d5143490f6",
   "metadata": {},
   "outputs": [
    {
     "data": {
      "text/plain": [
       "array([1., 1.])"
      ]
     },
     "execution_count": 28,
     "metadata": {},
     "output_type": "execute_result"
    }
   ],
   "source": [
    "np.ones(2)"
   ]
  },
  {
   "cell_type": "code",
   "execution_count": 29,
   "id": "2da78742-8e1b-48aa-b02d-d99ae199e6cd",
   "metadata": {},
   "outputs": [
    {
     "data": {
      "text/plain": [
       "array([1, 1])"
      ]
     },
     "execution_count": 29,
     "metadata": {},
     "output_type": "execute_result"
    }
   ],
   "source": [
    "np.ones(2, dtype=int)"
   ]
  },
  {
   "cell_type": "code",
   "execution_count": 30,
   "id": "4bbf7023-6b44-49e0-b6e1-43073384adf7",
   "metadata": {},
   "outputs": [
    {
     "data": {
      "text/plain": [
       "array([[1., 1.],\n",
       "       [1., 1.]])"
      ]
     },
     "execution_count": 30,
     "metadata": {},
     "output_type": "execute_result"
    }
   ],
   "source": [
    "np.ones([2,2])"
   ]
  },
  {
   "cell_type": "code",
   "execution_count": 31,
   "id": "c7187b6f-6503-4232-ac28-0be5536bf795",
   "metadata": {},
   "outputs": [
    {
     "data": {
      "text/plain": [
       "array([[1., 1., 1., 1., 1.],\n",
       "       [1., 1., 1., 1., 1.],\n",
       "       [1., 1., 1., 1., 1.],\n",
       "       [1., 1., 1., 1., 1.]])"
      ]
     },
     "execution_count": 31,
     "metadata": {},
     "output_type": "execute_result"
    }
   ],
   "source": [
    "np.ones([4,5]) # 4 is rows nd 5 is columns"
   ]
  },
  {
   "cell_type": "code",
   "execution_count": 32,
   "id": "c8fdb168-d6d8-47ef-affd-fba80785e317",
   "metadata": {},
   "outputs": [
    {
     "data": {
      "text/plain": [
       "array([0, 1, 2, 3, 4, 5])"
      ]
     },
     "execution_count": 32,
     "metadata": {},
     "output_type": "execute_result"
    }
   ],
   "source": [
    "arr"
   ]
  },
  {
   "cell_type": "code",
   "execution_count": 33,
   "id": "086edf75-6aa0-455d-b488-05f2f60a45e4",
   "metadata": {},
   "outputs": [
    {
     "ename": "NameError",
     "evalue": "name 'rand' is not defined",
     "output_type": "error",
     "traceback": [
      "\u001b[31m---------------------------------------------------------------------------\u001b[39m",
      "\u001b[31mNameError\u001b[39m                                 Traceback (most recent call last)",
      "\u001b[36mCell\u001b[39m\u001b[36m \u001b[39m\u001b[32mIn[33]\u001b[39m\u001b[32m, line 1\u001b[39m\n\u001b[32m----> \u001b[39m\u001b[32m1\u001b[39m \u001b[43mrand\u001b[49m(\u001b[32m3\u001b[39m,\u001b[32m2\u001b[39m)\n",
      "\u001b[31mNameError\u001b[39m: name 'rand' is not defined"
     ]
    }
   ],
   "source": [
    "rand(3,2)"
   ]
  },
  {
   "cell_type": "code",
   "execution_count": 34,
   "id": "27a263d2-bf3d-45a1-b92e-5326fd960b1d",
   "metadata": {},
   "outputs": [],
   "source": [
    "import random as rand"
   ]
  },
  {
   "cell_type": "code",
   "execution_count": 35,
   "id": "16941254-1281-41b5-bd0d-9a243a70c62c",
   "metadata": {},
   "outputs": [
    {
     "ename": "TypeError",
     "evalue": "'module' object is not callable. Did you mean: 'random.random(...)'?",
     "output_type": "error",
     "traceback": [
      "\u001b[31m---------------------------------------------------------------------------\u001b[39m",
      "\u001b[31mTypeError\u001b[39m                                 Traceback (most recent call last)",
      "\u001b[36mCell\u001b[39m\u001b[36m \u001b[39m\u001b[32mIn[35]\u001b[39m\u001b[32m, line 1\u001b[39m\n\u001b[32m----> \u001b[39m\u001b[32m1\u001b[39m \u001b[43mrand\u001b[49m\u001b[43m(\u001b[49m\u001b[32;43m3\u001b[39;49m\u001b[43m,\u001b[49m\u001b[32;43m2\u001b[39;49m\u001b[43m)\u001b[49m\n",
      "\u001b[31mTypeError\u001b[39m: 'module' object is not callable. Did you mean: 'random.random(...)'?"
     ]
    }
   ],
   "source": [
    "rand(3,2)"
   ]
  },
  {
   "cell_type": "code",
   "execution_count": 36,
   "id": "be61c8a2-757c-41ba-b585-0b17fb51a2d0",
   "metadata": {},
   "outputs": [
    {
     "ename": "NameError",
     "evalue": "name 'random' is not defined",
     "output_type": "error",
     "traceback": [
      "\u001b[31m---------------------------------------------------------------------------\u001b[39m",
      "\u001b[31mNameError\u001b[39m                                 Traceback (most recent call last)",
      "\u001b[36mCell\u001b[39m\u001b[36m \u001b[39m\u001b[32mIn[36]\u001b[39m\u001b[32m, line 1\u001b[39m\n\u001b[32m----> \u001b[39m\u001b[32m1\u001b[39m \u001b[43mrandom\u001b[49m.rand(\u001b[32m3\u001b[39m,\u001b[32m2\u001b[39m)\n",
      "\u001b[31mNameError\u001b[39m: name 'random' is not defined"
     ]
    }
   ],
   "source": [
    "random.rand(3,2)"
   ]
  },
  {
   "cell_type": "code",
   "execution_count": 39,
   "id": "e1c89ca6-ae2b-473b-a810-8bbdb2a347bf",
   "metadata": {},
   "outputs": [
    {
     "data": {
      "text/plain": [
       "array([[0.82812192, 0.68266423],\n",
       "       [0.24465356, 0.13900743],\n",
       "       [0.00362725, 0.08335215]])"
      ]
     },
     "execution_count": 39,
     "metadata": {},
     "output_type": "execute_result"
    }
   ],
   "source": [
    "np.random.rand(3,2)\n",
    " # numbers are changing everytime you execute"
   ]
  },
  {
   "cell_type": "code",
   "execution_count": 43,
   "id": "cf1b3198-91c6-439c-82d5-7c0f2426a19c",
   "metadata": {},
   "outputs": [
    {
     "data": {
      "text/plain": [
       "array([0.1563593 , 0.32040588, 0.78109604])"
      ]
     },
     "execution_count": 43,
     "metadata": {},
     "output_type": "execute_result"
    }
   ],
   "source": [
    "np.random.rand(3)"
   ]
  },
  {
   "cell_type": "code",
   "execution_count": 45,
   "id": "9b34a711-8ba4-4f34-a0a8-ac0774333fda",
   "metadata": {},
   "outputs": [
    {
     "data": {
      "text/plain": [
       "4"
      ]
     },
     "execution_count": 45,
     "metadata": {},
     "output_type": "execute_result"
    }
   ],
   "source": [
    "np.random.randint(4,6)"
   ]
  },
  {
   "cell_type": "code",
   "execution_count": 49,
   "id": "3e3b2631-934f-4b8c-830f-19c14fd79cd6",
   "metadata": {},
   "outputs": [
    {
     "data": {
      "text/plain": [
       "8"
      ]
     },
     "execution_count": 49,
     "metadata": {},
     "output_type": "execute_result"
    }
   ],
   "source": [
    "np.random.randint(0,10)"
   ]
  },
  {
   "cell_type": "code",
   "execution_count": 54,
   "id": "67be7c6b-abe6-4f7d-a75d-ebc62c9b131c",
   "metadata": {},
   "outputs": [
    {
     "data": {
      "text/plain": [
       "array([3, 1, 7, 7, 5], dtype=int32)"
      ]
     },
     "execution_count": 54,
     "metadata": {},
     "output_type": "execute_result"
    }
   ],
   "source": [
    "np.random.randint(0,10,5)"
   ]
  },
  {
   "cell_type": "code",
   "execution_count": 61,
   "id": "9533f10c-7d1f-4919-8ce5-44cbc52fc699",
   "metadata": {},
   "outputs": [
    {
     "data": {
      "text/plain": [
       "array([[11, 11, 16, 32, 17, 29, 14, 10, 24, 10],\n",
       "       [19, 28, 25, 39, 12, 37, 21, 30, 20, 30],\n",
       "       [23, 21, 32, 24, 24, 37, 34, 14, 22, 32],\n",
       "       [22, 11, 29, 19, 26, 15, 23, 30, 29, 19],\n",
       "       [36, 25, 15, 35, 18, 33, 28, 39, 13, 21],\n",
       "       [38, 23, 26, 37, 20, 21, 32, 26, 29, 26],\n",
       "       [28, 32, 32, 31, 14, 30, 14, 21, 38, 22],\n",
       "       [21, 34, 37, 19, 28, 33, 34, 10, 30, 38]], dtype=int32)"
      ]
     },
     "execution_count": 61,
     "metadata": {},
     "output_type": "execute_result"
    }
   ],
   "source": [
    "n = np.random.randint(10,40,(8,10))\n",
    "n"
   ]
  },
  {
   "cell_type": "code",
   "execution_count": 63,
   "id": "909e589c-7cd0-4eaf-9c31-3d39da4f15a4",
   "metadata": {},
   "outputs": [
    {
     "data": {
      "text/plain": [
       "array([38, 23, 26, 37, 20, 21, 32, 26, 29, 26], dtype=int32)"
      ]
     },
     "execution_count": 63,
     "metadata": {},
     "output_type": "execute_result"
    }
   ],
   "source": [
    "n[5]"
   ]
  },
  {
   "cell_type": "code",
   "execution_count": 64,
   "id": "ee636c20-636e-421c-8225-fd8e1024c775",
   "metadata": {},
   "outputs": [
    {
     "data": {
      "text/plain": [
       "array([[11, 11, 16, 32, 17, 29, 14, 10, 24, 10],\n",
       "       [19, 28, 25, 39, 12, 37, 21, 30, 20, 30],\n",
       "       [23, 21, 32, 24, 24, 37, 34, 14, 22, 32],\n",
       "       [22, 11, 29, 19, 26, 15, 23, 30, 29, 19],\n",
       "       [36, 25, 15, 35, 18, 33, 28, 39, 13, 21],\n",
       "       [38, 23, 26, 37, 20, 21, 32, 26, 29, 26],\n",
       "       [28, 32, 32, 31, 14, 30, 14, 21, 38, 22],\n",
       "       [21, 34, 37, 19, 28, 33, 34, 10, 30, 38]], dtype=int32)"
      ]
     },
     "execution_count": 64,
     "metadata": {},
     "output_type": "execute_result"
    }
   ],
   "source": [
    "n"
   ]
  },
  {
   "cell_type": "code",
   "execution_count": 65,
   "id": "20597cb5-77e8-4bb3-a9cf-1ba18b1b5e8d",
   "metadata": {},
   "outputs": [
    {
     "data": {
      "text/plain": [
       "array([[11, 11, 16, 32, 17, 29, 14, 10, 24, 10],\n",
       "       [19, 28, 25, 39, 12, 37, 21, 30, 20, 30],\n",
       "       [23, 21, 32, 24, 24, 37, 34, 14, 22, 32],\n",
       "       [22, 11, 29, 19, 26, 15, 23, 30, 29, 19],\n",
       "       [36, 25, 15, 35, 18, 33, 28, 39, 13, 21],\n",
       "       [38, 23, 26, 37, 20, 21, 32, 26, 29, 26]], dtype=int32)"
      ]
     },
     "execution_count": 65,
     "metadata": {},
     "output_type": "execute_result"
    }
   ],
   "source": [
    "n[0:6]"
   ]
  },
  {
   "cell_type": "code",
   "execution_count": 67,
   "id": "4fce7ce1-391c-49a3-9dc5-373007641078",
   "metadata": {},
   "outputs": [
    {
     "data": {
      "text/plain": [
       "array([[11, 11, 16, 32, 17, 29, 14, 10, 24, 10],\n",
       "       [19, 28, 25, 39, 12, 37, 21, 30, 20, 30],\n",
       "       [23, 21, 32, 24, 24, 37, 34, 14, 22, 32],\n",
       "       [22, 11, 29, 19, 26, 15, 23, 30, 29, 19],\n",
       "       [36, 25, 15, 35, 18, 33, 28, 39, 13, 21],\n",
       "       [38, 23, 26, 37, 20, 21, 32, 26, 29, 26],\n",
       "       [28, 32, 32, 31, 14, 30, 14, 21, 38, 22],\n",
       "       [21, 34, 37, 19, 28, 33, 34, 10, 30, 38]], dtype=int32)"
      ]
     },
     "execution_count": 67,
     "metadata": {},
     "output_type": "execute_result"
    }
   ],
   "source": [
    "n"
   ]
  },
  {
   "cell_type": "code",
   "execution_count": 66,
   "id": "ea5ec850-23e5-4935-9f5c-84783e1a6121",
   "metadata": {},
   "outputs": [
    {
     "data": {
      "text/plain": [
       "array([[21, 34, 37, 19, 28, 33, 34, 10, 30, 38],\n",
       "       [28, 32, 32, 31, 14, 30, 14, 21, 38, 22],\n",
       "       [38, 23, 26, 37, 20, 21, 32, 26, 29, 26],\n",
       "       [36, 25, 15, 35, 18, 33, 28, 39, 13, 21],\n",
       "       [22, 11, 29, 19, 26, 15, 23, 30, 29, 19],\n",
       "       [23, 21, 32, 24, 24, 37, 34, 14, 22, 32],\n",
       "       [19, 28, 25, 39, 12, 37, 21, 30, 20, 30],\n",
       "       [11, 11, 16, 32, 17, 29, 14, 10, 24, 10]], dtype=int32)"
      ]
     },
     "execution_count": 66,
     "metadata": {},
     "output_type": "execute_result"
    }
   ],
   "source": [
    "n[::-1]"
   ]
  },
  {
   "cell_type": "code",
   "execution_count": 68,
   "id": "55c27ff5-985f-437b-a626-4fea346e4013",
   "metadata": {},
   "outputs": [
    {
     "data": {
      "text/plain": [
       "array([[11, 11, 16, 32, 17, 29, 14, 10, 24, 10],\n",
       "       [19, 28, 25, 39, 12, 37, 21, 30, 20, 30],\n",
       "       [23, 21, 32, 24, 24, 37, 34, 14, 22, 32],\n",
       "       [22, 11, 29, 19, 26, 15, 23, 30, 29, 19],\n",
       "       [36, 25, 15, 35, 18, 33, 28, 39, 13, 21],\n",
       "       [38, 23, 26, 37, 20, 21, 32, 26, 29, 26],\n",
       "       [28, 32, 32, 31, 14, 30, 14, 21, 38, 22],\n",
       "       [21, 34, 37, 19, 28, 33, 34, 10, 30, 38]], dtype=int32)"
      ]
     },
     "execution_count": 68,
     "metadata": {},
     "output_type": "execute_result"
    }
   ],
   "source": [
    "n[::1]"
   ]
  },
  {
   "cell_type": "code",
   "execution_count": 69,
   "id": "170c828c-cf21-4bfb-ae1d-84df3e33a001",
   "metadata": {},
   "outputs": [
    {
     "data": {
      "text/plain": [
       "array([[11, 11, 16, 32, 17, 29, 14, 10, 24, 10],\n",
       "       [23, 21, 32, 24, 24, 37, 34, 14, 22, 32],\n",
       "       [36, 25, 15, 35, 18, 33, 28, 39, 13, 21],\n",
       "       [28, 32, 32, 31, 14, 30, 14, 21, 38, 22]], dtype=int32)"
      ]
     },
     "execution_count": 69,
     "metadata": {},
     "output_type": "execute_result"
    }
   ],
   "source": [
    "n[::2]"
   ]
  },
  {
   "cell_type": "code",
   "execution_count": 70,
   "id": "a0330b95-de46-453e-9801-265d316bd691",
   "metadata": {},
   "outputs": [
    {
     "data": {
      "text/plain": [
       "array([11, 11, 16, 32, 17, 29, 14, 10, 24, 10], dtype=int32)"
      ]
     },
     "execution_count": 70,
     "metadata": {},
     "output_type": "execute_result"
    }
   ],
   "source": [
    "n[0]"
   ]
  },
  {
   "cell_type": "code",
   "execution_count": 71,
   "id": "2c33b2a5-7e86-4b35-88ff-e5d5607bfa70",
   "metadata": {},
   "outputs": [
    {
     "data": {
      "text/plain": [
       "array([[11, 11, 16, 32, 17, 29, 14, 10, 24, 10],\n",
       "       [19, 28, 25, 39, 12, 37, 21, 30, 20, 30],\n",
       "       [23, 21, 32, 24, 24, 37, 34, 14, 22, 32],\n",
       "       [22, 11, 29, 19, 26, 15, 23, 30, 29, 19],\n",
       "       [36, 25, 15, 35, 18, 33, 28, 39, 13, 21],\n",
       "       [38, 23, 26, 37, 20, 21, 32, 26, 29, 26],\n",
       "       [28, 32, 32, 31, 14, 30, 14, 21, 38, 22],\n",
       "       [21, 34, 37, 19, 28, 33, 34, 10, 30, 38]], dtype=int32)"
      ]
     },
     "execution_count": 71,
     "metadata": {},
     "output_type": "execute_result"
    }
   ],
   "source": [
    "n\n"
   ]
  },
  {
   "cell_type": "code",
   "execution_count": 73,
   "id": "9e4ee4d7-5d50-4275-81eb-e5763b0b24f3",
   "metadata": {},
   "outputs": [
    {
     "data": {
      "text/plain": [
       "array([[11, 11, 16, 32, 17, 29, 14, 10, 24, 10],\n",
       "       [19, 28, 25, 39, 12, 37, 21, 30, 20, 30],\n",
       "       [23, 21, 32, 24, 24, 37, 34, 14, 22, 32],\n",
       "       [22, 11, 29, 19, 26, 15, 23, 30, 29, 19],\n",
       "       [36, 25, 15, 35, 18, 33, 28, 39, 13, 21]], dtype=int32)"
      ]
     },
     "execution_count": 73,
     "metadata": {},
     "output_type": "execute_result"
    }
   ],
   "source": [
    "n[0:5]"
   ]
  },
  {
   "cell_type": "code",
   "execution_count": 74,
   "id": "3859fec2-182e-4455-885a-2132f1fb508e",
   "metadata": {},
   "outputs": [
    {
     "data": {
      "text/plain": [
       "np.int32(29)"
      ]
     },
     "execution_count": 74,
     "metadata": {},
     "output_type": "execute_result"
    }
   ],
   "source": [
    "n[0,5]"
   ]
  },
  {
   "cell_type": "code",
   "execution_count": 78,
   "id": "3bccea50-4409-4115-bd69-efe47c1a08e8",
   "metadata": {},
   "outputs": [
    {
     "name": "stdout",
     "output_type": "stream",
     "text": [
      "26\n"
     ]
    }
   ],
   "source": [
    "print(n[5,-3])"
   ]
  },
  {
   "cell_type": "code",
   "execution_count": 79,
   "id": "94bc4354-f6a0-4528-af4b-ddf42e21002a",
   "metadata": {},
   "outputs": [
    {
     "data": {
      "text/plain": [
       "array([[ 1,  2,  3,  4],\n",
       "       [ 5,  6,  7,  8],\n",
       "       [ 9, 10, 11, 12]])"
      ]
     },
     "execution_count": 79,
     "metadata": {},
     "output_type": "execute_result"
    }
   ],
   "source": [
    "np.arange(1,13).reshape(3,4)"
   ]
  },
  {
   "cell_type": "code",
   "execution_count": 81,
   "id": "d12b03ef-381d-4e36-bf02-f5c51e278ae8",
   "metadata": {},
   "outputs": [
    {
     "data": {
      "text/plain": [
       "array([[ 1,  2],\n",
       "       [ 3,  4],\n",
       "       [ 5,  6],\n",
       "       [ 7,  8],\n",
       "       [ 9, 10],\n",
       "       [11, 12]])"
      ]
     },
     "execution_count": 81,
     "metadata": {},
     "output_type": "execute_result"
    }
   ],
   "source": [
    "np.arange(1,13).reshape(6,2)"
   ]
  },
  {
   "cell_type": "code",
   "execution_count": 82,
   "id": "16a8ac11-9514-41e9-ba41-8bb5908a4976",
   "metadata": {},
   "outputs": [
    {
     "ename": "ValueError",
     "evalue": "cannot reshape array of size 12 into shape (5,5)",
     "output_type": "error",
     "traceback": [
      "\u001b[31m---------------------------------------------------------------------------\u001b[39m",
      "\u001b[31mValueError\u001b[39m                                Traceback (most recent call last)",
      "\u001b[36mCell\u001b[39m\u001b[36m \u001b[39m\u001b[32mIn[82]\u001b[39m\u001b[32m, line 1\u001b[39m\n\u001b[32m----> \u001b[39m\u001b[32m1\u001b[39m \u001b[43mnp\u001b[49m\u001b[43m.\u001b[49m\u001b[43marange\u001b[49m\u001b[43m(\u001b[49m\u001b[32;43m1\u001b[39;49m\u001b[43m,\u001b[49m\u001b[32;43m13\u001b[39;49m\u001b[43m)\u001b[49m\u001b[43m.\u001b[49m\u001b[43mreshape\u001b[49m\u001b[43m(\u001b[49m\u001b[32;43m5\u001b[39;49m\u001b[43m,\u001b[49m\u001b[32;43m5\u001b[39;49m\u001b[43m)\u001b[49m\n",
      "\u001b[31mValueError\u001b[39m: cannot reshape array of size 12 into shape (5,5)"
     ]
    }
   ],
   "source": [
    "np.arange(1,13).reshape(5,5)"
   ]
  }
 ],
 "metadata": {
  "kernelspec": {
   "display_name": "Python 3 (ipykernel)",
   "language": "python",
   "name": "python3"
  },
  "language_info": {
   "codemirror_mode": {
    "name": "ipython",
    "version": 3
   },
   "file_extension": ".py",
   "mimetype": "text/x-python",
   "name": "python",
   "nbconvert_exporter": "python",
   "pygments_lexer": "ipython3",
   "version": "3.13.5"
  }
 },
 "nbformat": 4,
 "nbformat_minor": 5
}
