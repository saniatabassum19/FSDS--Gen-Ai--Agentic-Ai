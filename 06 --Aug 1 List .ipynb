{
 "cells": [
  {
   "cell_type": "markdown",
   "id": "b4f9be74-45db-4d6e-81c1-58b0d69022b6",
   "metadata": {},
   "source": [
    "# python data structures"
   ]
  },
  {
   "cell_type": "markdown",
   "id": "70a8c188-979c-47d4-9fe6-e95c94798e96",
   "metadata": {},
   "source": [
    "# List"
   ]
  },
  {
   "cell_type": "code",
   "execution_count": 48,
   "id": "1c633a02-0cd9-4250-8acc-eb0e3c56d93d",
   "metadata": {},
   "outputs": [
    {
     "data": {
      "text/plain": [
       "[]"
      ]
     },
     "execution_count": 48,
     "metadata": {},
     "output_type": "execute_result"
    }
   ],
   "source": [
    "l =[]\n",
    "l"
   ]
  },
  {
   "cell_type": "code",
   "execution_count": 49,
   "id": "73c205bf-3e1f-44b4-ba41-5b4466e66cc2",
   "metadata": {},
   "outputs": [],
   "source": [
    "l=[1,2,3]"
   ]
  },
  {
   "cell_type": "code",
   "execution_count": 2,
   "id": "d627d5f8-693f-4d2f-97c9-9d60855b3bf8",
   "metadata": {},
   "outputs": [
    {
     "data": {
      "text/plain": [
       "[1, 2, 3]"
      ]
     },
     "execution_count": 2,
     "metadata": {},
     "output_type": "execute_result"
    }
   ],
   "source": [
    "l"
   ]
  },
  {
   "cell_type": "code",
   "execution_count": 3,
   "id": "3ccf2beb-b099-4129-b66d-f4d31dc97dad",
   "metadata": {},
   "outputs": [
    {
     "data": {
      "text/plain": [
       "[1, 2, 3, 12]"
      ]
     },
     "execution_count": 3,
     "metadata": {},
     "output_type": "execute_result"
    }
   ],
   "source": [
    "l.append(12)\n",
    "l"
   ]
  },
  {
   "cell_type": "code",
   "execution_count": 4,
   "id": "6ae0eef0-5b84-4b4d-a824-a3bc6c091cdf",
   "metadata": {},
   "outputs": [],
   "source": [
    "l.clear()"
   ]
  },
  {
   "cell_type": "code",
   "execution_count": 5,
   "id": "e8b9e84f-e943-4e73-ac94-efa27abb7153",
   "metadata": {},
   "outputs": [
    {
     "data": {
      "text/plain": [
       "[]"
      ]
     },
     "execution_count": 5,
     "metadata": {},
     "output_type": "execute_result"
    }
   ],
   "source": [
    "l\n"
   ]
  },
  {
   "cell_type": "code",
   "execution_count": 6,
   "id": "580aeda5-3280-421d-af6d-0b83272df7e6",
   "metadata": {},
   "outputs": [
    {
     "data": {
      "text/plain": [
       "[1, 2, 3, 14]"
      ]
     },
     "execution_count": 6,
     "metadata": {},
     "output_type": "execute_result"
    }
   ],
   "source": [
    "l=[1,2,3,14]\n",
    "l"
   ]
  },
  {
   "cell_type": "code",
   "execution_count": 7,
   "id": "e8492781-7875-45a3-a482-ef90731d9b19",
   "metadata": {},
   "outputs": [
    {
     "data": {
      "text/plain": [
       "3"
      ]
     },
     "execution_count": 7,
     "metadata": {},
     "output_type": "execute_result"
    }
   ],
   "source": [
    "l.index(14)"
   ]
  },
  {
   "cell_type": "code",
   "execution_count": 8,
   "id": "e90dc27a-379d-45f4-a923-69edd3a6bfed",
   "metadata": {},
   "outputs": [
    {
     "data": {
      "text/plain": [
       "[1, 2, 3, 14, 66]"
      ]
     },
     "execution_count": 8,
     "metadata": {},
     "output_type": "execute_result"
    }
   ],
   "source": [
    "l.insert(4,66) # insert add the value where which index we want\n",
    "l"
   ]
  },
  {
   "cell_type": "code",
   "execution_count": 9,
   "id": "543e6583-3908-40b5-ae67-2f048cd135c5",
   "metadata": {},
   "outputs": [
    {
     "data": {
      "text/plain": [
       "3"
      ]
     },
     "execution_count": 9,
     "metadata": {},
     "output_type": "execute_result"
    }
   ],
   "source": [
    "l.index(14)"
   ]
  },
  {
   "cell_type": "code",
   "execution_count": 10,
   "id": "dbf5a71b-e941-45db-88ea-e9a4959f5178",
   "metadata": {},
   "outputs": [
    {
     "data": {
      "text/plain": [
       "2"
      ]
     },
     "execution_count": 10,
     "metadata": {},
     "output_type": "execute_result"
    }
   ],
   "source": [
    "l.index(3)"
   ]
  },
  {
   "cell_type": "code",
   "execution_count": 11,
   "id": "549e8108-8bad-4d08-a190-5f3cf45de8e8",
   "metadata": {},
   "outputs": [
    {
     "data": {
      "text/plain": [
       "1"
      ]
     },
     "execution_count": 11,
     "metadata": {},
     "output_type": "execute_result"
    }
   ],
   "source": [
    "l.index(2)"
   ]
  },
  {
   "cell_type": "code",
   "execution_count": 12,
   "id": "807bf0dc-8445-46a4-b220-444f2b097032",
   "metadata": {},
   "outputs": [
    {
     "data": {
      "text/plain": [
       "1"
      ]
     },
     "execution_count": 12,
     "metadata": {},
     "output_type": "execute_result"
    }
   ],
   "source": [
    "l.count(66)"
   ]
  },
  {
   "cell_type": "code",
   "execution_count": 13,
   "id": "63af152c-a61f-4b1d-a567-3b6444f8e163",
   "metadata": {},
   "outputs": [
    {
     "data": {
      "text/plain": [
       "66"
      ]
     },
     "execution_count": 13,
     "metadata": {},
     "output_type": "execute_result"
    }
   ],
   "source": [
    "l.pop()"
   ]
  },
  {
   "cell_type": "code",
   "execution_count": 14,
   "id": "ae4cb86b-6ae4-47f0-995b-fa88a4895432",
   "metadata": {},
   "outputs": [
    {
     "data": {
      "text/plain": [
       "[1, 2, 3, 14]"
      ]
     },
     "execution_count": 14,
     "metadata": {},
     "output_type": "execute_result"
    }
   ],
   "source": [
    "l\n"
   ]
  },
  {
   "cell_type": "code",
   "execution_count": 29,
   "id": "7374609d-ef6b-4397-bdaf-63fbd97a926e",
   "metadata": {},
   "outputs": [
    {
     "data": {
      "text/plain": [
       "[1, 3, 14]"
      ]
     },
     "execution_count": 29,
     "metadata": {},
     "output_type": "execute_result"
    }
   ],
   "source": [
    "l.remove(2)\n",
    "l"
   ]
  },
  {
   "cell_type": "code",
   "execution_count": 30,
   "id": "cfaf985f-3aee-47ad-bd0c-595969828af5",
   "metadata": {},
   "outputs": [
    {
     "data": {
      "text/plain": [
       "[11, 2.2, 45]"
      ]
     },
     "execution_count": 30,
     "metadata": {},
     "output_type": "execute_result"
    }
   ],
   "source": [
    "l1=[11,2.2,45]\n",
    "l1"
   ]
  },
  {
   "cell_type": "code",
   "execution_count": 31,
   "id": "2cdf612d-1009-48fc-96fd-770d95613f22",
   "metadata": {},
   "outputs": [
    {
     "name": "stdout",
     "output_type": "stream",
     "text": [
      "[1, 3, 14]\n",
      "[11, 2.2, 45]\n"
     ]
    }
   ],
   "source": [
    "print(l)\n",
    "print(l1)"
   ]
  },
  {
   "cell_type": "code",
   "execution_count": 32,
   "id": "137ad02d-3fa8-4954-a347-10f0ea560c7d",
   "metadata": {},
   "outputs": [],
   "source": [
    "l1.extend(l) # add the values of another list mentioned in the front"
   ]
  },
  {
   "cell_type": "code",
   "execution_count": 33,
   "id": "4e43e84a-248e-4664-9adc-9577f5191072",
   "metadata": {},
   "outputs": [
    {
     "data": {
      "text/plain": [
       "[11, 2.2, 45, 1, 3, 14]"
      ]
     },
     "execution_count": 33,
     "metadata": {},
     "output_type": "execute_result"
    }
   ],
   "source": [
    "l1"
   ]
  },
  {
   "cell_type": "code",
   "execution_count": 34,
   "id": "8616edb4-ef8a-4217-a21f-144c470096fb",
   "metadata": {},
   "outputs": [],
   "source": [
    "l.reverse()"
   ]
  },
  {
   "cell_type": "code",
   "execution_count": 35,
   "id": "f1e7a557-b2f2-4e31-b37b-f622e99a35bf",
   "metadata": {},
   "outputs": [
    {
     "data": {
      "text/plain": [
       "[14, 3, 1]"
      ]
     },
     "execution_count": 35,
     "metadata": {},
     "output_type": "execute_result"
    }
   ],
   "source": [
    "l"
   ]
  },
  {
   "cell_type": "code",
   "execution_count": 37,
   "id": "78e47cf0-839e-486a-aed7-0fe7c509637a",
   "metadata": {},
   "outputs": [
    {
     "data": {
      "text/plain": [
       "[11, 2.2, 45, 1, 3, 14]"
      ]
     },
     "execution_count": 37,
     "metadata": {},
     "output_type": "execute_result"
    }
   ],
   "source": [
    "l1.reverse()\n",
    "l1"
   ]
  },
  {
   "cell_type": "code",
   "execution_count": 38,
   "id": "e002e251-5a2e-42e7-8bec-f105d4a5f0b0",
   "metadata": {},
   "outputs": [
    {
     "data": {
      "text/plain": [
       "[3, 7, 54, 100, 300]"
      ]
     },
     "execution_count": 38,
     "metadata": {},
     "output_type": "execute_result"
    }
   ],
   "source": [
    "l2=[300,3,54,7,100]\n",
    "l2.sort()\n",
    "l2"
   ]
  },
  {
   "cell_type": "code",
   "execution_count": 39,
   "id": "cde349d1-4d38-4fff-972a-f4252d2faeea",
   "metadata": {},
   "outputs": [],
   "source": [
    "l2.sort(reverse=True)# for descending order"
   ]
  },
  {
   "cell_type": "code",
   "execution_count": 40,
   "id": "ebd94e89-e9d0-48cd-88a0-12e70e035161",
   "metadata": {},
   "outputs": [
    {
     "data": {
      "text/plain": [
       "[300, 100, 54, 7, 3]"
      ]
     },
     "execution_count": 40,
     "metadata": {},
     "output_type": "execute_result"
    }
   ],
   "source": [
    "l2"
   ]
  },
  {
   "cell_type": "code",
   "execution_count": 41,
   "id": "7cc7970d-782e-4290-b027-6739f9c6fade",
   "metadata": {},
   "outputs": [],
   "source": [
    "# Tuning \n",
    "# parameter tuning - system given parameter\n",
    "# hyperparameter tuning - we can change that is user "
   ]
  },
  {
   "cell_type": "code",
   "execution_count": 42,
   "id": "dc65b7be-ade8-47a9-b48d-c14e0872c390",
   "metadata": {},
   "outputs": [
    {
     "data": {
      "text/plain": [
       "2"
      ]
     },
     "execution_count": 42,
     "metadata": {},
     "output_type": "execute_result"
    }
   ],
   "source": [
    "l1.index(45)"
   ]
  },
  {
   "cell_type": "code",
   "execution_count": 43,
   "id": "3ba90069-4f67-473e-98ee-0d7265c432b6",
   "metadata": {},
   "outputs": [],
   "source": [
    "l2.remove(100)"
   ]
  },
  {
   "cell_type": "code",
   "execution_count": 44,
   "id": "b37224fc-183e-4c2d-841f-ddcf01e3c2d1",
   "metadata": {},
   "outputs": [
    {
     "data": {
      "text/plain": [
       "[300, 54, 7, 3]"
      ]
     },
     "execution_count": 44,
     "metadata": {},
     "output_type": "execute_result"
    }
   ],
   "source": [
    "l2"
   ]
  },
  {
   "cell_type": "code",
   "execution_count": 45,
   "id": "3e323eec-26fa-4e0f-8cf0-726f21bc609a",
   "metadata": {},
   "outputs": [
    {
     "name": "stdout",
     "output_type": "stream",
     "text": [
      "[11, 2.2, 45, 1, 3, 14]\n"
     ]
    }
   ],
   "source": [
    "print(l1)\n"
   ]
  },
  {
   "cell_type": "code",
   "execution_count": 46,
   "id": "f8c6735f-4316-4679-875e-32a33657fdda",
   "metadata": {},
   "outputs": [
    {
     "data": {
      "text/plain": [
       "[99, 2.2, 45, 1, 3, 14]"
      ]
     },
     "execution_count": 46,
     "metadata": {},
     "output_type": "execute_result"
    }
   ],
   "source": [
    "l1[0]= 99\n",
    "l1 # list is mutable"
   ]
  },
  {
   "cell_type": "code",
   "execution_count": 47,
   "id": "5d7a1d2c-5d9d-49c4-a427-232185919414",
   "metadata": {},
   "outputs": [
    {
     "data": {
      "text/plain": [
       "[14, 3, 1]"
      ]
     },
     "execution_count": 47,
     "metadata": {},
     "output_type": "execute_result"
    }
   ],
   "source": [
    "l.copy()"
   ]
  },
  {
   "cell_type": "code",
   "execution_count": 50,
   "id": "c67eafb7-4e57-42ac-a6e6-ec1b6a0fd4d0",
   "metadata": {},
   "outputs": [
    {
     "data": {
      "text/plain": [
       "list"
      ]
     },
     "execution_count": 50,
     "metadata": {},
     "output_type": "execute_result"
    }
   ],
   "source": [
    "type(l) #type"
   ]
  },
  {
   "cell_type": "code",
   "execution_count": 51,
   "id": "2d6b6e11-a34e-4bd2-a149-5faf93bf7a52",
   "metadata": {},
   "outputs": [
    {
     "data": {
      "text/plain": [
       "3"
      ]
     },
     "execution_count": 51,
     "metadata": {},
     "output_type": "execute_result"
    }
   ],
   "source": [
    "len(l) # lenghth"
   ]
  },
  {
   "cell_type": "code",
   "execution_count": 52,
   "id": "1d550aca-a618-49b7-b59f-365b3c3b0fa7",
   "metadata": {},
   "outputs": [
    {
     "data": {
      "text/plain": [
       "2689539447616"
      ]
     },
     "execution_count": 52,
     "metadata": {},
     "output_type": "execute_result"
    }
   ],
   "source": [
    "id(l) #address "
   ]
  },
  {
   "cell_type": "code",
   "execution_count": 55,
   "id": "e289c661-0c66-4974-8e9a-7d8b2a7c0984",
   "metadata": {},
   "outputs": [
    {
     "data": {
      "text/plain": [
       "[1, 2, 3, 19]"
      ]
     },
     "execution_count": 55,
     "metadata": {},
     "output_type": "execute_result"
    }
   ],
   "source": [
    "l.append(19)\n",
    "l"
   ]
  },
  {
   "cell_type": "markdown",
   "id": "6188c479-3bdd-413f-b4ae-72f559bf3606",
   "metadata": {},
   "source": [
    "### New practice"
   ]
  },
  {
   "cell_type": "code",
   "execution_count": 56,
   "id": "56336756-d79d-4918-a829-79f50c4f5a5b",
   "metadata": {},
   "outputs": [
    {
     "data": {
      "text/plain": [
       "[]"
      ]
     },
     "execution_count": 56,
     "metadata": {},
     "output_type": "execute_result"
    }
   ],
   "source": [
    "l11=[]\n",
    "l11"
   ]
  },
  {
   "cell_type": "code",
   "execution_count": 57,
   "id": "3395a90e-8fa4-4146-9cdb-4c3bb04b6165",
   "metadata": {},
   "outputs": [
    {
     "data": {
      "text/plain": [
       "[10]"
      ]
     },
     "execution_count": 57,
     "metadata": {},
     "output_type": "execute_result"
    }
   ],
   "source": [
    "l11.append(10)  # Append\n",
    "l11"
   ]
  },
  {
   "cell_type": "code",
   "execution_count": 58,
   "id": "b6cabe58-4689-4b59-ba87-fa9d16d2ca5e",
   "metadata": {},
   "outputs": [
    {
     "data": {
      "text/plain": [
       "[10, 2.3, 'str', (10+3j), 19, 100]"
      ]
     },
     "execution_count": 58,
     "metadata": {},
     "output_type": "execute_result"
    }
   ],
   "source": [
    "l11.append(2.3)\n",
    "l11.append(\"str\")\n",
    "l11.append(10+3j)\n",
    "l11.append(19)\n",
    "l11.append(100)\n",
    "l11"
   ]
  },
  {
   "cell_type": "code",
   "execution_count": 59,
   "id": "ccc43a9d-6274-4973-b7fc-9a618a55bc79",
   "metadata": {},
   "outputs": [
    {
     "data": {
      "text/plain": [
       "[]"
      ]
     },
     "execution_count": 59,
     "metadata": {},
     "output_type": "execute_result"
    }
   ],
   "source": [
    "l12 = []\n",
    "l12"
   ]
  },
  {
   "cell_type": "markdown",
   "id": "ea8c3220-27e6-4fab-9556-e9b57a34da97",
   "metadata": {},
   "source": [
    "### new_list = old_list.copy()\n"
   ]
  },
  {
   "cell_type": "code",
   "execution_count": 65,
   "id": "d1f17539-5934-48af-a57d-02e4c33516df",
   "metadata": {},
   "outputs": [
    {
     "data": {
      "text/plain": [
       "[10, 2.3, 'str', (10+3j), 19, 100]"
      ]
     },
     "execution_count": 65,
     "metadata": {},
     "output_type": "execute_result"
    }
   ],
   "source": [
    "l12 = l11.copy() \n",
    "l12\n"
   ]
  },
  {
   "cell_type": "code",
   "execution_count": 66,
   "id": "4a937ffb-81f2-4697-9454-eef8f90de966",
   "metadata": {},
   "outputs": [
    {
     "data": {
      "text/plain": [
       "[10, 2.3, 'str', (10+3j), 19, 100]"
      ]
     },
     "execution_count": 66,
     "metadata": {},
     "output_type": "execute_result"
    }
   ],
   "source": [
    "l11\n"
   ]
  },
  {
   "cell_type": "code",
   "execution_count": 67,
   "id": "bba19a91-b0d9-4824-addd-8aee61ae49fa",
   "metadata": {},
   "outputs": [
    {
     "data": {
      "text/plain": [
       "[10, 2.3, 'str', (10+3j), 19, 100]"
      ]
     },
     "execution_count": 67,
     "metadata": {},
     "output_type": "execute_result"
    }
   ],
   "source": [
    "l12"
   ]
  },
  {
   "cell_type": "code",
   "execution_count": 68,
   "id": "42cc0ca3-f0c4-4aac-9776-8d50a6ef264b",
   "metadata": {},
   "outputs": [
    {
     "data": {
      "text/plain": [
       "1"
      ]
     },
     "execution_count": 68,
     "metadata": {},
     "output_type": "execute_result"
    }
   ],
   "source": [
    "l11.count(100) # counts the number of time"
   ]
  },
  {
   "cell_type": "code",
   "execution_count": 71,
   "id": "d2fdf43a-e1c3-4867-a9ba-f744d5622d70",
   "metadata": {},
   "outputs": [
    {
     "data": {
      "text/plain": [
       "5"
      ]
     },
     "execution_count": 71,
     "metadata": {},
     "output_type": "execute_result"
    }
   ],
   "source": [
    "l11.index(100) # index"
   ]
  },
  {
   "cell_type": "code",
   "execution_count": 73,
   "id": "c66c57ad-d749-4c97-b8c8-079e7fda340d",
   "metadata": {},
   "outputs": [
    {
     "data": {
      "text/plain": [
       "0"
      ]
     },
     "execution_count": 73,
     "metadata": {},
     "output_type": "execute_result"
    }
   ],
   "source": [
    "l11.index(10)"
   ]
  },
  {
   "cell_type": "markdown",
   "id": "563aa9a2-caed-4a17-841c-df0ec352429b",
   "metadata": {},
   "source": [
    "### pop means it removes element uding index wise by default last "
   ]
  },
  {
   "cell_type": "code",
   "execution_count": 74,
   "id": "cba71af0-0eeb-4c23-ba77-9e5c815a460d",
   "metadata": {},
   "outputs": [
    {
     "data": {
      "text/plain": [
       "100"
      ]
     },
     "execution_count": 74,
     "metadata": {},
     "output_type": "execute_result"
    }
   ],
   "source": [
    "l11.pop() # pop means it removes element uding index wise by default last "
   ]
  },
  {
   "cell_type": "code",
   "execution_count": 75,
   "id": "638e6ad6-7349-4d2d-86d6-edc0fce64a2a",
   "metadata": {},
   "outputs": [
    {
     "data": {
      "text/plain": [
       "[10, 2.3, 'str', (10+3j), 19]"
      ]
     },
     "execution_count": 75,
     "metadata": {},
     "output_type": "execute_result"
    }
   ],
   "source": [
    "l11"
   ]
  },
  {
   "cell_type": "markdown",
   "id": "ae114223-2691-4144-b756-31a156a2fc9b",
   "metadata": {},
   "source": [
    "### remove element removes element directly by no index required"
   ]
  },
  {
   "cell_type": "code",
   "execution_count": 76,
   "id": "83b07405-c7ec-4c54-9066-494c2cc5b68b",
   "metadata": {},
   "outputs": [],
   "source": [
    "l11.remove(2.3)  # remove element removes element directly by no index required"
   ]
  },
  {
   "cell_type": "code",
   "execution_count": 77,
   "id": "bbfd3bc4-1eff-45f1-9cc5-2e97f6abc931",
   "metadata": {},
   "outputs": [
    {
     "data": {
      "text/plain": [
       "[10, 'str', (10+3j), 19]"
      ]
     },
     "execution_count": 77,
     "metadata": {},
     "output_type": "execute_result"
    }
   ],
   "source": [
    "l11"
   ]
  },
  {
   "cell_type": "code",
   "execution_count": 78,
   "id": "e779952b-7211-4e6d-a8cc-eac474c37007",
   "metadata": {},
   "outputs": [],
   "source": [
    "l11.reverse()"
   ]
  },
  {
   "cell_type": "code",
   "execution_count": 79,
   "id": "3b764088-7e5c-4d6a-a3b4-337e7920e714",
   "metadata": {},
   "outputs": [
    {
     "data": {
      "text/plain": [
       "[19, (10+3j), 'str', 10]"
      ]
     },
     "execution_count": 79,
     "metadata": {},
     "output_type": "execute_result"
    }
   ],
   "source": [
    "l11"
   ]
  },
  {
   "cell_type": "code",
   "execution_count": 80,
   "id": "c53bb67e-731b-4cd4-b8d4-a5f91cecdf3b",
   "metadata": {},
   "outputs": [
    {
     "data": {
      "text/plain": [
       "[19, (10+3j), 'str', 10, [1, 2, 3]]"
      ]
     },
     "execution_count": 80,
     "metadata": {},
     "output_type": "execute_result"
    }
   ],
   "source": [
    "l11.append([1,2,3])\n",
    "l11 # nested list "
   ]
  },
  {
   "cell_type": "code",
   "execution_count": 81,
   "id": "8d012071-209a-4089-975b-af39ecf7b04e",
   "metadata": {},
   "outputs": [
    {
     "data": {
      "text/plain": [
       "[19, (10+3j), 'str', 10, 66, [1, 2, 3]]"
      ]
     },
     "execution_count": 81,
     "metadata": {},
     "output_type": "execute_result"
    }
   ],
   "source": [
    "l11.insert(4,66) # insert add the value where which index we want\n",
    "l11"
   ]
  },
  {
   "cell_type": "code",
   "execution_count": 82,
   "id": "27073a94-bbbd-470e-a34e-dc80cbb439fd",
   "metadata": {},
   "outputs": [
    {
     "data": {
      "text/plain": [
       "[1, 2, 3, 19]"
      ]
     },
     "execution_count": 82,
     "metadata": {},
     "output_type": "execute_result"
    }
   ],
   "source": [
    "l"
   ]
  },
  {
   "cell_type": "code",
   "execution_count": 83,
   "id": "98653935-8293-49dd-954c-56b6e37397b8",
   "metadata": {},
   "outputs": [
    {
     "data": {
      "text/plain": [
       "[19, (10+3j), 'str', 10, 66, [1, 2, 3]]"
      ]
     },
     "execution_count": 83,
     "metadata": {},
     "output_type": "execute_result"
    }
   ],
   "source": [
    "l11"
   ]
  },
  {
   "cell_type": "code",
   "execution_count": 84,
   "id": "fe9d947b-87b7-4aae-bb44-58feb32544ac",
   "metadata": {},
   "outputs": [],
   "source": [
    "l11.extend(l) # add the values of another list mentioned in the front"
   ]
  },
  {
   "cell_type": "code",
   "execution_count": 85,
   "id": "34331642-803b-4f9b-ac59-ec69e8fc101a",
   "metadata": {},
   "outputs": [
    {
     "data": {
      "text/plain": [
       "[1, 2, 3, 19]"
      ]
     },
     "execution_count": 85,
     "metadata": {},
     "output_type": "execute_result"
    }
   ],
   "source": [
    "l"
   ]
  },
  {
   "cell_type": "code",
   "execution_count": 86,
   "id": "d1e6a912-4c02-4c5f-b95f-23d5df5516d2",
   "metadata": {},
   "outputs": [
    {
     "data": {
      "text/plain": [
       "[19, (10+3j), 'str', 10, 66, [1, 2, 3], 1, 2, 3, 19]"
      ]
     },
     "execution_count": 86,
     "metadata": {},
     "output_type": "execute_result"
    }
   ],
   "source": [
    "l11"
   ]
  },
  {
   "cell_type": "code",
   "execution_count": 88,
   "id": "c933362c-84d6-46dd-81f6-7cd53e6fb500",
   "metadata": {},
   "outputs": [
    {
     "data": {
      "text/plain": [
       "[1, 2, 3, 19, 19, (10+3j), 'str', 10, 66, [1, 2, 3], 1, 2, 3, 19]"
      ]
     },
     "execution_count": 88,
     "metadata": {},
     "output_type": "execute_result"
    }
   ],
   "source": [
    "l.extend(l11)\n",
    "l"
   ]
  },
  {
   "cell_type": "code",
   "execution_count": 91,
   "id": "42c62ddb-f5da-4547-8bbc-86c7c19243a5",
   "metadata": {},
   "outputs": [
    {
     "data": {
      "text/plain": [
       "[19, 'str', 10, 66, [1, 2, 3], 1, 2, 3, 19]"
      ]
     },
     "execution_count": 91,
     "metadata": {},
     "output_type": "execute_result"
    }
   ],
   "source": [
    "l11.remove(10+3j)\n",
    "l11"
   ]
  },
  {
   "cell_type": "code",
   "execution_count": 92,
   "id": "1a19b7b1-5d3b-4cfd-a128-8158887526aa",
   "metadata": {},
   "outputs": [
    {
     "ename": "TypeError",
     "evalue": "'<' not supported between instances of 'str' and 'int'",
     "output_type": "error",
     "traceback": [
      "\u001b[31m---------------------------------------------------------------------------\u001b[39m",
      "\u001b[31mTypeError\u001b[39m                                 Traceback (most recent call last)",
      "\u001b[36mCell\u001b[39m\u001b[36m \u001b[39m\u001b[32mIn[92]\u001b[39m\u001b[32m, line 1\u001b[39m\n\u001b[32m----> \u001b[39m\u001b[32m1\u001b[39m \u001b[43ml11\u001b[49m\u001b[43m.\u001b[49m\u001b[43msort\u001b[49m\u001b[43m(\u001b[49m\u001b[43m)\u001b[49m\n\u001b[32m      2\u001b[39m l11\n",
      "\u001b[31mTypeError\u001b[39m: '<' not supported between instances of 'str' and 'int'"
     ]
    }
   ],
   "source": [
    "l11.sort()\n",
    "l11"
   ]
  },
  {
   "cell_type": "code",
   "execution_count": 95,
   "id": "52a461ff-5ebf-4300-ab78-79fcaeb0df0a",
   "metadata": {},
   "outputs": [
    {
     "data": {
      "text/plain": [
       "[19, 10, 66, [1, 2, 3], 1, 2, 3, 19]"
      ]
     },
     "execution_count": 95,
     "metadata": {},
     "output_type": "execute_result"
    }
   ],
   "source": [
    "l11.pop(1)\n",
    "l11"
   ]
  },
  {
   "cell_type": "code",
   "execution_count": 96,
   "id": "2a21e035-df3b-415e-91ec-a8a9ed2f57b8",
   "metadata": {},
   "outputs": [
    {
     "ename": "TypeError",
     "evalue": "'<' not supported between instances of 'list' and 'int'",
     "output_type": "error",
     "traceback": [
      "\u001b[31m---------------------------------------------------------------------------\u001b[39m",
      "\u001b[31mTypeError\u001b[39m                                 Traceback (most recent call last)",
      "\u001b[36mCell\u001b[39m\u001b[36m \u001b[39m\u001b[32mIn[96]\u001b[39m\u001b[32m, line 1\u001b[39m\n\u001b[32m----> \u001b[39m\u001b[32m1\u001b[39m \u001b[43ml11\u001b[49m\u001b[43m.\u001b[49m\u001b[43msort\u001b[49m\u001b[43m(\u001b[49m\u001b[43m)\u001b[49m\n\u001b[32m      2\u001b[39m l11\n",
      "\u001b[31mTypeError\u001b[39m: '<' not supported between instances of 'list' and 'int'"
     ]
    }
   ],
   "source": [
    "l11.sort()\n",
    "l11"
   ]
  },
  {
   "cell_type": "code",
   "execution_count": 98,
   "id": "890f9abd-ac17-4e53-81f0-fd288de67090",
   "metadata": {},
   "outputs": [
    {
     "data": {
      "text/plain": [
       "[10, 19, 66, 1, 2, 3, 19]"
      ]
     },
     "execution_count": 98,
     "metadata": {},
     "output_type": "execute_result"
    }
   ],
   "source": [
    "l11.remove([1,2,3])\n",
    "l11"
   ]
  },
  {
   "cell_type": "code",
   "execution_count": 99,
   "id": "27aaa7e5-a8c1-40d3-bdf6-d02eb026135c",
   "metadata": {},
   "outputs": [
    {
     "data": {
      "text/plain": [
       "[1, 2, 3, 10, 19, 19, 66]"
      ]
     },
     "execution_count": 99,
     "metadata": {},
     "output_type": "execute_result"
    }
   ],
   "source": [
    "l11.sort()  #cby default ascending order which is \n",
    "l11"
   ]
  },
  {
   "cell_type": "markdown",
   "id": "3fd22413-1b51-4e0d-9f6b-81ea33e89cfc",
   "metadata": {},
   "source": [
    "### (reverse=True)# for descending order"
   ]
  },
  {
   "cell_type": "code",
   "execution_count": 101,
   "id": "1d2dfaa1-50f7-4c66-9d94-627e317458cc",
   "metadata": {},
   "outputs": [
    {
     "data": {
      "text/plain": [
       "[66, 19, 19, 10, 3, 2, 1]"
      ]
     },
     "execution_count": 101,
     "metadata": {},
     "output_type": "execute_result"
    }
   ],
   "source": [
    "l11.sort(reverse=True)\n",
    "l11                      # Descending order"
   ]
  },
  {
   "cell_type": "markdown",
   "id": "387f680a-233e-4d07-a94e-50c95df8c982",
   "metadata": {},
   "source": [
    "###  Tuning \n",
    "### parameter tuning - system given parameter\n",
    "### hyperparameter tuning - we can change that is user "
   ]
  },
  {
   "cell_type": "code",
   "execution_count": 102,
   "id": "ca294add-885c-421f-b63d-b80a3a8a60ba",
   "metadata": {},
   "outputs": [
    {
     "data": {
      "text/plain": [
       "[]"
      ]
     },
     "execution_count": 102,
     "metadata": {},
     "output_type": "execute_result"
    }
   ],
   "source": [
    "l11.clear()\n",
    "l11"
   ]
  },
  {
   "cell_type": "code",
   "execution_count": null,
   "id": "a5fd7675-4265-4594-bf02-e8e26889c51a",
   "metadata": {},
   "outputs": [],
   "source": []
  }
 ],
 "metadata": {
  "kernelspec": {
   "display_name": "Python 3 (ipykernel)",
   "language": "python",
   "name": "python3"
  },
  "language_info": {
   "codemirror_mode": {
    "name": "ipython",
    "version": 3
   },
   "file_extension": ".py",
   "mimetype": "text/x-python",
   "name": "python",
   "nbconvert_exporter": "python",
   "pygments_lexer": "ipython3",
   "version": "3.13.5"
  }
 },
 "nbformat": 4,
 "nbformat_minor": 5
}
