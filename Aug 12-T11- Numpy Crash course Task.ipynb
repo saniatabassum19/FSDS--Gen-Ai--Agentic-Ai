{
 "cells": [
  {
   "cell_type": "markdown",
   "id": "c53e1e9d-f5de-4229-a2d4-c8f65233cd84",
   "metadata": {},
   "source": [
    "# Numpy Crash Course"
   ]
  },
  {
   "cell_type": "code",
   "execution_count": 1,
   "id": "c6ff797d-1097-40e3-a1ec-85b8b6847924",
   "metadata": {},
   "outputs": [],
   "source": [
    "import numpy as np"
   ]
  },
  {
   "cell_type": "code",
   "execution_count": 2,
   "id": "80a5d1a6-8450-40c5-b1e1-5068bf7537b2",
   "metadata": {},
   "outputs": [
    {
     "data": {
      "text/plain": [
       "'2.2.6'"
      ]
     },
     "execution_count": 2,
     "metadata": {},
     "output_type": "execute_result"
    }
   ],
   "source": [
    "np.__version__"
   ]
  },
  {
   "cell_type": "code",
   "execution_count": 3,
   "id": "18194f8e-42fc-465c-a4c0-2c96bf5f7ad8",
   "metadata": {},
   "outputs": [
    {
     "data": {
      "text/plain": [
       "'3.13.5 | packaged by Anaconda, Inc. | (main, Jun 12 2025, 16:37:03) [MSC v.1929 64 bit (AMD64)]'"
      ]
     },
     "execution_count": 3,
     "metadata": {},
     "output_type": "execute_result"
    }
   ],
   "source": [
    "import sys \n",
    "sys.version"
   ]
  },
  {
   "cell_type": "markdown",
   "id": "d1d3dc3d-1e10-4756-a005-b04c655e4917",
   "metadata": {},
   "source": [
    "# Creating Arrays"
   ]
  },
  {
   "cell_type": "code",
   "execution_count": 4,
   "id": "00c579fa-a2fa-4639-8555-3be13f493f45",
   "metadata": {},
   "outputs": [
    {
     "data": {
      "text/plain": [
       "[0, 1, 2, 3, 4, 5]"
      ]
     },
     "execution_count": 4,
     "metadata": {},
     "output_type": "execute_result"
    }
   ],
   "source": [
    "my_list = [0,1,2,3,4,5]\n",
    "my_list"
   ]
  },
  {
   "cell_type": "code",
   "execution_count": 5,
   "id": "5b6c4b49-1182-4af8-bb8f-b1639b6f2dd0",
   "metadata": {},
   "outputs": [
    {
     "data": {
      "text/plain": [
       "list"
      ]
     },
     "execution_count": 5,
     "metadata": {},
     "output_type": "execute_result"
    }
   ],
   "source": [
    "type(my_list)"
   ]
  },
  {
   "cell_type": "code",
   "execution_count": 6,
   "id": "8136dbe3-a414-4e47-962a-967cced145b6",
   "metadata": {},
   "outputs": [],
   "source": [
    "arr = np.array(my_list) "
   ]
  },
  {
   "cell_type": "code",
   "execution_count": 7,
   "id": "473d306c-fd01-44e7-ae31-2e8d722ddc79",
   "metadata": {},
   "outputs": [
    {
     "data": {
      "text/plain": [
       "array([0, 1, 2, 3, 4, 5])"
      ]
     },
     "execution_count": 7,
     "metadata": {},
     "output_type": "execute_result"
    }
   ],
   "source": [
    "arr"
   ]
  },
  {
   "cell_type": "code",
   "execution_count": 8,
   "id": "fe9334b2-82ae-49c4-9b3c-fd5dd8ef2a9d",
   "metadata": {},
   "outputs": [
    {
     "data": {
      "text/plain": [
       "numpy.ndarray"
      ]
     },
     "execution_count": 8,
     "metadata": {},
     "output_type": "execute_result"
    }
   ],
   "source": [
    "type(arr)"
   ]
  },
  {
   "cell_type": "code",
   "execution_count": 9,
   "id": "a8f97ac9-7772-4dae-8c97-ea81d551c55f",
   "metadata": {},
   "outputs": [
    {
     "data": {
      "text/plain": [
       "list"
      ]
     },
     "execution_count": 9,
     "metadata": {},
     "output_type": "execute_result"
    }
   ],
   "source": [
    "type(my_list)"
   ]
  },
  {
   "cell_type": "code",
   "execution_count": 10,
   "id": "502c9fa8-fd41-4acb-90e6-983845d79d6b",
   "metadata": {},
   "outputs": [
    {
     "ename": "SyntaxError",
     "evalue": "invalid syntax (1655120754.py, line 1)",
     "output_type": "error",
     "traceback": [
      "  \u001b[36mCell\u001b[39m\u001b[36m \u001b[39m\u001b[32mIn[10]\u001b[39m\u001b[32m, line 1\u001b[39m\n\u001b[31m    \u001b[39m\u001b[31mnp. # we learn important function\u001b[39m\n        ^\n\u001b[31mSyntaxError\u001b[39m\u001b[31m:\u001b[39m invalid syntax\n"
     ]
    }
   ],
   "source": [
    "np. # we learn important function "
   ]
  },
  {
   "cell_type": "code",
   "execution_count": 11,
   "id": "6517cd40-9387-475e-865b-5922ae0b3be1",
   "metadata": {},
   "outputs": [
    {
     "data": {
      "text/plain": [
       "array([ 0,  1,  2,  3,  4,  5,  6,  7,  8,  9, 10, 11, 12, 13, 14])"
      ]
     },
     "execution_count": 11,
     "metadata": {},
     "output_type": "execute_result"
    }
   ],
   "source": [
    "np.arange(15) "
   ]
  },
  {
   "cell_type": "code",
   "execution_count": 12,
   "id": "0d08a18c-ea3c-4c01-89ae-3d958c1556b0",
   "metadata": {},
   "outputs": [
    {
     "data": {
      "text/plain": [
       "array([0., 1., 2.])"
      ]
     },
     "execution_count": 12,
     "metadata": {},
     "output_type": "execute_result"
    }
   ],
   "source": [
    "np.arange(3.0)  "
   ]
  },
  {
   "cell_type": "code",
   "execution_count": 13,
   "id": "66565631-ffd0-4ca8-b0de-36215284bf42",
   "metadata": {},
   "outputs": [
    {
     "data": {
      "text/plain": [
       "array([0, 1, 2, 3, 4, 5, 6, 7, 8, 9])"
      ]
     },
     "execution_count": 13,
     "metadata": {},
     "output_type": "execute_result"
    }
   ],
   "source": [
    "np.arange(10) "
   ]
  },
  {
   "cell_type": "code",
   "execution_count": 14,
   "id": "016fad17-9244-4133-8519-6a5409f8912e",
   "metadata": {},
   "outputs": [
    {
     "data": {
      "text/plain": [
       "array([0, 1, 2, 3, 4])"
      ]
     },
     "execution_count": 14,
     "metadata": {},
     "output_type": "execute_result"
    }
   ],
   "source": [
    "np.arange(0, 5)"
   ]
  },
  {
   "cell_type": "code",
   "execution_count": 15,
   "id": "6cb4f6e6-ac7d-4751-b78d-562a152a7edd",
   "metadata": {},
   "outputs": [
    {
     "data": {
      "text/plain": [
       "array([10, 11, 12, 13, 14, 15, 16, 17, 18, 19])"
      ]
     },
     "execution_count": 15,
     "metadata": {},
     "output_type": "execute_result"
    }
   ],
   "source": [
    "np.arange(10,20) "
   ]
  },
  {
   "cell_type": "code",
   "execution_count": 16,
   "id": "329ea4c9-38a7-4a67-98fa-bd94f06abf64",
   "metadata": {},
   "outputs": [
    {
     "data": {
      "text/plain": [
       "array([], dtype=int64)"
      ]
     },
     "execution_count": 16,
     "metadata": {},
     "output_type": "execute_result"
    }
   ],
   "source": [
    "np.arange(20,10) # 1st arg < 2nd arg"
   ]
  },
  {
   "cell_type": "code",
   "execution_count": 17,
   "id": "a610310b-1454-4466-8366-ece03992e859",
   "metadata": {},
   "outputs": [
    {
     "data": {
      "text/plain": [
       "array([-20, -19, -18, -17, -16, -15, -14, -13, -12, -11, -10,  -9,  -8,\n",
       "        -7,  -6,  -5,  -4,  -3,  -2,  -1,   0,   1,   2,   3,   4,   5,\n",
       "         6,   7,   8,   9])"
      ]
     },
     "execution_count": 17,
     "metadata": {},
     "output_type": "execute_result"
    }
   ],
   "source": [
    "np.arange(-20,10) "
   ]
  },
  {
   "cell_type": "code",
   "execution_count": 18,
   "id": "aa353eba-1dd2-4a1d-9ef3-58ab5864b371",
   "metadata": {},
   "outputs": [
    {
     "data": {
      "text/plain": [
       "array([-16, -15, -14, -13, -12, -11, -10,  -9,  -8,  -7,  -6,  -5,  -4,\n",
       "        -3,  -2,  -1,   0,   1,   2,   3,   4,   5,   6,   7,   8,   9])"
      ]
     },
     "execution_count": 18,
     "metadata": {},
     "output_type": "execute_result"
    }
   ],
   "source": [
    "np.arange(-16,10) "
   ]
  },
  {
   "cell_type": "code",
   "execution_count": 19,
   "id": "f8b91cf2-25e1-46cc-9b23-9ed0ffb795ed",
   "metadata": {},
   "outputs": [
    {
     "data": {
      "text/plain": [
       "array([-20, -19, -18, -17, -16, -15, -14, -13, -12, -11])"
      ]
     },
     "execution_count": 19,
     "metadata": {},
     "output_type": "execute_result"
    }
   ],
   "source": [
    "np.arange(-20,-10) "
   ]
  },
  {
   "cell_type": "code",
   "execution_count": 20,
   "id": "c38eb687-ebae-4dce-8984-f8407135bd6b",
   "metadata": {},
   "outputs": [
    {
     "data": {
      "text/plain": [
       "array([], dtype=int64)"
      ]
     },
     "execution_count": 20,
     "metadata": {},
     "output_type": "execute_result"
    }
   ],
   "source": [
    "np.arange(30,20)  # 1st arg always be < then 2nd arg"
   ]
  },
  {
   "cell_type": "code",
   "execution_count": 21,
   "id": "6e339068-2efd-4bee-994c-e1e69ade1bf6",
   "metadata": {},
   "outputs": [
    {
     "data": {
      "text/plain": [
       "array([-30, -29, -28, -27, -26, -25, -24, -23, -22, -21, -20, -19, -18,\n",
       "       -17, -16, -15, -14, -13, -12, -11, -10,  -9,  -8,  -7,  -6,  -5,\n",
       "        -4,  -3,  -2,  -1,   0,   1,   2,   3,   4,   5,   6,   7,   8,\n",
       "         9,  10,  11,  12,  13,  14,  15,  16,  17,  18,  19])"
      ]
     },
     "execution_count": 21,
     "metadata": {},
     "output_type": "execute_result"
    }
   ],
   "source": [
    "ar = np.arange(-30,20)\n",
    "ar"
   ]
  },
  {
   "cell_type": "code",
   "execution_count": 22,
   "id": "09189429-39fd-46e6-9d6c-4e941dbf208a",
   "metadata": {},
   "outputs": [
    {
     "data": {
      "text/plain": [
       "array([], dtype=int64)"
      ]
     },
     "execution_count": 22,
     "metadata": {},
     "output_type": "execute_result"
    }
   ],
   "source": [
    "np.arange(10,10) "
   ]
  },
  {
   "cell_type": "code",
   "execution_count": 23,
   "id": "375a9487-cb84-41af-b907-6ca6564ec09b",
   "metadata": {},
   "outputs": [
    {
     "ename": "TypeError",
     "evalue": "arange() requires stop to be specified.",
     "output_type": "error",
     "traceback": [
      "\u001b[31m---------------------------------------------------------------------------\u001b[39m",
      "\u001b[31mTypeError\u001b[39m                                 Traceback (most recent call last)",
      "\u001b[36mCell\u001b[39m\u001b[36m \u001b[39m\u001b[32mIn[23]\u001b[39m\u001b[32m, line 1\u001b[39m\n\u001b[32m----> \u001b[39m\u001b[32m1\u001b[39m \u001b[43mnp\u001b[49m\u001b[43m.\u001b[49m\u001b[43marange\u001b[49m\u001b[43m(\u001b[49m\u001b[43m)\u001b[49m\n",
      "\u001b[31mTypeError\u001b[39m: arange() requires stop to be specified."
     ]
    }
   ],
   "source": [
    "np.arange()"
   ]
  },
  {
   "cell_type": "code",
   "execution_count": null,
   "id": "6b22a0f3-4832-47cb-a6e4-a5a87381aa82",
   "metadata": {},
   "outputs": [],
   "source": [
    "np.arange(10,30,5)  # 10- starting from 30- end point 5 - step count"
   ]
  },
  {
   "cell_type": "code",
   "execution_count": null,
   "id": "66fa7e43-84ca-438f-9f40-fab7dea014b1",
   "metadata": {},
   "outputs": [],
   "source": [
    "np.arange(0,10,3)"
   ]
  },
  {
   "cell_type": "code",
   "execution_count": null,
   "id": "5c1b8348-c7a4-4bf5-81a5-a63a3bd89c0e",
   "metadata": {},
   "outputs": [],
   "source": [
    "np.arange(10,30,5,8)"
   ]
  },
  {
   "cell_type": "code",
   "execution_count": null,
   "id": "3e3cfd86-cc80-4957-bfa0-c87e762647cd",
   "metadata": {},
   "outputs": [],
   "source": [
    "np.zeros(3) # parameter  tunning "
   ]
  },
  {
   "cell_type": "code",
   "execution_count": null,
   "id": "6fb2c6d2-7402-4079-a91d-453c37c3b4da",
   "metadata": {},
   "outputs": [],
   "source": [
    "np.zeros(5, dtype=int) # hyperparameter tunning "
   ]
  },
  {
   "cell_type": "code",
   "execution_count": null,
   "id": "11f6bb58-2c09-4199-b096-b530524953a2",
   "metadata": {},
   "outputs": [],
   "source": [
    "np.zeros((2,2), dtype=int)"
   ]
  },
  {
   "cell_type": "code",
   "execution_count": 24,
   "id": "6c512fff-551f-42c7-9467-b15d75ac26d2",
   "metadata": {},
   "outputs": [
    {
     "name": "stdout",
     "output_type": "stream",
     "text": [
      "[[0. 0.]\n",
      " [0. 0.]]\n",
      "<class 'numpy.ndarray'>\n"
     ]
    }
   ],
   "source": [
    "zero = np.zeros([2,2])\n",
    "print(zero)\n",
    "print(type(zero))"
   ]
  },
  {
   "cell_type": "code",
   "execution_count": 25,
   "id": "77641904-bf51-4862-ad86-5fc53c5d8761",
   "metadata": {},
   "outputs": [
    {
     "name": "stdout",
     "output_type": "stream",
     "text": [
      "[[0. 0.]\n",
      " [0. 0.]]\n",
      "####\n",
      "<class 'numpy.ndarray'>\n"
     ]
    }
   ],
   "source": [
    "zero = np.zeros([2,2])\n",
    "print(zero)\n",
    "\n",
    "print('####')\n",
    "\n",
    "print(type(zero))"
   ]
  },
  {
   "cell_type": "code",
   "execution_count": 26,
   "id": "ff9c5d15-45b0-4678-92a4-d52c6ecb992e",
   "metadata": {},
   "outputs": [
    {
     "data": {
      "text/plain": [
       "array([[0., 0., 0., 0., 0., 0., 0., 0., 0., 0.],\n",
       "       [0., 0., 0., 0., 0., 0., 0., 0., 0., 0.]])"
      ]
     },
     "execution_count": 26,
     "metadata": {},
     "output_type": "execute_result"
    }
   ],
   "source": [
    "np.zeros((2,10))"
   ]
  },
  {
   "cell_type": "code",
   "execution_count": 27,
   "id": "13a99824-9457-4416-a4ce-b631f412aed8",
   "metadata": {},
   "outputs": [
    {
     "data": {
      "text/plain": [
       "array([[0., 0.],\n",
       "       [0., 0.]])"
      ]
     },
     "execution_count": 27,
     "metadata": {},
     "output_type": "execute_result"
    }
   ],
   "source": [
    "np.zeros((2,2))"
   ]
  },
  {
   "cell_type": "code",
   "execution_count": 28,
   "id": "0bbb3876-8adf-4c2a-9d48-b97181c293f7",
   "metadata": {},
   "outputs": [
    {
     "data": {
      "text/plain": [
       "array([[0., 0., 0.],\n",
       "       [0., 0., 0.],\n",
       "       [0., 0., 0.]])"
      ]
     },
     "execution_count": 28,
     "metadata": {},
     "output_type": "execute_result"
    }
   ],
   "source": [
    "np.zeros((3,3))"
   ]
  },
  {
   "cell_type": "code",
   "execution_count": 29,
   "id": "c1085ffe-ed40-43cb-ad36-ed8b8d6e8d97",
   "metadata": {},
   "outputs": [
    {
     "data": {
      "text/plain": [
       "array([[0., 0., 0., 0., 0., 0., 0., 0., 0., 0., 0., 0., 0., 0., 0., 0.,\n",
       "        0., 0., 0., 0., 0., 0., 0., 0., 0., 0., 0., 0., 0., 0.],\n",
       "       [0., 0., 0., 0., 0., 0., 0., 0., 0., 0., 0., 0., 0., 0., 0., 0.,\n",
       "        0., 0., 0., 0., 0., 0., 0., 0., 0., 0., 0., 0., 0., 0.],\n",
       "       [0., 0., 0., 0., 0., 0., 0., 0., 0., 0., 0., 0., 0., 0., 0., 0.,\n",
       "        0., 0., 0., 0., 0., 0., 0., 0., 0., 0., 0., 0., 0., 0.],\n",
       "       [0., 0., 0., 0., 0., 0., 0., 0., 0., 0., 0., 0., 0., 0., 0., 0.,\n",
       "        0., 0., 0., 0., 0., 0., 0., 0., 0., 0., 0., 0., 0., 0.],\n",
       "       [0., 0., 0., 0., 0., 0., 0., 0., 0., 0., 0., 0., 0., 0., 0., 0.,\n",
       "        0., 0., 0., 0., 0., 0., 0., 0., 0., 0., 0., 0., 0., 0.],\n",
       "       [0., 0., 0., 0., 0., 0., 0., 0., 0., 0., 0., 0., 0., 0., 0., 0.,\n",
       "        0., 0., 0., 0., 0., 0., 0., 0., 0., 0., 0., 0., 0., 0.],\n",
       "       [0., 0., 0., 0., 0., 0., 0., 0., 0., 0., 0., 0., 0., 0., 0., 0.,\n",
       "        0., 0., 0., 0., 0., 0., 0., 0., 0., 0., 0., 0., 0., 0.],\n",
       "       [0., 0., 0., 0., 0., 0., 0., 0., 0., 0., 0., 0., 0., 0., 0., 0.,\n",
       "        0., 0., 0., 0., 0., 0., 0., 0., 0., 0., 0., 0., 0., 0.],\n",
       "       [0., 0., 0., 0., 0., 0., 0., 0., 0., 0., 0., 0., 0., 0., 0., 0.,\n",
       "        0., 0., 0., 0., 0., 0., 0., 0., 0., 0., 0., 0., 0., 0.],\n",
       "       [0., 0., 0., 0., 0., 0., 0., 0., 0., 0., 0., 0., 0., 0., 0., 0.,\n",
       "        0., 0., 0., 0., 0., 0., 0., 0., 0., 0., 0., 0., 0., 0.]])"
      ]
     },
     "execution_count": 29,
     "metadata": {},
     "output_type": "execute_result"
    }
   ],
   "source": [
    "np.zeros((10,30))"
   ]
  },
  {
   "cell_type": "code",
   "execution_count": 30,
   "id": "51dbe236-9845-420c-8e57-8794683dcf51",
   "metadata": {},
   "outputs": [
    {
     "data": {
      "text/plain": [
       "array([[0., 0., 0., 0., 0., 0., 0., 0., 0., 0.],\n",
       "       [0., 0., 0., 0., 0., 0., 0., 0., 0., 0.],\n",
       "       [0., 0., 0., 0., 0., 0., 0., 0., 0., 0.],\n",
       "       [0., 0., 0., 0., 0., 0., 0., 0., 0., 0.],\n",
       "       [0., 0., 0., 0., 0., 0., 0., 0., 0., 0.]])"
      ]
     },
     "execution_count": 30,
     "metadata": {},
     "output_type": "execute_result"
    }
   ],
   "source": [
    "np.zeros((5,10)) # bydefaul 1 arg -- will give row & 2nd arg - columns"
   ]
  },
  {
   "cell_type": "code",
   "execution_count": 31,
   "id": "62b58e37-1718-406b-a6af-64676cdc9a08",
   "metadata": {},
   "outputs": [
    {
     "name": "stdout",
     "output_type": "stream",
     "text": [
      "[[0. 0. 0. 0. 0. 0. 0. 0.]\n",
      " [0. 0. 0. 0. 0. 0. 0. 0.]\n",
      " [0. 0. 0. 0. 0. 0. 0. 0.]\n",
      " [0. 0. 0. 0. 0. 0. 0. 0.]\n",
      " [0. 0. 0. 0. 0. 0. 0. 0.]\n",
      " [0. 0. 0. 0. 0. 0. 0. 0.]]\n"
     ]
    }
   ],
   "source": [
    "n = (6,7)\n",
    "n1 = (6,8)\n",
    "print(np.zeros(n1)) # parameter tunnin g"
   ]
  },
  {
   "cell_type": "code",
   "execution_count": 32,
   "id": "896a9cb8-32a0-405d-b4ee-43b311f7a62f",
   "metadata": {},
   "outputs": [
    {
     "name": "stdout",
     "output_type": "stream",
     "text": [
      "[[0 0 0 0 0 0 0]\n",
      " [0 0 0 0 0 0 0]\n",
      " [0 0 0 0 0 0 0]\n",
      " [0 0 0 0 0 0 0]\n",
      " [0 0 0 0 0 0 0]\n",
      " [0 0 0 0 0 0 0]]\n"
     ]
    }
   ],
   "source": [
    "print(np.zeros(n,dtype=int)) ## hypyerparameter tunning "
   ]
  },
  {
   "cell_type": "code",
   "execution_count": 33,
   "id": "5d3694eb-4572-45ac-964d-7a04d3850b03",
   "metadata": {},
   "outputs": [
    {
     "data": {
      "text/plain": [
       "(6, 7)"
      ]
     },
     "execution_count": 33,
     "metadata": {},
     "output_type": "execute_result"
    }
   ],
   "source": [
    "n"
   ]
  },
  {
   "cell_type": "code",
   "execution_count": 34,
   "id": "f0cc71bb-759b-4d8e-93b0-3993f3a91d39",
   "metadata": {},
   "outputs": [
    {
     "data": {
      "text/plain": [
       "(6, 8)"
      ]
     },
     "execution_count": 34,
     "metadata": {},
     "output_type": "execute_result"
    }
   ],
   "source": [
    "n1"
   ]
  },
  {
   "cell_type": "code",
   "execution_count": 35,
   "id": "daa5363c-caf1-46f1-b59d-b5bbad3fe575",
   "metadata": {},
   "outputs": [
    {
     "name": "stdout",
     "output_type": "stream",
     "text": [
      "[[0. 0. 0. 0. 0. 0. 0. 0.]\n",
      " [0. 0. 0. 0. 0. 0. 0. 0.]\n",
      " [0. 0. 0. 0. 0. 0. 0. 0.]\n",
      " [0. 0. 0. 0. 0. 0. 0. 0.]\n",
      " [0. 0. 0. 0. 0. 0. 0. 0.]\n",
      " [0. 0. 0. 0. 0. 0. 0. 0.]]\n"
     ]
    }
   ],
   "source": [
    "print(np.zeros(n1))"
   ]
  },
  {
   "cell_type": "code",
   "execution_count": 36,
   "id": "91843cc2-eed8-4bd7-a613-62eaa2666501",
   "metadata": {},
   "outputs": [
    {
     "data": {
      "text/plain": [
       "array([1., 1., 1.])"
      ]
     },
     "execution_count": 36,
     "metadata": {},
     "output_type": "execute_result"
    }
   ],
   "source": [
    "np.ones(3)"
   ]
  },
  {
   "cell_type": "code",
   "execution_count": 37,
   "id": "da4883f6-72ac-42fa-bef9-8881daf509d0",
   "metadata": {},
   "outputs": [
    {
     "data": {
      "text/plain": [
       "array([1, 1, 1, 1])"
      ]
     },
     "execution_count": 37,
     "metadata": {},
     "output_type": "execute_result"
    }
   ],
   "source": [
    "np.ones(4, dtype=int) "
   ]
  },
  {
   "cell_type": "code",
   "execution_count": 38,
   "id": "3b5b58f0-950f-4095-ba65-d0121e734629",
   "metadata": {},
   "outputs": [
    {
     "data": {
      "text/plain": [
       "array([1., 1., 1., 1.])"
      ]
     },
     "execution_count": 38,
     "metadata": {},
     "output_type": "execute_result"
    }
   ],
   "source": [
    "np.ones(4)"
   ]
  },
  {
   "cell_type": "code",
   "execution_count": 39,
   "id": "5a1a5cab-f09d-40d3-a61f-3cfa7beb9d11",
   "metadata": {},
   "outputs": [
    {
     "data": {
      "text/plain": [
       "(6, 7)"
      ]
     },
     "execution_count": 39,
     "metadata": {},
     "output_type": "execute_result"
    }
   ],
   "source": [
    "n"
   ]
  },
  {
   "cell_type": "code",
   "execution_count": 40,
   "id": "54702d60-b6dd-4b42-bf31-fac792492a85",
   "metadata": {},
   "outputs": [
    {
     "data": {
      "text/plain": [
       "array([[1., 1., 1., 1., 1., 1., 1.],\n",
       "       [1., 1., 1., 1., 1., 1., 1.],\n",
       "       [1., 1., 1., 1., 1., 1., 1.],\n",
       "       [1., 1., 1., 1., 1., 1., 1.],\n",
       "       [1., 1., 1., 1., 1., 1., 1.],\n",
       "       [1., 1., 1., 1., 1., 1., 1.]])"
      ]
     },
     "execution_count": 40,
     "metadata": {},
     "output_type": "execute_result"
    }
   ],
   "source": [
    "np.ones(n)"
   ]
  },
  {
   "cell_type": "code",
   "execution_count": 41,
   "id": "83621c73-c0bd-45fb-9bad-661e3f1f2d41",
   "metadata": {},
   "outputs": [
    {
     "data": {
      "text/plain": [
       "array([[1, 1, 1, 1],\n",
       "       [1, 1, 1, 1],\n",
       "       [1, 1, 1, 1],\n",
       "       [1, 1, 1, 1],\n",
       "       [1, 1, 1, 1]])"
      ]
     },
     "execution_count": 41,
     "metadata": {},
     "output_type": "execute_result"
    }
   ],
   "source": [
    "np.ones((5,4),dtype=int) # by default 5- rows & 4 - columns"
   ]
  },
  {
   "cell_type": "code",
   "execution_count": 42,
   "id": "dc94ee28-2d54-48f5-b88c-1ece946452e6",
   "metadata": {},
   "outputs": [
    {
     "ename": "AttributeError",
     "evalue": "module 'numpy' has no attribute 'twos'",
     "output_type": "error",
     "traceback": [
      "\u001b[31m---------------------------------------------------------------------------\u001b[39m",
      "\u001b[31mAttributeError\u001b[39m                            Traceback (most recent call last)",
      "\u001b[36mCell\u001b[39m\u001b[36m \u001b[39m\u001b[32mIn[42]\u001b[39m\u001b[32m, line 1\u001b[39m\n\u001b[32m----> \u001b[39m\u001b[32m1\u001b[39m \u001b[43mnp\u001b[49m\u001b[43m.\u001b[49m\u001b[43mtwos\u001b[49m((\u001b[32m2\u001b[39m,\u001b[32m3\u001b[39m)) \n",
      "\u001b[36mFile \u001b[39m\u001b[32m~\\AppData\\Roaming\\Python\\Python313\\site-packages\\numpy\\__init__.py:427\u001b[39m, in \u001b[36m__getattr__\u001b[39m\u001b[34m(attr)\u001b[39m\n\u001b[32m    424\u001b[39m     \u001b[38;5;28;01mimport\u001b[39;00m\u001b[38;5;250m \u001b[39m\u001b[34;01mnumpy\u001b[39;00m\u001b[34;01m.\u001b[39;00m\u001b[34;01mchar\u001b[39;00m\u001b[38;5;250m \u001b[39m\u001b[38;5;28;01mas\u001b[39;00m\u001b[38;5;250m \u001b[39m\u001b[34;01mchar\u001b[39;00m\n\u001b[32m    425\u001b[39m     \u001b[38;5;28;01mreturn\u001b[39;00m char.chararray\n\u001b[32m--> \u001b[39m\u001b[32m427\u001b[39m \u001b[38;5;28;01mraise\u001b[39;00m \u001b[38;5;167;01mAttributeError\u001b[39;00m(\u001b[33m\"\u001b[39m\u001b[33mmodule \u001b[39m\u001b[38;5;132;01m{!r}\u001b[39;00m\u001b[33m has no attribute \u001b[39m\u001b[33m\"\u001b[39m\n\u001b[32m    428\u001b[39m                      \u001b[33m\"\u001b[39m\u001b[38;5;132;01m{!r}\u001b[39;00m\u001b[33m\"\u001b[39m.format(\u001b[34m__name__\u001b[39m, attr))\n",
      "\u001b[31mAttributeError\u001b[39m: module 'numpy' has no attribute 'twos'"
     ]
    }
   ],
   "source": [
    "np.twos((2,3)) "
   ]
  },
  {
   "cell_type": "code",
   "execution_count": 43,
   "id": "cc1920be-6568-440e-97c6-cfe69f715dd0",
   "metadata": {},
   "outputs": [
    {
     "ename": "AttributeError",
     "evalue": "module 'numpy' has no attribute 'three'",
     "output_type": "error",
     "traceback": [
      "\u001b[31m---------------------------------------------------------------------------\u001b[39m",
      "\u001b[31mAttributeError\u001b[39m                            Traceback (most recent call last)",
      "\u001b[36mCell\u001b[39m\u001b[36m \u001b[39m\u001b[32mIn[43]\u001b[39m\u001b[32m, line 1\u001b[39m\n\u001b[32m----> \u001b[39m\u001b[32m1\u001b[39m \u001b[43mnp\u001b[49m\u001b[43m.\u001b[49m\u001b[43mthree\u001b[49m(\u001b[32m2\u001b[39m,\u001b[32m3\u001b[39m)\n",
      "\u001b[36mFile \u001b[39m\u001b[32m~\\AppData\\Roaming\\Python\\Python313\\site-packages\\numpy\\__init__.py:427\u001b[39m, in \u001b[36m__getattr__\u001b[39m\u001b[34m(attr)\u001b[39m\n\u001b[32m    424\u001b[39m     \u001b[38;5;28;01mimport\u001b[39;00m\u001b[38;5;250m \u001b[39m\u001b[34;01mnumpy\u001b[39;00m\u001b[34;01m.\u001b[39;00m\u001b[34;01mchar\u001b[39;00m\u001b[38;5;250m \u001b[39m\u001b[38;5;28;01mas\u001b[39;00m\u001b[38;5;250m \u001b[39m\u001b[34;01mchar\u001b[39;00m\n\u001b[32m    425\u001b[39m     \u001b[38;5;28;01mreturn\u001b[39;00m char.chararray\n\u001b[32m--> \u001b[39m\u001b[32m427\u001b[39m \u001b[38;5;28;01mraise\u001b[39;00m \u001b[38;5;167;01mAttributeError\u001b[39;00m(\u001b[33m\"\u001b[39m\u001b[33mmodule \u001b[39m\u001b[38;5;132;01m{!r}\u001b[39;00m\u001b[33m has no attribute \u001b[39m\u001b[33m\"\u001b[39m\n\u001b[32m    428\u001b[39m                      \u001b[33m\"\u001b[39m\u001b[38;5;132;01m{!r}\u001b[39;00m\u001b[33m\"\u001b[39m.format(\u001b[34m__name__\u001b[39m, attr))\n",
      "\u001b[31mAttributeError\u001b[39m: module 'numpy' has no attribute 'three'"
     ]
    }
   ],
   "source": [
    "np.three(2,3)"
   ]
  },
  {
   "cell_type": "code",
   "execution_count": 44,
   "id": "db1f4c54-4cc2-426e-9903-f5835bdf82ba",
   "metadata": {},
   "outputs": [
    {
     "data": {
      "text/plain": [
       "array([1., 1.])"
      ]
     },
     "execution_count": 44,
     "metadata": {},
     "output_type": "execute_result"
    }
   ],
   "source": [
    "np.ones(2)"
   ]
  },
  {
   "cell_type": "code",
   "execution_count": 45,
   "id": "74cf6b52-e94b-436d-9997-2c176fdc9d0c",
   "metadata": {},
   "outputs": [
    {
     "data": {
      "text/plain": [
       "array([[1., 1., 1., 1.],\n",
       "       [1., 1., 1., 1.]])"
      ]
     },
     "execution_count": 45,
     "metadata": {},
     "output_type": "execute_result"
    }
   ],
   "source": [
    "np.ones((2,4)) "
   ]
  },
  {
   "cell_type": "code",
   "execution_count": 46,
   "id": "b0a58c78-21ca-42db-83b2-be5ff6c30314",
   "metadata": {},
   "outputs": [
    {
     "data": {
      "text/plain": [
       "array([[1, 1, 1, 1, 1, 1, 1, 1, 1, 1],\n",
       "       [1, 1, 1, 1, 1, 1, 1, 1, 1, 1],\n",
       "       [1, 1, 1, 1, 1, 1, 1, 1, 1, 1],\n",
       "       [1, 1, 1, 1, 1, 1, 1, 1, 1, 1],\n",
       "       [1, 1, 1, 1, 1, 1, 1, 1, 1, 1],\n",
       "       [1, 1, 1, 1, 1, 1, 1, 1, 1, 1]])"
      ]
     },
     "execution_count": 46,
     "metadata": {},
     "output_type": "execute_result"
    }
   ],
   "source": [
    "np.ones((6,10),dtype = int) "
   ]
  },
  {
   "cell_type": "code",
   "execution_count": 47,
   "id": "f839bad0-a5aa-4fc5-8bdf-51bd1eea48f1",
   "metadata": {},
   "outputs": [
    {
     "ename": "AttributeError",
     "evalue": "module 'numpy' has no attribute 'twos'",
     "output_type": "error",
     "traceback": [
      "\u001b[31m---------------------------------------------------------------------------\u001b[39m",
      "\u001b[31mAttributeError\u001b[39m                            Traceback (most recent call last)",
      "\u001b[36mCell\u001b[39m\u001b[36m \u001b[39m\u001b[32mIn[47]\u001b[39m\u001b[32m, line 1\u001b[39m\n\u001b[32m----> \u001b[39m\u001b[32m1\u001b[39m \u001b[43mnp\u001b[49m\u001b[43m.\u001b[49m\u001b[43mtwos\u001b[49m((\u001b[32m2\u001b[39m,\u001b[32m4\u001b[39m))\n",
      "\u001b[36mFile \u001b[39m\u001b[32m~\\AppData\\Roaming\\Python\\Python313\\site-packages\\numpy\\__init__.py:427\u001b[39m, in \u001b[36m__getattr__\u001b[39m\u001b[34m(attr)\u001b[39m\n\u001b[32m    424\u001b[39m     \u001b[38;5;28;01mimport\u001b[39;00m\u001b[38;5;250m \u001b[39m\u001b[34;01mnumpy\u001b[39;00m\u001b[34;01m.\u001b[39;00m\u001b[34;01mchar\u001b[39;00m\u001b[38;5;250m \u001b[39m\u001b[38;5;28;01mas\u001b[39;00m\u001b[38;5;250m \u001b[39m\u001b[34;01mchar\u001b[39;00m\n\u001b[32m    425\u001b[39m     \u001b[38;5;28;01mreturn\u001b[39;00m char.chararray\n\u001b[32m--> \u001b[39m\u001b[32m427\u001b[39m \u001b[38;5;28;01mraise\u001b[39;00m \u001b[38;5;167;01mAttributeError\u001b[39;00m(\u001b[33m\"\u001b[39m\u001b[33mmodule \u001b[39m\u001b[38;5;132;01m{!r}\u001b[39;00m\u001b[33m has no attribute \u001b[39m\u001b[33m\"\u001b[39m\n\u001b[32m    428\u001b[39m                      \u001b[33m\"\u001b[39m\u001b[38;5;132;01m{!r}\u001b[39;00m\u001b[33m\"\u001b[39m.format(\u001b[34m__name__\u001b[39m, attr))\n",
      "\u001b[31mAttributeError\u001b[39m: module 'numpy' has no attribute 'twos'"
     ]
    }
   ],
   "source": [
    "np.twos((2,4))"
   ]
  },
  {
   "cell_type": "code",
   "execution_count": 48,
   "id": "57029864-9071-4b3d-987b-97fe13de66c2",
   "metadata": {},
   "outputs": [
    {
     "data": {
      "text/plain": [
       "range(0, 5)"
      ]
     },
     "execution_count": 48,
     "metadata": {},
     "output_type": "execute_result"
    }
   ],
   "source": [
    "range(5)"
   ]
  },
  {
   "cell_type": "code",
   "execution_count": 49,
   "id": "ba5d78ba-a82c-423a-ab7f-f1211794f6ac",
   "metadata": {},
   "outputs": [
    {
     "data": {
      "text/plain": [
       "range(0, 5)"
      ]
     },
     "execution_count": 49,
     "metadata": {},
     "output_type": "execute_result"
    }
   ],
   "source": [
    "r = range(5)\n",
    "r"
   ]
  },
  {
   "cell_type": "code",
   "execution_count": 50,
   "id": "9d8a8b32-0bc1-403d-b6c5-85d3a0fd893e",
   "metadata": {},
   "outputs": [
    {
     "name": "stdout",
     "output_type": "stream",
     "text": [
      "0\n",
      "1\n",
      "2\n",
      "3\n",
      "4\n"
     ]
    }
   ],
   "source": [
    "for i in r:\n",
    "    print(i)"
   ]
  },
  {
   "cell_type": "code",
   "execution_count": 51,
   "id": "f2040fed-7867-404c-8278-987447c80806",
   "metadata": {},
   "outputs": [
    {
     "data": {
      "text/plain": [
       "[0, 1, 2, 3, 4]"
      ]
     },
     "execution_count": 51,
     "metadata": {},
     "output_type": "execute_result"
    }
   ],
   "source": [
    "list(range(5))"
   ]
  },
  {
   "cell_type": "code",
   "execution_count": 52,
   "id": "3203aa1a-f67a-49dc-b740-a7ce2ca0a859",
   "metadata": {},
   "outputs": [
    {
     "data": {
      "text/plain": [
       "range(1, 10)"
      ]
     },
     "execution_count": 52,
     "metadata": {},
     "output_type": "execute_result"
    }
   ],
   "source": [
    "range(1,10)"
   ]
  },
  {
   "cell_type": "code",
   "execution_count": 53,
   "id": "1eb38dc9-9470-43e2-8af6-197edcb8079d",
   "metadata": {},
   "outputs": [
    {
     "data": {
      "text/plain": [
       "[1, 2, 3, 4, 5, 6, 7, 8, 9]"
      ]
     },
     "execution_count": 53,
     "metadata": {},
     "output_type": "execute_result"
    }
   ],
   "source": [
    "list(range(1,10))"
   ]
  },
  {
   "cell_type": "code",
   "execution_count": 54,
   "id": "4428440a-d494-4ef2-83ae-116449d91c8d",
   "metadata": {},
   "outputs": [
    {
     "data": {
      "text/plain": [
       "[1, 4, 7]"
      ]
     },
     "execution_count": 54,
     "metadata": {},
     "output_type": "execute_result"
    }
   ],
   "source": [
    "list(range(1,10,3))"
   ]
  },
  {
   "cell_type": "code",
   "execution_count": 55,
   "id": "8b73cf25-6a8b-42b1-b084-48a63224b5e7",
   "metadata": {},
   "outputs": [
    {
     "data": {
      "text/plain": [
       "[0, 1, 2, 3, 4, 5, 6, 7, 8, 9, 10, 11]"
      ]
     },
     "execution_count": 55,
     "metadata": {},
     "output_type": "execute_result"
    }
   ],
   "source": [
    "y = list(range(12))\n",
    "y"
   ]
  },
  {
   "cell_type": "code",
   "execution_count": 56,
   "id": "73f42ce6-7e55-4804-bde5-00ff70d06c42",
   "metadata": {},
   "outputs": [
    {
     "ename": "NameError",
     "evalue": "name 'rand' is not defined",
     "output_type": "error",
     "traceback": [
      "\u001b[31m---------------------------------------------------------------------------\u001b[39m",
      "\u001b[31mNameError\u001b[39m                                 Traceback (most recent call last)",
      "\u001b[36mCell\u001b[39m\u001b[36m \u001b[39m\u001b[32mIn[56]\u001b[39m\u001b[32m, line 1\u001b[39m\n\u001b[32m----> \u001b[39m\u001b[32m1\u001b[39m \u001b[43mrand\u001b[49m(\u001b[32m3\u001b[39m,\u001b[32m2\u001b[39m)\n",
      "\u001b[31mNameError\u001b[39m: name 'rand' is not defined"
     ]
    }
   ],
   "source": [
    "rand(3,2)"
   ]
  },
  {
   "cell_type": "code",
   "execution_count": 57,
   "id": "24d42728-52d2-4609-b421-6e69b69ef922",
   "metadata": {},
   "outputs": [
    {
     "data": {
      "text/plain": [
       "array([0.14434819, 0.90497326, 0.11483213, 0.85688585, 0.72600617])"
      ]
     },
     "execution_count": 57,
     "metadata": {},
     "output_type": "execute_result"
    }
   ],
   "source": [
    "np.random.rand(5)"
   ]
  },
  {
   "cell_type": "code",
   "execution_count": 58,
   "id": "c63619b6-6352-44f0-810e-85ce9708609b",
   "metadata": {},
   "outputs": [
    {
     "ename": "AttributeError",
     "evalue": "module 'numpy' has no attribute 'rand'",
     "output_type": "error",
     "traceback": [
      "\u001b[31m---------------------------------------------------------------------------\u001b[39m",
      "\u001b[31mAttributeError\u001b[39m                            Traceback (most recent call last)",
      "\u001b[36mCell\u001b[39m\u001b[36m \u001b[39m\u001b[32mIn[58]\u001b[39m\u001b[32m, line 1\u001b[39m\n\u001b[32m----> \u001b[39m\u001b[32m1\u001b[39m \u001b[43mnp\u001b[49m\u001b[43m.\u001b[49m\u001b[43mrand\u001b[49m(\u001b[32m4\u001b[39m)\n",
      "\u001b[36mFile \u001b[39m\u001b[32m~\\AppData\\Roaming\\Python\\Python313\\site-packages\\numpy\\__init__.py:427\u001b[39m, in \u001b[36m__getattr__\u001b[39m\u001b[34m(attr)\u001b[39m\n\u001b[32m    424\u001b[39m     \u001b[38;5;28;01mimport\u001b[39;00m\u001b[38;5;250m \u001b[39m\u001b[34;01mnumpy\u001b[39;00m\u001b[34;01m.\u001b[39;00m\u001b[34;01mchar\u001b[39;00m\u001b[38;5;250m \u001b[39m\u001b[38;5;28;01mas\u001b[39;00m\u001b[38;5;250m \u001b[39m\u001b[34;01mchar\u001b[39;00m\n\u001b[32m    425\u001b[39m     \u001b[38;5;28;01mreturn\u001b[39;00m char.chararray\n\u001b[32m--> \u001b[39m\u001b[32m427\u001b[39m \u001b[38;5;28;01mraise\u001b[39;00m \u001b[38;5;167;01mAttributeError\u001b[39;00m(\u001b[33m\"\u001b[39m\u001b[33mmodule \u001b[39m\u001b[38;5;132;01m{!r}\u001b[39;00m\u001b[33m has no attribute \u001b[39m\u001b[33m\"\u001b[39m\n\u001b[32m    428\u001b[39m                      \u001b[33m\"\u001b[39m\u001b[38;5;132;01m{!r}\u001b[39;00m\u001b[33m\"\u001b[39m.format(\u001b[34m__name__\u001b[39m, attr))\n",
      "\u001b[31mAttributeError\u001b[39m: module 'numpy' has no attribute 'rand'"
     ]
    }
   ],
   "source": [
    "np.rand(4)"
   ]
  },
  {
   "cell_type": "code",
   "execution_count": null,
   "id": "6fe377a4-e0a5-43a5-b141-b4125378dab1",
   "metadata": {},
   "outputs": [],
   "source": [
    "np.random.rand(2,4)"
   ]
  },
  {
   "cell_type": "code",
   "execution_count": 59,
   "id": "48a4c11d-04cc-4d56-afca-288a23e1c63b",
   "metadata": {},
   "outputs": [
    {
     "data": {
      "text/plain": [
       "3"
      ]
     },
     "execution_count": 59,
     "metadata": {},
     "output_type": "execute_result"
    }
   ],
   "source": [
    "np.random.randint(2,4)"
   ]
  },
  {
   "cell_type": "code",
   "execution_count": 60,
   "id": "9c3777ce-d684-4841-b337-7da9ec8eff97",
   "metadata": {},
   "outputs": [
    {
     "data": {
      "text/plain": [
       "12"
      ]
     },
     "execution_count": 60,
     "metadata": {},
     "output_type": "execute_result"
    }
   ],
   "source": [
    "np.random.randint(2,20) # 2nd argument is exlusive"
   ]
  },
  {
   "cell_type": "code",
   "execution_count": 61,
   "id": "3f0e4c07-e9b8-4703-8c95-c92ab2602cdf",
   "metadata": {},
   "outputs": [
    {
     "data": {
      "text/plain": [
       "0"
      ]
     },
     "execution_count": 61,
     "metadata": {},
     "output_type": "execute_result"
    }
   ],
   "source": [
    "np.random.randint(0,1) "
   ]
  },
  {
   "cell_type": "code",
   "execution_count": 62,
   "id": "286cacb7-bf9e-4cc9-b21e-0fe2876f9e24",
   "metadata": {},
   "outputs": [
    {
     "data": {
      "text/plain": [
       "array([18, 16, 11, 12, 10], dtype=int32)"
      ]
     },
     "execution_count": 62,
     "metadata": {},
     "output_type": "execute_result"
    }
   ],
   "source": [
    "np.random.randint(10,20,5)"
   ]
  },
  {
   "cell_type": "code",
   "execution_count": 63,
   "id": "c15eb1c9-ad31-4f12-964e-3a5f351cb03a",
   "metadata": {},
   "outputs": [
    {
     "data": {
      "text/plain": [
       "array([5, 2, 5, 2], dtype=int32)"
      ]
     },
     "execution_count": 63,
     "metadata": {},
     "output_type": "execute_result"
    }
   ],
   "source": [
    "np.random.randint(1,6,4)"
   ]
  },
  {
   "cell_type": "code",
   "execution_count": 64,
   "id": "af224322-6b9d-4d7e-bb87-9ef528160894",
   "metadata": {},
   "outputs": [
    {
     "data": {
      "text/plain": [
       "array([0.01651347, 0.33254656, 0.09578971])"
      ]
     },
     "execution_count": 64,
     "metadata": {},
     "output_type": "execute_result"
    }
   ],
   "source": [
    "np.random.rand(3)"
   ]
  },
  {
   "cell_type": "code",
   "execution_count": 65,
   "id": "fdee6c94-aa3e-4ffe-b5ca-4e2aa251413a",
   "metadata": {},
   "outputs": [
    {
     "data": {
      "text/plain": [
       "0"
      ]
     },
     "execution_count": 65,
     "metadata": {},
     "output_type": "execute_result"
    }
   ],
   "source": [
    "np.random.randint(1)"
   ]
  },
  {
   "cell_type": "code",
   "execution_count": 66,
   "id": "6ac73cd4-29a6-418a-9161-85383a1d9685",
   "metadata": {},
   "outputs": [
    {
     "ename": "ValueError",
     "evalue": "low >= high",
     "output_type": "error",
     "traceback": [
      "\u001b[31m---------------------------------------------------------------------------\u001b[39m",
      "\u001b[31mValueError\u001b[39m                                Traceback (most recent call last)",
      "\u001b[36mCell\u001b[39m\u001b[36m \u001b[39m\u001b[32mIn[66]\u001b[39m\u001b[32m, line 1\u001b[39m\n\u001b[32m----> \u001b[39m\u001b[32m1\u001b[39m \u001b[43mnp\u001b[49m\u001b[43m.\u001b[49m\u001b[43mrandom\u001b[49m\u001b[43m.\u001b[49m\u001b[43mrandint\u001b[49m\u001b[43m(\u001b[49m\u001b[32;43m30\u001b[39;49m\u001b[43m,\u001b[49m\u001b[32;43m20\u001b[39;49m\u001b[43m,\u001b[49m\u001b[32;43m10\u001b[39;49m\u001b[43m)\u001b[49m \n",
      "\u001b[36mFile \u001b[39m\u001b[32mnumpy/random/mtrand.pyx:794\u001b[39m, in \u001b[36mnumpy.random.mtrand.RandomState.randint\u001b[39m\u001b[34m()\u001b[39m\n",
      "\u001b[36mFile \u001b[39m\u001b[32mnumpy/random/_bounded_integers.pyx:2885\u001b[39m, in \u001b[36mnumpy.random._bounded_integers._rand_int32\u001b[39m\u001b[34m()\u001b[39m\n",
      "\u001b[31mValueError\u001b[39m: low >= high"
     ]
    }
   ],
   "source": [
    "np.random.randint(30,20,10) "
   ]
  },
  {
   "cell_type": "code",
   "execution_count": 67,
   "id": "60572b16-90d0-40ce-a13d-9ee1da2a37db",
   "metadata": {},
   "outputs": [
    {
     "data": {
      "text/plain": [
       "array([-18, -23, -25,   1,   6,  11, -20,   9, -11,   1], dtype=int32)"
      ]
     },
     "execution_count": 67,
     "metadata": {},
     "output_type": "execute_result"
    }
   ],
   "source": [
    "np.random.randint(-30,20,10) "
   ]
  },
  {
   "cell_type": "code",
   "execution_count": 68,
   "id": "d8615e9d-7d73-4b59-aa6b-ed32209fcf23",
   "metadata": {},
   "outputs": [
    {
     "data": {
      "text/plain": [
       "array([22, 26, 28, 21, 23, 20, 26, 27, 22, 22], dtype=int32)"
      ]
     },
     "execution_count": 68,
     "metadata": {},
     "output_type": "execute_result"
    }
   ],
   "source": [
    "np.random.randint(20,30,10) "
   ]
  },
  {
   "cell_type": "code",
   "execution_count": 69,
   "id": "f13e620f-39d3-40e9-ba9e-f0104a66a9f6",
   "metadata": {},
   "outputs": [
    {
     "data": {
      "text/plain": [
       "6"
      ]
     },
     "execution_count": 69,
     "metadata": {},
     "output_type": "execute_result"
    }
   ],
   "source": [
    "np.random.randint(5,9)  #GET THE VALUE <=1 & >=5"
   ]
  },
  {
   "cell_type": "code",
   "execution_count": 70,
   "id": "f5737b92-42e7-4aee-b4ad-40c42ffab164",
   "metadata": {},
   "outputs": [
    {
     "data": {
      "text/plain": [
       "array([20, 11, 18], dtype=int32)"
      ]
     },
     "execution_count": 70,
     "metadata": {},
     "output_type": "execute_result"
    }
   ],
   "source": [
    "np.random.randint(10,21,3)"
   ]
  },
  {
   "cell_type": "code",
   "execution_count": 71,
   "id": "242212f9-50fa-436e-a5cc-74594991e5d8",
   "metadata": {},
   "outputs": [
    {
     "data": {
      "text/plain": [
       "array([ 6,  6,  7,  3,  2,  2, 10, 10,  5, 11], dtype=int32)"
      ]
     },
     "execution_count": 71,
     "metadata": {},
     "output_type": "execute_result"
    }
   ],
   "source": [
    "np.random.randint(1,12,10)"
   ]
  },
  {
   "cell_type": "code",
   "execution_count": 72,
   "id": "3c21bbc3-7c3e-47bc-a991-48867cc4a103",
   "metadata": {},
   "outputs": [
    {
     "data": {
      "text/plain": [
       "array([[17, 27, 21, 33, 25, 33, 11, 23, 32, 28],\n",
       "       [14, 31, 19, 15, 22, 23, 12, 13, 14, 15],\n",
       "       [12, 14, 38, 20, 32, 37, 21, 38, 12, 30],\n",
       "       [25, 12, 35, 30, 29, 16, 23, 19, 39, 13],\n",
       "       [15, 13, 37, 19, 38, 36, 28, 15, 10, 29],\n",
       "       [34, 36, 27, 20, 26, 28, 33, 38, 29, 31],\n",
       "       [25, 39, 27, 28, 31, 23, 15, 11, 36, 19],\n",
       "       [32, 14, 30, 35, 28, 16, 37, 20, 32, 39],\n",
       "       [35, 29, 25, 22, 20, 22, 10, 34, 11, 28],\n",
       "       [34, 13, 29, 18, 24, 25, 13, 10, 11, 23]], dtype=int32)"
      ]
     },
     "execution_count": 72,
     "metadata": {},
     "output_type": "execute_result"
    }
   ],
   "source": [
    "np.random.randint(10,40,(10,10)) #generre the element 10 -30 with 4*4 mtri"
   ]
  },
  {
   "cell_type": "code",
   "execution_count": 73,
   "id": "5c247b00-82cc-4e72-bedf-4a7c9a3fd85e",
   "metadata": {},
   "outputs": [
    {
     "data": {
      "text/plain": [
       "array([[51, 77,  9, 60, 54, 12, 34, 69, 90, 79, 99, 26],\n",
       "       [56, 11, 87, 35, 35, 76, 48, 83, 50, 55, 98, 43],\n",
       "       [83, 53, 82, 83, 26, 38,  7, 66, 59, 85, 28, 20],\n",
       "       [99, 68, 25, 11, 28, 15, 62, 62, 46, 62, 37, 61],\n",
       "       [97, 16, 98, 15,  6, 80, 25, 56, 87, 65,  2, 75],\n",
       "       [48,  8, 18, 88, 94,  1, 23, 47, 63, 24, 27, 18],\n",
       "       [96,  3,  3, 39, 16, 39, 89, 12, 82, 47, 56, 13],\n",
       "       [96, 17, 42, 76, 74, 14, 14, 69, 68, 96, 81, 46],\n",
       "       [49, 30, 24,  5, 77, 77, 71, 62, 36, 19, 15, 97],\n",
       "       [39, 11, 19, 30, 94, 98, 81, 29, 75, 30, 90, 13],\n",
       "       [47, 48, 19, 19, 49, 71, 55, 12, 39,  9, 24, 60],\n",
       "       [71, 12, 92, 61,  8, 27, 67, 70, 56, 25, 65, 37]], dtype=int32)"
      ]
     },
     "execution_count": 73,
     "metadata": {},
     "output_type": "execute_result"
    }
   ],
   "source": [
    "np.random.randint(1,100,(12,12)) #generre the element 10 -30 with 4*4 mtri"
   ]
  },
  {
   "cell_type": "code",
   "execution_count": 74,
   "id": "98b06de8-bb2b-4af0-ae88-29c1dd20a62e",
   "metadata": {},
   "outputs": [
    {
     "data": {
      "text/plain": [
       "array([[ 1,  2,  3,  4],\n",
       "       [ 5,  6,  7,  8],\n",
       "       [ 9, 10, 11, 12]])"
      ]
     },
     "execution_count": 74,
     "metadata": {},
     "output_type": "execute_result"
    }
   ],
   "source": [
    "np.arange(1,13).reshape(3,4)"
   ]
  },
  {
   "cell_type": "code",
   "execution_count": 75,
   "id": "5a2ce875-236e-4e40-bdd2-49cbbad4491a",
   "metadata": {},
   "outputs": [
    {
     "data": {
      "text/plain": [
       "array([[ 1],\n",
       "       [ 2],\n",
       "       [ 3],\n",
       "       [ 4],\n",
       "       [ 5],\n",
       "       [ 6],\n",
       "       [ 7],\n",
       "       [ 8],\n",
       "       [ 9],\n",
       "       [10],\n",
       "       [11],\n",
       "       [12]])"
      ]
     },
     "execution_count": 75,
     "metadata": {},
     "output_type": "execute_result"
    }
   ],
   "source": [
    "np.arange(1,13).reshape(12, 1)"
   ]
  },
  {
   "cell_type": "code",
   "execution_count": 76,
   "id": "c20f65c3-1321-40a9-9236-1f6f5b78ee4b",
   "metadata": {},
   "outputs": [
    {
     "data": {
      "text/plain": [
       "array([[17, 16, 14, 19],\n",
       "       [16, 14, 14, 19],\n",
       "       [18, 15, 18, 15],\n",
       "       [17, 11, 11, 13],\n",
       "       [19, 18, 16, 14]], dtype=int32)"
      ]
     },
     "execution_count": 76,
     "metadata": {},
     "output_type": "execute_result"
    }
   ],
   "source": [
    "b = np.random.randint(10,20,(5,4))\n",
    "b"
   ]
  },
  {
   "cell_type": "code",
   "execution_count": 77,
   "id": "b8baefe5-f335-4ba0-9456-c2f168997b78",
   "metadata": {},
   "outputs": [
    {
     "data": {
      "text/plain": [
       "numpy.ndarray"
      ]
     },
     "execution_count": 77,
     "metadata": {},
     "output_type": "execute_result"
    }
   ],
   "source": [
    "type(b)"
   ]
  },
  {
   "cell_type": "code",
   "execution_count": 78,
   "id": "ea2237e3-5e4f-4591-bc96-be22375162e6",
   "metadata": {},
   "outputs": [
    {
     "data": {
      "text/plain": [
       "array([[17, 16, 14, 19],\n",
       "       [16, 14, 14, 19],\n",
       "       [18, 15, 18, 15],\n",
       "       [17, 11, 11, 13],\n",
       "       [19, 18, 16, 14]], dtype=int32)"
      ]
     },
     "execution_count": 78,
     "metadata": {},
     "output_type": "execute_result"
    }
   ],
   "source": [
    "b"
   ]
  },
  {
   "cell_type": "code",
   "execution_count": 79,
   "id": "bbece9b5-88f5-43e1-b8b0-0fd072473e12",
   "metadata": {},
   "outputs": [
    {
     "data": {
      "text/plain": [
       "array([[17, 16, 14, 19],\n",
       "       [16, 14, 14, 19],\n",
       "       [18, 15, 18, 15],\n",
       "       [17, 11, 11, 13],\n",
       "       [19, 18, 16, 14]], dtype=int32)"
      ]
     },
     "execution_count": 79,
     "metadata": {},
     "output_type": "execute_result"
    }
   ],
   "source": [
    "b[:]"
   ]
  },
  {
   "cell_type": "code",
   "execution_count": 80,
   "id": "b980b869-4127-42b4-86a2-07703d20a4b5",
   "metadata": {},
   "outputs": [
    {
     "data": {
      "text/plain": [
       "array([[16, 14, 14, 19],\n",
       "       [18, 15, 18, 15]], dtype=int32)"
      ]
     },
     "execution_count": 80,
     "metadata": {},
     "output_type": "execute_result"
    }
   ],
   "source": [
    "b[1:3]"
   ]
  },
  {
   "cell_type": "code",
   "execution_count": 81,
   "id": "d8c5c580-6a9d-47cb-83aa-990280526503",
   "metadata": {},
   "outputs": [
    {
     "data": {
      "text/plain": [
       "array([[17, 16, 14, 19],\n",
       "       [16, 14, 14, 19],\n",
       "       [18, 15, 18, 15],\n",
       "       [17, 11, 11, 13],\n",
       "       [19, 18, 16, 14]], dtype=int32)"
      ]
     },
     "execution_count": 81,
     "metadata": {},
     "output_type": "execute_result"
    }
   ],
   "source": [
    "b"
   ]
  },
  {
   "cell_type": "code",
   "execution_count": 83,
   "id": "0ea801e4-6795-4faa-857b-e098988a59bc",
   "metadata": {},
   "outputs": [
    {
     "data": {
      "text/plain": [
       "np.int32(14)"
      ]
     },
     "execution_count": 83,
     "metadata": {},
     "output_type": "execute_result"
    }
   ],
   "source": [
    "b[1,2]"
   ]
  },
  {
   "cell_type": "code",
   "execution_count": 84,
   "id": "996ec27c-9aad-4ec7-89d4-7391119d2633",
   "metadata": {},
   "outputs": [
    {
     "data": {
      "text/plain": [
       "array([[17, 16, 14, 19],\n",
       "       [16, 14, 14, 19],\n",
       "       [18, 15, 18, 15],\n",
       "       [17, 11, 11, 13],\n",
       "       [19, 18, 16, 14]], dtype=int32)"
      ]
     },
     "execution_count": 84,
     "metadata": {},
     "output_type": "execute_result"
    }
   ],
   "source": [
    "b"
   ]
  },
  {
   "cell_type": "code",
   "execution_count": 85,
   "id": "49d03fbc-2398-43ad-8788-a17d1ac715c5",
   "metadata": {},
   "outputs": [
    {
     "data": {
      "text/plain": [
       "np.int32(19)"
      ]
     },
     "execution_count": 85,
     "metadata": {},
     "output_type": "execute_result"
    }
   ],
   "source": [
    "b[1,3]"
   ]
  },
  {
   "cell_type": "code",
   "execution_count": 86,
   "id": "ef239afb-887e-4c83-b36f-79e8cefb1a8e",
   "metadata": {},
   "outputs": [
    {
     "data": {
      "text/plain": [
       "array([[17, 16, 14, 19],\n",
       "       [16, 14, 14, 19],\n",
       "       [18, 15, 18, 15],\n",
       "       [17, 11, 11, 13],\n",
       "       [19, 18, 16, 14]], dtype=int32)"
      ]
     },
     "execution_count": 86,
     "metadata": {},
     "output_type": "execute_result"
    }
   ],
   "source": [
    "b"
   ]
  },
  {
   "cell_type": "code",
   "execution_count": 88,
   "id": "2c687a9b-02ca-4f77-8457-517c9254f992",
   "metadata": {},
   "outputs": [
    {
     "data": {
      "text/plain": [
       "array([[18, 15, 18, 15]], dtype=int32)"
      ]
     },
     "execution_count": 88,
     "metadata": {},
     "output_type": "execute_result"
    }
   ],
   "source": [
    "b[2:3]"
   ]
  },
  {
   "cell_type": "code",
   "execution_count": 89,
   "id": "5363808f-8d4a-4325-afd7-d818e1a5ece8",
   "metadata": {},
   "outputs": [
    {
     "data": {
      "text/plain": [
       "array([[17, 16, 14, 19],\n",
       "       [16, 14, 14, 19],\n",
       "       [18, 15, 18, 15],\n",
       "       [17, 11, 11, 13],\n",
       "       [19, 18, 16, 14]], dtype=int32)"
      ]
     },
     "execution_count": 89,
     "metadata": {},
     "output_type": "execute_result"
    }
   ],
   "source": [
    "b"
   ]
  },
  {
   "cell_type": "code",
   "execution_count": 91,
   "id": "7462d089-386d-4c55-8c19-ca5b28bc61f6",
   "metadata": {},
   "outputs": [
    {
     "data": {
      "text/plain": [
       "array([[17, 16, 14, 19],\n",
       "       [16, 14, 14, 19]], dtype=int32)"
      ]
     },
     "execution_count": 91,
     "metadata": {},
     "output_type": "execute_result"
    }
   ],
   "source": [
    "b[0:2]"
   ]
  },
  {
   "cell_type": "code",
   "execution_count": 92,
   "id": "581e984e-b98c-40ce-8086-4f318d11c587",
   "metadata": {},
   "outputs": [
    {
     "data": {
      "text/plain": [
       "array([[17, 16, 14, 19],\n",
       "       [16, 14, 14, 19],\n",
       "       [18, 15, 18, 15]], dtype=int32)"
      ]
     },
     "execution_count": 92,
     "metadata": {},
     "output_type": "execute_result"
    }
   ],
   "source": [
    "b[0:-2]"
   ]
  },
  {
   "cell_type": "code",
   "execution_count": 93,
   "id": "8a24706a-fed1-42f6-9e46-77265eec50f2",
   "metadata": {},
   "outputs": [
    {
     "data": {
      "text/plain": [
       "array([[17, 16, 14, 19],\n",
       "       [16, 14, 14, 19],\n",
       "       [18, 15, 18, 15],\n",
       "       [17, 11, 11, 13],\n",
       "       [19, 18, 16, 14]], dtype=int32)"
      ]
     },
     "execution_count": 93,
     "metadata": {},
     "output_type": "execute_result"
    }
   ],
   "source": [
    "b"
   ]
  },
  {
   "cell_type": "code",
   "execution_count": 94,
   "id": "c8ebbc55-76b8-4b91-aa1a-445b8492dc21",
   "metadata": {},
   "outputs": [
    {
     "data": {
      "text/plain": [
       "np.int32(14)"
      ]
     },
     "execution_count": 94,
     "metadata": {},
     "output_type": "execute_result"
    }
   ],
   "source": [
    "b[0,2]"
   ]
  },
  {
   "cell_type": "code",
   "execution_count": 95,
   "id": "8f27cbc5-eb1b-4c53-a049-86a27c304289",
   "metadata": {},
   "outputs": [
    {
     "data": {
      "text/plain": [
       "array([[17, 16, 14, 19],\n",
       "       [16, 14, 14, 19],\n",
       "       [18, 15, 18, 15],\n",
       "       [17, 11, 11, 13],\n",
       "       [19, 18, 16, 14]], dtype=int32)"
      ]
     },
     "execution_count": 95,
     "metadata": {},
     "output_type": "execute_result"
    }
   ],
   "source": [
    "b"
   ]
  },
  {
   "cell_type": "code",
   "execution_count": 96,
   "id": "c58db1ab-ce10-49a5-a8be-7e4a840e3559",
   "metadata": {},
   "outputs": [
    {
     "data": {
      "text/plain": [
       "array([[17, 16, 14, 19],\n",
       "       [16, 14, 14, 19]], dtype=int32)"
      ]
     },
     "execution_count": 96,
     "metadata": {},
     "output_type": "execute_result"
    }
   ],
   "source": [
    "b[-5:-3]"
   ]
  },
  {
   "cell_type": "code",
   "execution_count": 97,
   "id": "4787b369-7b46-47f9-a764-b7a3796f7990",
   "metadata": {},
   "outputs": [
    {
     "data": {
      "text/plain": [
       "array([[17, 16, 14, 19],\n",
       "       [16, 14, 14, 19],\n",
       "       [18, 15, 18, 15],\n",
       "       [17, 11, 11, 13],\n",
       "       [19, 18, 16, 14]], dtype=int32)"
      ]
     },
     "execution_count": 97,
     "metadata": {},
     "output_type": "execute_result"
    }
   ],
   "source": [
    "b"
   ]
  },
  {
   "cell_type": "code",
   "execution_count": 98,
   "id": "39a7e46e-8697-42a7-a12e-34551dfd465c",
   "metadata": {},
   "outputs": [
    {
     "data": {
      "text/plain": [
       "array([[16, 14, 14, 19]], dtype=int32)"
      ]
     },
     "execution_count": 98,
     "metadata": {},
     "output_type": "execute_result"
    }
   ],
   "source": [
    "b[-4:2]"
   ]
  },
  {
   "cell_type": "code",
   "execution_count": 99,
   "id": "c50e826d-b291-49c0-969e-6cada4a0e4c7",
   "metadata": {},
   "outputs": [
    {
     "data": {
      "text/plain": [
       "array([[16, 17, 14, 12],\n",
       "       [18, 18, 11, 13],\n",
       "       [15, 11, 12, 15],\n",
       "       [17, 10, 11, 13]], dtype=int32)"
      ]
     },
     "execution_count": 99,
     "metadata": {},
     "output_type": "execute_result"
    }
   ],
   "source": [
    "np.random.randint(10,20,(4,4))"
   ]
  },
  {
   "cell_type": "code",
   "execution_count": 100,
   "id": "31520f52-6ddd-49e0-a778-bd735f41b765",
   "metadata": {},
   "outputs": [
    {
     "data": {
      "text/plain": [
       "array([[17, 16, 14, 19],\n",
       "       [16, 14, 14, 19],\n",
       "       [18, 15, 18, 15],\n",
       "       [17, 11, 11, 13],\n",
       "       [19, 18, 16, 14]], dtype=int32)"
      ]
     },
     "execution_count": 100,
     "metadata": {},
     "output_type": "execute_result"
    }
   ],
   "source": [
    "b"
   ]
  },
  {
   "cell_type": "code",
   "execution_count": 101,
   "id": "3cf36122-fe0e-46fd-bc04-bdf63616c337",
   "metadata": {},
   "outputs": [
    {
     "data": {
      "text/plain": [
       "np.int32(14)"
      ]
     },
     "execution_count": 101,
     "metadata": {},
     "output_type": "execute_result"
    }
   ],
   "source": [
    "b[-4,-2]"
   ]
  },
  {
   "cell_type": "code",
   "execution_count": 102,
   "id": "0f72f812-78d4-408f-a2eb-9f150c8ebb40",
   "metadata": {},
   "outputs": [
    {
     "data": {
      "text/plain": [
       "array([[17, 16, 14, 19],\n",
       "       [16, 14, 14, 19],\n",
       "       [18, 15, 18, 15],\n",
       "       [17, 11, 11, 13],\n",
       "       [19, 18, 16, 14]], dtype=int32)"
      ]
     },
     "execution_count": 102,
     "metadata": {},
     "output_type": "execute_result"
    }
   ],
   "source": [
    "b"
   ]
  },
  {
   "cell_type": "code",
   "execution_count": 103,
   "id": "dfccad9f-2b77-4df7-b319-7b13d151fcfe",
   "metadata": {},
   "outputs": [
    {
     "data": {
      "text/plain": [
       "array([[16, 14, 14, 19]], dtype=int32)"
      ]
     },
     "execution_count": 103,
     "metadata": {},
     "output_type": "execute_result"
    }
   ],
   "source": [
    "b[-4:2] "
   ]
  },
  {
   "cell_type": "code",
   "execution_count": 104,
   "id": "6604ce6b-eec8-4c9e-8b68-72c2142e8180",
   "metadata": {},
   "outputs": [
    {
     "data": {
      "text/plain": [
       "array([[17, 16, 14, 19],\n",
       "       [16, 14, 14, 19],\n",
       "       [18, 15, 18, 15],\n",
       "       [17, 11, 11, 13],\n",
       "       [19, 18, 16, 14]], dtype=int32)"
      ]
     },
     "execution_count": 104,
     "metadata": {},
     "output_type": "execute_result"
    }
   ],
   "source": [
    "b[:]"
   ]
  },
  {
   "cell_type": "markdown",
   "id": "e384403a-4c10-4cae-9a43-bbf445595cab",
   "metadata": {},
   "source": [
    "# Operations"
   ]
  },
  {
   "cell_type": "code",
   "execution_count": 105,
   "id": "f88c0489-2c06-4a49-9847-aa6b45782023",
   "metadata": {},
   "outputs": [
    {
     "data": {
      "text/plain": [
       "array([16, 17, 13, 18, 18, 13, 15, 13, 11, 11], dtype=int32)"
      ]
     },
     "execution_count": 105,
     "metadata": {},
     "output_type": "execute_result"
    }
   ],
   "source": [
    "a = np.random.randint(10,20,10)\n",
    "a"
   ]
  },
  {
   "cell_type": "code",
   "execution_count": 106,
   "id": "9b89bc9e-a0da-498e-a5ec-9f6136dea6d1",
   "metadata": {},
   "outputs": [
    {
     "data": {
      "text/plain": [
       "3165552580656"
      ]
     },
     "execution_count": 106,
     "metadata": {},
     "output_type": "execute_result"
    }
   ],
   "source": [
    "id(a)"
   ]
  },
  {
   "cell_type": "code",
   "execution_count": 107,
   "id": "28ec82b7-7f2a-4d8d-a03c-d06687f54a7b",
   "metadata": {},
   "outputs": [
    {
     "data": {
      "text/plain": [
       "array([0, 1, 2, 3, 4, 5])"
      ]
     },
     "execution_count": 107,
     "metadata": {},
     "output_type": "execute_result"
    }
   ],
   "source": [
    "arr"
   ]
  },
  {
   "cell_type": "code",
   "execution_count": 108,
   "id": "bfe1e6de-5755-4596-9482-1e150ac38975",
   "metadata": {},
   "outputs": [],
   "source": [
    "arr2 = np.random.randint(0,100,(10,10))"
   ]
  },
  {
   "cell_type": "code",
   "execution_count": 109,
   "id": "d953a403-c38c-4bd6-a62e-4f298d911ade",
   "metadata": {},
   "outputs": [
    {
     "data": {
      "text/plain": [
       "array([[68, 75, 91,  0, 14, 56, 81,  8, 74, 32],\n",
       "       [12, 66, 78, 13, 12, 64,  7, 22, 79, 36],\n",
       "       [38, 38, 95, 23, 38, 98, 42, 83, 82, 51],\n",
       "       [99, 10,  2, 22, 65, 39, 29, 10, 92, 91],\n",
       "       [12, 74, 34, 12, 36, 11, 61, 22,  6, 25],\n",
       "       [13, 35,  7, 31, 28, 63, 75,  0, 20, 34],\n",
       "       [27, 86, 15, 98, 91, 34, 45, 17, 61, 62],\n",
       "       [22, 53, 81, 59, 66, 95, 51, 36, 45, 26],\n",
       "       [84, 89, 80, 96, 31, 33, 98, 47, 57, 74],\n",
       "       [64, 10, 80, 13, 79,  5, 46, 25, 16, 31]], dtype=int32)"
      ]
     },
     "execution_count": 109,
     "metadata": {},
     "output_type": "execute_result"
    }
   ],
   "source": [
    "arr2"
   ]
  },
  {
   "cell_type": "code",
   "execution_count": 112,
   "id": "62b815d0-8d40-43ff-84bd-55ebc12dd0b8",
   "metadata": {},
   "outputs": [
    {
     "data": {
      "text/plain": [
       "array([0, 1, 2, 3, 4, 5])"
      ]
     },
     "execution_count": 112,
     "metadata": {},
     "output_type": "execute_result"
    }
   ],
   "source": [
    "arr[:]"
   ]
  },
  {
   "cell_type": "code",
   "execution_count": 113,
   "id": "10aadbf4-39d5-4a41-831a-2eafbbe502a3",
   "metadata": {},
   "outputs": [
    {
     "data": {
      "text/plain": [
       "array([0, 1, 2, 3, 4, 5])"
      ]
     },
     "execution_count": 113,
     "metadata": {},
     "output_type": "execute_result"
    }
   ],
   "source": [
    "arr"
   ]
  },
  {
   "cell_type": "code",
   "execution_count": 114,
   "id": "a38d6a1c-01ae-46a9-91ae-98029f09ecfb",
   "metadata": {},
   "outputs": [
    {
     "data": {
      "text/plain": [
       "array([0, 1, 2, 3])"
      ]
     },
     "execution_count": 114,
     "metadata": {},
     "output_type": "execute_result"
    }
   ],
   "source": [
    "arr[:4] "
   ]
  },
  {
   "cell_type": "code",
   "execution_count": 115,
   "id": "10f3ac06-b412-4735-a5a0-952ce2ab0cbf",
   "metadata": {},
   "outputs": [
    {
     "data": {
      "text/plain": [
       "array([[68, 75, 91,  0, 14, 56, 81,  8, 74, 32],\n",
       "       [12, 66, 78, 13, 12, 64,  7, 22, 79, 36],\n",
       "       [38, 38, 95, 23, 38, 98, 42, 83, 82, 51],\n",
       "       [99, 10,  2, 22, 65, 39, 29, 10, 92, 91],\n",
       "       [12, 74, 34, 12, 36, 11, 61, 22,  6, 25],\n",
       "       [13, 35,  7, 31, 28, 63, 75,  0, 20, 34],\n",
       "       [27, 86, 15, 98, 91, 34, 45, 17, 61, 62],\n",
       "       [22, 53, 81, 59, 66, 95, 51, 36, 45, 26],\n",
       "       [84, 89, 80, 96, 31, 33, 98, 47, 57, 74],\n",
       "       [64, 10, 80, 13, 79,  5, 46, 25, 16, 31]], dtype=int32)"
      ]
     },
     "execution_count": 115,
     "metadata": {},
     "output_type": "execute_result"
    }
   ],
   "source": [
    "arr2[:]"
   ]
  },
  {
   "cell_type": "code",
   "execution_count": 116,
   "id": "cd415dea-6771-495c-a9e4-5a9fad5b534b",
   "metadata": {},
   "outputs": [
    {
     "data": {
      "text/plain": [
       "array([[68, 75, 91,  0, 14, 56, 81,  8, 74, 32],\n",
       "       [12, 66, 78, 13, 12, 64,  7, 22, 79, 36],\n",
       "       [38, 38, 95, 23, 38, 98, 42, 83, 82, 51],\n",
       "       [99, 10,  2, 22, 65, 39, 29, 10, 92, 91],\n",
       "       [12, 74, 34, 12, 36, 11, 61, 22,  6, 25]], dtype=int32)"
      ]
     },
     "execution_count": 116,
     "metadata": {},
     "output_type": "execute_result"
    }
   ],
   "source": [
    "arr2[0:5] "
   ]
  },
  {
   "cell_type": "code",
   "execution_count": 117,
   "id": "915cd30a-5aa8-4dd4-91f9-5635b670ce1b",
   "metadata": {},
   "outputs": [
    {
     "data": {
      "text/plain": [
       "array([[68, 75, 91,  0, 14, 56, 81,  8, 74, 32],\n",
       "       [12, 66, 78, 13, 12, 64,  7, 22, 79, 36],\n",
       "       [38, 38, 95, 23, 38, 98, 42, 83, 82, 51],\n",
       "       [99, 10,  2, 22, 65, 39, 29, 10, 92, 91],\n",
       "       [12, 74, 34, 12, 36, 11, 61, 22,  6, 25],\n",
       "       [13, 35,  7, 31, 28, 63, 75,  0, 20, 34],\n",
       "       [27, 86, 15, 98, 91, 34, 45, 17, 61, 62],\n",
       "       [22, 53, 81, 59, 66, 95, 51, 36, 45, 26],\n",
       "       [84, 89, 80, 96, 31, 33, 98, 47, 57, 74],\n",
       "       [64, 10, 80, 13, 79,  5, 46, 25, 16, 31]], dtype=int32)"
      ]
     },
     "execution_count": 117,
     "metadata": {},
     "output_type": "execute_result"
    }
   ],
   "source": [
    "arr2"
   ]
  },
  {
   "cell_type": "code",
   "execution_count": 118,
   "id": "5a6b20ef-985a-419d-ac68-88571acde680",
   "metadata": {},
   "outputs": [
    {
     "data": {
      "text/plain": [
       "np.int32(12)"
      ]
     },
     "execution_count": 118,
     "metadata": {},
     "output_type": "execute_result"
    }
   ],
   "source": [
    "arr2[1,4] "
   ]
  },
  {
   "cell_type": "code",
   "execution_count": 119,
   "id": "57bfc426-c445-4468-aa4f-cabbf3a921ea",
   "metadata": {},
   "outputs": [
    {
     "data": {
      "text/plain": [
       "array([[68, 75, 91,  0, 14, 56, 81,  8, 74, 32],\n",
       "       [12, 66, 78, 13, 12, 64,  7, 22, 79, 36],\n",
       "       [38, 38, 95, 23, 38, 98, 42, 83, 82, 51],\n",
       "       [99, 10,  2, 22, 65, 39, 29, 10, 92, 91],\n",
       "       [12, 74, 34, 12, 36, 11, 61, 22,  6, 25],\n",
       "       [13, 35,  7, 31, 28, 63, 75,  0, 20, 34],\n",
       "       [27, 86, 15, 98, 91, 34, 45, 17, 61, 62],\n",
       "       [22, 53, 81, 59, 66, 95, 51, 36, 45, 26],\n",
       "       [84, 89, 80, 96, 31, 33, 98, 47, 57, 74],\n",
       "       [64, 10, 80, 13, 79,  5, 46, 25, 16, 31]], dtype=int32)"
      ]
     },
     "execution_count": 119,
     "metadata": {},
     "output_type": "execute_result"
    }
   ],
   "source": [
    "arr2"
   ]
  },
  {
   "cell_type": "code",
   "execution_count": 120,
   "id": "8bf07571-c8ff-4483-bbe6-ce857b08ccb2",
   "metadata": {},
   "outputs": [
    {
     "data": {
      "text/plain": [
       "np.int32(63)"
      ]
     },
     "execution_count": 120,
     "metadata": {},
     "output_type": "execute_result"
    }
   ],
   "source": [
    "arr2[-5,5] "
   ]
  },
  {
   "cell_type": "code",
   "execution_count": 121,
   "id": "64598874-1847-4c6c-9e29-120ceca51916",
   "metadata": {},
   "outputs": [
    {
     "data": {
      "text/plain": [
       "np.int32(63)"
      ]
     },
     "execution_count": 121,
     "metadata": {},
     "output_type": "execute_result"
    }
   ],
   "source": [
    "arr2[-5,-5] "
   ]
  },
  {
   "cell_type": "code",
   "execution_count": 122,
   "id": "eea17ae9-77bb-4178-bb4f-65182b54708a",
   "metadata": {},
   "outputs": [
    {
     "data": {
      "text/plain": [
       "array([[68, 75, 91,  0, 14, 56, 81,  8, 74, 32],\n",
       "       [12, 66, 78, 13, 12, 64,  7, 22, 79, 36],\n",
       "       [38, 38, 95, 23, 38, 98, 42, 83, 82, 51],\n",
       "       [99, 10,  2, 22, 65, 39, 29, 10, 92, 91],\n",
       "       [12, 74, 34, 12, 36, 11, 61, 22,  6, 25],\n",
       "       [13, 35,  7, 31, 28, 63, 75,  0, 20, 34],\n",
       "       [27, 86, 15, 98, 91, 34, 45, 17, 61, 62],\n",
       "       [22, 53, 81, 59, 66, 95, 51, 36, 45, 26],\n",
       "       [84, 89, 80, 96, 31, 33, 98, 47, 57, 74],\n",
       "       [64, 10, 80, 13, 79,  5, 46, 25, 16, 31]], dtype=int32)"
      ]
     },
     "execution_count": 122,
     "metadata": {},
     "output_type": "execute_result"
    }
   ],
   "source": [
    "arr2"
   ]
  },
  {
   "cell_type": "code",
   "execution_count": 123,
   "id": "38907e8d-2ad4-4ee8-a5d2-abb43d27d240",
   "metadata": {},
   "outputs": [
    {
     "data": {
      "text/plain": [
       "np.int32(16)"
      ]
     },
     "execution_count": 123,
     "metadata": {},
     "output_type": "execute_result"
    }
   ],
   "source": [
    "arr2[-1,-2]"
   ]
  },
  {
   "cell_type": "code",
   "execution_count": 124,
   "id": "5b83bd17-ca73-4aa8-80db-ae1a2569a191",
   "metadata": {},
   "outputs": [
    {
     "data": {
      "text/plain": [
       "array([[68, 75, 91,  0, 14, 56, 81,  8, 74, 32],\n",
       "       [12, 66, 78, 13, 12, 64,  7, 22, 79, 36],\n",
       "       [38, 38, 95, 23, 38, 98, 42, 83, 82, 51],\n",
       "       [99, 10,  2, 22, 65, 39, 29, 10, 92, 91],\n",
       "       [12, 74, 34, 12, 36, 11, 61, 22,  6, 25],\n",
       "       [13, 35,  7, 31, 28, 63, 75,  0, 20, 34],\n",
       "       [27, 86, 15, 98, 91, 34, 45, 17, 61, 62],\n",
       "       [22, 53, 81, 59, 66, 95, 51, 36, 45, 26],\n",
       "       [84, 89, 80, 96, 31, 33, 98, 47, 57, 74],\n",
       "       [64, 10, 80, 13, 79,  5, 46, 25, 16, 31]], dtype=int32)"
      ]
     },
     "execution_count": 124,
     "metadata": {},
     "output_type": "execute_result"
    }
   ],
   "source": [
    "arr2"
   ]
  },
  {
   "cell_type": "code",
   "execution_count": 125,
   "id": "afc62e36-762c-432d-bef1-3e5a5fa081c2",
   "metadata": {},
   "outputs": [
    {
     "data": {
      "text/plain": [
       "array([[64, 10, 80, 13, 79,  5, 46, 25, 16, 31],\n",
       "       [84, 89, 80, 96, 31, 33, 98, 47, 57, 74],\n",
       "       [22, 53, 81, 59, 66, 95, 51, 36, 45, 26],\n",
       "       [27, 86, 15, 98, 91, 34, 45, 17, 61, 62],\n",
       "       [13, 35,  7, 31, 28, 63, 75,  0, 20, 34],\n",
       "       [12, 74, 34, 12, 36, 11, 61, 22,  6, 25],\n",
       "       [99, 10,  2, 22, 65, 39, 29, 10, 92, 91],\n",
       "       [38, 38, 95, 23, 38, 98, 42, 83, 82, 51],\n",
       "       [12, 66, 78, 13, 12, 64,  7, 22, 79, 36],\n",
       "       [68, 75, 91,  0, 14, 56, 81,  8, 74, 32]], dtype=int32)"
      ]
     },
     "execution_count": 125,
     "metadata": {},
     "output_type": "execute_result"
    }
   ],
   "source": [
    "arr2[::-1] # reverse "
   ]
  },
  {
   "cell_type": "code",
   "execution_count": 126,
   "id": "57a2052c-e017-46e1-97f3-ae729a8fbba2",
   "metadata": {},
   "outputs": [
    {
     "data": {
      "text/plain": [
       "array([[68, 75, 91,  0, 14, 56, 81,  8, 74, 32],\n",
       "       [12, 66, 78, 13, 12, 64,  7, 22, 79, 36],\n",
       "       [38, 38, 95, 23, 38, 98, 42, 83, 82, 51],\n",
       "       [99, 10,  2, 22, 65, 39, 29, 10, 92, 91],\n",
       "       [12, 74, 34, 12, 36, 11, 61, 22,  6, 25],\n",
       "       [13, 35,  7, 31, 28, 63, 75,  0, 20, 34],\n",
       "       [27, 86, 15, 98, 91, 34, 45, 17, 61, 62],\n",
       "       [22, 53, 81, 59, 66, 95, 51, 36, 45, 26],\n",
       "       [84, 89, 80, 96, 31, 33, 98, 47, 57, 74],\n",
       "       [64, 10, 80, 13, 79,  5, 46, 25, 16, 31]], dtype=int32)"
      ]
     },
     "execution_count": 126,
     "metadata": {},
     "output_type": "execute_result"
    }
   ],
   "source": [
    "arr2"
   ]
  },
  {
   "cell_type": "code",
   "execution_count": 128,
   "id": "b9972b92-6df3-48c4-9b74-fdd29a292508",
   "metadata": {},
   "outputs": [
    {
     "data": {
      "text/plain": [
       "array([[64, 10, 80, 13, 79,  5, 46, 25, 16, 31],\n",
       "       [22, 53, 81, 59, 66, 95, 51, 36, 45, 26],\n",
       "       [13, 35,  7, 31, 28, 63, 75,  0, 20, 34],\n",
       "       [99, 10,  2, 22, 65, 39, 29, 10, 92, 91],\n",
       "       [12, 66, 78, 13, 12, 64,  7, 22, 79, 36]], dtype=int32)"
      ]
     },
     "execution_count": 128,
     "metadata": {},
     "output_type": "execute_result"
    }
   ],
   "source": [
    "arr2[::-2]"
   ]
  },
  {
   "cell_type": "code",
   "execution_count": 129,
   "id": "77001a64-6d27-41fc-853e-641ee7208e3f",
   "metadata": {},
   "outputs": [
    {
     "data": {
      "text/plain": [
       "array([[68, 75, 91,  0, 14, 56, 81,  8, 74, 32],\n",
       "       [12, 66, 78, 13, 12, 64,  7, 22, 79, 36],\n",
       "       [38, 38, 95, 23, 38, 98, 42, 83, 82, 51],\n",
       "       [99, 10,  2, 22, 65, 39, 29, 10, 92, 91],\n",
       "       [12, 74, 34, 12, 36, 11, 61, 22,  6, 25],\n",
       "       [13, 35,  7, 31, 28, 63, 75,  0, 20, 34],\n",
       "       [27, 86, 15, 98, 91, 34, 45, 17, 61, 62],\n",
       "       [22, 53, 81, 59, 66, 95, 51, 36, 45, 26],\n",
       "       [84, 89, 80, 96, 31, 33, 98, 47, 57, 74],\n",
       "       [64, 10, 80, 13, 79,  5, 46, 25, 16, 31]], dtype=int32)"
      ]
     },
     "execution_count": 129,
     "metadata": {},
     "output_type": "execute_result"
    }
   ],
   "source": [
    "arr2"
   ]
  },
  {
   "cell_type": "code",
   "execution_count": 131,
   "id": "aa57e674-23e4-4041-9823-9fda6933e600",
   "metadata": {},
   "outputs": [
    {
     "data": {
      "text/plain": [
       "array([[64, 10, 80, 13, 79,  5, 46, 25, 16, 31],\n",
       "       [27, 86, 15, 98, 91, 34, 45, 17, 61, 62],\n",
       "       [99, 10,  2, 22, 65, 39, 29, 10, 92, 91],\n",
       "       [68, 75, 91,  0, 14, 56, 81,  8, 74, 32]], dtype=int32)"
      ]
     },
     "execution_count": 131,
     "metadata": {},
     "output_type": "execute_result"
    }
   ],
   "source": [
    "arr2[::-3]"
   ]
  },
  {
   "cell_type": "code",
   "execution_count": 132,
   "id": "53b9e1ff-11b1-4438-806a-76e471a7d2e2",
   "metadata": {},
   "outputs": [
    {
     "data": {
      "text/plain": [
       "array([[68, 75, 91,  0, 14, 56, 81,  8, 74, 32],\n",
       "       [12, 66, 78, 13, 12, 64,  7, 22, 79, 36],\n",
       "       [38, 38, 95, 23, 38, 98, 42, 83, 82, 51],\n",
       "       [99, 10,  2, 22, 65, 39, 29, 10, 92, 91],\n",
       "       [12, 74, 34, 12, 36, 11, 61, 22,  6, 25],\n",
       "       [13, 35,  7, 31, 28, 63, 75,  0, 20, 34],\n",
       "       [27, 86, 15, 98, 91, 34, 45, 17, 61, 62],\n",
       "       [22, 53, 81, 59, 66, 95, 51, 36, 45, 26],\n",
       "       [84, 89, 80, 96, 31, 33, 98, 47, 57, 74],\n",
       "       [64, 10, 80, 13, 79,  5, 46, 25, 16, 31]], dtype=int32)"
      ]
     },
     "execution_count": 132,
     "metadata": {},
     "output_type": "execute_result"
    }
   ],
   "source": [
    "arr2"
   ]
  },
  {
   "cell_type": "code",
   "execution_count": 133,
   "id": "24e6da84-d309-4308-86f4-949c1e62251a",
   "metadata": {},
   "outputs": [
    {
     "data": {
      "text/plain": [
       "array([[68, 75, 91,  0, 14, 56, 81,  8, 74, 32],\n",
       "       [12, 66, 78, 13, 12, 64,  7, 22, 79, 36],\n",
       "       [38, 38, 95, 23, 38, 98, 42, 83, 82, 51],\n",
       "       [99, 10,  2, 22, 65, 39, 29, 10, 92, 91],\n",
       "       [12, 74, 34, 12, 36, 11, 61, 22,  6, 25],\n",
       "       [13, 35,  7, 31, 28, 63, 75,  0, 20, 34],\n",
       "       [27, 86, 15, 98, 91, 34, 45, 17, 61, 62]], dtype=int32)"
      ]
     },
     "execution_count": 133,
     "metadata": {},
     "output_type": "execute_result"
    }
   ],
   "source": [
    "arr2[:-3]"
   ]
  },
  {
   "cell_type": "code",
   "execution_count": 134,
   "id": "4823e93c-b5b2-4000-a6b8-2f2d7e23141d",
   "metadata": {},
   "outputs": [
    {
     "data": {
      "text/plain": [
       "array([0, 1, 2, 3, 4, 5])"
      ]
     },
     "execution_count": 134,
     "metadata": {},
     "output_type": "execute_result"
    }
   ],
   "source": [
    "arr"
   ]
  },
  {
   "cell_type": "code",
   "execution_count": 135,
   "id": "c1ec2d83-e4c3-40e9-bd3e-091181576da4",
   "metadata": {},
   "outputs": [
    {
     "data": {
      "text/plain": [
       "np.int64(5)"
      ]
     },
     "execution_count": 135,
     "metadata": {},
     "output_type": "execute_result"
    }
   ],
   "source": [
    "arr.max()"
   ]
  },
  {
   "cell_type": "code",
   "execution_count": 136,
   "id": "b9e416aa-1efc-4727-8155-c40402f121cd",
   "metadata": {},
   "outputs": [
    {
     "data": {
      "text/plain": [
       "np.int64(0)"
      ]
     },
     "execution_count": 136,
     "metadata": {},
     "output_type": "execute_result"
    }
   ],
   "source": [
    "arr.min()"
   ]
  },
  {
   "cell_type": "code",
   "execution_count": 137,
   "id": "ad9f91cd-57e1-44cb-b768-393732999421",
   "metadata": {},
   "outputs": [
    {
     "data": {
      "text/plain": [
       "np.int32(99)"
      ]
     },
     "execution_count": 137,
     "metadata": {},
     "output_type": "execute_result"
    }
   ],
   "source": [
    "arr2.max()"
   ]
  },
  {
   "cell_type": "code",
   "execution_count": 138,
   "id": "6812f373-2ed3-4d55-9ef4-40b73f9bea9c",
   "metadata": {},
   "outputs": [
    {
     "data": {
      "text/plain": [
       "np.int32(0)"
      ]
     },
     "execution_count": 138,
     "metadata": {},
     "output_type": "execute_result"
    }
   ],
   "source": [
    "arr2.min()"
   ]
  },
  {
   "cell_type": "code",
   "execution_count": 139,
   "id": "87b8fd2a-9f4a-4d48-a486-cdac3509e7f6",
   "metadata": {},
   "outputs": [
    {
     "data": {
      "text/plain": [
       "array([0, 1, 2, 3, 4, 5])"
      ]
     },
     "execution_count": 139,
     "metadata": {},
     "output_type": "execute_result"
    }
   ],
   "source": [
    "arr"
   ]
  },
  {
   "cell_type": "code",
   "execution_count": 140,
   "id": "abe3ec9b-4d27-4bac-b371-8e7eb2b2f508",
   "metadata": {},
   "outputs": [
    {
     "data": {
      "text/plain": [
       "np.float64(2.5)"
      ]
     },
     "execution_count": 140,
     "metadata": {},
     "output_type": "execute_result"
    }
   ],
   "source": [
    "arr.mean()"
   ]
  },
  {
   "cell_type": "code",
   "execution_count": 141,
   "id": "ed000a8e-5d69-4ba1-87fa-42060429c5d5",
   "metadata": {},
   "outputs": [
    {
     "ename": "AttributeError",
     "evalue": "'numpy.ndarray' object has no attribute 'median'",
     "output_type": "error",
     "traceback": [
      "\u001b[31m---------------------------------------------------------------------------\u001b[39m",
      "\u001b[31mAttributeError\u001b[39m                            Traceback (most recent call last)",
      "\u001b[36mCell\u001b[39m\u001b[36m \u001b[39m\u001b[32mIn[141]\u001b[39m\u001b[32m, line 1\u001b[39m\n\u001b[32m----> \u001b[39m\u001b[32m1\u001b[39m \u001b[43marr\u001b[49m\u001b[43m.\u001b[49m\u001b[43mmedian\u001b[49m()\n",
      "\u001b[31mAttributeError\u001b[39m: 'numpy.ndarray' object has no attribute 'median'"
     ]
    }
   ],
   "source": [
    "arr.median()"
   ]
  },
  {
   "cell_type": "code",
   "execution_count": 142,
   "id": "4c09e30d-772b-4f2a-af2b-d28f166508c2",
   "metadata": {},
   "outputs": [
    {
     "data": {
      "text/plain": [
       "np.float64(3.0)"
      ]
     },
     "execution_count": 142,
     "metadata": {},
     "output_type": "execute_result"
    }
   ],
   "source": [
    "from numpy import *\n",
    "a = array([1,2,3,4,9])\n",
    "median(a)"
   ]
  },
  {
   "cell_type": "markdown",
   "id": "109aff4e-c55f-4925-9e76-88d525fad6f1",
   "metadata": {},
   "source": [
    "# Without work on import* can you please find the median, mode"
   ]
  },
  {
   "cell_type": "code",
   "execution_count": 143,
   "id": "a53fa802-dd64-4078-ac11-7d8b3b7c7f02",
   "metadata": {},
   "outputs": [
    {
     "data": {
      "text/plain": [
       "array([0, 1, 2, 3, 4, 5])"
      ]
     },
     "execution_count": 143,
     "metadata": {},
     "output_type": "execute_result"
    }
   ],
   "source": [
    "arr"
   ]
  },
  {
   "cell_type": "code",
   "execution_count": 144,
   "id": "d1d5587e-0109-434a-80e2-a5d5710edab3",
   "metadata": {},
   "outputs": [
    {
     "data": {
      "text/plain": [
       "array([[0, 1],\n",
       "       [2, 3],\n",
       "       [4, 5]])"
      ]
     },
     "execution_count": 144,
     "metadata": {},
     "output_type": "execute_result"
    }
   ],
   "source": [
    "arr.reshape(3,2)"
   ]
  },
  {
   "cell_type": "code",
   "execution_count": 145,
   "id": "bb51d566-7481-4986-aa9d-88e99ced8b52",
   "metadata": {},
   "outputs": [
    {
     "data": {
      "text/plain": [
       "array([[0],\n",
       "       [1],\n",
       "       [2],\n",
       "       [3],\n",
       "       [4],\n",
       "       [5]])"
      ]
     },
     "execution_count": 145,
     "metadata": {},
     "output_type": "execute_result"
    }
   ],
   "source": [
    "arr.reshape(6,1)  "
   ]
  },
  {
   "cell_type": "code",
   "execution_count": 146,
   "id": "226d5938-7cb2-4415-b8a5-dc6ed142e09b",
   "metadata": {},
   "outputs": [
    {
     "data": {
      "text/plain": [
       "array([[0, 1, 2, 3, 4, 5]])"
      ]
     },
     "execution_count": 146,
     "metadata": {},
     "output_type": "execute_result"
    }
   ],
   "source": [
    "arr.reshape(1,6) "
   ]
  },
  {
   "cell_type": "code",
   "execution_count": 147,
   "id": "35d4691f-edde-414d-b704-e19cd001019b",
   "metadata": {},
   "outputs": [
    {
     "data": {
      "text/plain": [
       "array([0, 1, 2, 3, 4, 5])"
      ]
     },
     "execution_count": 147,
     "metadata": {},
     "output_type": "execute_result"
    }
   ],
   "source": [
    "arr"
   ]
  },
  {
   "cell_type": "code",
   "execution_count": 152,
   "id": "34f40d67-d8e1-4f7f-99c0-ba18885eba54",
   "metadata": {},
   "outputs": [
    {
     "ename": "ValueError",
     "evalue": "cannot reshape array of size 6 into shape (2,4)",
     "output_type": "error",
     "traceback": [
      "\u001b[31m---------------------------------------------------------------------------\u001b[39m",
      "\u001b[31mValueError\u001b[39m                                Traceback (most recent call last)",
      "\u001b[36mCell\u001b[39m\u001b[36m \u001b[39m\u001b[32mIn[152]\u001b[39m\u001b[32m, line 1\u001b[39m\n\u001b[32m----> \u001b[39m\u001b[32m1\u001b[39m \u001b[43marr\u001b[49m\u001b[43m.\u001b[49m\u001b[43mreshape\u001b[49m\u001b[43m(\u001b[49m\u001b[32;43m2\u001b[39;49m\u001b[43m,\u001b[49m\u001b[32;43m4\u001b[39;49m\u001b[43m)\u001b[49m\n",
      "\u001b[31mValueError\u001b[39m: cannot reshape array of size 6 into shape (2,4)"
     ]
    }
   ],
   "source": [
    "arr.reshape(2,4)"
   ]
  },
  {
   "cell_type": "code",
   "execution_count": 153,
   "id": "2011c856-9ef8-4176-814b-770edfa80fef",
   "metadata": {},
   "outputs": [
    {
     "data": {
      "text/plain": [
       "array([0, 1, 2, 3, 4, 5])"
      ]
     },
     "execution_count": 153,
     "metadata": {},
     "output_type": "execute_result"
    }
   ],
   "source": [
    "arr"
   ]
  },
  {
   "cell_type": "code",
   "execution_count": 154,
   "id": "ffc77a64-cd12-4ae6-a50f-77669a53fbe4",
   "metadata": {},
   "outputs": [
    {
     "data": {
      "text/plain": [
       "array([[0, 1, 2],\n",
       "       [3, 4, 5]])"
      ]
     },
     "execution_count": 154,
     "metadata": {},
     "output_type": "execute_result"
    }
   ],
   "source": [
    "arr.reshape(2,3,order='C') "
   ]
  },
  {
   "cell_type": "code",
   "execution_count": 155,
   "id": "efcac57c-f0c3-48cf-b8e5-2a25202fdf24",
   "metadata": {},
   "outputs": [
    {
     "data": {
      "text/plain": [
       "array([[0, 2, 4],\n",
       "       [1, 3, 5]])"
      ]
     },
     "execution_count": 155,
     "metadata": {},
     "output_type": "execute_result"
    }
   ],
   "source": [
    "arr.reshape(2,3,order='F') # print element with fortran "
   ]
  },
  {
   "cell_type": "code",
   "execution_count": 156,
   "id": "89a65c33-104b-465c-ac1b-6b4140ea7a53",
   "metadata": {},
   "outputs": [
    {
     "data": {
      "text/plain": [
       "array([[0, 1, 2],\n",
       "       [3, 4, 5]])"
      ]
     },
     "execution_count": 156,
     "metadata": {},
     "output_type": "execute_result"
    }
   ],
   "source": [
    "arr.reshape(2,3,order='A') # A almost give you c type output "
   ]
  },
  {
   "cell_type": "code",
   "execution_count": 157,
   "id": "a15fed08-a3ab-470d-9df0-178df78fe740",
   "metadata": {},
   "outputs": [
    {
     "data": {
      "text/plain": [
       "array([0, 1, 2, 3, 4, 5])"
      ]
     },
     "execution_count": 157,
     "metadata": {},
     "output_type": "execute_result"
    }
   ],
   "source": [
    "arr"
   ]
  },
  {
   "cell_type": "code",
   "execution_count": 158,
   "id": "ab75d2b2-429a-4436-84ee-b4770fb4cf2f",
   "metadata": {},
   "outputs": [
    {
     "data": {
      "text/plain": [
       "array([[0, 1, 2],\n",
       "       [3, 4, 5]])"
      ]
     },
     "execution_count": 158,
     "metadata": {},
     "output_type": "execute_result"
    }
   ],
   "source": [
    "arr.reshape(2,3)"
   ]
  },
  {
   "cell_type": "code",
   "execution_count": 159,
   "id": "6144b875-2b4e-47e5-8041-76363057ad6c",
   "metadata": {},
   "outputs": [
    {
     "ename": "ValueError",
     "evalue": "cannot reshape array of size 6 into shape (1,4)",
     "output_type": "error",
     "traceback": [
      "\u001b[31m---------------------------------------------------------------------------\u001b[39m",
      "\u001b[31mValueError\u001b[39m                                Traceback (most recent call last)",
      "\u001b[36mCell\u001b[39m\u001b[36m \u001b[39m\u001b[32mIn[159]\u001b[39m\u001b[32m, line 1\u001b[39m\n\u001b[32m----> \u001b[39m\u001b[32m1\u001b[39m \u001b[43marr\u001b[49m\u001b[43m.\u001b[49m\u001b[43mreshape\u001b[49m\u001b[43m(\u001b[49m\u001b[32;43m1\u001b[39;49m\u001b[43m,\u001b[49m\u001b[32;43m4\u001b[39;49m\u001b[43m)\u001b[49m  \n",
      "\u001b[31mValueError\u001b[39m: cannot reshape array of size 6 into shape (1,4)"
     ]
    }
   ],
   "source": [
    "arr.reshape(1,4)  "
   ]
  },
  {
   "cell_type": "code",
   "execution_count": 160,
   "id": "0d467a21-8e6d-43d1-9277-e98579dd83da",
   "metadata": {},
   "outputs": [
    {
     "data": {
      "text/plain": [
       "array([[0, 1, 2, 3, 4, 5]])"
      ]
     },
     "execution_count": 160,
     "metadata": {},
     "output_type": "execute_result"
    }
   ],
   "source": [
    "arr.reshape(1,6)  "
   ]
  },
  {
   "cell_type": "code",
   "execution_count": 161,
   "id": "60e5f362-8c51-46fb-b48a-cb2b1466138a",
   "metadata": {},
   "outputs": [
    {
     "data": {
      "text/plain": [
       "array([[0],\n",
       "       [1],\n",
       "       [2],\n",
       "       [3],\n",
       "       [4],\n",
       "       [5]])"
      ]
     },
     "execution_count": 161,
     "metadata": {},
     "output_type": "execute_result"
    }
   ],
   "source": [
    "arr.reshape(6,1)  "
   ]
  },
  {
   "cell_type": "code",
   "execution_count": 162,
   "id": "ec7c8aa6-b536-4ad8-b222-a3d498f9ce15",
   "metadata": {},
   "outputs": [
    {
     "ename": "ValueError",
     "evalue": "cannot reshape array of size 6 into shape (2,6)",
     "output_type": "error",
     "traceback": [
      "\u001b[31m---------------------------------------------------------------------------\u001b[39m",
      "\u001b[31mValueError\u001b[39m                                Traceback (most recent call last)",
      "\u001b[36mCell\u001b[39m\u001b[36m \u001b[39m\u001b[32mIn[162]\u001b[39m\u001b[32m, line 1\u001b[39m\n\u001b[32m----> \u001b[39m\u001b[32m1\u001b[39m \u001b[43marr\u001b[49m\u001b[43m.\u001b[49m\u001b[43mreshape\u001b[49m\u001b[43m(\u001b[49m\u001b[32;43m2\u001b[39;49m\u001b[43m,\u001b[49m\u001b[32;43m6\u001b[39;49m\u001b[43m)\u001b[49m \n",
      "\u001b[31mValueError\u001b[39m: cannot reshape array of size 6 into shape (2,6)"
     ]
    }
   ],
   "source": [
    "arr.reshape(2,6) "
   ]
  },
  {
   "cell_type": "code",
   "execution_count": 164,
   "id": "604939cf-461e-4192-b011-74b290d13cd5",
   "metadata": {},
   "outputs": [
    {
     "data": {
      "text/plain": [
       "array([[0, 1],\n",
       "       [2, 3],\n",
       "       [4, 5]])"
      ]
     },
     "execution_count": 164,
     "metadata": {},
     "output_type": "execute_result"
    }
   ],
   "source": [
    "arr.reshape(3,2) "
   ]
  },
  {
   "cell_type": "markdown",
   "id": "e82e7301-8929-4b31-bf43-0cc00d8b0fc5",
   "metadata": {},
   "source": [
    "# Indexing"
   ]
  },
  {
   "cell_type": "code",
   "execution_count": 165,
   "id": "e5d957f1-93d3-4911-bb37-6149a0ca67e4",
   "metadata": {},
   "outputs": [],
   "source": [
    "mat = np.arange(0,100).reshape(10,10) "
   ]
  },
  {
   "cell_type": "code",
   "execution_count": 166,
   "id": "a4831701-6aab-48e6-b820-0665d8c03683",
   "metadata": {},
   "outputs": [
    {
     "data": {
      "text/plain": [
       "array([[ 0,  1,  2,  3,  4,  5,  6,  7,  8,  9],\n",
       "       [10, 11, 12, 13, 14, 15, 16, 17, 18, 19],\n",
       "       [20, 21, 22, 23, 24, 25, 26, 27, 28, 29],\n",
       "       [30, 31, 32, 33, 34, 35, 36, 37, 38, 39],\n",
       "       [40, 41, 42, 43, 44, 45, 46, 47, 48, 49],\n",
       "       [50, 51, 52, 53, 54, 55, 56, 57, 58, 59],\n",
       "       [60, 61, 62, 63, 64, 65, 66, 67, 68, 69],\n",
       "       [70, 71, 72, 73, 74, 75, 76, 77, 78, 79],\n",
       "       [80, 81, 82, 83, 84, 85, 86, 87, 88, 89],\n",
       "       [90, 91, 92, 93, 94, 95, 96, 97, 98, 99]])"
      ]
     },
     "execution_count": 166,
     "metadata": {},
     "output_type": "execute_result"
    }
   ],
   "source": [
    "mat"
   ]
  },
  {
   "cell_type": "code",
   "execution_count": 167,
   "id": "ff3707ca-b459-43ce-a847-f6803f51eaad",
   "metadata": {},
   "outputs": [],
   "source": [
    "row = 4\n",
    "col = 5"
   ]
  },
  {
   "cell_type": "code",
   "execution_count": 168,
   "id": "1e7ad209-8397-46b3-886e-681d08f71c94",
   "metadata": {},
   "outputs": [
    {
     "data": {
      "text/plain": [
       "5"
      ]
     },
     "execution_count": 168,
     "metadata": {},
     "output_type": "execute_result"
    }
   ],
   "source": [
    "col\n"
   ]
  },
  {
   "cell_type": "code",
   "execution_count": 169,
   "id": "eaa8eddc-e19b-4a61-98ae-8e685b74ae9c",
   "metadata": {},
   "outputs": [
    {
     "data": {
      "text/plain": [
       "4"
      ]
     },
     "execution_count": 169,
     "metadata": {},
     "output_type": "execute_result"
    }
   ],
   "source": [
    "row"
   ]
  },
  {
   "cell_type": "code",
   "execution_count": 170,
   "id": "b82222bc-a2b9-4c0c-90db-2796f3c02352",
   "metadata": {},
   "outputs": [
    {
     "data": {
      "text/plain": [
       "array([[ 0,  1,  2,  3,  4,  5,  6,  7,  8,  9],\n",
       "       [10, 11, 12, 13, 14, 15, 16, 17, 18, 19],\n",
       "       [20, 21, 22, 23, 24, 25, 26, 27, 28, 29],\n",
       "       [30, 31, 32, 33, 34, 35, 36, 37, 38, 39],\n",
       "       [40, 41, 42, 43, 44, 45, 46, 47, 48, 49],\n",
       "       [50, 51, 52, 53, 54, 55, 56, 57, 58, 59],\n",
       "       [60, 61, 62, 63, 64, 65, 66, 67, 68, 69],\n",
       "       [70, 71, 72, 73, 74, 75, 76, 77, 78, 79],\n",
       "       [80, 81, 82, 83, 84, 85, 86, 87, 88, 89],\n",
       "       [90, 91, 92, 93, 94, 95, 96, 97, 98, 99]])"
      ]
     },
     "execution_count": 170,
     "metadata": {},
     "output_type": "execute_result"
    }
   ],
   "source": [
    "mat"
   ]
  },
  {
   "cell_type": "code",
   "execution_count": 171,
   "id": "bff74512-50e5-433d-93c1-cfe248babc48",
   "metadata": {},
   "outputs": [
    {
     "data": {
      "text/plain": [
       "np.int64(45)"
      ]
     },
     "execution_count": 171,
     "metadata": {},
     "output_type": "execute_result"
    }
   ],
   "source": [
    "mat[row,col]"
   ]
  },
  {
   "cell_type": "code",
   "execution_count": 173,
   "id": "2f9e6d8f-d93d-4d8f-8dac-37394dfd7505",
   "metadata": {},
   "outputs": [
    {
     "data": {
      "text/plain": [
       "array([[ 0,  1,  2,  3,  4,  5,  6,  7,  8,  9],\n",
       "       [10, 11, 12, 13, 14, 15, 16, 17, 18, 19],\n",
       "       [20, 21, 22, 23, 24, 25, 26, 27, 28, 29],\n",
       "       [30, 31, 32, 33, 34, 35, 36, 37, 38, 39],\n",
       "       [40, 41, 42, 43, 44, 45, 46, 47, 48, 49],\n",
       "       [50, 51, 52, 53, 54, 55, 56, 57, 58, 59],\n",
       "       [60, 61, 62, 63, 64, 65, 66, 67, 68, 69],\n",
       "       [70, 71, 72, 73, 74, 75, 76, 77, 78, 79],\n",
       "       [80, 81, 82, 83, 84, 85, 86, 87, 88, 89],\n",
       "       [90, 91, 92, 93, 94, 95, 96, 97, 98, 99]])"
      ]
     },
     "execution_count": 173,
     "metadata": {},
     "output_type": "execute_result"
    }
   ],
   "source": [
    "mat"
   ]
  },
  {
   "cell_type": "code",
   "execution_count": 174,
   "id": "46916d10-a7e1-4b28-b12c-1be75bb0932c",
   "metadata": {},
   "outputs": [
    {
     "data": {
      "text/plain": [
       "np.int64(45)"
      ]
     },
     "execution_count": 174,
     "metadata": {},
     "output_type": "execute_result"
    }
   ],
   "source": [
    "mat[4,5] "
   ]
  },
  {
   "cell_type": "code",
   "execution_count": 175,
   "id": "ecbc42b9-1f40-41e9-b9ce-3eea979d0ccc",
   "metadata": {},
   "outputs": [
    {
     "data": {
      "text/plain": [
       "array([[ 0,  1,  2,  3,  4,  5,  6,  7,  8,  9],\n",
       "       [10, 11, 12, 13, 14, 15, 16, 17, 18, 19],\n",
       "       [20, 21, 22, 23, 24, 25, 26, 27, 28, 29],\n",
       "       [30, 31, 32, 33, 34, 35, 36, 37, 38, 39],\n",
       "       [40, 41, 42, 43, 44, 45, 46, 47, 48, 49],\n",
       "       [50, 51, 52, 53, 54, 55, 56, 57, 58, 59],\n",
       "       [60, 61, 62, 63, 64, 65, 66, 67, 68, 69],\n",
       "       [70, 71, 72, 73, 74, 75, 76, 77, 78, 79],\n",
       "       [80, 81, 82, 83, 84, 85, 86, 87, 88, 89],\n",
       "       [90, 91, 92, 93, 94, 95, 96, 97, 98, 99]])"
      ]
     },
     "execution_count": 175,
     "metadata": {},
     "output_type": "execute_result"
    }
   ],
   "source": [
    "mat[:]"
   ]
  },
  {
   "cell_type": "code",
   "execution_count": 176,
   "id": "cd794287-1e73-4484-b8a7-24f99406b10b",
   "metadata": {},
   "outputs": [],
   "source": [
    "col =6"
   ]
  },
  {
   "cell_type": "code",
   "execution_count": 177,
   "id": "9cd36a90-9bf6-452b-8b42-24be38f75a59",
   "metadata": {},
   "outputs": [
    {
     "data": {
      "text/plain": [
       "6"
      ]
     },
     "execution_count": 177,
     "metadata": {},
     "output_type": "execute_result"
    }
   ],
   "source": [
    "col"
   ]
  },
  {
   "cell_type": "code",
   "execution_count": 178,
   "id": "db964a1e-0fcf-4441-97cd-19460b6859a0",
   "metadata": {},
   "outputs": [
    {
     "data": {
      "text/plain": [
       "array([60, 61, 62, 63, 64, 65, 66, 67, 68, 69])"
      ]
     },
     "execution_count": 178,
     "metadata": {},
     "output_type": "execute_result"
    }
   ],
   "source": [
    "mat[6] #  befault it represent to rows"
   ]
  },
  {
   "cell_type": "code",
   "execution_count": 179,
   "id": "cfc6ec78-62d0-4dbc-b422-9622dc2c5fc7",
   "metadata": {},
   "outputs": [
    {
     "data": {
      "text/plain": [
       "array([[ 0,  1,  2,  3,  4,  5,  6,  7,  8,  9],\n",
       "       [10, 11, 12, 13, 14, 15, 16, 17, 18, 19],\n",
       "       [20, 21, 22, 23, 24, 25, 26, 27, 28, 29],\n",
       "       [30, 31, 32, 33, 34, 35, 36, 37, 38, 39],\n",
       "       [40, 41, 42, 43, 44, 45, 46, 47, 48, 49],\n",
       "       [50, 51, 52, 53, 54, 55, 56, 57, 58, 59],\n",
       "       [60, 61, 62, 63, 64, 65, 66, 67, 68, 69],\n",
       "       [70, 71, 72, 73, 74, 75, 76, 77, 78, 79],\n",
       "       [80, 81, 82, 83, 84, 85, 86, 87, 88, 89],\n",
       "       [90, 91, 92, 93, 94, 95, 96, 97, 98, 99]])"
      ]
     },
     "execution_count": 179,
     "metadata": {},
     "output_type": "execute_result"
    }
   ],
   "source": [
    "mat"
   ]
  },
  {
   "cell_type": "code",
   "execution_count": 180,
   "id": "227225a7-6f0f-4ba5-bb6a-b0da2bc47f4d",
   "metadata": {},
   "outputs": [
    {
     "data": {
      "text/plain": [
       "array([ 6, 16, 26, 36, 46, 56, 66, 76, 86, 96])"
      ]
     },
     "execution_count": 180,
     "metadata": {},
     "output_type": "execute_result"
    }
   ],
   "source": [
    "# With Slices\n",
    "mat[:,col] "
   ]
  },
  {
   "cell_type": "code",
   "execution_count": 181,
   "id": "75ac7f1c-ed17-4784-b239-606cff532e53",
   "metadata": {},
   "outputs": [
    {
     "data": {
      "text/plain": [
       "array([40, 41, 42, 43, 44, 45, 46, 47, 48, 49])"
      ]
     },
     "execution_count": 181,
     "metadata": {},
     "output_type": "execute_result"
    }
   ],
   "source": [
    "mat[row,:]"
   ]
  },
  {
   "cell_type": "code",
   "execution_count": 182,
   "id": "72deee1f-c776-4e2a-bdd4-1e157cc07568",
   "metadata": {},
   "outputs": [
    {
     "data": {
      "text/plain": [
       "array([ 4, 14, 24, 34, 44, 54, 64, 74, 84, 94])"
      ]
     },
     "execution_count": 182,
     "metadata": {},
     "output_type": "execute_result"
    }
   ],
   "source": [
    "mat[:,4]"
   ]
  },
  {
   "cell_type": "code",
   "execution_count": 183,
   "id": "b8c861bd-f19f-4fa5-b723-52cb6bc8b064",
   "metadata": {},
   "outputs": [
    {
     "data": {
      "text/plain": [
       "array([[ 0,  1,  2,  3,  4,  5,  6,  7,  8,  9],\n",
       "       [10, 11, 12, 13, 14, 15, 16, 17, 18, 19],\n",
       "       [20, 21, 22, 23, 24, 25, 26, 27, 28, 29],\n",
       "       [30, 31, 32, 33, 34, 35, 36, 37, 38, 39],\n",
       "       [40, 41, 42, 43, 44, 45, 46, 47, 48, 49],\n",
       "       [50, 51, 52, 53, 54, 55, 56, 57, 58, 59],\n",
       "       [60, 61, 62, 63, 64, 65, 66, 67, 68, 69],\n",
       "       [70, 71, 72, 73, 74, 75, 76, 77, 78, 79],\n",
       "       [80, 81, 82, 83, 84, 85, 86, 87, 88, 89],\n",
       "       [90, 91, 92, 93, 94, 95, 96, 97, 98, 99]])"
      ]
     },
     "execution_count": 183,
     "metadata": {},
     "output_type": "execute_result"
    }
   ],
   "source": [
    "mat"
   ]
  },
  {
   "cell_type": "code",
   "execution_count": 184,
   "id": "7dbb412b-1b20-4201-93ce-1905614ab4fd",
   "metadata": {},
   "outputs": [
    {
     "data": {
      "text/plain": [
       "array([ 8, 18, 28, 38, 48, 58, 68, 78, 88, 98])"
      ]
     },
     "execution_count": 184,
     "metadata": {},
     "output_type": "execute_result"
    }
   ],
   "source": [
    "mat[:,8]"
   ]
  },
  {
   "cell_type": "code",
   "execution_count": 185,
   "id": "8dd579a6-c028-430c-b0c4-c9d5e86bbf2b",
   "metadata": {},
   "outputs": [
    {
     "data": {
      "text/plain": [
       "array([ 6, 16, 26, 36, 46, 56, 66, 76, 86, 96])"
      ]
     },
     "execution_count": 185,
     "metadata": {},
     "output_type": "execute_result"
    }
   ],
   "source": [
    "mat[:,col]"
   ]
  },
  {
   "cell_type": "code",
   "execution_count": 186,
   "id": "3d41230c-e1e9-4eef-8b9d-e748a731b013",
   "metadata": {},
   "outputs": [
    {
     "data": {
      "text/plain": [
       "array([[ 0,  1,  2,  3,  4,  5,  6,  7,  8,  9],\n",
       "       [10, 11, 12, 13, 14, 15, 16, 17, 18, 19],\n",
       "       [20, 21, 22, 23, 24, 25, 26, 27, 28, 29],\n",
       "       [30, 31, 32, 33, 34, 35, 36, 37, 38, 39],\n",
       "       [40, 41, 42, 43, 44, 45, 46, 47, 48, 49],\n",
       "       [50, 51, 52, 53, 54, 55, 56, 57, 58, 59]])"
      ]
     },
     "execution_count": 186,
     "metadata": {},
     "output_type": "execute_result"
    }
   ],
   "source": [
    "mat[:col]"
   ]
  },
  {
   "cell_type": "code",
   "execution_count": 187,
   "id": "e2915e3c-014c-4a32-a3cf-f4183c4aa524",
   "metadata": {},
   "outputs": [
    {
     "data": {
      "text/plain": [
       "array([[ 0,  1,  2,  3,  4,  5,  6,  7,  8,  9],\n",
       "       [10, 11, 12, 13, 14, 15, 16, 17, 18, 19],\n",
       "       [20, 21, 22, 23, 24, 25, 26, 27, 28, 29],\n",
       "       [30, 31, 32, 33, 34, 35, 36, 37, 38, 39],\n",
       "       [40, 41, 42, 43, 44, 45, 46, 47, 48, 49],\n",
       "       [50, 51, 52, 53, 54, 55, 56, 57, 58, 59]])"
      ]
     },
     "execution_count": 187,
     "metadata": {},
     "output_type": "execute_result"
    }
   ],
   "source": [
    "mat[:6]"
   ]
  },
  {
   "cell_type": "code",
   "execution_count": 188,
   "id": "fe935c3a-0503-4970-9554-2feabe66bd8e",
   "metadata": {},
   "outputs": [
    {
     "data": {
      "text/plain": [
       "4"
      ]
     },
     "execution_count": 188,
     "metadata": {},
     "output_type": "execute_result"
    }
   ],
   "source": [
    "row"
   ]
  },
  {
   "cell_type": "code",
   "execution_count": 189,
   "id": "cc704faf-b112-493f-ab56-fee285b78393",
   "metadata": {},
   "outputs": [
    {
     "data": {
      "text/plain": [
       "array([[ 0,  1,  2,  3,  4,  5,  6,  7,  8,  9],\n",
       "       [10, 11, 12, 13, 14, 15, 16, 17, 18, 19],\n",
       "       [20, 21, 22, 23, 24, 25, 26, 27, 28, 29],\n",
       "       [30, 31, 32, 33, 34, 35, 36, 37, 38, 39],\n",
       "       [40, 41, 42, 43, 44, 45, 46, 47, 48, 49],\n",
       "       [50, 51, 52, 53, 54, 55, 56, 57, 58, 59],\n",
       "       [60, 61, 62, 63, 64, 65, 66, 67, 68, 69],\n",
       "       [70, 71, 72, 73, 74, 75, 76, 77, 78, 79],\n",
       "       [80, 81, 82, 83, 84, 85, 86, 87, 88, 89],\n",
       "       [90, 91, 92, 93, 94, 95, 96, 97, 98, 99]])"
      ]
     },
     "execution_count": 189,
     "metadata": {},
     "output_type": "execute_result"
    }
   ],
   "source": [
    "mat"
   ]
  },
  {
   "cell_type": "code",
   "execution_count": 190,
   "id": "fb23f4eb-dfe4-4d86-938d-52e7679aecfd",
   "metadata": {},
   "outputs": [
    {
     "data": {
      "text/plain": [
       "array([[ 0,  1,  2,  3,  4,  5,  6,  7,  8,  9],\n",
       "       [10, 11, 12, 13, 14, 15, 16, 17, 18, 19],\n",
       "       [20, 21, 22, 23, 24, 25, 26, 27, 28, 29],\n",
       "       [30, 31, 32, 33, 34, 35, 36, 37, 38, 39]])"
      ]
     },
     "execution_count": 190,
     "metadata": {},
     "output_type": "execute_result"
    }
   ],
   "source": [
    "mat[:row]"
   ]
  },
  {
   "cell_type": "code",
   "execution_count": 191,
   "id": "cc4bc76d-70fe-4223-b400-140c42362fc4",
   "metadata": {},
   "outputs": [
    {
     "data": {
      "text/plain": [
       "array([[40, 41, 42, 43, 44, 45, 46, 47, 48, 49],\n",
       "       [50, 51, 52, 53, 54, 55, 56, 57, 58, 59],\n",
       "       [60, 61, 62, 63, 64, 65, 66, 67, 68, 69],\n",
       "       [70, 71, 72, 73, 74, 75, 76, 77, 78, 79],\n",
       "       [80, 81, 82, 83, 84, 85, 86, 87, 88, 89],\n",
       "       [90, 91, 92, 93, 94, 95, 96, 97, 98, 99]])"
      ]
     },
     "execution_count": 191,
     "metadata": {},
     "output_type": "execute_result"
    }
   ],
   "source": [
    "mat[row:]"
   ]
  },
  {
   "cell_type": "code",
   "execution_count": 192,
   "id": "4f96aabb-2be6-4cfe-b244-8e36de433578",
   "metadata": {},
   "outputs": [
    {
     "data": {
      "text/plain": [
       "array([[ 0,  1,  2,  3,  4,  5,  6,  7,  8,  9],\n",
       "       [10, 11, 12, 13, 14, 15, 16, 17, 18, 19],\n",
       "       [20, 21, 22, 23, 24, 25, 26, 27, 28, 29],\n",
       "       [30, 31, 32, 33, 34, 35, 36, 37, 38, 39],\n",
       "       [40, 41, 42, 43, 44, 45, 46, 47, 48, 49],\n",
       "       [50, 51, 52, 53, 54, 55, 56, 57, 58, 59],\n",
       "       [60, 61, 62, 63, 64, 65, 66, 67, 68, 69],\n",
       "       [70, 71, 72, 73, 74, 75, 76, 77, 78, 79],\n",
       "       [80, 81, 82, 83, 84, 85, 86, 87, 88, 89],\n",
       "       [90, 91, 92, 93, 94, 95, 96, 97, 98, 99]])"
      ]
     },
     "execution_count": 192,
     "metadata": {},
     "output_type": "execute_result"
    }
   ],
   "source": [
    "mat[:]"
   ]
  },
  {
   "cell_type": "code",
   "execution_count": 195,
   "id": "0b4ba74e-294a-463b-9656-8acaa77a8b0a",
   "metadata": {},
   "outputs": [
    {
     "data": {
      "text/plain": [
       "array([ 8, 18, 28, 38, 48, 58, 68, 78, 88, 98])"
      ]
     },
     "execution_count": 195,
     "metadata": {},
     "output_type": "execute_result"
    }
   ],
   "source": [
    "mat[:,8]"
   ]
  },
  {
   "cell_type": "code",
   "execution_count": 196,
   "id": "614ccee5-22f4-4c2b-8bb8-fd0758bb5e62",
   "metadata": {},
   "outputs": [
    {
     "data": {
      "text/plain": [
       "array([90, 91, 92, 93, 94, 95, 96, 97, 98, 99])"
      ]
     },
     "execution_count": 196,
     "metadata": {},
     "output_type": "execute_result"
    }
   ],
   "source": [
    "mat[-1]"
   ]
  },
  {
   "cell_type": "code",
   "execution_count": 197,
   "id": "9b804c81-87b0-42b7-bde2-0da24ac9b817",
   "metadata": {},
   "outputs": [
    {
     "data": {
      "text/plain": [
       "array([[ 0,  1,  2,  3,  4,  5,  6,  7,  8,  9],\n",
       "       [10, 11, 12, 13, 14, 15, 16, 17, 18, 19],\n",
       "       [20, 21, 22, 23, 24, 25, 26, 27, 28, 29],\n",
       "       [30, 31, 32, 33, 34, 35, 36, 37, 38, 39],\n",
       "       [40, 41, 42, 43, 44, 45, 46, 47, 48, 49],\n",
       "       [50, 51, 52, 53, 54, 55, 56, 57, 58, 59],\n",
       "       [60, 61, 62, 63, 64, 65, 66, 67, 68, 69],\n",
       "       [70, 71, 72, 73, 74, 75, 76, 77, 78, 79],\n",
       "       [80, 81, 82, 83, 84, 85, 86, 87, 88, 89],\n",
       "       [90, 91, 92, 93, 94, 95, 96, 97, 98, 99]])"
      ]
     },
     "execution_count": 197,
     "metadata": {},
     "output_type": "execute_result"
    }
   ],
   "source": [
    "mat"
   ]
  },
  {
   "cell_type": "code",
   "execution_count": 198,
   "id": "52f2e783-9387-421b-8108-55e85612c3a3",
   "metadata": {},
   "outputs": [
    {
     "data": {
      "text/plain": [
       "4"
      ]
     },
     "execution_count": 198,
     "metadata": {},
     "output_type": "execute_result"
    }
   ],
   "source": [
    "row"
   ]
  },
  {
   "cell_type": "code",
   "execution_count": 199,
   "id": "62a5bb5e-552f-421c-af81-c2deb05d71aa",
   "metadata": {},
   "outputs": [
    {
     "data": {
      "text/plain": [
       "6"
      ]
     },
     "execution_count": 199,
     "metadata": {},
     "output_type": "execute_result"
    }
   ],
   "source": [
    "col"
   ]
  },
  {
   "cell_type": "code",
   "execution_count": 200,
   "id": "c2adb797-271a-4ff5-9f60-d6f0567d3b90",
   "metadata": {},
   "outputs": [
    {
     "data": {
      "text/plain": [
       "array([ 6, 16, 26, 36, 46, 56, 66, 76, 86, 96])"
      ]
     },
     "execution_count": 200,
     "metadata": {},
     "output_type": "execute_result"
    }
   ],
   "source": [
    "mat[:,col]"
   ]
  },
  {
   "cell_type": "code",
   "execution_count": 201,
   "id": "0cbb0a15-52e8-4d71-ac6f-1159451d86b0",
   "metadata": {},
   "outputs": [
    {
     "data": {
      "text/plain": [
       "np.int64(14)"
      ]
     },
     "execution_count": 201,
     "metadata": {},
     "output_type": "execute_result"
    }
   ],
   "source": [
    "mat[1,4]"
   ]
  },
  {
   "cell_type": "code",
   "execution_count": 202,
   "id": "7a5fa500-0451-4489-9ff0-2cda9c76d054",
   "metadata": {},
   "outputs": [
    {
     "data": {
      "text/plain": [
       "array([[ 0,  1,  2,  3,  4,  5,  6,  7,  8,  9],\n",
       "       [10, 11, 12, 13, 14, 15, 16, 17, 18, 19],\n",
       "       [20, 21, 22, 23, 24, 25, 26, 27, 28, 29],\n",
       "       [30, 31, 32, 33, 34, 35, 36, 37, 38, 39],\n",
       "       [40, 41, 42, 43, 44, 45, 46, 47, 48, 49],\n",
       "       [50, 51, 52, 53, 54, 55, 56, 57, 58, 59],\n",
       "       [60, 61, 62, 63, 64, 65, 66, 67, 68, 69],\n",
       "       [70, 71, 72, 73, 74, 75, 76, 77, 78, 79],\n",
       "       [80, 81, 82, 83, 84, 85, 86, 87, 88, 89],\n",
       "       [90, 91, 92, 93, 94, 95, 96, 97, 98, 99]])"
      ]
     },
     "execution_count": 202,
     "metadata": {},
     "output_type": "execute_result"
    }
   ],
   "source": [
    "mat"
   ]
  },
  {
   "cell_type": "code",
   "execution_count": 203,
   "id": "5f56e674-4cb5-45da-8cf2-57314813f4b5",
   "metadata": {},
   "outputs": [
    {
     "data": {
      "text/plain": [
       "array([[10, 11, 12, 13, 14, 15, 16, 17, 18, 19],\n",
       "       [20, 21, 22, 23, 24, 25, 26, 27, 28, 29],\n",
       "       [30, 31, 32, 33, 34, 35, 36, 37, 38, 39]])"
      ]
     },
     "execution_count": 203,
     "metadata": {},
     "output_type": "execute_result"
    }
   ],
   "source": [
    "mat[1:4]"
   ]
  },
  {
   "cell_type": "code",
   "execution_count": 204,
   "id": "4a1e955c-03bf-49de-9043-488f4d4eb43a",
   "metadata": {},
   "outputs": [
    {
     "data": {
      "text/plain": [
       "array([[30, 31, 32, 33, 34, 35, 36, 37, 38, 39],\n",
       "       [40, 41, 42, 43, 44, 45, 46, 47, 48, 49],\n",
       "       [50, 51, 52, 53, 54, 55, 56, 57, 58, 59],\n",
       "       [60, 61, 62, 63, 64, 65, 66, 67, 68, 69]])"
      ]
     },
     "execution_count": 204,
     "metadata": {},
     "output_type": "execute_result"
    }
   ],
   "source": [
    "mat[3:-3]"
   ]
  },
  {
   "cell_type": "code",
   "execution_count": 205,
   "id": "a0f02371-c590-421f-8413-6d909a64b93b",
   "metadata": {},
   "outputs": [
    {
     "data": {
      "text/plain": [
       "array([0, 1, 2, 3, 4, 5, 6, 7, 8, 9])"
      ]
     },
     "execution_count": 205,
     "metadata": {},
     "output_type": "execute_result"
    }
   ],
   "source": [
    "mat[0]"
   ]
  },
  {
   "cell_type": "code",
   "execution_count": 206,
   "id": "65db57f9-6912-4c7c-a688-04e6d6586933",
   "metadata": {},
   "outputs": [
    {
     "data": {
      "text/plain": [
       "array([60, 61, 62, 63, 64, 65, 66, 67, 68, 69])"
      ]
     },
     "execution_count": 206,
     "metadata": {},
     "output_type": "execute_result"
    }
   ],
   "source": [
    "mat[6]"
   ]
  },
  {
   "cell_type": "code",
   "execution_count": 207,
   "id": "31bf43a0-2455-47b2-b7af-aaf15a8d4d1b",
   "metadata": {},
   "outputs": [
    {
     "data": {
      "text/plain": [
       "array([[60, 61, 62, 63, 64, 65, 66, 67, 68, 69],\n",
       "       [70, 71, 72, 73, 74, 75, 76, 77, 78, 79],\n",
       "       [80, 81, 82, 83, 84, 85, 86, 87, 88, 89],\n",
       "       [90, 91, 92, 93, 94, 95, 96, 97, 98, 99]])"
      ]
     },
     "execution_count": 207,
     "metadata": {},
     "output_type": "execute_result"
    }
   ],
   "source": [
    "mat[6:]"
   ]
  },
  {
   "cell_type": "code",
   "execution_count": 208,
   "id": "ffc8901c-3f5e-4ae2-984c-1973baddad62",
   "metadata": {},
   "outputs": [
    {
     "data": {
      "text/plain": [
       "array([[ 0,  1,  2,  3,  4,  5,  6,  7,  8,  9],\n",
       "       [10, 11, 12, 13, 14, 15, 16, 17, 18, 19],\n",
       "       [20, 21, 22, 23, 24, 25, 26, 27, 28, 29],\n",
       "       [30, 31, 32, 33, 34, 35, 36, 37, 38, 39],\n",
       "       [40, 41, 42, 43, 44, 45, 46, 47, 48, 49],\n",
       "       [50, 51, 52, 53, 54, 55, 56, 57, 58, 59]])"
      ]
     },
     "execution_count": 208,
     "metadata": {},
     "output_type": "execute_result"
    }
   ],
   "source": [
    "mat[:6]"
   ]
  },
  {
   "cell_type": "code",
   "execution_count": 209,
   "id": "c58e9d7b-839a-4035-b840-c73285fc4b0c",
   "metadata": {},
   "outputs": [
    {
     "data": {
      "text/plain": [
       "array([[50, 51, 52, 53, 54, 55, 56, 57, 58, 59],\n",
       "       [60, 61, 62, 63, 64, 65, 66, 67, 68, 69]])"
      ]
     },
     "execution_count": 209,
     "metadata": {},
     "output_type": "execute_result"
    }
   ],
   "source": [
    "mat[5:7]"
   ]
  },
  {
   "cell_type": "code",
   "execution_count": 210,
   "id": "fa87bcfc-54b1-45d1-8967-7fa04a72a1df",
   "metadata": {},
   "outputs": [
    {
     "data": {
      "text/plain": [
       "array([[ 0,  1,  2,  3,  4,  5,  6,  7,  8,  9],\n",
       "       [10, 11, 12, 13, 14, 15, 16, 17, 18, 19],\n",
       "       [20, 21, 22, 23, 24, 25, 26, 27, 28, 29],\n",
       "       [30, 31, 32, 33, 34, 35, 36, 37, 38, 39],\n",
       "       [40, 41, 42, 43, 44, 45, 46, 47, 48, 49],\n",
       "       [50, 51, 52, 53, 54, 55, 56, 57, 58, 59],\n",
       "       [60, 61, 62, 63, 64, 65, 66, 67, 68, 69],\n",
       "       [70, 71, 72, 73, 74, 75, 76, 77, 78, 79],\n",
       "       [80, 81, 82, 83, 84, 85, 86, 87, 88, 89],\n",
       "       [90, 91, 92, 93, 94, 95, 96, 97, 98, 99]])"
      ]
     },
     "execution_count": 210,
     "metadata": {},
     "output_type": "execute_result"
    }
   ],
   "source": [
    "mat"
   ]
  },
  {
   "cell_type": "code",
   "execution_count": 211,
   "id": "6ce14301-5118-4431-9c8d-c3dbb5ae1cb9",
   "metadata": {},
   "outputs": [
    {
     "data": {
      "text/plain": [
       "array([[ 0,  1,  2,  3,  4,  5,  6,  7,  8,  9],\n",
       "       [30, 31, 32, 33, 34, 35, 36, 37, 38, 39],\n",
       "       [60, 61, 62, 63, 64, 65, 66, 67, 68, 69],\n",
       "       [90, 91, 92, 93, 94, 95, 96, 97, 98, 99]])"
      ]
     },
     "execution_count": 211,
     "metadata": {},
     "output_type": "execute_result"
    }
   ],
   "source": [
    "mat[0:10:3]"
   ]
  },
  {
   "cell_type": "code",
   "execution_count": 212,
   "id": "c1e25bcb-d702-4c2a-81a9-be7bdcede80a",
   "metadata": {},
   "outputs": [
    {
     "data": {
      "text/plain": [
       "array([[ 0,  1,  2,  3,  4,  5,  6,  7,  8,  9],\n",
       "       [10, 11, 12, 13, 14, 15, 16, 17, 18, 19],\n",
       "       [20, 21, 22, 23, 24, 25, 26, 27, 28, 29],\n",
       "       [30, 31, 32, 33, 34, 35, 36, 37, 38, 39],\n",
       "       [40, 41, 42, 43, 44, 45, 46, 47, 48, 49],\n",
       "       [50, 51, 52, 53, 54, 55, 56, 57, 58, 59],\n",
       "       [60, 61, 62, 63, 64, 65, 66, 67, 68, 69],\n",
       "       [70, 71, 72, 73, 74, 75, 76, 77, 78, 79],\n",
       "       [80, 81, 82, 83, 84, 85, 86, 87, 88, 89],\n",
       "       [90, 91, 92, 93, 94, 95, 96, 97, 98, 99]])"
      ]
     },
     "execution_count": 212,
     "metadata": {},
     "output_type": "execute_result"
    }
   ],
   "source": [
    "mat[0:10]"
   ]
  },
  {
   "cell_type": "code",
   "execution_count": 213,
   "id": "ae604c0b-ce0c-4de0-8b35-177141682717",
   "metadata": {},
   "outputs": [
    {
     "data": {
      "text/plain": [
       "array([[40, 41, 42, 43, 44, 45, 46, 47, 48, 49],\n",
       "       [50, 51, 52, 53, 54, 55, 56, 57, 58, 59],\n",
       "       [60, 61, 62, 63, 64, 65, 66, 67, 68, 69],\n",
       "       [70, 71, 72, 73, 74, 75, 76, 77, 78, 79],\n",
       "       [80, 81, 82, 83, 84, 85, 86, 87, 88, 89],\n",
       "       [90, 91, 92, 93, 94, 95, 96, 97, 98, 99]])"
      ]
     },
     "execution_count": 213,
     "metadata": {},
     "output_type": "execute_result"
    }
   ],
   "source": [
    "mat[4:]"
   ]
  },
  {
   "cell_type": "code",
   "execution_count": 214,
   "id": "0f0ae840-1bad-49f2-9ac4-902c7a3171dc",
   "metadata": {},
   "outputs": [
    {
     "data": {
      "text/plain": [
       "array([[90, 91, 92, 93, 94, 95, 96, 97, 98, 99],\n",
       "       [80, 81, 82, 83, 84, 85, 86, 87, 88, 89],\n",
       "       [70, 71, 72, 73, 74, 75, 76, 77, 78, 79],\n",
       "       [60, 61, 62, 63, 64, 65, 66, 67, 68, 69],\n",
       "       [50, 51, 52, 53, 54, 55, 56, 57, 58, 59],\n",
       "       [40, 41, 42, 43, 44, 45, 46, 47, 48, 49],\n",
       "       [30, 31, 32, 33, 34, 35, 36, 37, 38, 39],\n",
       "       [20, 21, 22, 23, 24, 25, 26, 27, 28, 29],\n",
       "       [10, 11, 12, 13, 14, 15, 16, 17, 18, 19],\n",
       "       [ 0,  1,  2,  3,  4,  5,  6,  7,  8,  9]])"
      ]
     },
     "execution_count": 214,
     "metadata": {},
     "output_type": "execute_result"
    }
   ],
   "source": [
    "mat[::-1]"
   ]
  },
  {
   "cell_type": "code",
   "execution_count": 215,
   "id": "40121969-9ee8-43a4-aa1a-fc0c1b5072c6",
   "metadata": {},
   "outputs": [
    {
     "data": {
      "text/plain": [
       "array([[ 0,  1,  2,  3,  4,  5,  6,  7,  8,  9],\n",
       "       [10, 11, 12, 13, 14, 15, 16, 17, 18, 19],\n",
       "       [20, 21, 22, 23, 24, 25, 26, 27, 28, 29],\n",
       "       [30, 31, 32, 33, 34, 35, 36, 37, 38, 39],\n",
       "       [40, 41, 42, 43, 44, 45, 46, 47, 48, 49],\n",
       "       [50, 51, 52, 53, 54, 55, 56, 57, 58, 59],\n",
       "       [60, 61, 62, 63, 64, 65, 66, 67, 68, 69],\n",
       "       [70, 71, 72, 73, 74, 75, 76, 77, 78, 79],\n",
       "       [80, 81, 82, 83, 84, 85, 86, 87, 88, 89],\n",
       "       [90, 91, 92, 93, 94, 95, 96, 97, 98, 99]])"
      ]
     },
     "execution_count": 215,
     "metadata": {},
     "output_type": "execute_result"
    }
   ],
   "source": [
    "mat"
   ]
  },
  {
   "cell_type": "code",
   "execution_count": 217,
   "id": "87e6c70b-3e18-4c12-89cb-b1186518bc27",
   "metadata": {},
   "outputs": [
    {
     "data": {
      "text/plain": [
       "array([[90, 91, 92, 93, 94, 95, 96, 97, 98, 99],\n",
       "       [70, 71, 72, 73, 74, 75, 76, 77, 78, 79],\n",
       "       [50, 51, 52, 53, 54, 55, 56, 57, 58, 59],\n",
       "       [30, 31, 32, 33, 34, 35, 36, 37, 38, 39],\n",
       "       [10, 11, 12, 13, 14, 15, 16, 17, 18, 19]])"
      ]
     },
     "execution_count": 217,
     "metadata": {},
     "output_type": "execute_result"
    }
   ],
   "source": [
    "mat[::-2]"
   ]
  },
  {
   "cell_type": "code",
   "execution_count": 218,
   "id": "cb7557e3-ecea-4a79-993a-d3599ba5273a",
   "metadata": {},
   "outputs": [
    {
     "data": {
      "text/plain": [
       "array([[90, 91, 92, 93, 94, 95, 96, 97, 98, 99],\n",
       "       [60, 61, 62, 63, 64, 65, 66, 67, 68, 69],\n",
       "       [30, 31, 32, 33, 34, 35, 36, 37, 38, 39],\n",
       "       [ 0,  1,  2,  3,  4,  5,  6,  7,  8,  9]])"
      ]
     },
     "execution_count": 218,
     "metadata": {},
     "output_type": "execute_result"
    }
   ],
   "source": [
    "mat[::-3]"
   ]
  },
  {
   "cell_type": "code",
   "execution_count": 219,
   "id": "1cc95b18-0198-4e11-ab89-621a099f84e4",
   "metadata": {},
   "outputs": [
    {
     "data": {
      "text/plain": [
       "array([[90, 91, 92, 93, 94, 95, 96, 97, 98, 99],\n",
       "       [40, 41, 42, 43, 44, 45, 46, 47, 48, 49]])"
      ]
     },
     "execution_count": 219,
     "metadata": {},
     "output_type": "execute_result"
    }
   ],
   "source": [
    "mat[::-5]"
   ]
  },
  {
   "cell_type": "code",
   "execution_count": 220,
   "id": "476da443-fca1-4980-8d57-7d8a7f7595e2",
   "metadata": {},
   "outputs": [
    {
     "data": {
      "text/plain": [
       "array([[ 0,  1,  2,  3,  4,  5,  6,  7,  8,  9],\n",
       "       [10, 11, 12, 13, 14, 15, 16, 17, 18, 19],\n",
       "       [20, 21, 22, 23, 24, 25, 26, 27, 28, 29],\n",
       "       [30, 31, 32, 33, 34, 35, 36, 37, 38, 39],\n",
       "       [40, 41, 42, 43, 44, 45, 46, 47, 48, 49],\n",
       "       [50, 51, 52, 53, 54, 55, 56, 57, 58, 59],\n",
       "       [60, 61, 62, 63, 64, 65, 66, 67, 68, 69],\n",
       "       [70, 71, 72, 73, 74, 75, 76, 77, 78, 79],\n",
       "       [80, 81, 82, 83, 84, 85, 86, 87, 88, 89],\n",
       "       [90, 91, 92, 93, 94, 95, 96, 97, 98, 99]])"
      ]
     },
     "execution_count": 220,
     "metadata": {},
     "output_type": "execute_result"
    }
   ],
   "source": [
    "mat"
   ]
  },
  {
   "cell_type": "code",
   "execution_count": 221,
   "id": "b81d2a8d-77da-4a8f-be9e-e0d6e19e8e7c",
   "metadata": {},
   "outputs": [
    {
     "data": {
      "text/plain": [
       "array([[20, 21, 22, 23, 24, 25, 26, 27, 28, 29],\n",
       "       [30, 31, 32, 33, 34, 35, 36, 37, 38, 39],\n",
       "       [40, 41, 42, 43, 44, 45, 46, 47, 48, 49],\n",
       "       [50, 51, 52, 53, 54, 55, 56, 57, 58, 59]])"
      ]
     },
     "execution_count": 221,
     "metadata": {},
     "output_type": "execute_result"
    }
   ],
   "source": [
    "mat[2:6]"
   ]
  },
  {
   "cell_type": "code",
   "execution_count": 222,
   "id": "8138390c-4ece-45d3-842e-8345bfba831c",
   "metadata": {},
   "outputs": [
    {
     "data": {
      "text/plain": [
       "array([[22, 23],\n",
       "       [32, 33],\n",
       "       [42, 43],\n",
       "       [52, 53]])"
      ]
     },
     "execution_count": 222,
     "metadata": {},
     "output_type": "execute_result"
    }
   ],
   "source": [
    "mat[2:6,2:4] # 1:5 --> only row part /// 1:3 -- it indicates only column parts"
   ]
  },
  {
   "cell_type": "code",
   "execution_count": 223,
   "id": "6d52ef1d-5ab7-4875-9c61-cc6e172b2e4f",
   "metadata": {},
   "outputs": [
    {
     "data": {
      "text/plain": [
       "array([[ 0,  1,  2,  3,  4,  5,  6,  7,  8,  9],\n",
       "       [10, 11, 12, 13, 14, 15, 16, 17, 18, 19],\n",
       "       [20, 21, 22, 23, 24, 25, 26, 27, 28, 29],\n",
       "       [30, 31, 32, 33, 34, 35, 36, 37, 38, 39],\n",
       "       [40, 41, 42, 43, 44, 45, 46, 47, 48, 49],\n",
       "       [50, 51, 52, 53, 54, 55, 56, 57, 58, 59],\n",
       "       [60, 61, 62, 63, 64, 65, 66, 67, 68, 69],\n",
       "       [70, 71, 72, 73, 74, 75, 76, 77, 78, 79],\n",
       "       [80, 81, 82, 83, 84, 85, 86, 87, 88, 89],\n",
       "       [90, 91, 92, 93, 94, 95, 96, 97, 98, 99]])"
      ]
     },
     "execution_count": 223,
     "metadata": {},
     "output_type": "execute_result"
    }
   ],
   "source": [
    "mat"
   ]
  },
  {
   "cell_type": "code",
   "execution_count": 224,
   "id": "a525db2c-b68f-42e5-a72e-d2de46b4e5d8",
   "metadata": {},
   "outputs": [
    {
     "data": {
      "text/plain": [
       "np.int64(1)"
      ]
     },
     "execution_count": 224,
     "metadata": {},
     "output_type": "execute_result"
    }
   ],
   "source": [
    "mat[0,1]"
   ]
  },
  {
   "cell_type": "code",
   "execution_count": 225,
   "id": "b2117b21-5908-47b2-a65a-0105043eb43a",
   "metadata": {},
   "outputs": [
    {
     "data": {
      "text/plain": [
       "np.int64(16)"
      ]
     },
     "execution_count": 225,
     "metadata": {},
     "output_type": "execute_result"
    }
   ],
   "source": [
    "mat[1,6]"
   ]
  },
  {
   "cell_type": "code",
   "execution_count": 226,
   "id": "14a85209-db41-4da0-8407-a288e76b93a0",
   "metadata": {},
   "outputs": [
    {
     "data": {
      "text/plain": [
       "array([[10, 11, 12, 13, 14, 15, 16, 17, 18, 19],\n",
       "       [20, 21, 22, 23, 24, 25, 26, 27, 28, 29],\n",
       "       [30, 31, 32, 33, 34, 35, 36, 37, 38, 39],\n",
       "       [40, 41, 42, 43, 44, 45, 46, 47, 48, 49],\n",
       "       [50, 51, 52, 53, 54, 55, 56, 57, 58, 59]])"
      ]
     },
     "execution_count": 226,
     "metadata": {},
     "output_type": "execute_result"
    }
   ],
   "source": [
    "mat[1:6]"
   ]
  },
  {
   "cell_type": "code",
   "execution_count": 227,
   "id": "0fa59707-fc23-4526-a3cf-cd4391a4fa53",
   "metadata": {},
   "outputs": [
    {
     "data": {
      "text/plain": [
       "array([[10, 11, 12, 13, 14, 15, 16, 17, 18, 19],\n",
       "       [20, 21, 22, 23, 24, 25, 26, 27, 28, 29],\n",
       "       [30, 31, 32, 33, 34, 35, 36, 37, 38, 39],\n",
       "       [40, 41, 42, 43, 44, 45, 46, 47, 48, 49],\n",
       "       [50, 51, 52, 53, 54, 55, 56, 57, 58, 59],\n",
       "       [60, 61, 62, 63, 64, 65, 66, 67, 68, 69],\n",
       "       [70, 71, 72, 73, 74, 75, 76, 77, 78, 79],\n",
       "       [80, 81, 82, 83, 84, 85, 86, 87, 88, 89],\n",
       "       [90, 91, 92, 93, 94, 95, 96, 97, 98, 99]])"
      ]
     },
     "execution_count": 227,
     "metadata": {},
     "output_type": "execute_result"
    }
   ],
   "source": [
    "mat[1:]"
   ]
  },
  {
   "cell_type": "code",
   "execution_count": 228,
   "id": "cb209820-b539-4fcd-8914-ab98c2704c99",
   "metadata": {},
   "outputs": [
    {
     "data": {
      "text/plain": [
       "array([[ 0,  1,  2,  3,  4,  5,  6,  7,  8,  9],\n",
       "       [10, 11, 12, 13, 14, 15, 16, 17, 18, 19],\n",
       "       [20, 21, 22, 23, 24, 25, 26, 27, 28, 29],\n",
       "       [30, 31, 32, 33, 34, 35, 36, 37, 38, 39],\n",
       "       [40, 41, 42, 43, 44, 45, 46, 47, 48, 49],\n",
       "       [50, 51, 52, 53, 54, 55, 56, 57, 58, 59]])"
      ]
     },
     "execution_count": 228,
     "metadata": {},
     "output_type": "execute_result"
    }
   ],
   "source": [
    "mat[:6]"
   ]
  },
  {
   "cell_type": "code",
   "execution_count": 229,
   "id": "34298b9b-1caf-4afb-a0fd-409d13507dea",
   "metadata": {},
   "outputs": [
    {
     "data": {
      "text/plain": [
       "array([[0, 1, 2, 3, 4, 5, 6, 7, 8, 9]])"
      ]
     },
     "execution_count": 229,
     "metadata": {},
     "output_type": "execute_result"
    }
   ],
   "source": [
    "mat[0:1]"
   ]
  },
  {
   "cell_type": "code",
   "execution_count": 230,
   "id": "305817c3-8b60-4efe-9b9c-6a5c1be1e08e",
   "metadata": {},
   "outputs": [
    {
     "data": {
      "text/plain": [
       "array([[30, 31, 32, 33, 34, 35, 36, 37, 38, 39],\n",
       "       [40, 41, 42, 43, 44, 45, 46, 47, 48, 49]])"
      ]
     },
     "execution_count": 230,
     "metadata": {},
     "output_type": "execute_result"
    }
   ],
   "source": [
    "mat[3:5]"
   ]
  },
  {
   "cell_type": "code",
   "execution_count": 231,
   "id": "59036f30-ce99-4815-950f-b1a3e0377456",
   "metadata": {},
   "outputs": [
    {
     "data": {
      "text/plain": [
       "np.int64(35)"
      ]
     },
     "execution_count": 231,
     "metadata": {},
     "output_type": "execute_result"
    }
   ],
   "source": [
    "mat[3,5]"
   ]
  },
  {
   "cell_type": "code",
   "execution_count": 233,
   "id": "85fe1934-a8b8-4701-9752-6113a39cff45",
   "metadata": {},
   "outputs": [
    {
     "data": {
      "text/plain": [
       "array([[ 0,  1,  2,  3,  4,  5,  6,  7,  8,  9],\n",
       "       [10, 11, 12, 13, 14, 15, 16, 17, 18, 19],\n",
       "       [20, 21, 22, 23, 24, 25, 26, 27, 28, 29],\n",
       "       [30, 31, 32, 33, 34, 35, 36, 37, 38, 39],\n",
       "       [40, 41, 42, 43, 44, 45, 46, 47, 48, 49],\n",
       "       [50, 51, 52, 53, 54, 55, 56, 57, 58, 59],\n",
       "       [60, 61, 62, 63, 64, 65, 66, 67, 68, 69],\n",
       "       [70, 71, 72, 73, 74, 75, 76, 77, 78, 79],\n",
       "       [80, 81, 82, 83, 84, 85, 86, 87, 88, 89],\n",
       "       [90, 91, 92, 93, 94, 95, 96, 97, 98, 99]])"
      ]
     },
     "execution_count": 233,
     "metadata": {},
     "output_type": "execute_result"
    }
   ],
   "source": [
    "mat"
   ]
  },
  {
   "cell_type": "code",
   "execution_count": 234,
   "id": "5def8cfb-496c-45a4-b830-805df292d850",
   "metadata": {},
   "outputs": [
    {
     "data": {
      "text/plain": [
       "array([[12, 13]])"
      ]
     },
     "execution_count": 234,
     "metadata": {},
     "output_type": "execute_result"
    }
   ],
   "source": [
    "mat[1:2,2:4] "
   ]
  },
  {
   "cell_type": "code",
   "execution_count": 235,
   "id": "05e080e7-1e44-4dc9-b5bd-d0b9f3d119de",
   "metadata": {},
   "outputs": [
    {
     "data": {
      "text/plain": [
       "array([[22]])"
      ]
     },
     "execution_count": 235,
     "metadata": {},
     "output_type": "execute_result"
    }
   ],
   "source": [
    "mat[2:3,2:3] "
   ]
  },
  {
   "cell_type": "code",
   "execution_count": 236,
   "id": "ced976ed-bdc8-425e-a74c-660c5595fbcd",
   "metadata": {},
   "outputs": [
    {
     "data": {
      "text/plain": [
       "array([[23, 24],\n",
       "       [33, 34]])"
      ]
     },
     "execution_count": 236,
     "metadata": {},
     "output_type": "execute_result"
    }
   ],
   "source": [
    "mat[2:4,3:5]"
   ]
  },
  {
   "cell_type": "code",
   "execution_count": 237,
   "id": "4622f203-3ef3-4949-af18-f1bb92774a62",
   "metadata": {},
   "outputs": [
    {
     "data": {
      "text/plain": [
       "array([[32, 33],\n",
       "       [42, 43]])"
      ]
     },
     "execution_count": 237,
     "metadata": {},
     "output_type": "execute_result"
    }
   ],
   "source": [
    "mat[3:5,2:4]"
   ]
  },
  {
   "cell_type": "code",
   "execution_count": 238,
   "id": "0cc56e07-17da-4c38-92ab-65983b1c417c",
   "metadata": {},
   "outputs": [
    {
     "data": {
      "text/plain": [
       "array([[ 0,  1,  2,  3,  4,  5,  6,  7,  8,  9],\n",
       "       [10, 11, 12, 13, 14, 15, 16, 17, 18, 19],\n",
       "       [20, 21, 22, 23, 24, 25, 26, 27, 28, 29],\n",
       "       [30, 31, 32, 33, 34, 35, 36, 37, 38, 39],\n",
       "       [40, 41, 42, 43, 44, 45, 46, 47, 48, 49],\n",
       "       [50, 51, 52, 53, 54, 55, 56, 57, 58, 59],\n",
       "       [60, 61, 62, 63, 64, 65, 66, 67, 68, 69],\n",
       "       [70, 71, 72, 73, 74, 75, 76, 77, 78, 79],\n",
       "       [80, 81, 82, 83, 84, 85, 86, 87, 88, 89],\n",
       "       [90, 91, 92, 93, 94, 95, 96, 97, 98, 99]])"
      ]
     },
     "execution_count": 238,
     "metadata": {},
     "output_type": "execute_result"
    }
   ],
   "source": [
    "mat"
   ]
  },
  {
   "cell_type": "code",
   "execution_count": 239,
   "id": "398cb84b-6f66-48aa-ad93-881d6bb77e6e",
   "metadata": {},
   "outputs": [
    {
     "data": {
      "text/plain": [
       "array([[24]])"
      ]
     },
     "execution_count": 239,
     "metadata": {},
     "output_type": "execute_result"
    }
   ],
   "source": [
    "mat[2:3,4:5]"
   ]
  },
  {
   "cell_type": "markdown",
   "id": "4c474c24-62ba-45bd-b3b0-31e6653f7dbe",
   "metadata": {},
   "source": [
    "# Masking"
   ]
  },
  {
   "cell_type": "code",
   "execution_count": 240,
   "id": "d8c79e66-888e-4e6c-8c96-4cd8c81c0c28",
   "metadata": {},
   "outputs": [
    {
     "data": {
      "text/plain": [
       "array([[ 0,  1,  2,  3,  4,  5,  6,  7,  8,  9],\n",
       "       [10, 11, 12, 13, 14, 15, 16, 17, 18, 19],\n",
       "       [20, 21, 22, 23, 24, 25, 26, 27, 28, 29],\n",
       "       [30, 31, 32, 33, 34, 35, 36, 37, 38, 39],\n",
       "       [40, 41, 42, 43, 44, 45, 46, 47, 48, 49],\n",
       "       [50, 51, 52, 53, 54, 55, 56, 57, 58, 59],\n",
       "       [60, 61, 62, 63, 64, 65, 66, 67, 68, 69],\n",
       "       [70, 71, 72, 73, 74, 75, 76, 77, 78, 79],\n",
       "       [80, 81, 82, 83, 84, 85, 86, 87, 88, 89],\n",
       "       [90, 91, 92, 93, 94, 95, 96, 97, 98, 99]])"
      ]
     },
     "execution_count": 240,
     "metadata": {},
     "output_type": "execute_result"
    }
   ],
   "source": [
    "mat # we also called as filter"
   ]
  },
  {
   "cell_type": "code",
   "execution_count": 241,
   "id": "3f320d0a-b66b-41d4-9f3a-1165a3522cfb",
   "metadata": {},
   "outputs": [
    {
     "data": {
      "text/plain": [
       "3165579093520"
      ]
     },
     "execution_count": 241,
     "metadata": {},
     "output_type": "execute_result"
    }
   ],
   "source": [
    "id(mat)"
   ]
  },
  {
   "cell_type": "code",
   "execution_count": 242,
   "id": "70b606d7-edc7-42fa-820e-7d210da7f844",
   "metadata": {},
   "outputs": [
    {
     "data": {
      "text/plain": [
       "array([ 0,  1,  2,  3,  4,  5,  6,  7,  8,  9, 10, 11, 12, 13, 14, 15, 16,\n",
       "       17, 18, 19, 20, 21, 22, 23, 24, 25, 26, 27, 28, 29, 30, 31, 32, 33,\n",
       "       34, 35, 36, 37, 38, 39, 40, 41, 42, 43, 44, 45, 46, 47, 48, 49])"
      ]
     },
     "execution_count": 242,
     "metadata": {},
     "output_type": "execute_result"
    }
   ],
   "source": [
    "mat[mat<50]"
   ]
  },
  {
   "cell_type": "code",
   "execution_count": 243,
   "id": "98c77b47-302b-41b1-8554-80907440641c",
   "metadata": {},
   "outputs": [
    {
     "data": {
      "text/plain": [
       "array([ 0,  1,  2,  3,  4,  5,  6,  7,  8,  9, 10, 11, 12, 13, 14, 15, 16,\n",
       "       17, 18, 19, 20, 21, 22, 23, 24, 25, 26, 27, 28, 29, 30, 31, 32, 33,\n",
       "       34, 35, 36, 37, 38, 39, 40, 41, 42, 43, 44, 45, 46, 47, 48, 49, 50])"
      ]
     },
     "execution_count": 243,
     "metadata": {},
     "output_type": "execute_result"
    }
   ],
   "source": [
    "mat[mat<=50]"
   ]
  },
  {
   "cell_type": "code",
   "execution_count": 244,
   "id": "2b19d458-7efe-4597-ab4f-8da50a368142",
   "metadata": {},
   "outputs": [
    {
     "data": {
      "text/plain": [
       "array([[False, False, False, False, False, False, False, False, False,\n",
       "        False],\n",
       "       [False, False, False, False, False, False, False, False, False,\n",
       "        False],\n",
       "       [False, False, False, False, False, False, False, False, False,\n",
       "        False],\n",
       "       [False, False, False, False, False, False, False, False, False,\n",
       "        False],\n",
       "       [False, False, False, False, False, False, False, False, False,\n",
       "        False],\n",
       "       [False,  True,  True,  True,  True,  True,  True,  True,  True,\n",
       "         True],\n",
       "       [ True,  True,  True,  True,  True,  True,  True,  True,  True,\n",
       "         True],\n",
       "       [ True,  True,  True,  True,  True,  True,  True,  True,  True,\n",
       "         True],\n",
       "       [ True,  True,  True,  True,  True,  True,  True,  True,  True,\n",
       "         True],\n",
       "       [ True,  True,  True,  True,  True,  True,  True,  True,  True,\n",
       "         True]])"
      ]
     },
     "execution_count": 244,
     "metadata": {},
     "output_type": "execute_result"
    }
   ],
   "source": [
    "mat > 50"
   ]
  },
  {
   "cell_type": "code",
   "execution_count": 246,
   "id": "57383386-9486-4b35-8ec0-c975646e9ea1",
   "metadata": {},
   "outputs": [
    {
     "data": {
      "text/plain": [
       "array([51, 52, 53, 54, 55, 56, 57, 58, 59, 60, 61, 62, 63, 64, 65, 66, 67,\n",
       "       68, 69, 70, 71, 72, 73, 74, 75, 76, 77, 78, 79, 80, 81, 82, 83, 84,\n",
       "       85, 86, 87, 88, 89, 90, 91, 92, 93, 94, 95, 96, 97, 98, 99])"
      ]
     },
     "execution_count": 246,
     "metadata": {},
     "output_type": "execute_result"
    }
   ],
   "source": [
    "mat [mat > 50]"
   ]
  },
  {
   "cell_type": "code",
   "execution_count": 247,
   "id": "ce52a3b7-83b6-4bb9-a71d-6aea16d63c8c",
   "metadata": {},
   "outputs": [
    {
     "data": {
      "text/plain": [
       "array([50])"
      ]
     },
     "execution_count": 247,
     "metadata": {},
     "output_type": "execute_result"
    }
   ],
   "source": [
    "mat[mat==50] "
   ]
  },
  {
   "cell_type": "code",
   "execution_count": 248,
   "id": "b516c170-96b2-428a-9dc3-a0b6cf8a246b",
   "metadata": {},
   "outputs": [
    {
     "data": {
      "text/plain": [
       "array([[False, False, False, False, False, False, False, False, False,\n",
       "        False],\n",
       "       [False, False, False, False, False, False, False, False, False,\n",
       "        False],\n",
       "       [False, False, False, False, False, False, False, False, False,\n",
       "        False],\n",
       "       [False, False, False, False, False, False, False, False, False,\n",
       "        False],\n",
       "       [False, False, False, False, False, False, False, False, False,\n",
       "        False],\n",
       "       [ True, False, False, False, False, False, False, False, False,\n",
       "        False],\n",
       "       [False, False, False, False, False, False, False, False, False,\n",
       "        False],\n",
       "       [False, False, False, False, False, False, False, False, False,\n",
       "        False],\n",
       "       [False, False, False, False, False, False, False, False, False,\n",
       "        False],\n",
       "       [False, False, False, False, False, False, False, False, False,\n",
       "        False]])"
      ]
     },
     "execution_count": 248,
     "metadata": {},
     "output_type": "execute_result"
    }
   ],
   "source": [
    "mat == 50"
   ]
  },
  {
   "cell_type": "code",
   "execution_count": 249,
   "id": "e2d16840-b19d-4218-ab9f-85e18d7d53c8",
   "metadata": {},
   "outputs": [
    {
     "data": {
      "text/plain": [
       "array([ 0,  1,  2,  3,  4,  5,  6,  7,  8,  9, 10, 11, 12, 13, 14, 15, 16,\n",
       "       17, 18, 19, 20, 21, 22, 23, 24, 25, 26, 27, 28, 29, 30, 31, 32, 33,\n",
       "       34, 35, 36, 37, 38, 39, 40, 41, 42, 43, 44, 45, 46, 47, 48, 49])"
      ]
     },
     "execution_count": 249,
     "metadata": {},
     "output_type": "execute_result"
    }
   ],
   "source": [
    "a1 = mat[mat<50] \n",
    "a1"
   ]
  },
  {
   "cell_type": "code",
   "execution_count": 250,
   "id": "12c48d7d-fbe2-40ee-9615-ad41c58bee9e",
   "metadata": {},
   "outputs": [
    {
     "data": {
      "text/plain": [
       "array([51, 52, 53, 54, 55, 56, 57, 58, 59, 60, 61, 62, 63, 64, 65, 66, 67,\n",
       "       68, 69, 70, 71, 72, 73, 74, 75, 76, 77, 78, 79, 80, 81, 82, 83, 84,\n",
       "       85, 86, 87, 88, 89, 90, 91, 92, 93, 94, 95, 96, 97, 98, 99])"
      ]
     },
     "execution_count": 250,
     "metadata": {},
     "output_type": "execute_result"
    }
   ],
   "source": [
    "a2 = mat[mat>50] \n",
    "a2"
   ]
  },
  {
   "cell_type": "code",
   "execution_count": 251,
   "id": "8c49c082-c140-498b-9b9f-16d7223f553f",
   "metadata": {},
   "outputs": [
    {
     "data": {
      "text/plain": [
       "array([ 0,  1,  2,  3,  4,  5,  6,  7,  8,  9, 10, 11, 12, 13, 14, 15, 16,\n",
       "       17, 18, 19, 20, 21, 22, 23, 24, 25, 26, 27, 28, 29, 30, 31, 32, 33,\n",
       "       34, 35, 36, 37, 38, 39, 40, 41, 42, 43, 44, 45, 46, 47, 48, 49, 50])"
      ]
     },
     "execution_count": 251,
     "metadata": {},
     "output_type": "execute_result"
    }
   ],
   "source": [
    "a3 = mat[mat<=50] \n",
    "a3"
   ]
  },
  {
   "cell_type": "code",
   "execution_count": 252,
   "id": "a8b40b17-6f91-47b9-9e5c-b544882b6253",
   "metadata": {},
   "outputs": [
    {
     "data": {
      "text/plain": [
       "array([50])"
      ]
     },
     "execution_count": 252,
     "metadata": {},
     "output_type": "execute_result"
    }
   ],
   "source": [
    "a4 = mat[mat==50]\n",
    "a4"
   ]
  },
  {
   "cell_type": "markdown",
   "id": "e3b44d35-2498-40ad-9646-b31a3061ac13",
   "metadata": {},
   "source": [
    " # Python program to generate otp"
   ]
  },
  {
   "cell_type": "code",
   "execution_count": 255,
   "id": "c8a2eb3c-6a8e-476c-ba5d-c3950e0f1b05",
   "metadata": {},
   "outputs": [
    {
     "name": "stdout",
     "output_type": "stream",
     "text": [
      "Your OTP is: 2133\n"
     ]
    }
   ],
   "source": [
    "import random\n",
    "\n",
    "def generate_otp(length=4):\n",
    "    \"\"\"Generate a numeric OTP of a specified length.\"\"\"\n",
    "    digits = '012345'\n",
    "    otp = ''.join(random.choice(digits) for _ in range(length))\n",
    "    return otp\n",
    "    # Example usage\n",
    "otp_length = 4  # You can change this to any length you prefer\n",
    "otp = generate_otp(otp_length)\n",
    "print(f\"Your OTP is: {otp}\")\n"
   ]
  },
  {
   "cell_type": "code",
   "execution_count": 256,
   "id": "f146e4b1-d367-465d-b44d-93f746ebbe7f",
   "metadata": {},
   "outputs": [
    {
     "name": "stdout",
     "output_type": "stream",
     "text": [
      "good even\n",
      "good even\n",
      "good even\n"
     ]
    }
   ],
   "source": [
    "def wish():\n",
    "    print('good even')\n",
    "wish()\n",
    "\n",
    "def wish():\n",
    "    print('good even')\n",
    "wish()\n",
    "\n",
    "def wish():\n",
    "    print('good even')\n",
    "wish()"
   ]
  },
  {
   "cell_type": "code",
   "execution_count": 257,
   "id": "383b21c1-f6f2-4f0f-94ef-45836eeb207a",
   "metadata": {},
   "outputs": [
    {
     "name": "stdout",
     "output_type": "stream",
     "text": [
      "good even\n",
      "good even\n",
      "good even\n"
     ]
    }
   ],
   "source": [
    "def wish():\n",
    "    print('good even')\n",
    "wish()\n",
    "\n",
    "wish()\n",
    "\n",
    "wish()"
   ]
  },
  {
   "cell_type": "code",
   "execution_count": 260,
   "id": "3f847670-cc53-4b3f-927b-c44eaf990351",
   "metadata": {},
   "outputs": [
    {
     "name": "stdout",
     "output_type": "stream",
     "text": [
      "5\n"
     ]
    }
   ],
   "source": [
    "list1=['a','b','g',1,5]\n",
    "print(list1.pop())"
   ]
  },
  {
   "cell_type": "code",
   "execution_count": 261,
   "id": "9dc5a074-5e69-4deb-888a-cff90880ea73",
   "metadata": {},
   "outputs": [
    {
     "data": {
      "text/plain": [
       "['a', 'b', 'g', 1]"
      ]
     },
     "execution_count": 261,
     "metadata": {},
     "output_type": "execute_result"
    }
   ],
   "source": [
    "list1"
   ]
  },
  {
   "cell_type": "code",
   "execution_count": 264,
   "id": "6087ca0b-c767-43f3-bed0-f294c152643f",
   "metadata": {},
   "outputs": [
    {
     "name": "stdout",
     "output_type": "stream",
     "text": [
      "[1, 2, 3, 4]\n"
     ]
    }
   ],
   "source": [
    "x = [1, 2, 3]\n",
    "y = x.copy()\n",
    "x.append(4)\n",
    "print(x)"
   ]
  },
  {
   "cell_type": "code",
   "execution_count": 265,
   "id": "65e42bbb-fb4a-4012-806e-138bdfa738d7",
   "metadata": {},
   "outputs": [
    {
     "data": {
      "text/plain": [
       "[1, 2, 3]"
      ]
     },
     "execution_count": 265,
     "metadata": {},
     "output_type": "execute_result"
    }
   ],
   "source": [
    "y"
   ]
  }
 ],
 "metadata": {
  "kernelspec": {
   "display_name": "Python 3 (ipykernel)",
   "language": "python",
   "name": "python3"
  },
  "language_info": {
   "codemirror_mode": {
    "name": "ipython",
    "version": 3
   },
   "file_extension": ".py",
   "mimetype": "text/x-python",
   "name": "python",
   "nbconvert_exporter": "python",
   "pygments_lexer": "ipython3",
   "version": "3.13.5"
  }
 },
 "nbformat": 4,
 "nbformat_minor": 5
}
