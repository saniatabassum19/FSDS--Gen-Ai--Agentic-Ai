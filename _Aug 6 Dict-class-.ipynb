{
 "cells": [
  {
   "cell_type": "markdown",
   "id": "0b4f7ff3-2aed-4989-b99f-e6951617fc0d",
   "metadata": {},
   "source": [
    "# Superset → A set that contains all elements of another set.\n",
    "\n",
    "# Subset → A set whose all elements are contained in another set.\n",
    "\n",
    "# Disjoint → Two sets that have no elements in common."
   ]
  },
  {
   "cell_type": "code",
   "execution_count": 19,
   "id": "155f125e-5539-42ef-bf3b-9a095b316480",
   "metadata": {},
   "outputs": [
    {
     "name": "stdout",
     "output_type": "stream",
     "text": [
      "{1, 2, 3, 4, 5, 6, 7, 8, 9}\n",
      "{65, 35, 85, 55, 75, 45}\n",
      "{40, 10, 20, 30}\n"
     ]
    }
   ],
   "source": [
    "a1 = {1,2,3,4,5,6,7,8,9}\n",
    "b1 = {35,45,55,65,75,85}\n",
    "c1 = {10,20,30,40}\n",
    "print(a1)\n",
    "print(b1)\n",
    "print(c1)"
   ]
  },
  {
   "cell_type": "code",
   "execution_count": 20,
   "id": "6863af69-8d54-4de1-b092-00abb0372d55",
   "metadata": {},
   "outputs": [
    {
     "data": {
      "text/plain": [
       "False"
      ]
     },
     "execution_count": 20,
     "metadata": {},
     "output_type": "execute_result"
    }
   ],
   "source": [
    "a1.issuperset(b1)"
   ]
  },
  {
   "cell_type": "code",
   "execution_count": 21,
   "id": "d0ae03f8-2298-4467-b527-f01526f61537",
   "metadata": {},
   "outputs": [
    {
     "data": {
      "text/plain": [
       "False"
      ]
     },
     "execution_count": 21,
     "metadata": {},
     "output_type": "execute_result"
    }
   ],
   "source": [
    "b1.issubset(a1)"
   ]
  },
  {
   "cell_type": "code",
   "execution_count": 22,
   "id": "19546443-65bd-4d8a-a631-0509f2f39ace",
   "metadata": {},
   "outputs": [
    {
     "data": {
      "text/plain": [
       "True"
      ]
     },
     "execution_count": 22,
     "metadata": {},
     "output_type": "execute_result"
    }
   ],
   "source": [
    "c1.isdisjoint(a1)"
   ]
  },
  {
   "cell_type": "code",
   "execution_count": 23,
   "id": "cc8959e2-e1e5-4f03-a47e-c83ccbae7273",
   "metadata": {},
   "outputs": [
    {
     "data": {
      "text/plain": [
       "True"
      ]
     },
     "execution_count": 23,
     "metadata": {},
     "output_type": "execute_result"
    }
   ],
   "source": [
    "b1.isdisjoint(a1)"
   ]
  },
  {
   "cell_type": "code",
   "execution_count": 25,
   "id": "d843ec3f-552a-402b-858e-c9cd4f2ad677",
   "metadata": {},
   "outputs": [
    {
     "data": {
      "text/plain": [
       "True"
      ]
     },
     "execution_count": 25,
     "metadata": {},
     "output_type": "execute_result"
    }
   ],
   "source": [
    "c1.isdisjoint(a1)"
   ]
  },
  {
   "cell_type": "code",
   "execution_count": 26,
   "id": "09fbf0fe-90e0-446e-8e0f-5ebf923e283b",
   "metadata": {},
   "outputs": [
    {
     "name": "stdout",
     "output_type": "stream",
     "text": [
      "{1, 2, 3, 4, 5, 6, 7, 8, 9}\n",
      "{65, 35, 85, 55, 75, 45}\n",
      "{40, 10, 20, 30}\n"
     ]
    }
   ],
   "source": [
    "a2 = {1,2,3,4,5,6,7,8,9}\n",
    "b2 = {35,45,55,65,75,85}\n",
    "c2 = {10,20,30,40}\n",
    "print(a1)\n",
    "print(b1)\n",
    "print(c1)"
   ]
  },
  {
   "cell_type": "code",
   "execution_count": 27,
   "id": "244ba851-a522-45e5-b91d-a95ee7ce3eb6",
   "metadata": {},
   "outputs": [
    {
     "data": {
      "text/plain": [
       "True"
      ]
     },
     "execution_count": 27,
     "metadata": {},
     "output_type": "execute_result"
    }
   ],
   "source": [
    "b2.isdisjoint(a2)"
   ]
  },
  {
   "cell_type": "code",
   "execution_count": 28,
   "id": "c129a3dd-6399-493c-bd57-e16efc0adcb5",
   "metadata": {},
   "outputs": [
    {
     "data": {
      "text/plain": [
       "False"
      ]
     },
     "execution_count": 28,
     "metadata": {},
     "output_type": "execute_result"
    }
   ],
   "source": [
    "a2.issubset(b2)"
   ]
  },
  {
   "cell_type": "code",
   "execution_count": 29,
   "id": "2872bd03-e64c-4d34-b3d6-c6831591ad36",
   "metadata": {},
   "outputs": [
    {
     "data": {
      "text/plain": [
       "False"
      ]
     },
     "execution_count": 29,
     "metadata": {},
     "output_type": "execute_result"
    }
   ],
   "source": [
    "b2.issubset(a2)"
   ]
  },
  {
   "cell_type": "code",
   "execution_count": 30,
   "id": "37bb02a5-9ac7-4b1c-88f8-7be251a33ffd",
   "metadata": {},
   "outputs": [
    {
     "data": {
      "text/plain": [
       "True"
      ]
     },
     "execution_count": 30,
     "metadata": {},
     "output_type": "execute_result"
    }
   ],
   "source": [
    "c2.isdisjoint(a2)"
   ]
  },
  {
   "cell_type": "markdown",
   "id": "f343aeb9-6f61-4361-9e67-1f17c9ffec37",
   "metadata": {},
   "source": [
    "# Dictionary "
   ]
  },
  {
   "cell_type": "code",
   "execution_count": 31,
   "id": "c6f56917-2b88-4852-b7b9-68d222bc6568",
   "metadata": {},
   "outputs": [
    {
     "data": {
      "text/plain": [
       "{}"
      ]
     },
     "execution_count": 31,
     "metadata": {},
     "output_type": "execute_result"
    }
   ],
   "source": [
    "d ={}\n",
    "d"
   ]
  },
  {
   "cell_type": "code",
   "execution_count": 32,
   "id": "f4eeb5a3-c29f-4987-b620-8ccd7158a6f4",
   "metadata": {},
   "outputs": [
    {
     "data": {
      "text/plain": [
       "dict"
      ]
     },
     "execution_count": 32,
     "metadata": {},
     "output_type": "execute_result"
    }
   ],
   "source": [
    "type(d)"
   ]
  },
  {
   "cell_type": "code",
   "execution_count": 33,
   "id": "f62d29d7-5554-4d5c-859d-05a128e5a35f",
   "metadata": {},
   "outputs": [
    {
     "data": {
      "text/plain": [
       "{1: 'one', 2: 'two', 3: 'Three'}"
      ]
     },
     "execution_count": 33,
     "metadata": {},
     "output_type": "execute_result"
    }
   ],
   "source": [
    "d1 = {1:\"one\", 2:\"two\", 3:\"Three\"}\n",
    "d1"
   ]
  },
  {
   "cell_type": "code",
   "execution_count": 35,
   "id": "30aa012a-dc02-4f7e-b5ef-aa703aad669b",
   "metadata": {},
   "outputs": [
    {
     "data": {
      "text/plain": [
       "dict_keys([1, 2, 3])"
      ]
     },
     "execution_count": 35,
     "metadata": {},
     "output_type": "execute_result"
    }
   ],
   "source": [
    "d1.keys()"
   ]
  },
  {
   "cell_type": "code",
   "execution_count": 36,
   "id": "324a7015-7990-4055-a2a9-7bb92cbd47ea",
   "metadata": {},
   "outputs": [
    {
     "data": {
      "text/plain": [
       "dict_values(['one', 'two', 'Three'])"
      ]
     },
     "execution_count": 36,
     "metadata": {},
     "output_type": "execute_result"
    }
   ],
   "source": [
    "d1.values()"
   ]
  },
  {
   "cell_type": "code",
   "execution_count": 37,
   "id": "0fc88542-f7b0-4621-9927-3bfeab30d9fb",
   "metadata": {},
   "outputs": [
    {
     "data": {
      "text/plain": [
       "dict_items([(1, 'one'), (2, 'two'), (3, 'Three')])"
      ]
     },
     "execution_count": 37,
     "metadata": {},
     "output_type": "execute_result"
    }
   ],
   "source": [
    "d1.items()"
   ]
  },
  {
   "cell_type": "code",
   "execution_count": 38,
   "id": "ec347b24-9aa2-4d8c-b01c-20053f509543",
   "metadata": {},
   "outputs": [
    {
     "ename": "KeyError",
     "evalue": "0",
     "output_type": "error",
     "traceback": [
      "\u001b[31m---------------------------------------------------------------------------\u001b[39m",
      "\u001b[31mKeyError\u001b[39m                                  Traceback (most recent call last)",
      "\u001b[36mCell\u001b[39m\u001b[36m \u001b[39m\u001b[32mIn[38]\u001b[39m\u001b[32m, line 1\u001b[39m\n\u001b[32m----> \u001b[39m\u001b[32m1\u001b[39m \u001b[43md1\u001b[49m\u001b[43m[\u001b[49m\u001b[32;43m0\u001b[39;49m\u001b[43m]\u001b[49m\n",
      "\u001b[31mKeyError\u001b[39m: 0"
     ]
    }
   ],
   "source": [
    "d1[0]  # keys should be called "
   ]
  },
  {
   "cell_type": "code",
   "execution_count": 39,
   "id": "cd6ad625-ccd1-4901-8614-de76d7397aca",
   "metadata": {},
   "outputs": [
    {
     "data": {
      "text/plain": [
       "'one'"
      ]
     },
     "execution_count": 39,
     "metadata": {},
     "output_type": "execute_result"
    }
   ],
   "source": [
    "d1[1] # keys should be called to get values"
   ]
  },
  {
   "cell_type": "code",
   "execution_count": 40,
   "id": "2eb2952c-5d21-43d8-b429-baf0cdff6494",
   "metadata": {},
   "outputs": [
    {
     "data": {
      "text/plain": [
       "'two'"
      ]
     },
     "execution_count": 40,
     "metadata": {},
     "output_type": "execute_result"
    }
   ],
   "source": [
    "d1.get(2)"
   ]
  },
  {
   "cell_type": "code",
   "execution_count": 41,
   "id": "ea7654a6-f965-4fa4-98f2-1a9b5e94b795",
   "metadata": {},
   "outputs": [
    {
     "data": {
      "text/plain": [
       "{1: 'one', 2: 'two', 3: 'Three'}"
      ]
     },
     "execution_count": 41,
     "metadata": {},
     "output_type": "execute_result"
    }
   ],
   "source": [
    "d1"
   ]
  },
  {
   "cell_type": "code",
   "execution_count": 43,
   "id": "9f748794-91a1-484c-9937-a887b2378dc6",
   "metadata": {},
   "outputs": [
    {
     "name": "stdout",
     "output_type": "stream",
     "text": [
      "1\n",
      "2\n",
      "3\n"
     ]
    }
   ],
   "source": [
    "for i in d1:\n",
    "    print(i)"
   ]
  },
  {
   "cell_type": "code",
   "execution_count": 44,
   "id": "3485c705-3551-42af-8353-2af6faba2621",
   "metadata": {},
   "outputs": [
    {
     "data": {
      "text/plain": [
       "2633909991616"
      ]
     },
     "execution_count": 44,
     "metadata": {},
     "output_type": "execute_result"
    }
   ],
   "source": [
    "id(d1)"
   ]
  },
  {
   "cell_type": "code",
   "execution_count": 45,
   "id": "bbb5b4e9-8e21-464f-9016-6c893e117628",
   "metadata": {},
   "outputs": [
    {
     "name": "stdout",
     "output_type": "stream",
     "text": [
      "1 : one\n",
      "2 : two\n",
      "3 : Three\n"
     ]
    }
   ],
   "source": [
    "for i in d1:\n",
    "    print(i, \":\" , d1[i])"
   ]
  },
  {
   "cell_type": "code",
   "execution_count": null,
   "id": "b898be22-85f9-4265-b213-ca5642c541d9",
   "metadata": {},
   "outputs": [],
   "source": []
  },
  {
   "cell_type": "code",
   "execution_count": null,
   "id": "855d82f0-e2bb-4159-ad01-14b94f8a8cd7",
   "metadata": {},
   "outputs": [],
   "source": []
  },
  {
   "cell_type": "code",
   "execution_count": null,
   "id": "39b1391a-72d2-422c-a506-e9abb16fe436",
   "metadata": {},
   "outputs": [],
   "source": []
  },
  {
   "cell_type": "code",
   "execution_count": null,
   "id": "501e1e71-fea8-4e5d-a161-a4e938449b65",
   "metadata": {},
   "outputs": [],
   "source": []
  },
  {
   "cell_type": "code",
   "execution_count": null,
   "id": "e1bbaeff-e7ae-4322-9220-f060b1555501",
   "metadata": {},
   "outputs": [],
   "source": []
  },
  {
   "cell_type": "code",
   "execution_count": null,
   "id": "2cd9841c-9c3c-4064-9beb-825549332801",
   "metadata": {},
   "outputs": [],
   "source": []
  }
 ],
 "metadata": {
  "kernelspec": {
   "display_name": "Python 3 (ipykernel)",
   "language": "python",
   "name": "python3"
  },
  "language_info": {
   "codemirror_mode": {
    "name": "ipython",
    "version": 3
   },
   "file_extension": ".py",
   "mimetype": "text/x-python",
   "name": "python",
   "nbconvert_exporter": "python",
   "pygments_lexer": "ipython3",
   "version": "3.13.5"
  }
 },
 "nbformat": 4,
 "nbformat_minor": 5
}
