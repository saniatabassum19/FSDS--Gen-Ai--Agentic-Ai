{
 "cells": [
  {
   "cell_type": "markdown",
   "id": "ebfdc0df-a063-4d75-8e0d-8029f7b289b6",
   "metadata": {},
   "source": [
    "# Tuple"
   ]
  },
  {
   "cell_type": "code",
   "execution_count": 2,
   "id": "d731960a-9951-48b7-b8ad-737c7c6c0bb4",
   "metadata": {},
   "outputs": [
    {
     "data": {
      "text/plain": [
       "()"
      ]
     },
     "execution_count": 2,
     "metadata": {},
     "output_type": "execute_result"
    }
   ],
   "source": [
    "t = ()\n",
    "t"
   ]
  },
  {
   "cell_type": "code",
   "execution_count": 3,
   "id": "dfc81591-3b9a-44e8-bf4f-1189507a5f55",
   "metadata": {},
   "outputs": [
    {
     "data": {
      "text/plain": [
       "tuple"
      ]
     },
     "execution_count": 3,
     "metadata": {},
     "output_type": "execute_result"
    }
   ],
   "source": [
    "type(t)  "
   ]
  },
  {
   "cell_type": "code",
   "execution_count": 4,
   "id": "724ea154-3f81-4245-80cc-dc0fc625b2af",
   "metadata": {},
   "outputs": [
    {
     "data": {
      "text/plain": [
       "(10, 20, 30)"
      ]
     },
     "execution_count": 4,
     "metadata": {},
     "output_type": "execute_result"
    }
   ],
   "source": [
    "t = ( 10 , 20 ,30)\n",
    "t"
   ]
  },
  {
   "cell_type": "code",
   "execution_count": 5,
   "id": "511ae181-bfbd-45af-a833-6e973b31102c",
   "metadata": {},
   "outputs": [
    {
     "data": {
      "text/plain": [
       "3"
      ]
     },
     "execution_count": 5,
     "metadata": {},
     "output_type": "execute_result"
    }
   ],
   "source": [
    "len(t)"
   ]
  },
  {
   "cell_type": "code",
   "execution_count": 7,
   "id": "01249f7b-af1e-4d29-a178-4d8ced295a8b",
   "metadata": {},
   "outputs": [
    {
     "data": {
      "text/plain": [
       "(10, 2.3, 'str', True, (1+2j), 10)"
      ]
     },
     "execution_count": 7,
     "metadata": {},
     "output_type": "execute_result"
    }
   ],
   "source": [
    "t1 = (10, 2.3,\"str\",True,1+2j,10)  #duplicates are also allowed\n",
    "t1"
   ]
  },
  {
   "cell_type": "code",
   "execution_count": 8,
   "id": "55ba5566-7c13-4138-9024-c3a822f52aa6",
   "metadata": {},
   "outputs": [
    {
     "name": "stdout",
     "output_type": "stream",
     "text": [
      "(10, 20, 30)\n",
      "(10, 2.3, 'str', True, (1+2j), 10)\n"
     ]
    }
   ],
   "source": [
    "print(t)\n",
    "print(t1)"
   ]
  },
  {
   "cell_type": "markdown",
   "id": "845ab3b0-ef38-40a6-bdaf-1c30694f4702",
   "metadata": {},
   "source": [
    "## Tuple have only two functions 1. count , 2.Index"
   ]
  },
  {
   "cell_type": "code",
   "execution_count": 9,
   "id": "57a24a78-86b3-4dd3-872f-738d587f5c67",
   "metadata": {},
   "outputs": [
    {
     "data": {
      "text/plain": [
       "1"
      ]
     },
     "execution_count": 9,
     "metadata": {},
     "output_type": "execute_result"
    }
   ],
   "source": [
    "t.count(10)"
   ]
  },
  {
   "cell_type": "code",
   "execution_count": 10,
   "id": "e77638d9-9142-4f45-84d7-3b3fd9c56264",
   "metadata": {},
   "outputs": [
    {
     "data": {
      "text/plain": [
       "2"
      ]
     },
     "execution_count": 10,
     "metadata": {},
     "output_type": "execute_result"
    }
   ],
   "source": [
    "t1.count(10)"
   ]
  },
  {
   "cell_type": "code",
   "execution_count": 11,
   "id": "73de4c6a-a4dc-49db-af02-b1083c428969",
   "metadata": {},
   "outputs": [
    {
     "data": {
      "text/plain": [
       "1"
      ]
     },
     "execution_count": 11,
     "metadata": {},
     "output_type": "execute_result"
    }
   ],
   "source": [
    "t1.count(2.3)"
   ]
  },
  {
   "cell_type": "code",
   "execution_count": 12,
   "id": "c2829ce8-6d84-4cc2-82df-c00cfa662035",
   "metadata": {},
   "outputs": [
    {
     "data": {
      "text/plain": [
       "1"
      ]
     },
     "execution_count": 12,
     "metadata": {},
     "output_type": "execute_result"
    }
   ],
   "source": [
    "t1.index(2.3)"
   ]
  },
  {
   "cell_type": "code",
   "execution_count": 15,
   "id": "1229796f-4fde-40f0-8e18-5b5a60d8317d",
   "metadata": {},
   "outputs": [
    {
     "data": {
      "text/plain": [
       "2"
      ]
     },
     "execution_count": 15,
     "metadata": {},
     "output_type": "execute_result"
    }
   ],
   "source": [
    "t1.index(\"str\")"
   ]
  },
  {
   "cell_type": "code",
   "execution_count": 16,
   "id": "e7c766bb-ea87-42ef-b193-a23c6efc2ee4",
   "metadata": {},
   "outputs": [
    {
     "data": {
      "text/plain": [
       "(10, 20, 30)"
      ]
     },
     "execution_count": 16,
     "metadata": {},
     "output_type": "execute_result"
    }
   ],
   "source": [
    "t"
   ]
  },
  {
   "cell_type": "code",
   "execution_count": 18,
   "id": "9871afdc-32f8-4caa-9bbe-e9c3c14c30e9",
   "metadata": {},
   "outputs": [
    {
     "data": {
      "text/plain": [
       "10"
      ]
     },
     "execution_count": 18,
     "metadata": {},
     "output_type": "execute_result"
    }
   ],
   "source": [
    "t[0]"
   ]
  },
  {
   "cell_type": "code",
   "execution_count": 20,
   "id": "083872b0-51c1-42c9-ba8a-5f8788933eb3",
   "metadata": {},
   "outputs": [
    {
     "ename": "TypeError",
     "evalue": "'tuple' object does not support item assignment",
     "output_type": "error",
     "traceback": [
      "\u001b[31m---------------------------------------------------------------------------\u001b[39m",
      "\u001b[31mTypeError\u001b[39m                                 Traceback (most recent call last)",
      "\u001b[36mCell\u001b[39m\u001b[36m \u001b[39m\u001b[32mIn[20]\u001b[39m\u001b[32m, line 1\u001b[39m\n\u001b[32m----> \u001b[39m\u001b[32m1\u001b[39m \u001b[43mt\u001b[49m\u001b[43m[\u001b[49m\u001b[32;43m0\u001b[39;49m\u001b[43m]\u001b[49m = \u001b[32m100\u001b[39m\n",
      "\u001b[31mTypeError\u001b[39m: 'tuple' object does not support item assignment"
     ]
    }
   ],
   "source": [
    "t[0] = 100  # Tuples are immutable -- unchangeable"
   ]
  },
  {
   "cell_type": "code",
   "execution_count": 21,
   "id": "e72295db-064f-4ca9-8226-9b86fcf77a4f",
   "metadata": {},
   "outputs": [
    {
     "data": {
      "text/plain": [
       "(10, 20, 30)"
      ]
     },
     "execution_count": 21,
     "metadata": {},
     "output_type": "execute_result"
    }
   ],
   "source": [
    "t"
   ]
  },
  {
   "cell_type": "code",
   "execution_count": 24,
   "id": "cf8973f4-7420-4e97-a608-52bb4f9dd4f8",
   "metadata": {},
   "outputs": [
    {
     "data": {
      "text/plain": [
       "(10, 20, 30, 10, 20, 30, 10, 20, 30)"
      ]
     },
     "execution_count": 24,
     "metadata": {},
     "output_type": "execute_result"
    }
   ],
   "source": [
    "t2 = t * 3  # values wont change it will repeat\n",
    "t2"
   ]
  },
  {
   "cell_type": "code",
   "execution_count": 25,
   "id": "e9cae8ff-9522-41d7-ba86-d488cf9c1f29",
   "metadata": {},
   "outputs": [
    {
     "data": {
      "text/plain": [
       "(10, 2.3, 'str', True, (1+2j), 10)"
      ]
     },
     "execution_count": 25,
     "metadata": {},
     "output_type": "execute_result"
    }
   ],
   "source": [
    "t1"
   ]
  },
  {
   "cell_type": "code",
   "execution_count": 26,
   "id": "fff13a3f-d169-4040-8cb3-2af015e42bb9",
   "metadata": {},
   "outputs": [
    {
     "data": {
      "text/plain": [
       "(2.3, 'str', True, (1+2j), 10)"
      ]
     },
     "execution_count": 26,
     "metadata": {},
     "output_type": "execute_result"
    }
   ],
   "source": [
    "t1[1:6] # slicing is allowed"
   ]
  },
  {
   "cell_type": "code",
   "execution_count": 27,
   "id": "3acc285e-9b9a-44eb-a63c-765e831da0e5",
   "metadata": {},
   "outputs": [
    {
     "data": {
      "text/plain": [
       "(20, 20)"
      ]
     },
     "execution_count": 27,
     "metadata": {},
     "output_type": "execute_result"
    }
   ],
   "source": [
    "t2[1:6:3]  \n",
    "# 1 is begin index\n",
    "# 6 is end index\n",
    "# 3 is step index"
   ]
  },
  {
   "cell_type": "code",
   "execution_count": 28,
   "id": "5c4b7d14-cd02-49f2-be66-f19369cbdfbe",
   "metadata": {},
   "outputs": [
    {
     "data": {
      "text/plain": [
       "(10, 20, 30, 10, 20, 30, 10, 20, 30)"
      ]
     },
     "execution_count": 28,
     "metadata": {},
     "output_type": "execute_result"
    }
   ],
   "source": [
    "t2"
   ]
  },
  {
   "cell_type": "code",
   "execution_count": 30,
   "id": "cfef5067-3226-4eaa-823a-5d0c849fa68f",
   "metadata": {},
   "outputs": [
    {
     "data": {
      "text/plain": [
       "(20,)"
      ]
     },
     "execution_count": 30,
     "metadata": {},
     "output_type": "execute_result"
    }
   ],
   "source": [
    "t2[1:6:5]"
   ]
  },
  {
   "cell_type": "code",
   "execution_count": 31,
   "id": "7665fd39-0d36-4f28-ba1a-dfcff6c85398",
   "metadata": {},
   "outputs": [
    {
     "data": {
      "text/plain": [
       "(10, 2.3, 'str', True, (1+2j), 10)"
      ]
     },
     "execution_count": 31,
     "metadata": {},
     "output_type": "execute_result"
    }
   ],
   "source": [
    "t1"
   ]
  },
  {
   "cell_type": "code",
   "execution_count": 32,
   "id": "8150e09d-eb75-4939-996a-5293abeef0aa",
   "metadata": {},
   "outputs": [
    {
     "data": {
      "text/plain": [
       "(10, 20, 30)"
      ]
     },
     "execution_count": 32,
     "metadata": {},
     "output_type": "execute_result"
    }
   ],
   "source": [
    "t[:]"
   ]
  },
  {
   "cell_type": "code",
   "execution_count": 33,
   "id": "ce2a32be-8422-4130-bc23-60adc97b4e34",
   "metadata": {},
   "outputs": [
    {
     "data": {
      "text/plain": [
       "(10, (1+2j), True, 'str', 2.3, 10)"
      ]
     },
     "execution_count": 33,
     "metadata": {},
     "output_type": "execute_result"
    }
   ],
   "source": [
    "t1[::-1] # reverse's the whole tuple"
   ]
  },
  {
   "cell_type": "code",
   "execution_count": 34,
   "id": "7efd10f3-7f33-4a31-8814-e3fd3c1570c7",
   "metadata": {},
   "outputs": [
    {
     "data": {
      "text/plain": [
       "(10, 20, 30, 10, 20, 30, 10, 20, 30)"
      ]
     },
     "execution_count": 34,
     "metadata": {},
     "output_type": "execute_result"
    }
   ],
   "source": [
    "t2"
   ]
  },
  {
   "cell_type": "code",
   "execution_count": 35,
   "id": "ef79f318-e089-4410-b147-2edd13340fee",
   "metadata": {},
   "outputs": [
    {
     "data": {
      "text/plain": [
       "(30, 20, 10, 30, 20, 10, 30, 20, 10)"
      ]
     },
     "execution_count": 35,
     "metadata": {},
     "output_type": "execute_result"
    }
   ],
   "source": [
    "t2[::-1] # reverse the whole tuple"
   ]
  },
  {
   "cell_type": "code",
   "execution_count": 36,
   "id": "b51b830f-adee-4e40-90c2-3b592b9baf35",
   "metadata": {},
   "outputs": [
    {
     "data": {
      "text/plain": [
       "(30, 10, 20, 30, 10)"
      ]
     },
     "execution_count": 36,
     "metadata": {},
     "output_type": "execute_result"
    }
   ],
   "source": [
    "t2[::-2] # reverse "
   ]
  },
  {
   "cell_type": "code",
   "execution_count": 37,
   "id": "d96721ba-3844-459f-a408-1cdc8303b43b",
   "metadata": {},
   "outputs": [
    {
     "data": {
      "text/plain": [
       "(10, 30, 20, 10, 30)"
      ]
     },
     "execution_count": 37,
     "metadata": {},
     "output_type": "execute_result"
    }
   ],
   "source": [
    "t2[::2]"
   ]
  },
  {
   "cell_type": "code",
   "execution_count": 38,
   "id": "ec9b5fd8-33f5-4eb9-983a-3e62e48a1c6b",
   "metadata": {},
   "outputs": [
    {
     "data": {
      "text/plain": [
       "(30, 30, 30)"
      ]
     },
     "execution_count": 38,
     "metadata": {},
     "output_type": "execute_result"
    }
   ],
   "source": [
    "t2[::-3]"
   ]
  },
  {
   "cell_type": "code",
   "execution_count": 39,
   "id": "24d772eb-cd46-4e9a-8201-7d151b051423",
   "metadata": {},
   "outputs": [
    {
     "data": {
      "text/plain": [
       "(1, 2, 3, 4, 5, 6, 7, 8)"
      ]
     },
     "execution_count": 39,
     "metadata": {},
     "output_type": "execute_result"
    }
   ],
   "source": [
    "t3= (1,2,3,4,5,6,7,8)\n",
    "t3"
   ]
  },
  {
   "cell_type": "code",
   "execution_count": 40,
   "id": "6712b624-ec78-4108-984d-dec22b5bee0d",
   "metadata": {},
   "outputs": [
    {
     "data": {
      "text/plain": [
       "(1, 2, 3, 4, 5, 6, 7, 8)"
      ]
     },
     "execution_count": 40,
     "metadata": {},
     "output_type": "execute_result"
    }
   ],
   "source": [
    "t3[:] # displays's all the elements"
   ]
  },
  {
   "cell_type": "code",
   "execution_count": 41,
   "id": "0545266a-c2e0-4ec0-bce0-9b87952dc709",
   "metadata": {},
   "outputs": [
    {
     "data": {
      "text/plain": [
       "(2, 3, 4, 5, 6, 7, 8)"
      ]
     },
     "execution_count": 41,
     "metadata": {},
     "output_type": "execute_result"
    }
   ],
   "source": [
    "t3[1:9]  # display/s from 1st index to 8th index (9-1=8)"
   ]
  },
  {
   "cell_type": "code",
   "execution_count": 42,
   "id": "713d1777-9196-48bd-8bd7-a0bddd902c12",
   "metadata": {},
   "outputs": [
    {
     "data": {
      "text/plain": [
       "(2, 3, 4, 5, 6, 7, 8)"
      ]
     },
     "execution_count": 42,
     "metadata": {},
     "output_type": "execute_result"
    }
   ],
   "source": [
    "t3[1:]"
   ]
  },
  {
   "cell_type": "code",
   "execution_count": 44,
   "id": "e6d97c15-3008-4cb4-b3a2-1ad1e12e2153",
   "metadata": {},
   "outputs": [
    {
     "data": {
      "text/plain": [
       "(1, 2, 3, 4, 5, 6, 7, 8)"
      ]
     },
     "execution_count": 44,
     "metadata": {},
     "output_type": "execute_result"
    }
   ],
   "source": [
    "t3[:9]"
   ]
  },
  {
   "cell_type": "code",
   "execution_count": 53,
   "id": "e46c475f-4767-445f-a969-1e3e6e690197",
   "metadata": {},
   "outputs": [
    {
     "data": {
      "text/plain": [
       "(2, 5)"
      ]
     },
     "execution_count": 53,
     "metadata": {},
     "output_type": "execute_result"
    }
   ],
   "source": [
    "t3[1:7:3] # begin , end , step "
   ]
  },
  {
   "cell_type": "code",
   "execution_count": 47,
   "id": "d5377ead-9643-4ccf-a848-7779bda06343",
   "metadata": {},
   "outputs": [
    {
     "data": {
      "text/plain": [
       "(8, 7, 6, 5, 4, 3, 2, 1)"
      ]
     },
     "execution_count": 47,
     "metadata": {},
     "output_type": "execute_result"
    }
   ],
   "source": [
    "t3[::-1]# reverse"
   ]
  },
  {
   "cell_type": "code",
   "execution_count": 48,
   "id": "d72f9fe5-3812-45a4-a977-a1b9301e1a3a",
   "metadata": {},
   "outputs": [
    {
     "data": {
      "text/plain": [
       "(1, 3, 5, 7)"
      ]
     },
     "execution_count": 48,
     "metadata": {},
     "output_type": "execute_result"
    }
   ],
   "source": [
    "t3[::2] # forward only second value"
   ]
  },
  {
   "cell_type": "code",
   "execution_count": 49,
   "id": "7252275a-56cd-497c-a314-fd6fdf0dba7f",
   "metadata": {},
   "outputs": [
    {
     "data": {
      "text/plain": [
       "(8, 5, 2)"
      ]
     },
     "execution_count": 49,
     "metadata": {},
     "output_type": "execute_result"
    }
   ],
   "source": [
    "t3[::-3] # reverse every 3rd step"
   ]
  },
  {
   "cell_type": "code",
   "execution_count": 50,
   "id": "2cf3dfa7-3cc4-4e8e-805f-da5a7c8fd2b2",
   "metadata": {},
   "outputs": [
    {
     "data": {
      "text/plain": [
       "(4, 5, 6, 7)"
      ]
     },
     "execution_count": 50,
     "metadata": {},
     "output_type": "execute_result"
    }
   ],
   "source": [
    "t3[3:-1]"
   ]
  },
  {
   "cell_type": "code",
   "execution_count": 51,
   "id": "cf5c00b5-906d-4d6c-a541-719ecef95af8",
   "metadata": {},
   "outputs": [
    {
     "data": {
      "text/plain": [
       "(1, 2, 3, 4, 5, 6, 7, 8)"
      ]
     },
     "execution_count": 51,
     "metadata": {},
     "output_type": "execute_result"
    }
   ],
   "source": [
    "t3"
   ]
  },
  {
   "cell_type": "code",
   "execution_count": 52,
   "id": "ed35fb7c-e2ee-4457-b2a2-3879a42f0242",
   "metadata": {},
   "outputs": [
    {
     "data": {
      "text/plain": [
       "(2, 3, 4)"
      ]
     },
     "execution_count": 52,
     "metadata": {},
     "output_type": "execute_result"
    }
   ],
   "source": [
    "t3[1:4]"
   ]
  },
  {
   "cell_type": "code",
   "execution_count": 55,
   "id": "ef65b36c-2755-4bc3-b89b-5e26875fdf95",
   "metadata": {},
   "outputs": [
    {
     "data": {
      "text/plain": [
       "(1, 2, 3, 4, 5, 6, 7, 8)"
      ]
     },
     "execution_count": 55,
     "metadata": {},
     "output_type": "execute_result"
    }
   ],
   "source": [
    "t3"
   ]
  },
  {
   "cell_type": "code",
   "execution_count": 57,
   "id": "dfa52b57-5eeb-4bc9-b86f-1b0011f5570d",
   "metadata": {},
   "outputs": [
    {
     "name": "stdout",
     "output_type": "stream",
     "text": [
      "1\n",
      "2\n",
      "3\n",
      "4\n",
      "5\n",
      "6\n",
      "7\n",
      "8\n"
     ]
    }
   ],
   "source": [
    "for i in t3:\n",
    "    print(i)"
   ]
  },
  {
   "cell_type": "code",
   "execution_count": 58,
   "id": "7432e40e-61d1-4f0c-91a7-684ffab80273",
   "metadata": {},
   "outputs": [
    {
     "name": "stdout",
     "output_type": "stream",
     "text": [
      "(0, 1)\n",
      "(1, 2)\n",
      "(2, 3)\n",
      "(3, 4)\n",
      "(4, 5)\n",
      "(5, 6)\n",
      "(6, 7)\n",
      "(7, 8)\n"
     ]
    }
   ],
   "source": [
    "for i in enumerate(t3):\n",
    "    print(i)"
   ]
  },
  {
   "cell_type": "code",
   "execution_count": 59,
   "id": "82a94a0e-adfd-459e-90dc-f502b8c9819f",
   "metadata": {},
   "outputs": [],
   "source": [
    "# Tuple is completed"
   ]
  },
  {
   "cell_type": "markdown",
   "id": "5205187b-b80f-481d-9ae3-bcac30ecf28b",
   "metadata": {},
   "source": [
    "# Range"
   ]
  },
  {
   "cell_type": "markdown",
   "id": "3a0d689e-3a83-42cd-86ea-176c1b1764cb",
   "metadata": {},
   "source": [
    "# range(start, stop[, step])"
   ]
  },
  {
   "cell_type": "code",
   "execution_count": 60,
   "id": "12cb3321-0a19-4e52-870b-492133b71c70",
   "metadata": {},
   "outputs": [
    {
     "ename": "TypeError",
     "evalue": "range expected at least 1 argument, got 0",
     "output_type": "error",
     "traceback": [
      "\u001b[31m---------------------------------------------------------------------------\u001b[39m",
      "\u001b[31mTypeError\u001b[39m                                 Traceback (most recent call last)",
      "\u001b[36mCell\u001b[39m\u001b[36m \u001b[39m\u001b[32mIn[60]\u001b[39m\u001b[32m, line 1\u001b[39m\n\u001b[32m----> \u001b[39m\u001b[32m1\u001b[39m \u001b[38;5;28;43mrange\u001b[39;49m\u001b[43m(\u001b[49m\u001b[43m)\u001b[49m\n",
      "\u001b[31mTypeError\u001b[39m: range expected at least 1 argument, got 0"
     ]
    }
   ],
   "source": [
    "range()"
   ]
  },
  {
   "cell_type": "code",
   "execution_count": 61,
   "id": "83f46df5-8a36-4860-8681-f808505fb416",
   "metadata": {},
   "outputs": [
    {
     "data": {
      "text/plain": [
       "range(0, 5)"
      ]
     },
     "execution_count": 61,
     "metadata": {},
     "output_type": "execute_result"
    }
   ],
   "source": [
    "range(5)"
   ]
  },
  {
   "cell_type": "code",
   "execution_count": 62,
   "id": "9e74eb5c-2b94-4b0d-aa86-f750e1cce19a",
   "metadata": {},
   "outputs": [
    {
     "data": {
      "text/plain": [
       "[0, 1, 2, 3, 4]"
      ]
     },
     "execution_count": 62,
     "metadata": {},
     "output_type": "execute_result"
    }
   ],
   "source": [
    "list(range(5))"
   ]
  },
  {
   "cell_type": "code",
   "execution_count": 63,
   "id": "5509e9d4-82cc-455f-9833-09d1e79bd677",
   "metadata": {},
   "outputs": [
    {
     "data": {
      "text/plain": [
       "range(10, 20)"
      ]
     },
     "execution_count": 63,
     "metadata": {},
     "output_type": "execute_result"
    }
   ],
   "source": [
    "range(10,20)"
   ]
  },
  {
   "cell_type": "code",
   "execution_count": 65,
   "id": "29ef4a31-78b6-427b-a047-4ba24ce7ad55",
   "metadata": {},
   "outputs": [
    {
     "data": {
      "text/plain": [
       "[10, 11, 12, 13, 14, 15, 16, 17, 18, 19]"
      ]
     },
     "execution_count": 65,
     "metadata": {},
     "output_type": "execute_result"
    }
   ],
   "source": [
    "list(range(10,20))"
   ]
  },
  {
   "cell_type": "code",
   "execution_count": 66,
   "id": "0b4bd4a0-2806-4ace-a1c8-2531a43510d5",
   "metadata": {},
   "outputs": [
    {
     "data": {
      "text/plain": [
       "range(10, 50, 5)"
      ]
     },
     "execution_count": 66,
     "metadata": {},
     "output_type": "execute_result"
    }
   ],
   "source": [
    "range(10,50,5)"
   ]
  },
  {
   "cell_type": "code",
   "execution_count": 67,
   "id": "4e48740c-2285-4d9e-a14c-cc659b1f5169",
   "metadata": {},
   "outputs": [
    {
     "data": {
      "text/plain": [
       "[10, 15, 20, 25, 30, 35, 40, 45]"
      ]
     },
     "execution_count": 67,
     "metadata": {},
     "output_type": "execute_result"
    }
   ],
   "source": [
    "list(range(10,50,5))"
   ]
  },
  {
   "cell_type": "code",
   "execution_count": 68,
   "id": "a9d39e2d-b74e-4742-8f78-f628e9cd7a1c",
   "metadata": {},
   "outputs": [
    {
     "ename": "TypeError",
     "evalue": "range expected at most 3 arguments, got 4",
     "output_type": "error",
     "traceback": [
      "\u001b[31m---------------------------------------------------------------------------\u001b[39m",
      "\u001b[31mTypeError\u001b[39m                                 Traceback (most recent call last)",
      "\u001b[36mCell\u001b[39m\u001b[36m \u001b[39m\u001b[32mIn[68]\u001b[39m\u001b[32m, line 1\u001b[39m\n\u001b[32m----> \u001b[39m\u001b[32m1\u001b[39m \u001b[38;5;28;43mrange\u001b[39;49m\u001b[43m(\u001b[49m\u001b[32;43m10\u001b[39;49m\u001b[43m,\u001b[49m\u001b[32;43m50\u001b[39;49m\u001b[43m,\u001b[49m\u001b[32;43m5\u001b[39;49m\u001b[43m,\u001b[49m\u001b[32;43m1\u001b[39;49m\u001b[43m)\u001b[49m\n",
      "\u001b[31mTypeError\u001b[39m: range expected at most 3 arguments, got 4"
     ]
    }
   ],
   "source": [
    "range(10,50,5,1)"
   ]
  },
  {
   "cell_type": "code",
   "execution_count": 69,
   "id": "3648fdd7-7f1c-4112-841c-ebb4f5a7b6d8",
   "metadata": {},
   "outputs": [
    {
     "name": "stdout",
     "output_type": "stream",
     "text": [
      "0\n",
      "2\n",
      "4\n",
      "6\n"
     ]
    }
   ],
   "source": [
    "for i in range(0,8,2):\n",
    "    print(i)"
   ]
  },
  {
   "cell_type": "markdown",
   "id": "e0603a3f-b5c7-4124-a5b3-7b731f7975d3",
   "metadata": {},
   "source": [
    "# Tuple Task"
   ]
  },
  {
   "cell_type": "code",
   "execution_count": 3,
   "id": "58d1b954-5076-46e6-a967-587d2e0443d9",
   "metadata": {},
   "outputs": [
    {
     "data": {
      "text/plain": [
       "()"
      ]
     },
     "execution_count": 3,
     "metadata": {},
     "output_type": "execute_result"
    }
   ],
   "source": [
    "tup1 = () # Empty tuple\n",
    "tup1"
   ]
  },
  {
   "cell_type": "code",
   "execution_count": 5,
   "id": "15caf46f-8041-4d3e-abd3-58f9236cf7f7",
   "metadata": {},
   "outputs": [
    {
     "data": {
      "text/plain": [
       "(10, 20, 30)"
      ]
     },
     "execution_count": 5,
     "metadata": {},
     "output_type": "execute_result"
    }
   ],
   "source": [
    "tup2 = (10,20,30)  # tuple of integer numbers\n",
    "tup2 "
   ]
  },
  {
   "cell_type": "code",
   "execution_count": 6,
   "id": "001b07df-b4a4-4be2-9195-b58741ad02de",
   "metadata": {},
   "outputs": [
    {
     "data": {
      "text/plain": [
       "(10.3, 6.8, 8.9)"
      ]
     },
     "execution_count": 6,
     "metadata": {},
     "output_type": "execute_result"
    }
   ],
   "source": [
    "# tuple of float numbers\n",
    "tup3 = (10.3,6.8,8.9)\n",
    "tup3"
   ]
  },
  {
   "cell_type": "code",
   "execution_count": 7,
   "id": "0cc74082-cee2-4ff7-9d46-6302ac994cb6",
   "metadata": {},
   "outputs": [
    {
     "data": {
      "text/plain": [
       "('san', 'dan', 'tan')"
      ]
     },
     "execution_count": 7,
     "metadata": {},
     "output_type": "execute_result"
    }
   ],
   "source": [
    "#tuple of strings\n",
    "tup4 = (\"san\",\"dan\",\"tan\")\n",
    "tup4"
   ]
  },
  {
   "cell_type": "code",
   "execution_count": 13,
   "id": "03dd6cb7-d6e7-40bf-a0a4-99c73524740a",
   "metadata": {},
   "outputs": [
    {
     "data": {
      "text/plain": [
       "('sania', 19, (49, 67), (78, 97))"
      ]
     },
     "execution_count": 13,
     "metadata": {},
     "output_type": "execute_result"
    }
   ],
   "source": [
    "# Nested tuples\n",
    "tup5 = (\"sania\",19,(49,67),(78,97))\n",
    "tup5"
   ]
  },
  {
   "cell_type": "code",
   "execution_count": 14,
   "id": "e583c905-801e-4ca0-b059-31e91589b84a",
   "metadata": {},
   "outputs": [
    {
     "data": {
      "text/plain": [
       "(100, 'sania', 17.789)"
      ]
     },
     "execution_count": 14,
     "metadata": {},
     "output_type": "execute_result"
    }
   ],
   "source": [
    "# tuple of mixed data type\n",
    "tup6 = (100,\"sania\",17.789)\n",
    "tup6"
   ]
  },
  {
   "cell_type": "code",
   "execution_count": 15,
   "id": "7215e90e-ba16-4fe4-9c8c-4c58d3139057",
   "metadata": {},
   "outputs": [
    {
     "data": {
      "text/plain": [
       "('Tania', 25, [50, 500], [78, 90], {'david', 'john'}, (660, 78))"
      ]
     },
     "execution_count": 15,
     "metadata": {},
     "output_type": "execute_result"
    }
   ],
   "source": [
    "tup7 = (\"Tania\",25,[50,500],[78,90],{\"john\",\"david\"},(660,78))\n",
    "tup7"
   ]
  },
  {
   "cell_type": "markdown",
   "id": "b2319290-42c8-4259-9f59-b3246b2fecf7",
   "metadata": {},
   "source": [
    "## Tuple indexing"
   ]
  },
  {
   "cell_type": "code",
   "execution_count": 16,
   "id": "a6dceff2-7e45-4557-8373-94aa79753a8c",
   "metadata": {},
   "outputs": [
    {
     "data": {
      "text/plain": [
       "(10, 20, 30)"
      ]
     },
     "execution_count": 16,
     "metadata": {},
     "output_type": "execute_result"
    }
   ],
   "source": [
    "tup2"
   ]
  },
  {
   "cell_type": "code",
   "execution_count": 18,
   "id": "bbba5beb-024b-45db-a262-26034c4e9f71",
   "metadata": {},
   "outputs": [
    {
     "data": {
      "text/plain": [
       "10"
      ]
     },
     "execution_count": 18,
     "metadata": {},
     "output_type": "execute_result"
    }
   ],
   "source": [
    "tup2[0]"
   ]
  },
  {
   "cell_type": "code",
   "execution_count": 21,
   "id": "b576d6f2-03fc-435b-bd23-652f09ccbf9a",
   "metadata": {},
   "outputs": [
    {
     "data": {
      "text/plain": [
       "30"
      ]
     },
     "execution_count": 21,
     "metadata": {},
     "output_type": "execute_result"
    }
   ],
   "source": [
    "tup2[2]"
   ]
  },
  {
   "cell_type": "code",
   "execution_count": 22,
   "id": "1e914315-1aea-4961-995d-37aecf3b7cb3",
   "metadata": {},
   "outputs": [
    {
     "ename": "TypeError",
     "evalue": "'int' object is not subscriptable",
     "output_type": "error",
     "traceback": [
      "\u001b[31m---------------------------------------------------------------------------\u001b[39m",
      "\u001b[31mTypeError\u001b[39m                                 Traceback (most recent call last)",
      "\u001b[36mCell\u001b[39m\u001b[36m \u001b[39m\u001b[32mIn[22]\u001b[39m\u001b[32m, line 1\u001b[39m\n\u001b[32m----> \u001b[39m\u001b[32m1\u001b[39m \u001b[43mtup2\u001b[49m\u001b[43m[\u001b[49m\u001b[32;43m0\u001b[39;49m\u001b[43m]\u001b[49m\u001b[43m[\u001b[49m\u001b[32;43m0\u001b[39;49m\u001b[43m]\u001b[49m\n",
      "\u001b[31mTypeError\u001b[39m: 'int' object is not subscriptable"
     ]
    }
   ],
   "source": [
    "tup2[0][0]"
   ]
  },
  {
   "cell_type": "code",
   "execution_count": 23,
   "id": "2766ebc1-aadb-4a21-9643-4c2f626c3ce3",
   "metadata": {},
   "outputs": [
    {
     "data": {
      "text/plain": [
       "'sania'"
      ]
     },
     "execution_count": 23,
     "metadata": {},
     "output_type": "execute_result"
    }
   ],
   "source": [
    "tup11 = \"sania\"\n",
    "tup11"
   ]
  },
  {
   "cell_type": "code",
   "execution_count": 27,
   "id": "171680a2-02c5-421f-8552-11af3ccc2ddf",
   "metadata": {},
   "outputs": [
    {
     "data": {
      "text/plain": [
       "'s'"
      ]
     },
     "execution_count": 27,
     "metadata": {},
     "output_type": "execute_result"
    }
   ],
   "source": [
    "tup11[0][0] # Nested indexing -- Access the first character of the first element in the tuple"
   ]
  },
  {
   "cell_type": "code",
   "execution_count": 28,
   "id": "8e99355d-fc14-4e38-97d6-03e086dd9074",
   "metadata": {},
   "outputs": [
    {
     "data": {
      "text/plain": [
       "'a'"
      ]
     },
     "execution_count": 28,
     "metadata": {},
     "output_type": "execute_result"
    }
   ],
   "source": [
    "tup11[-1]"
   ]
  },
  {
   "cell_type": "markdown",
   "id": "9cdc618c-1075-488c-a9d2-a26b3ba39c17",
   "metadata": {},
   "source": [
    "## Tuple slicing"
   ]
  },
  {
   "cell_type": "code",
   "execution_count": 29,
   "id": "653f134d-e82d-4366-bc44-54f517f92ed4",
   "metadata": {},
   "outputs": [
    {
     "data": {
      "text/plain": [
       "(1, 2, 3, 4, 5, 6, 7, 8)"
      ]
     },
     "execution_count": 29,
     "metadata": {},
     "output_type": "execute_result"
    }
   ],
   "source": [
    "mytuple = (1,2,3,4,5,6,7,8)\n",
    "mytuple"
   ]
  },
  {
   "cell_type": "code",
   "execution_count": 30,
   "id": "07bf2c90-754e-42b6-845f-35f509c569aa",
   "metadata": {},
   "outputs": [
    {
     "data": {
      "text/plain": [
       "(1, 2, 3)"
      ]
     },
     "execution_count": 30,
     "metadata": {},
     "output_type": "execute_result"
    }
   ],
   "source": [
    "mytuple[0:3]"
   ]
  },
  {
   "cell_type": "code",
   "execution_count": 31,
   "id": "a7267cbf-3a7a-482d-abac-327acbe3303c",
   "metadata": {},
   "outputs": [
    {
     "data": {
      "text/plain": [
       "(1, 2, 3)"
      ]
     },
     "execution_count": 31,
     "metadata": {},
     "output_type": "execute_result"
    }
   ],
   "source": [
    "mytuple[:3]"
   ]
  },
  {
   "cell_type": "code",
   "execution_count": 32,
   "id": "d64ac633-b651-4ea0-96b1-5d80eb9e3a6e",
   "metadata": {},
   "outputs": [
    {
     "data": {
      "text/plain": [
       "(3, 4, 5)"
      ]
     },
     "execution_count": 32,
     "metadata": {},
     "output_type": "execute_result"
    }
   ],
   "source": [
    "mytuple[2:5]"
   ]
  },
  {
   "cell_type": "code",
   "execution_count": 34,
   "id": "38500adb-295b-4587-b3f4-a114f62d2400",
   "metadata": {},
   "outputs": [
    {
     "data": {
      "text/plain": [
       "(1, 2)"
      ]
     },
     "execution_count": 34,
     "metadata": {},
     "output_type": "execute_result"
    }
   ],
   "source": [
    "mytuple[:2]"
   ]
  },
  {
   "cell_type": "code",
   "execution_count": 35,
   "id": "7edab982-d16a-482e-9e3c-577c0d0d3ef0",
   "metadata": {},
   "outputs": [
    {
     "data": {
      "text/plain": [
       "(6, 7, 8)"
      ]
     },
     "execution_count": 35,
     "metadata": {},
     "output_type": "execute_result"
    }
   ],
   "source": [
    "mytuple[-3:]"
   ]
  },
  {
   "cell_type": "code",
   "execution_count": 36,
   "id": "dd78fd06-2b8f-494c-b88b-9995ea41c6fa",
   "metadata": {},
   "outputs": [
    {
     "data": {
      "text/plain": [
       "(7, 8)"
      ]
     },
     "execution_count": 36,
     "metadata": {},
     "output_type": "execute_result"
    }
   ],
   "source": [
    "mytuple[-2:]"
   ]
  },
  {
   "cell_type": "code",
   "execution_count": 37,
   "id": "6242ebe3-94b5-4e2c-ae2b-222e9e33245a",
   "metadata": {},
   "outputs": [
    {
     "data": {
      "text/plain": [
       "8"
      ]
     },
     "execution_count": 37,
     "metadata": {},
     "output_type": "execute_result"
    }
   ],
   "source": [
    "mytuple[-1]"
   ]
  },
  {
   "cell_type": "code",
   "execution_count": 38,
   "id": "307e2e59-721a-452b-b99f-2b9e1bc1ebf5",
   "metadata": {},
   "outputs": [
    {
     "data": {
      "text/plain": [
       "(1, 2, 3, 4, 5, 6, 7, 8)"
      ]
     },
     "execution_count": 38,
     "metadata": {},
     "output_type": "execute_result"
    }
   ],
   "source": [
    "mytuple[:]"
   ]
  },
  {
   "cell_type": "markdown",
   "id": "c04748ce-71fe-4bcc-b59d-234839b8d4f4",
   "metadata": {},
   "source": [
    "##  Remove & Change Items"
   ]
  },
  {
   "cell_type": "code",
   "execution_count": 39,
   "id": "a6bbcb42-5b80-4204-a946-4c6388ee71ff",
   "metadata": {},
   "outputs": [
    {
     "data": {
      "text/plain": [
       "(1, 2, 3, 4, 5, 6, 7, 8)"
      ]
     },
     "execution_count": 39,
     "metadata": {},
     "output_type": "execute_result"
    }
   ],
   "source": [
    "mytuple"
   ]
  },
  {
   "cell_type": "code",
   "execution_count": 40,
   "id": "7bb1c3de-1dce-420f-ae8e-079bae52917a",
   "metadata": {},
   "outputs": [
    {
     "ename": "TypeError",
     "evalue": "'tuple' object doesn't support item deletion",
     "output_type": "error",
     "traceback": [
      "\u001b[31m---------------------------------------------------------------------------\u001b[39m",
      "\u001b[31mTypeError\u001b[39m                                 Traceback (most recent call last)",
      "\u001b[36mCell\u001b[39m\u001b[36m \u001b[39m\u001b[32mIn[40]\u001b[39m\u001b[32m, line 1\u001b[39m\n\u001b[32m----> \u001b[39m\u001b[32m1\u001b[39m \u001b[38;5;28;01mdel\u001b[39;00m \u001b[43mmytuple\u001b[49m\u001b[43m[\u001b[49m\u001b[32;43m0\u001b[39;49m\u001b[43m]\u001b[49m\n",
      "\u001b[31mTypeError\u001b[39m: 'tuple' object doesn't support item deletion"
     ]
    }
   ],
   "source": [
    "del mytuple[0]"
   ]
  },
  {
   "cell_type": "markdown",
   "id": "310fa44c-8380-4cf3-9c82-4639d09f99bd",
   "metadata": {},
   "source": [
    "### Tuples are immutable which means we can't DELETE tuple items"
   ]
  },
  {
   "cell_type": "code",
   "execution_count": 41,
   "id": "72dcf4e2-cccb-421c-a871-d9db3e4c07c2",
   "metadata": {},
   "outputs": [
    {
     "ename": "TypeError",
     "evalue": "'tuple' object does not support item assignment",
     "output_type": "error",
     "traceback": [
      "\u001b[31m---------------------------------------------------------------------------\u001b[39m",
      "\u001b[31mTypeError\u001b[39m                                 Traceback (most recent call last)",
      "\u001b[36mCell\u001b[39m\u001b[36m \u001b[39m\u001b[32mIn[41]\u001b[39m\u001b[32m, line 1\u001b[39m\n\u001b[32m----> \u001b[39m\u001b[32m1\u001b[39m \u001b[43mmytuple\u001b[49m\u001b[43m[\u001b[49m\u001b[32;43m0\u001b[39;49m\u001b[43m]\u001b[49m = \u001b[32m1\u001b[39m\n",
      "\u001b[31mTypeError\u001b[39m: 'tuple' object does not support item assignment"
     ]
    }
   ],
   "source": [
    "mytuple[0] = 1"
   ]
  },
  {
   "cell_type": "markdown",
   "id": "80703afb-b567-4b69-8dc0-be1c7d74a14f",
   "metadata": {},
   "source": [
    "### Tuples are immutable which means we can't CHANGE tuple items"
   ]
  },
  {
   "cell_type": "code",
   "execution_count": 42,
   "id": "858470e2-4d64-4f85-b5eb-2df57be855b0",
   "metadata": {},
   "outputs": [],
   "source": [
    "del mytuple ## DELETING entire tuple object is possible"
   ]
  },
  {
   "cell_type": "markdown",
   "id": "909f2a85-8df6-4ed0-bdef-9342a84b1824",
   "metadata": {},
   "source": [
    " ## Loop through a tuple"
   ]
  },
  {
   "cell_type": "code",
   "execution_count": 47,
   "id": "b3c68259-692a-462a-ad94-b7925eb149a9",
   "metadata": {},
   "outputs": [
    {
     "data": {
      "text/plain": [
       "(1, 2, 3, 4, 5, 6, 7, 8)"
      ]
     },
     "execution_count": 47,
     "metadata": {},
     "output_type": "execute_result"
    }
   ],
   "source": [
    "mytuple = (1,2,3,4,5,6,7,8)\n",
    "mytuple"
   ]
  },
  {
   "cell_type": "code",
   "execution_count": 48,
   "id": "11ae749a-03a9-4144-b8ac-a5bf5cb6278b",
   "metadata": {},
   "outputs": [
    {
     "name": "stdout",
     "output_type": "stream",
     "text": [
      "1\n",
      "2\n",
      "3\n",
      "4\n",
      "5\n",
      "6\n",
      "7\n",
      "8\n"
     ]
    }
   ],
   "source": [
    "for i in mytuple:\n",
    "    print(i)"
   ]
  },
  {
   "cell_type": "code",
   "execution_count": 50,
   "id": "9108008e-8849-4c6f-a375-33b4f3655ea7",
   "metadata": {},
   "outputs": [
    {
     "name": "stdout",
     "output_type": "stream",
     "text": [
      "(0, 1)\n",
      "(1, 2)\n",
      "(2, 3)\n",
      "(3, 4)\n",
      "(4, 5)\n",
      "(5, 6)\n",
      "(6, 7)\n",
      "(7, 8)\n"
     ]
    }
   ],
   "source": [
    "for i in enumerate(mytuple):\n",
    "    print(i)\n"
   ]
  },
  {
   "cell_type": "markdown",
   "id": "02f3bdef-aca0-4cf6-8405-e00cab130ffd",
   "metadata": {},
   "source": [
    " ## Tuple Membership "
   ]
  },
  {
   "cell_type": "code",
   "execution_count": 51,
   "id": "1320ac2f-071b-46ff-b97a-a010f5cc7cf3",
   "metadata": {},
   "outputs": [
    {
     "data": {
      "text/plain": [
       "(1, 2, 3, 4, 5, 6, 7, 8)"
      ]
     },
     "execution_count": 51,
     "metadata": {},
     "output_type": "execute_result"
    }
   ],
   "source": [
    "mytuple"
   ]
  },
  {
   "cell_type": "code",
   "execution_count": 52,
   "id": "0f34bb58-39ee-47d6-9093-5b13058f62ed",
   "metadata": {},
   "outputs": [
    {
     "data": {
      "text/plain": [
       "True"
      ]
     },
     "execution_count": 52,
     "metadata": {},
     "output_type": "execute_result"
    }
   ],
   "source": [
    "1 in mytuple"
   ]
  },
  {
   "cell_type": "code",
   "execution_count": 54,
   "id": "0fbbcf2a-64d5-415f-a38b-ec57536ce191",
   "metadata": {},
   "outputs": [
    {
     "data": {
      "text/plain": [
       "False"
      ]
     },
     "execution_count": 54,
     "metadata": {},
     "output_type": "execute_result"
    }
   ],
   "source": [
    "10 in mytuple"
   ]
  },
  {
   "cell_type": "code",
   "execution_count": 56,
   "id": "31937748-3d54-4f6a-867f-d2aecfe975ba",
   "metadata": {},
   "outputs": [
    {
     "name": "stdout",
     "output_type": "stream",
     "text": [
      "3 in tuple\n"
     ]
    }
   ],
   "source": [
    "if 3 in mytuple:\n",
    "    print(\"3 in tuple\")\n",
    "else:\n",
    "    print(\"It's not\")"
   ]
  },
  {
   "cell_type": "markdown",
   "id": "e33192ca-a25c-4d63-9213-84ab07cb1ce3",
   "metadata": {},
   "source": [
    "##  Index Position"
   ]
  },
  {
   "cell_type": "code",
   "execution_count": 57,
   "id": "9608243a-ddd1-43b5-85b0-c4feb3542786",
   "metadata": {},
   "outputs": [
    {
     "data": {
      "text/plain": [
       "(1, 2, 3, 4, 5, 6, 7, 8)"
      ]
     },
     "execution_count": 57,
     "metadata": {},
     "output_type": "execute_result"
    }
   ],
   "source": [
    "mytuple"
   ]
  },
  {
   "cell_type": "code",
   "execution_count": 58,
   "id": "6f9c9eb3-f1a4-4983-a78a-67c929fa22ae",
   "metadata": {},
   "outputs": [
    {
     "data": {
      "text/plain": [
       "0"
      ]
     },
     "execution_count": 58,
     "metadata": {},
     "output_type": "execute_result"
    }
   ],
   "source": [
    "mytuple.index(1)"
   ]
  },
  {
   "cell_type": "code",
   "execution_count": 59,
   "id": "bbc6d691-bd38-4468-bfb3-bb67568f7263",
   "metadata": {},
   "outputs": [
    {
     "data": {
      "text/plain": [
       "4"
      ]
     },
     "execution_count": 59,
     "metadata": {},
     "output_type": "execute_result"
    }
   ],
   "source": [
    "mytuple.index(5)"
   ]
  },
  {
   "cell_type": "code",
   "execution_count": 61,
   "id": "07803487-6de0-4323-ad29-6d2fb18c5164",
   "metadata": {},
   "outputs": [
    {
     "data": {
      "text/plain": [
       "(1, 2, 3, 4, 5, 6, 7, 8)"
      ]
     },
     "execution_count": 61,
     "metadata": {},
     "output_type": "execute_result"
    }
   ],
   "source": [
    "mytuple"
   ]
  },
  {
   "cell_type": "markdown",
   "id": "0aa8fcf7-26d4-423f-9414-56ad5c15e2c2",
   "metadata": {},
   "source": [
    "## Sorting"
   ]
  },
  {
   "cell_type": "code",
   "execution_count": 62,
   "id": "da88390e-bd71-4c3c-a0a9-bed14ba6249e",
   "metadata": {},
   "outputs": [
    {
     "data": {
      "text/plain": [
       "(43, 67, 99, 12.6, 90, 67)"
      ]
     },
     "execution_count": 62,
     "metadata": {},
     "output_type": "execute_result"
    }
   ],
   "source": [
    "mytuple2 = (43,67,99,12.6,90,67)\n",
    "mytuple2\n"
   ]
  },
  {
   "cell_type": "code",
   "execution_count": 63,
   "id": "ac8bc343-a56d-4557-b6c5-1c80421cb392",
   "metadata": {},
   "outputs": [
    {
     "data": {
      "text/plain": [
       "[12.6, 43, 67, 67, 90, 99]"
      ]
     },
     "execution_count": 63,
     "metadata": {},
     "output_type": "execute_result"
    }
   ],
   "source": [
    "sorted(mytuple2) # Returns a new sorted list and doesn't change original tuple"
   ]
  },
  {
   "cell_type": "code",
   "execution_count": 65,
   "id": "5c778829-f748-4c76-bbcf-6824da90ece2",
   "metadata": {},
   "outputs": [
    {
     "data": {
      "text/plain": [
       "[99, 90, 67, 67, 43, 12.6]"
      ]
     },
     "execution_count": 65,
     "metadata": {},
     "output_type": "execute_result"
    }
   ],
   "source": [
    "sorted(mytuple2, reverse=True) # Sort in descending order"
   ]
  },
  {
   "cell_type": "code",
   "execution_count": null,
   "id": "80e20d27-bd21-4d1a-a072-a38ab54f5048",
   "metadata": {},
   "outputs": [],
   "source": []
  }
 ],
 "metadata": {
  "kernelspec": {
   "display_name": "Python 3 (ipykernel)",
   "language": "python",
   "name": "python3"
  },
  "language_info": {
   "codemirror_mode": {
    "name": "ipython",
    "version": 3
   },
   "file_extension": ".py",
   "mimetype": "text/x-python",
   "name": "python",
   "nbconvert_exporter": "python",
   "pygments_lexer": "ipython3",
   "version": "3.13.5"
  }
 },
 "nbformat": 4,
 "nbformat_minor": 5
}
