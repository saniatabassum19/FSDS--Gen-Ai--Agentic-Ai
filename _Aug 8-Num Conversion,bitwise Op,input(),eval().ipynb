{
 "cells": [
  {
   "cell_type": "markdown",
   "id": "0732ab8e-5f5f-453d-9f58-3a75ece719cb",
   "metadata": {},
   "source": [
    "# Number system conversion (bit-binary digit)"
   ]
  },
  {
   "cell_type": "markdown",
   "id": "590f96d7-0688-42a3-9702-f6cb06d6d895",
   "metadata": {},
   "source": [
    "* In the programing we are using binary system, octal system, decimal system & hexadecimal system\n",
    "* but where do we use this in cmd - you can check your ip address & lets understand how to convert from one system to other system\n",
    "* when you check ipaddress you will these format --> cmd - ipconfig"
   ]
  },
  {
   "cell_type": "markdown",
   "id": "1d0b65f9-3a54-4468-b714-e35446119bbb",
   "metadata": {},
   "source": [
    "* binary : base 2 (0-1) --> please divide 15/2 & count in reverse order\n",
    "\n",
    "* octal : base 8 (0-7)\n",
    "\n",
    "* Deciamal : base 10( 0-9)\n",
    "\n",
    "  \n",
    "* hexadecimal : base 16 (0-9 & then a-f)\n",
    "\n",
    "* when you check ip address you will these format --> cmd - ipconfig"
   ]
  },
  {
   "cell_type": "code",
   "execution_count": 3,
   "id": "f1012729-3c3a-4a17-aa5c-65babf74a3b1",
   "metadata": {},
   "outputs": [
    {
     "data": {
      "text/plain": [
       "25"
      ]
     },
     "execution_count": 3,
     "metadata": {},
     "output_type": "execute_result"
    }
   ],
   "source": [
    "25"
   ]
  },
  {
   "cell_type": "markdown",
   "id": "f780d22e-162e-43ea-b441-16ba32ed69cd",
   "metadata": {},
   "source": [
    "## BINARY NUMBER SYSTEM\n",
    "\n",
    "binary number start with 0b for example 0b11011"
   ]
  },
  {
   "cell_type": "code",
   "execution_count": 4,
   "id": "f41c048a-0fc5-482d-ace6-8bf3adf30acc",
   "metadata": {},
   "outputs": [
    {
     "data": {
      "text/plain": [
       "'0b11001'"
      ]
     },
     "execution_count": 4,
     "metadata": {},
     "output_type": "execute_result"
    }
   ],
   "source": [
    "bin(25)"
   ]
  },
  {
   "cell_type": "code",
   "execution_count": 5,
   "id": "daed7e8f-fd09-4ae6-b98f-67cd9e383f38",
   "metadata": {},
   "outputs": [
    {
     "data": {
      "text/plain": [
       "25"
      ]
     },
     "execution_count": 5,
     "metadata": {},
     "output_type": "execute_result"
    }
   ],
   "source": [
    "int(0b11001)"
   ]
  },
  {
   "cell_type": "code",
   "execution_count": 6,
   "id": "9bb3c2b0-aff2-4747-8331-77ad574abe60",
   "metadata": {},
   "outputs": [
    {
     "data": {
      "text/plain": [
       "'0b11110'"
      ]
     },
     "execution_count": 6,
     "metadata": {},
     "output_type": "execute_result"
    }
   ],
   "source": [
    "bin(30)"
   ]
  },
  {
   "cell_type": "code",
   "execution_count": 7,
   "id": "74dc80f8-2511-4239-b834-16ab5346e90f",
   "metadata": {},
   "outputs": [
    {
     "data": {
      "text/plain": [
       "30"
      ]
     },
     "execution_count": 7,
     "metadata": {},
     "output_type": "execute_result"
    }
   ],
   "source": [
    "int(0b11110)"
   ]
  },
  {
   "cell_type": "code",
   "execution_count": 8,
   "id": "db705c61-8b3e-4284-96c7-bff3b0ff6352",
   "metadata": {},
   "outputs": [
    {
     "data": {
      "text/plain": [
       "25"
      ]
     },
     "execution_count": 8,
     "metadata": {},
     "output_type": "execute_result"
    }
   ],
   "source": [
    "int(0b11001)"
   ]
  },
  {
   "cell_type": "markdown",
   "id": "1dedcc6a-8e5c-4208-8336-c4d46013632b",
   "metadata": {},
   "source": [
    "## OCTAL NUMBER SYSYTEM\n",
    "octal number start with 0o for example 0o33"
   ]
  },
  {
   "cell_type": "code",
   "execution_count": 9,
   "id": "2cbfa0ef-be77-482d-b709-a97883c90bfd",
   "metadata": {},
   "outputs": [
    {
     "data": {
      "text/plain": [
       "'0o31'"
      ]
     },
     "execution_count": 9,
     "metadata": {},
     "output_type": "execute_result"
    }
   ],
   "source": [
    "oct(25)"
   ]
  },
  {
   "cell_type": "code",
   "execution_count": 10,
   "id": "4845046f-18db-4d39-9327-730ec607daaf",
   "metadata": {},
   "outputs": [
    {
     "data": {
      "text/plain": [
       "25"
      ]
     },
     "execution_count": 10,
     "metadata": {},
     "output_type": "execute_result"
    }
   ],
   "source": [
    "int(0o31)\n",
    "\n"
   ]
  },
  {
   "cell_type": "code",
   "execution_count": 11,
   "id": "97ba3a39-2e92-4cda-80e2-eecf76f042d2",
   "metadata": {},
   "outputs": [
    {
     "data": {
      "text/plain": [
       "30"
      ]
     },
     "execution_count": 11,
     "metadata": {},
     "output_type": "execute_result"
    }
   ],
   "source": [
    "int(0b11110)"
   ]
  },
  {
   "cell_type": "code",
   "execution_count": 12,
   "id": "0d9c5b59-ddd9-4997-a4b2-be324ed6d501",
   "metadata": {},
   "outputs": [
    {
     "data": {
      "text/plain": [
       "25"
      ]
     },
     "execution_count": 12,
     "metadata": {},
     "output_type": "execute_result"
    }
   ],
   "source": [
    "0o31"
   ]
  },
  {
   "cell_type": "code",
   "execution_count": 13,
   "id": "f3bf8723-45c2-4a83-8cbf-fd0f4ccab5d9",
   "metadata": {},
   "outputs": [
    {
     "data": {
      "text/plain": [
       "25"
      ]
     },
     "execution_count": 13,
     "metadata": {},
     "output_type": "execute_result"
    }
   ],
   "source": [
    "0b11001"
   ]
  },
  {
   "cell_type": "code",
   "execution_count": 14,
   "id": "88e9a6c1-b7ed-4bb9-8300-8790237a686a",
   "metadata": {},
   "outputs": [
    {
     "data": {
      "text/plain": [
       "25"
      ]
     },
     "execution_count": 14,
     "metadata": {},
     "output_type": "execute_result"
    }
   ],
   "source": [
    "int(0b11001)"
   ]
  },
  {
   "cell_type": "code",
   "execution_count": 15,
   "id": "516abec7-6a98-48d4-a1e0-74169a7462c1",
   "metadata": {},
   "outputs": [
    {
     "data": {
      "text/plain": [
       "'0b111'"
      ]
     },
     "execution_count": 15,
     "metadata": {},
     "output_type": "execute_result"
    }
   ],
   "source": [
    "bin(7)"
   ]
  },
  {
   "cell_type": "code",
   "execution_count": 16,
   "id": "b0e887e0-d82a-49e5-bc41-2c4a5c4f56d7",
   "metadata": {},
   "outputs": [
    {
     "data": {
      "text/plain": [
       "'0o31'"
      ]
     },
     "execution_count": 16,
     "metadata": {},
     "output_type": "execute_result"
    }
   ],
   "source": [
    "oct(25)"
   ]
  },
  {
   "cell_type": "code",
   "execution_count": 17,
   "id": "31d1a923-40ba-407f-9e89-9723d13a3889",
   "metadata": {},
   "outputs": [
    {
     "data": {
      "text/plain": [
       "25"
      ]
     },
     "execution_count": 17,
     "metadata": {},
     "output_type": "execute_result"
    }
   ],
   "source": [
    "0o31"
   ]
  },
  {
   "cell_type": "code",
   "execution_count": 18,
   "id": "9f31d316-40e9-4b76-8a22-2f7a5b82e086",
   "metadata": {},
   "outputs": [
    {
     "data": {
      "text/plain": [
       "25"
      ]
     },
     "execution_count": 18,
     "metadata": {},
     "output_type": "execute_result"
    }
   ],
   "source": [
    "int(0o31)"
   ]
  },
  {
   "cell_type": "markdown",
   "id": "c9fe5875-3be3-4756-b902-f6fcf008fa0c",
   "metadata": {},
   "source": [
    "## HEXADECIMAL NUMBER SYSYTEM\n",
    "hexadecimal number start with 0x for example"
   ]
  },
  {
   "cell_type": "markdown",
   "id": "68e0be9a-f5d7-40b5-bf33-1455655ec07e",
   "metadata": {},
   "source": [
    "hex(25)"
   ]
  },
  {
   "cell_type": "code",
   "execution_count": 20,
   "id": "627d080e-fdc6-49bf-8a61-7a96ef1e010e",
   "metadata": {},
   "outputs": [
    {
     "data": {
      "text/plain": [
       "25"
      ]
     },
     "execution_count": 20,
     "metadata": {},
     "output_type": "execute_result"
    }
   ],
   "source": [
    "0x19"
   ]
  },
  {
   "cell_type": "code",
   "execution_count": 21,
   "id": "397e900b-9b47-4527-a53b-55d241b85b4c",
   "metadata": {},
   "outputs": [
    {
     "data": {
      "text/plain": [
       "'0x10'"
      ]
     },
     "execution_count": 21,
     "metadata": {},
     "output_type": "execute_result"
    }
   ],
   "source": [
    "hex(16)"
   ]
  },
  {
   "cell_type": "code",
   "execution_count": 22,
   "id": "e86b66b1-9177-497f-8c99-035b0c0ec347",
   "metadata": {},
   "outputs": [
    {
     "data": {
      "text/plain": [
       "10"
      ]
     },
     "execution_count": 22,
     "metadata": {},
     "output_type": "execute_result"
    }
   ],
   "source": [
    "0xa"
   ]
  },
  {
   "cell_type": "code",
   "execution_count": 23,
   "id": "8440e97f-f569-4ac7-8da1-7969a85a4d11",
   "metadata": {},
   "outputs": [
    {
     "data": {
      "text/plain": [
       "11"
      ]
     },
     "execution_count": 23,
     "metadata": {},
     "output_type": "execute_result"
    }
   ],
   "source": [
    "0xb"
   ]
  },
  {
   "cell_type": "code",
   "execution_count": 24,
   "id": "6623f08f-2f73-4550-91f5-982817ce03a0",
   "metadata": {},
   "outputs": [
    {
     "data": {
      "text/plain": [
       "'0x1'"
      ]
     },
     "execution_count": 24,
     "metadata": {},
     "output_type": "execute_result"
    }
   ],
   "source": [
    "hex(1)"
   ]
  },
  {
   "cell_type": "code",
   "execution_count": 25,
   "id": "7d36780e-fe9c-465d-a651-7c2ac4844d32",
   "metadata": {},
   "outputs": [
    {
     "data": {
      "text/plain": [
       "'0x19'"
      ]
     },
     "execution_count": 25,
     "metadata": {},
     "output_type": "execute_result"
    }
   ],
   "source": [
    "hex(25)"
   ]
  },
  {
   "cell_type": "code",
   "execution_count": 26,
   "id": "8649819c-d788-4f09-8b64-26eeebe42d6b",
   "metadata": {},
   "outputs": [
    {
     "data": {
      "text/plain": [
       "21"
      ]
     },
     "execution_count": 26,
     "metadata": {},
     "output_type": "execute_result"
    }
   ],
   "source": [
    "0x15"
   ]
  },
  {
   "cell_type": "markdown",
   "id": "ca009a53-8b10-4340-95f9-8a77d6702989",
   "metadata": {},
   "source": [
    " # xor - swap variable\n",
    " "
   ]
  },
  {
   "cell_type": "code",
   "execution_count": 27,
   "id": "0c0bd9d9-62bb-4ccb-a7a4-a68e51a0c969",
   "metadata": {},
   "outputs": [],
   "source": [
    "a2 = 5\n",
    "b2 = 6"
   ]
  },
  {
   "cell_type": "code",
   "execution_count": 28,
   "id": "a914d997-558d-4bc0-8a57-2b3fb60f8f2c",
   "metadata": {},
   "outputs": [
    {
     "name": "stdout",
     "output_type": "stream",
     "text": [
      "5\n",
      "6\n"
     ]
    }
   ],
   "source": [
    "print(a2)\n",
    "print(b2)"
   ]
  },
  {
   "cell_type": "code",
   "execution_count": 29,
   "id": "3c608f6c-7392-49a2-837e-0925d8e43f05",
   "metadata": {},
   "outputs": [],
   "source": [
    "#there is other way to work using swap variable also which is XOR because it will not waste extra bit \n",
    "a2 = a2 ^ b2\n",
    "b2 = a2 ^ b2\n",
    "a2 = a2 ^ b2"
   ]
  },
  {
   "cell_type": "code",
   "execution_count": 30,
   "id": "3fdd7465-17fc-4ee7-ba8f-c48a4af62e71",
   "metadata": {},
   "outputs": [
    {
     "name": "stdout",
     "output_type": "stream",
     "text": [
      "6\n",
      "5\n"
     ]
    }
   ],
   "source": [
    "print(a2)\n",
    "print(b2)"
   ]
  },
  {
   "cell_type": "code",
   "execution_count": 31,
   "id": "5e4b3686-d3a6-49dc-b9c3-3851284f6b94",
   "metadata": {},
   "outputs": [
    {
     "data": {
      "text/plain": [
       "(6, 5)"
      ]
     },
     "execution_count": 31,
     "metadata": {},
     "output_type": "execute_result"
    }
   ],
   "source": [
    "a2, b2"
   ]
  },
  {
   "cell_type": "markdown",
   "id": "dc1e0d88-afd5-417b-bffc-6c85e8cf8a4d",
   "metadata": {},
   "source": [
    "# BITWISE OPERATOR"
   ]
  },
  {
   "cell_type": "markdown",
   "id": "8f40f5ea-a7a2-4c89-8acb-d94aa216690e",
   "metadata": {},
   "source": [
    "WE HAVE 6 OPERATORS COMPLEMENT ( ~ ) || AND ( & ) || OR ( | ) || XOR ( ^ ) || LEFT SHIFT ( << ) || RIGHT SHIFT ( >> )"
   ]
  },
  {
   "cell_type": "code",
   "execution_count": 32,
   "id": "94b9b830-fee6-446a-a119-4f6048adbbb6",
   "metadata": {},
   "outputs": [
    {
     "name": "stdout",
     "output_type": "stream",
     "text": [
      "0b1100\n",
      "0b1101\n"
     ]
    }
   ],
   "source": [
    "print(bin(12))\n",
    "print(bin(13))"
   ]
  },
  {
   "cell_type": "code",
   "execution_count": 33,
   "id": "3e3a841a-9982-4ce8-93b9-4e854aff5c11",
   "metadata": {},
   "outputs": [
    {
     "data": {
      "text/plain": [
       "13"
      ]
     },
     "execution_count": 33,
     "metadata": {},
     "output_type": "execute_result"
    }
   ],
   "source": [
    "0b1101"
   ]
  },
  {
   "cell_type": "code",
   "execution_count": 34,
   "id": "65a3d09d-6736-4799-aaa4-b405f81123a9",
   "metadata": {},
   "outputs": [
    {
     "data": {
      "text/plain": [
       "12"
      ]
     },
     "execution_count": 34,
     "metadata": {},
     "output_type": "execute_result"
    }
   ],
   "source": [
    "0b1100"
   ]
  },
  {
   "cell_type": "markdown",
   "id": "5ad29917-cb3c-4d9b-88d4-031efb6d4168",
   "metadata": {},
   "source": [
    "## complement --> you will get this key below esc character"
   ]
  },
  {
   "cell_type": "markdown",
   "id": "4ec125c0-d559-4587-9159-d61f4e897529",
   "metadata": {},
   "source": [
    "12 ==> 1100 ||\n",
    "\n",
    "first thing we need to understand what is mean by complement.\n",
    "\n",
    "complement means it will do reverse of the binary format i.e. - ~0 it will give you 1 ~1 it will give 0\n",
    "\n",
    "12 binary format is 00001100 ( complement of ~00001100 reverse the number - 11110011 which is (-13)\n",
    "\n",
    "in the virtual memory we cant store -ve number & the only way to store the -ve value by using complimentory\n",
    "\n",
    "but the question is why we got -13\n",
    "\n",
    "to understand this concept ( we have concept of 2's complement\n",
    "\n",
    "2's complement mean (1's complement + 1)\n",
    "\n",
    "in the system we can store +Ve number but how to store -ve number\n",
    "\n",
    "lets understand binary form of 13 - 00001101 + 1"
   ]
  },
  {
   "cell_type": "code",
   "execution_count": 35,
   "id": "19c1f3e8-7f47-4935-8f28-2b70f4ea019c",
   "metadata": {},
   "outputs": [
    {
     "data": {
      "text/plain": [
       "-13"
      ]
     },
     "execution_count": 35,
     "metadata": {},
     "output_type": "execute_result"
    }
   ],
   "source": [
    "# COMPLEMENT (~) (TILDE  OR TILD)\n",
    "~12 # why we get -13 . first we understand what is complment means (reversr of binary format)"
   ]
  },
  {
   "cell_type": "code",
   "execution_count": 36,
   "id": "b85088a2-5229-40b0-b113-c7ecc7b6afb0",
   "metadata": {},
   "outputs": [
    {
     "data": {
      "text/plain": [
       "-47"
      ]
     },
     "execution_count": 36,
     "metadata": {},
     "output_type": "execute_result"
    }
   ],
   "source": [
    "~46"
   ]
  },
  {
   "cell_type": "code",
   "execution_count": 37,
   "id": "138a5742-ddbd-44f0-aa4f-9b0e8027e010",
   "metadata": {},
   "outputs": [
    {
     "data": {
      "text/plain": [
       "-55"
      ]
     },
     "execution_count": 37,
     "metadata": {},
     "output_type": "execute_result"
    }
   ],
   "source": [
    "~54"
   ]
  },
  {
   "cell_type": "code",
   "execution_count": 38,
   "id": "997ca2b2-e751-4e45-b5f2-c07a277ecacc",
   "metadata": {},
   "outputs": [
    {
     "data": {
      "text/plain": [
       "-55"
      ]
     },
     "execution_count": 38,
     "metadata": {},
     "output_type": "execute_result"
    }
   ],
   "source": [
    "~54"
   ]
  },
  {
   "cell_type": "code",
   "execution_count": 39,
   "id": "d9d7d6b4-60db-475a-89cc-3a64722670a3",
   "metadata": {},
   "outputs": [
    {
     "data": {
      "text/plain": [
       "53"
      ]
     },
     "execution_count": 39,
     "metadata": {},
     "output_type": "execute_result"
    }
   ],
   "source": [
    "~-54"
   ]
  },
  {
   "cell_type": "markdown",
   "id": "24fe3177-9b35-49a0-9032-d9690733a4c3",
   "metadata": {},
   "source": [
    "## bit wise and operator"
   ]
  },
  {
   "cell_type": "markdown",
   "id": "de10351a-fc9f-4646-98a3-a763a393ca44",
   "metadata": {},
   "source": [
    "AND - LOGICAL OPERATOR ||| & - BITWISE AND OPERATOR\n",
    "\n",
    "(we know that 1 & 1 is 1) 12 - 00001100 13 - 00001101 when we are add both then then outut we will get as 12"
   ]
  },
  {
   "cell_type": "markdown",
   "id": "9d85167d-dfa1-48d7-99b6-6ff25bf19853",
   "metadata": {},
   "source": [
    "### BIT WISE AND (&)"
   ]
  },
  {
   "cell_type": "code",
   "execution_count": 42,
   "id": "9fa3b2f0-a0ea-432d-ae9b-fc6188bd8771",
   "metadata": {},
   "outputs": [
    {
     "data": {
      "text/plain": [
       "12"
      ]
     },
     "execution_count": 42,
     "metadata": {},
     "output_type": "execute_result"
    }
   ],
   "source": [
    "12&13"
   ]
  },
  {
   "cell_type": "code",
   "execution_count": 43,
   "id": "6e77b400-31f8-43bb-b747-bfc388f4b797",
   "metadata": {},
   "outputs": [
    {
     "data": {
      "text/plain": [
       "('0b1100', '0b1101')"
      ]
     },
     "execution_count": 43,
     "metadata": {},
     "output_type": "execute_result"
    }
   ],
   "source": [
    "bin(12),bin(13) # "
   ]
  },
  {
   "cell_type": "markdown",
   "id": "34afa1f4-b006-44c8-b249-47ea52f5df5b",
   "metadata": {},
   "source": [
    "### BIT WISE OR (|)"
   ]
  },
  {
   "cell_type": "code",
   "execution_count": 44,
   "id": "0dcb0366-b9dd-4863-bc44-8018850df9c6",
   "metadata": {},
   "outputs": [
    {
     "data": {
      "text/plain": [
       "13"
      ]
     },
     "execution_count": 44,
     "metadata": {},
     "output_type": "execute_result"
    }
   ],
   "source": [
    "12|13"
   ]
  },
  {
   "cell_type": "code",
   "execution_count": 45,
   "id": "a946dc85-4b53-4744-8089-e48c31041e8f",
   "metadata": {},
   "outputs": [
    {
     "name": "stdout",
     "output_type": "stream",
     "text": [
      "x\ty\tz\t\n",
      "\n",
      "0\t0\t0\t\n",
      "0\t1\t0\t\n",
      "1\t0\t0\t\n",
      "1\t1\t1\t   True\n",
      "\n",
      " AND TABLE\n"
     ]
    }
   ],
   "source": [
    "print(\"x\\ty\\tz\\t\")\n",
    "print(\"\\n0\\t0\\t0\\t\")\n",
    "print(\"0\\t1\\t0\\t\")\n",
    "print(\"1\\t0\\t0\\t\")\n",
    "print(\"1\\t1\\t1\\t   True\")\n",
    "print(\"\\n AND TABLE\")"
   ]
  },
  {
   "cell_type": "code",
   "execution_count": 46,
   "id": "e5a6ef13-09c3-4fec-806a-1776c287a25a",
   "metadata": {},
   "outputs": [
    {
     "name": "stdout",
     "output_type": "stream",
     "text": [
      "x\ty\tz\t\n",
      "\n",
      "0\t0\t0\t\n",
      "0\t1\t1\t\n",
      "1\t0\t1\t\n",
      "1\t1\t1\t\n",
      "\n",
      " OR TABLE\n"
     ]
    }
   ],
   "source": [
    "print(\"x\\ty\\tz\\t\")\n",
    "print(\"\\n0\\t0\\t0\\t\")\n",
    "print(\"0\\t1\\t1\\t\")\n",
    "print(\"1\\t0\\t1\\t\")\n",
    "print(\"1\\t1\\t1\\t\")\n",
    "print(\"\\n OR TABLE\")"
   ]
  },
  {
   "cell_type": "code",
   "execution_count": 47,
   "id": "532f2273-53dc-48d8-81e8-1d93b0db67e5",
   "metadata": {},
   "outputs": [
    {
     "data": {
      "text/plain": [
       "0"
      ]
     },
     "execution_count": 47,
     "metadata": {},
     "output_type": "execute_result"
    }
   ],
   "source": [
    "1 & 0"
   ]
  },
  {
   "cell_type": "code",
   "execution_count": 48,
   "id": "0ec6b4b3-ba95-4014-bb1a-50c161b82e83",
   "metadata": {},
   "outputs": [
    {
     "data": {
      "text/plain": [
       "'0b1'"
      ]
     },
     "execution_count": 48,
     "metadata": {},
     "output_type": "execute_result"
    }
   ],
   "source": [
    "bin(1) "
   ]
  },
  {
   "cell_type": "code",
   "execution_count": 49,
   "id": "29176d48-d10e-4a7c-84ba-6fed857dac30",
   "metadata": {},
   "outputs": [
    {
     "data": {
      "text/plain": [
       "'0b0'"
      ]
     },
     "execution_count": 49,
     "metadata": {},
     "output_type": "execute_result"
    }
   ],
   "source": [
    "bin(0)"
   ]
  },
  {
   "cell_type": "code",
   "execution_count": 50,
   "id": "60176208-192e-4f4d-8f3f-fefde36d8a3b",
   "metadata": {},
   "outputs": [
    {
     "data": {
      "text/plain": [
       "1"
      ]
     },
     "execution_count": 50,
     "metadata": {},
     "output_type": "execute_result"
    }
   ],
   "source": [
    "1 | 0"
   ]
  },
  {
   "cell_type": "code",
   "execution_count": 51,
   "id": "7f675e38-a061-42d9-a901-f7d1fdc053cc",
   "metadata": {},
   "outputs": [
    {
     "data": {
      "text/plain": [
       "'0b1101'"
      ]
     },
     "execution_count": 51,
     "metadata": {},
     "output_type": "execute_result"
    }
   ],
   "source": [
    "bin(13)"
   ]
  },
  {
   "cell_type": "code",
   "execution_count": 52,
   "id": "778e3799-9517-4b5f-b529-6795490aa7fa",
   "metadata": {},
   "outputs": [
    {
     "name": "stdout",
     "output_type": "stream",
     "text": [
      "0b100011\n",
      "0b101000\n"
     ]
    }
   ],
   "source": [
    "print(bin(35))\n",
    "print(bin(40))"
   ]
  },
  {
   "cell_type": "code",
   "execution_count": 53,
   "id": "b3b2f2f5-36fc-4144-94b8-a154ed65a323",
   "metadata": {},
   "outputs": [
    {
     "data": {
      "text/plain": [
       "32"
      ]
     },
     "execution_count": 53,
     "metadata": {},
     "output_type": "execute_result"
    }
   ],
   "source": [
    "35 & 40"
   ]
  },
  {
   "cell_type": "code",
   "execution_count": 55,
   "id": "b533c6a9-4a36-4d93-aa92-b13e0912c672",
   "metadata": {},
   "outputs": [
    {
     "data": {
      "text/plain": [
       "43"
      ]
     },
     "execution_count": 55,
     "metadata": {},
     "output_type": "execute_result"
    }
   ],
   "source": [
    "35 | 40 "
   ]
  },
  {
   "cell_type": "markdown",
   "id": "0fe13154-7ecc-481c-94f3-9b14db72fd4d",
   "metadata": {},
   "source": [
    "# XOR(^)\n",
    "\n",
    "only 1^1=0 and 0^0=0 everythin else is 1"
   ]
  },
  {
   "cell_type": "code",
   "execution_count": 58,
   "id": "35193864-3c03-41e0-9a2d-4f093c0e3f57",
   "metadata": {},
   "outputs": [
    {
     "data": {
      "text/plain": [
       "1"
      ]
     },
     "execution_count": 58,
     "metadata": {},
     "output_type": "execute_result"
    }
   ],
   "source": [
    "# in XOR if the both number are different then we will get 1 or else if they are same we will get 0\n",
    "12 ^ 13"
   ]
  },
  {
   "cell_type": "code",
   "execution_count": 59,
   "id": "a80eb18e-707f-4a4b-86ce-d05c77f9f4a3",
   "metadata": {},
   "outputs": [
    {
     "name": "stdout",
     "output_type": "stream",
     "text": [
      "0b11001\n",
      "0b11110\n"
     ]
    }
   ],
   "source": [
    "print(bin(25))\n",
    "print(bin(30))"
   ]
  },
  {
   "cell_type": "code",
   "execution_count": 60,
   "id": "84271bff-cb8e-44be-99cf-0bb327da07e3",
   "metadata": {},
   "outputs": [
    {
     "data": {
      "text/plain": [
       "7"
      ]
     },
     "execution_count": 60,
     "metadata": {},
     "output_type": "execute_result"
    }
   ],
   "source": [
    "25^30"
   ]
  },
  {
   "cell_type": "code",
   "execution_count": 61,
   "id": "73291eb8-b48a-495b-9d6b-8a6b3c30a9c8",
   "metadata": {},
   "outputs": [
    {
     "data": {
      "text/plain": [
       "'0b11001'"
      ]
     },
     "execution_count": 61,
     "metadata": {},
     "output_type": "execute_result"
    }
   ],
   "source": [
    "bin(25)"
   ]
  },
  {
   "cell_type": "code",
   "execution_count": 62,
   "id": "6dd827c6-bec1-4cc7-9fc7-228781cb5e88",
   "metadata": {},
   "outputs": [
    {
     "data": {
      "text/plain": [
       "'0b11110'"
      ]
     },
     "execution_count": 62,
     "metadata": {},
     "output_type": "execute_result"
    }
   ],
   "source": [
    "bin(30)"
   ]
  },
  {
   "cell_type": "code",
   "execution_count": 63,
   "id": "49345221-e6da-4eda-8816-acbcecb74370",
   "metadata": {},
   "outputs": [
    {
     "data": {
      "text/plain": [
       "'0b111'"
      ]
     },
     "execution_count": 63,
     "metadata": {},
     "output_type": "execute_result"
    }
   ],
   "source": [
    "bin(7)"
   ]
  },
  {
   "cell_type": "markdown",
   "id": "ac2ecd2a-5a65-4bae-b7ef-0b09dcd77546",
   "metadata": {},
   "source": [
    "# BIT WISE LEFT OPERATOR(<<)\n",
    "\n",
    "bit wise left operator bydefault you will take 2 zeros ( )\n",
    "\n",
    "in left shift we gain 1 zero"
   ]
  },
  {
   "cell_type": "code",
   "execution_count": 64,
   "id": "defd042e-f159-41ed-b102-53a5b5ccb704",
   "metadata": {},
   "outputs": [
    {
     "data": {
      "text/plain": [
       "20"
      ]
     },
     "execution_count": 64,
     "metadata": {},
     "output_type": "execute_result"
    }
   ],
   "source": [
    "10<<1"
   ]
  },
  {
   "cell_type": "code",
   "execution_count": 65,
   "id": "b8fdd8a4-6c45-43d4-a47a-e8eda2f2fc1d",
   "metadata": {},
   "outputs": [
    {
     "data": {
      "text/plain": [
       "40"
      ]
     },
     "execution_count": 65,
     "metadata": {},
     "output_type": "execute_result"
    }
   ],
   "source": [
    "10<<2"
   ]
  },
  {
   "cell_type": "code",
   "execution_count": 66,
   "id": "7e1e6ead-5c4f-4e61-8f27-02632fe3fa23",
   "metadata": {},
   "outputs": [
    {
     "data": {
      "text/plain": [
       "40"
      ]
     },
     "execution_count": 66,
     "metadata": {},
     "output_type": "execute_result"
    }
   ],
   "source": [
    "# BIT WISE LEFT SHIFT OPERATOR \n",
    "# in left shift what we need to to we need shift in left hand side & need to shift 2 bits\n",
    "#bit wise left operator bydefault you will take 2 zeros ( )\n",
    "#10 binary operator is 1010 | also i can say 1010\n",
    "10<<2"
   ]
  },
  {
   "cell_type": "markdown",
   "id": "3cfd4a3a-2914-495b-a3b8-fc4226414368",
   "metadata": {},
   "source": [
    "# BITWISE RIGHTSHIFT OPERATOR\n",
    "\n",
    "left side we are gaining the bits\n",
    "\n",
    "right side we are lossing bits\n"
   ]
  },
  {
   "cell_type": "markdown",
   "id": "6c1d3a79-4bff-4dcc-a239-756aacfd98b2",
   "metadata": {},
   "source": [
    "* in right shift we lose zer0"
   ]
  },
  {
   "cell_type": "code",
   "execution_count": 67,
   "id": "9c604efd-9c3b-4ec8-9214-940878ac582c",
   "metadata": {},
   "outputs": [
    {
     "data": {
      "text/plain": [
       "'0b1010'"
      ]
     },
     "execution_count": 67,
     "metadata": {},
     "output_type": "execute_result"
    }
   ],
   "source": [
    "bin(10)"
   ]
  },
  {
   "cell_type": "code",
   "execution_count": 68,
   "id": "121a1be4-ff9e-489c-a9f4-001d5616e99e",
   "metadata": {},
   "outputs": [
    {
     "data": {
      "text/plain": [
       "5"
      ]
     },
     "execution_count": 68,
     "metadata": {},
     "output_type": "execute_result"
    }
   ],
   "source": [
    "10 >> 1"
   ]
  },
  {
   "cell_type": "code",
   "execution_count": 69,
   "id": "6b610c1d-ff82-42c0-8554-bf5a9ec8d214",
   "metadata": {},
   "outputs": [
    {
     "data": {
      "text/plain": [
       "2"
      ]
     },
     "execution_count": 69,
     "metadata": {},
     "output_type": "execute_result"
    }
   ],
   "source": [
    "10>>2"
   ]
  },
  {
   "cell_type": "code",
   "execution_count": 70,
   "id": "afddea8c-0c27-4b09-b86e-d051074c7294",
   "metadata": {},
   "outputs": [
    {
     "data": {
      "text/plain": [
       "1"
      ]
     },
     "execution_count": 70,
     "metadata": {},
     "output_type": "execute_result"
    }
   ],
   "source": [
    "10>>3"
   ]
  },
  {
   "cell_type": "markdown",
   "id": "7fa96b78-2a9f-447c-8de1-f45d529a94b5",
   "metadata": {},
   "source": [
    "# user input function in python || command line input"
   ]
  },
  {
   "cell_type": "code",
   "execution_count": 71,
   "id": "168dfff8-85a6-4e2f-b7ba-28b21c05775f",
   "metadata": {},
   "outputs": [
    {
     "name": "stdin",
     "output_type": "stream",
     "text": [
      " 2\n",
      " 3\n"
     ]
    },
    {
     "name": "stdout",
     "output_type": "stream",
     "text": [
      "23\n"
     ]
    }
   ],
   "source": [
    "x = input()\n",
    "y = input()\n",
    "z = x + y\n",
    "print(z) # console is waiting for user to enter input \n",
    "# also if you work in idle"
   ]
  },
  {
   "cell_type": "code",
   "execution_count": 72,
   "id": "9048568a-30d2-4813-8b5e-0e6d07b29447",
   "metadata": {},
   "outputs": [
    {
     "name": "stdin",
     "output_type": "stream",
     "text": [
      "Enter the 1st number 11\n",
      "Enter the 2nd number 12\n"
     ]
    },
    {
     "name": "stdout",
     "output_type": "stream",
     "text": [
      "1112\n"
     ]
    }
   ],
   "source": [
    "x1 = input('Enter the 1st number') #whenevery you works in input function it always give you string \n",
    "y1 = input('Enter the 2nd number') # it wont understand as arithmetic operator\n",
    "z1 = x1 + y1\n",
    "print(z1)"
   ]
  },
  {
   "cell_type": "code",
   "execution_count": 73,
   "id": "9a1bd743-dc2a-4a64-aeb6-e4142be14696",
   "metadata": {},
   "outputs": [
    {
     "data": {
      "text/plain": [
       "str"
      ]
     },
     "execution_count": 73,
     "metadata": {},
     "output_type": "execute_result"
    }
   ],
   "source": [
    "type(x1)\n",
    "type(y1)"
   ]
  },
  {
   "cell_type": "code",
   "execution_count": 74,
   "id": "8af3b617-3cd6-42d9-b9e1-23c85757e19b",
   "metadata": {},
   "outputs": [
    {
     "name": "stdin",
     "output_type": "stream",
     "text": [
      "Enter the 1st number 23\n",
      "Enter the 2nd number 45\n"
     ]
    },
    {
     "name": "stdout",
     "output_type": "stream",
     "text": [
      "68\n"
     ]
    }
   ],
   "source": [
    "x1 = input('Enter the 1st number') #whenevery you works in input function it always give you string \n",
    "a1 = int(x1)\n",
    "y1 = input('Enter the 2nd number') # it wont understand as arithmetic operator\n",
    "b1 = int(y1)\n",
    "z1 = a1 + b1\n",
    "print(z1)"
   ]
  },
  {
   "cell_type": "markdown",
   "id": "8c3f96cd-2b66-4429-af96-32fdf9c5fa97",
   "metadata": {},
   "source": [
    "for the above code notice we are using many lines because fo that wasting some memory spaces as well"
   ]
  },
  {
   "cell_type": "code",
   "execution_count": 75,
   "id": "d2d79a13-c7c9-4e3f-9a6e-d913fa343904",
   "metadata": {},
   "outputs": [
    {
     "name": "stdin",
     "output_type": "stream",
     "text": [
      "Enter the 1st number 1\n",
      "Enter the 2nd number 2\n"
     ]
    },
    {
     "data": {
      "text/plain": [
       "3"
      ]
     },
     "execution_count": 75,
     "metadata": {},
     "output_type": "execute_result"
    }
   ],
   "source": [
    "x2 = int(input('Enter the 1st number'))\n",
    "y2 = int(input('Enter the 2nd number'))\n",
    "z2 = x2 + y2\n",
    "z2"
   ]
  },
  {
   "cell_type": "markdown",
   "id": "ce0a9bf1-b534-4fa4-9918-7a722a24ee8e",
   "metadata": {},
   "source": [
    "lets take input from the user in char format, but we dont have char format in python"
   ]
  },
  {
   "cell_type": "code",
   "execution_count": 81,
   "id": "35726e7c-786c-4924-be8c-23aa3e32038c",
   "metadata": {},
   "outputs": [
    {
     "name": "stdin",
     "output_type": "stream",
     "text": [
      "enter a char hello\n"
     ]
    },
    {
     "name": "stdout",
     "output_type": "stream",
     "text": [
      "hello\n"
     ]
    }
   ],
   "source": [
    "ch = input('enter a char')\n",
    "print(ch)"
   ]
  },
  {
   "cell_type": "code",
   "execution_count": 82,
   "id": "78724076-27f1-4b79-9f20-1eb6badc273d",
   "metadata": {},
   "outputs": [
    {
     "name": "stdout",
     "output_type": "stream",
     "text": [
      "h\n"
     ]
    }
   ],
   "source": [
    "print(ch[0])"
   ]
  },
  {
   "cell_type": "code",
   "execution_count": 83,
   "id": "f463a431-3d96-4f6d-8054-f183a02bda16",
   "metadata": {},
   "outputs": [
    {
     "name": "stdout",
     "output_type": "stream",
     "text": [
      "e\n"
     ]
    }
   ],
   "source": [
    "print(ch[1])"
   ]
  },
  {
   "cell_type": "code",
   "execution_count": 84,
   "id": "48dc0ae1-7c1e-44e7-94af-d67a590e76fe",
   "metadata": {},
   "outputs": [
    {
     "name": "stdout",
     "output_type": "stream",
     "text": [
      "o\n"
     ]
    }
   ],
   "source": [
    "print(ch[-1])"
   ]
  },
  {
   "cell_type": "code",
   "execution_count": 85,
   "id": "92f8f347-7dce-4636-8afe-184223a738de",
   "metadata": {},
   "outputs": [
    {
     "name": "stdin",
     "output_type": "stream",
     "text": [
      "enter a char hello\n"
     ]
    },
    {
     "name": "stdout",
     "output_type": "stream",
     "text": [
      "h\n"
     ]
    }
   ],
   "source": [
    "ch = input('enter a char')[0]\n",
    "print(ch)"
   ]
  },
  {
   "cell_type": "code",
   "execution_count": 86,
   "id": "4a21474f-8c6a-41eb-84fd-ff5c59f58e2c",
   "metadata": {},
   "outputs": [
    {
     "name": "stdin",
     "output_type": "stream",
     "text": [
      "enter a char sania\n"
     ]
    },
    {
     "name": "stdout",
     "output_type": "stream",
     "text": [
      "an\n"
     ]
    }
   ],
   "source": [
    "ch = input('enter a char')[1:3]\n",
    "print(ch)"
   ]
  },
  {
   "cell_type": "code",
   "execution_count": 87,
   "id": "8781ad70-4f8c-405a-b9b6-431e6f6bf797",
   "metadata": {},
   "outputs": [
    {
     "name": "stdin",
     "output_type": "stream",
     "text": [
      "enter a char 2+6-1\n"
     ]
    },
    {
     "name": "stdout",
     "output_type": "stream",
     "text": [
      "2+6-1\n"
     ]
    }
   ],
   "source": [
    "ch = input('enter a char')\n",
    "print(ch) # if you enter as 2 + 6 -1 we get output as 2 + 6-1 only \n"
   ]
  },
  {
   "cell_type": "markdown",
   "id": "207bf797-49b1-410c-8438-4be1fe8351e8",
   "metadata": {},
   "source": [
    "# EVAL function using input"
   ]
  },
  {
   "cell_type": "markdown",
   "id": "855ff453-c8a5-4658-952b-5d55125278a8",
   "metadata": {},
   "source": [
    "it is used to take expression as input"
   ]
  },
  {
   "cell_type": "code",
   "execution_count": 90,
   "id": "809d14dc-f737-4e9e-8d5c-534a7ed17862",
   "metadata": {},
   "outputs": [
    {
     "name": "stdin",
     "output_type": "stream",
     "text": [
      "enter an expression 10\n"
     ]
    },
    {
     "name": "stdout",
     "output_type": "stream",
     "text": [
      "10\n"
     ]
    }
   ],
   "source": [
    "x=int(input('enter an expression'))\n",
    "print(x)"
   ]
  },
  {
   "cell_type": "code",
   "execution_count": 88,
   "id": "7a715750-3139-42c5-bf52-4a52428ddbc1",
   "metadata": {},
   "outputs": [
    {
     "name": "stdin",
     "output_type": "stream",
     "text": [
      "enter an expr 1\n"
     ]
    },
    {
     "name": "stdout",
     "output_type": "stream",
     "text": [
      "1\n"
     ]
    }
   ],
   "source": [
    "result = eval(input('enter an expr'))\n",
    "print(result)"
   ]
  },
  {
   "cell_type": "code",
   "execution_count": 91,
   "id": "6bdc3a24-aca6-4f4d-9aa6-2720010036d3",
   "metadata": {},
   "outputs": [
    {
     "name": "stdin",
     "output_type": "stream",
     "text": [
      "enter an expression 10\n"
     ]
    },
    {
     "name": "stdout",
     "output_type": "stream",
     "text": [
      "10\n"
     ]
    }
   ],
   "source": [
    "x=eval(input('enter an expression'))\n",
    "print(x)"
   ]
  },
  {
   "cell_type": "code",
   "execution_count": 92,
   "id": "c428b812-99a2-4341-9989-be238acff314",
   "metadata": {},
   "outputs": [
    {
     "name": "stdin",
     "output_type": "stream",
     "text": [
      "enter an expression hello\n"
     ]
    },
    {
     "ename": "NameError",
     "evalue": "name 'hello' is not defined",
     "output_type": "error",
     "traceback": [
      "\u001b[31m---------------------------------------------------------------------------\u001b[39m",
      "\u001b[31mNameError\u001b[39m                                 Traceback (most recent call last)",
      "\u001b[36mCell\u001b[39m\u001b[36m \u001b[39m\u001b[32mIn[92]\u001b[39m\u001b[32m, line 1\u001b[39m\n\u001b[32m----> \u001b[39m\u001b[32m1\u001b[39m x=\u001b[38;5;28;43meval\u001b[39;49m\u001b[43m(\u001b[49m\u001b[38;5;28;43minput\u001b[39;49m\u001b[43m(\u001b[49m\u001b[33;43m'\u001b[39;49m\u001b[33;43menter an expression\u001b[39;49m\u001b[33;43m'\u001b[39;49m\u001b[43m)\u001b[49m\u001b[43m)\u001b[49m\n\u001b[32m      2\u001b[39m \u001b[38;5;28mprint\u001b[39m(x)\n",
      "\u001b[36mFile \u001b[39m\u001b[32m<string>:1\u001b[39m\n",
      "\u001b[31mNameError\u001b[39m: name 'hello' is not defined"
     ]
    }
   ],
   "source": [
    "x=eval(input('enter an expression'))\n",
    "print(x)"
   ]
  },
  {
   "cell_type": "markdown",
   "id": "01f42d13-3cf1-43ec-9415-22f0eacec27e",
   "metadata": {},
   "source": [
    "### eval() takes a string containing a Python expression, executes it as code, and returns the result of that expression.\n",
    "    \n",
    "### It works like a mini Python interpreter for strings."
   ]
  },
  {
   "cell_type": "code",
   "execution_count": null,
   "id": "06180f87-f2ba-4700-bf0c-12cc4b0d4a25",
   "metadata": {},
   "outputs": [],
   "source": []
  },
  {
   "cell_type": "code",
   "execution_count": null,
   "id": "ef993214-9b14-4dd9-b7c8-e1479d351709",
   "metadata": {},
   "outputs": [],
   "source": []
  }
 ],
 "metadata": {
  "kernelspec": {
   "display_name": "Python 3 (ipykernel)",
   "language": "python",
   "name": "python3"
  },
  "language_info": {
   "codemirror_mode": {
    "name": "ipython",
    "version": 3
   },
   "file_extension": ".py",
   "mimetype": "text/x-python",
   "name": "python",
   "nbconvert_exporter": "python",
   "pygments_lexer": "ipython3",
   "version": "3.13.5"
  }
 },
 "nbformat": 4,
 "nbformat_minor": 5
}
