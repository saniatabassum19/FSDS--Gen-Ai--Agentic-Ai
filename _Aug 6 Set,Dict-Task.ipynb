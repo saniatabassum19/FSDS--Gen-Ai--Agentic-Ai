{
 "cells": [
  {
   "cell_type": "markdown",
   "id": "68f66293-87ca-46ca-b02d-1dc49afedf04",
   "metadata": {},
   "source": [
    "# Sets "
   ]
  },
  {
   "cell_type": "markdown",
   "id": "ae4b03cc-1c0d-4469-b679-1e467227d146",
   "metadata": {},
   "source": [
    "1) Unordered & Unindexed collection of items.\n",
    "2) Set elements are unique. Duplicate elements are not allowed.\n",
    "3) Set elements are immutable (cannot be changed).\n",
    "4) Set itself is mutable. We can add or remove items from it.\n"
   ]
  },
  {
   "cell_type": "markdown",
   "id": "0843c6e3-d13a-4b82-b980-8a7796e9074c",
   "metadata": {},
   "source": [
    "## Set Creation"
   ]
  },
  {
   "cell_type": "code",
   "execution_count": 1,
   "id": "bd6ea65f-f3a5-43cc-af76-7be5a5bb9a17",
   "metadata": {},
   "outputs": [
    {
     "data": {
      "text/plain": [
       "{1, 2, 3, 4, 5}"
      ]
     },
     "execution_count": 1,
     "metadata": {},
     "output_type": "execute_result"
    }
   ],
   "source": [
    "myset = {1,2,3,4,5} # Set of numbers\n",
    "myset"
   ]
  },
  {
   "cell_type": "code",
   "execution_count": 2,
   "id": "82c9d28c-6b1c-483e-8aa2-b75fa2dad95a",
   "metadata": {},
   "outputs": [
    {
     "data": {
      "text/plain": [
       "5"
      ]
     },
     "execution_count": 2,
     "metadata": {},
     "output_type": "execute_result"
    }
   ],
   "source": [
    "len(myset) #Length of the set"
   ]
  },
  {
   "cell_type": "code",
   "execution_count": 3,
   "id": "d733179c-fb5f-483e-9d6d-41becb067504",
   "metadata": {},
   "outputs": [
    {
     "data": {
      "text/plain": [
       "{1, 2, 3, 4, 5}"
      ]
     },
     "execution_count": 3,
     "metadata": {},
     "output_type": "execute_result"
    }
   ],
   "source": [
    "my_set = {1,1,2,2,3,4,5,5}\n",
    "my_set # Duplicate elements are not allowed."
   ]
  },
  {
   "cell_type": "code",
   "execution_count": 4,
   "id": "fc43871f-0b84-47dd-8ba8-20119b6a6954",
   "metadata": {},
   "outputs": [
    {
     "data": {
      "text/plain": [
       "{1.79, 2.08, 3.99, 4.56, 5.45}"
      ]
     },
     "execution_count": 4,
     "metadata": {},
     "output_type": "execute_result"
    }
   ],
   "source": [
    "myset1 = {1.79,2.08,3.99,4.56,5.45} # Set of float numbers\n",
    "myset1"
   ]
  },
  {
   "cell_type": "code",
   "execution_count": 5,
   "id": "6fb9d0d4-9e52-49d7-83da-c304ed6d76ca",
   "metadata": {},
   "outputs": [
    {
     "data": {
      "text/plain": [
       "{'Asif', 'John', 'Tyrion'}"
      ]
     },
     "execution_count": 5,
     "metadata": {},
     "output_type": "execute_result"
    }
   ],
   "source": [
    "myset2 = {'Asif' , 'John' , 'Tyrion'} # Set of Strings\n",
    "myset2\n"
   ]
  },
  {
   "cell_type": "code",
   "execution_count": 6,
   "id": "e999182f-fd4e-4269-9a45-fd7bf27968b7",
   "metadata": {},
   "outputs": [
    {
     "data": {
      "text/plain": [
       "{(11, 22, 32), 10, 20, 'Hola'}"
      ]
     },
     "execution_count": 6,
     "metadata": {},
     "output_type": "execute_result"
    }
   ],
   "source": [
    "myset3 = {10,20, \"Hola\", (11, 22, 32)} # Mixed datatypes\n",
    "myset3"
   ]
  },
  {
   "cell_type": "code",
   "execution_count": 7,
   "id": "e68439f2-3180-4576-b7f2-26a3be899651",
   "metadata": {},
   "outputs": [
    {
     "ename": "TypeError",
     "evalue": "unhashable type: 'list'",
     "output_type": "error",
     "traceback": [
      "\u001b[31m---------------------------------------------------------------------------\u001b[39m",
      "\u001b[31mTypeError\u001b[39m                                 Traceback (most recent call last)",
      "\u001b[36mCell\u001b[39m\u001b[36m \u001b[39m\u001b[32mIn[7]\u001b[39m\u001b[32m, line 1\u001b[39m\n\u001b[32m----> \u001b[39m\u001b[32m1\u001b[39m myset3 = {\u001b[32m10\u001b[39m,\u001b[32m20\u001b[39m, \u001b[33m\"\u001b[39m\u001b[33mHola\u001b[39m\u001b[33m\"\u001b[39m, [\u001b[32m11\u001b[39m, \u001b[32m22\u001b[39m, \u001b[32m32\u001b[39m]} \u001b[38;5;66;03m# set doesn't allow mutable items like li\u001b[39;00m\n\u001b[32m      2\u001b[39m myset3\n",
      "\u001b[31mTypeError\u001b[39m: unhashable type: 'list'"
     ]
    }
   ],
   "source": [
    "myset3 = {10,20, \"Hola\", [11, 22, 32]} # set doesn't allow mutable items like list\n",
    "myset3\n"
   ]
  },
  {
   "cell_type": "code",
   "execution_count": 8,
   "id": "a66351cc-d747-4cae-80be-a39998ca64bf",
   "metadata": {},
   "outputs": [
    {
     "name": "stdout",
     "output_type": "stream",
     "text": [
      "<class 'set'>\n"
     ]
    }
   ],
   "source": [
    "myset4 = set() # Create an empty set\n",
    "print(type(myset4))"
   ]
  },
  {
   "cell_type": "code",
   "execution_count": 9,
   "id": "c7ee3020-19a6-4d3a-b8db-11f139706105",
   "metadata": {},
   "outputs": [
    {
     "data": {
      "text/plain": [
       "{'four', 'one', 'three', 'two'}"
      ]
     },
     "execution_count": 9,
     "metadata": {},
     "output_type": "execute_result"
    }
   ],
   "source": [
    "my_set1 = set(('one' , 'two' , 'three' , 'four'))\n",
    "my_set1"
   ]
  },
  {
   "cell_type": "markdown",
   "id": "0917c486-ba82-46d2-8933-523efbae15f6",
   "metadata": {},
   "source": [
    "# Loop through a Set\n"
   ]
  },
  {
   "cell_type": "code",
   "execution_count": 11,
   "id": "16d4880f-51f9-431e-ac42-7420be87ff4d",
   "metadata": {},
   "outputs": [
    {
     "name": "stdout",
     "output_type": "stream",
     "text": [
      "five\n",
      "one\n",
      "two\n",
      "four\n",
      "six\n",
      "eight\n",
      "three\n",
      "seven\n"
     ]
    }
   ],
   "source": [
    "myset = {'one', 'two', 'three', 'four', 'five', 'six', 'seven', 'eight'}\n",
    "for i in myset:\n",
    "    print(i)"
   ]
  },
  {
   "cell_type": "code",
   "execution_count": 12,
   "id": "2e8096ee-f880-42b2-9c6a-9fa909990ad1",
   "metadata": {},
   "outputs": [
    {
     "name": "stdout",
     "output_type": "stream",
     "text": [
      "(0, 'five')\n",
      "(1, 'one')\n",
      "(2, 'two')\n",
      "(3, 'four')\n",
      "(4, 'six')\n",
      "(5, 'eight')\n",
      "(6, 'three')\n",
      "(7, 'seven')\n"
     ]
    }
   ],
   "source": [
    "for i in enumerate(myset):\n",
    "    print(i)"
   ]
  },
  {
   "cell_type": "markdown",
   "id": "1a46cc09-e160-4165-92f4-0b4c66d7920b",
   "metadata": {},
   "source": [
    "# Set Membership"
   ]
  },
  {
   "cell_type": "code",
   "execution_count": 13,
   "id": "afcda312-1d71-4dac-9ac3-4230d28ef339",
   "metadata": {},
   "outputs": [
    {
     "data": {
      "text/plain": [
       "{'eight', 'five', 'four', 'one', 'seven', 'six', 'three', 'two'}"
      ]
     },
     "execution_count": 13,
     "metadata": {},
     "output_type": "execute_result"
    }
   ],
   "source": [
    "myset"
   ]
  },
  {
   "cell_type": "code",
   "execution_count": 14,
   "id": "8365b61c-863b-40dc-8502-c75d26f8682e",
   "metadata": {},
   "outputs": [
    {
     "data": {
      "text/plain": [
       "True"
      ]
     },
     "execution_count": 14,
     "metadata": {},
     "output_type": "execute_result"
    }
   ],
   "source": [
    "'one' in myset # Check if 'one' exist in the set\n"
   ]
  },
  {
   "cell_type": "code",
   "execution_count": 15,
   "id": "48416750-6e24-4d2f-b69d-6e8875ea523d",
   "metadata": {},
   "outputs": [
    {
     "data": {
      "text/plain": [
       "False"
      ]
     },
     "execution_count": 15,
     "metadata": {},
     "output_type": "execute_result"
    }
   ],
   "source": [
    "'ten' in myset # Check if 'ten' exist in the set"
   ]
  },
  {
   "cell_type": "code",
   "execution_count": 16,
   "id": "1bff4e00-1952-4c04-b514-493cc25b534b",
   "metadata": {},
   "outputs": [
    {
     "name": "stdout",
     "output_type": "stream",
     "text": [
      "Three is present in the set\n"
     ]
    }
   ],
   "source": [
    "if 'three' in myset: # Check if 'three' exist in the set\n",
    "    print('Three is present in the set')\n",
    "else:\n",
    "    print('Three is not present in the set')"
   ]
  },
  {
   "cell_type": "code",
   "execution_count": 17,
   "id": "507836b1-2fb3-4c87-8840-0a1b9df14aea",
   "metadata": {},
   "outputs": [
    {
     "name": "stdout",
     "output_type": "stream",
     "text": [
      "eleven is not present in the set\n"
     ]
    }
   ],
   "source": [
    "if 'eleven' in myset: # Check if 'eleven' exist in the list\n",
    "    print('eleven is present in the set')\n",
    "else:\n",
    "    print('eleven is not present in the set')"
   ]
  },
  {
   "cell_type": "markdown",
   "id": "1d8b51f9-021f-455b-8ea1-4f996990a582",
   "metadata": {},
   "source": [
    "  # Add & Remove Items"
   ]
  },
  {
   "cell_type": "code",
   "execution_count": 18,
   "id": "3f434f97-edb3-4dc0-a9e5-382c2814f5a6",
   "metadata": {},
   "outputs": [
    {
     "data": {
      "text/plain": [
       "{'eight', 'five', 'four', 'one', 'seven', 'six', 'three', 'two'}"
      ]
     },
     "execution_count": 18,
     "metadata": {},
     "output_type": "execute_result"
    }
   ],
   "source": [
    "myset\n"
   ]
  },
  {
   "cell_type": "code",
   "execution_count": 19,
   "id": "c4de43e3-6658-455f-b895-bf35ae536592",
   "metadata": {},
   "outputs": [
    {
     "data": {
      "text/plain": [
       "{'NINE', 'eight', 'five', 'four', 'one', 'seven', 'six', 'three', 'two'}"
      ]
     },
     "execution_count": 19,
     "metadata": {},
     "output_type": "execute_result"
    }
   ],
   "source": [
    "myset.add('NINE') # Add item to a set using add() method\n",
    "myset"
   ]
  },
  {
   "cell_type": "code",
   "execution_count": 20,
   "id": "80aa88ad-63f6-4e2c-aca0-33f65cd8e90a",
   "metadata": {},
   "outputs": [
    {
     "data": {
      "text/plain": [
       "{'ELEVEN',\n",
       " 'NINE',\n",
       " 'TEN',\n",
       " 'TWELVE',\n",
       " 'eight',\n",
       " 'five',\n",
       " 'four',\n",
       " 'one',\n",
       " 'seven',\n",
       " 'six',\n",
       " 'three',\n",
       " 'two'}"
      ]
     },
     "execution_count": 20,
     "metadata": {},
     "output_type": "execute_result"
    }
   ],
   "source": [
    "myset.update(['TEN' , 'ELEVEN' , 'TWELVE']) # Add multiple item to a set using\n",
    "myset"
   ]
  },
  {
   "cell_type": "code",
   "execution_count": 21,
   "id": "9e380e28-d67f-4780-8d23-7c581db4addb",
   "metadata": {},
   "outputs": [
    {
     "data": {
      "text/plain": [
       "{'ELEVEN',\n",
       " 'TEN',\n",
       " 'TWELVE',\n",
       " 'eight',\n",
       " 'five',\n",
       " 'four',\n",
       " 'one',\n",
       " 'seven',\n",
       " 'six',\n",
       " 'three',\n",
       " 'two'}"
      ]
     },
     "execution_count": 21,
     "metadata": {},
     "output_type": "execute_result"
    }
   ],
   "source": [
    "myset.remove('NINE') # remove item in a set using remove() method\n",
    "myset"
   ]
  },
  {
   "cell_type": "code",
   "execution_count": 22,
   "id": "579d1371-a9a4-4113-b61a-20b4ae0bb9f5",
   "metadata": {},
   "outputs": [
    {
     "data": {
      "text/plain": [
       "{'ELEVEN',\n",
       " 'TWELVE',\n",
       " 'eight',\n",
       " 'five',\n",
       " 'four',\n",
       " 'one',\n",
       " 'seven',\n",
       " 'six',\n",
       " 'three',\n",
       " 'two'}"
      ]
     },
     "execution_count": 22,
     "metadata": {},
     "output_type": "execute_result"
    }
   ],
   "source": [
    "myset.discard('TEN') # remove item from a set using discard() method\n",
    "myset"
   ]
  },
  {
   "cell_type": "code",
   "execution_count": 23,
   "id": "27ea77c8-8b51-4f45-82bc-3e3a4d09d972",
   "metadata": {},
   "outputs": [
    {
     "data": {
      "text/plain": [
       "set()"
      ]
     },
     "execution_count": 23,
     "metadata": {},
     "output_type": "execute_result"
    }
   ],
   "source": [
    "myset.clear() # Delete all items in a set\n",
    "myset"
   ]
  },
  {
   "cell_type": "code",
   "execution_count": 24,
   "id": "80540bb9-af03-4196-b661-f1b1ce04d365",
   "metadata": {},
   "outputs": [
    {
     "ename": "NameError",
     "evalue": "name 'myset' is not defined",
     "output_type": "error",
     "traceback": [
      "\u001b[31m---------------------------------------------------------------------------\u001b[39m",
      "\u001b[31mNameError\u001b[39m                                 Traceback (most recent call last)",
      "\u001b[36mCell\u001b[39m\u001b[36m \u001b[39m\u001b[32mIn[24]\u001b[39m\u001b[32m, line 2\u001b[39m\n\u001b[32m      1\u001b[39m \u001b[38;5;28;01mdel\u001b[39;00m myset \u001b[38;5;66;03m# Delete the set object\u001b[39;00m\n\u001b[32m----> \u001b[39m\u001b[32m2\u001b[39m \u001b[43mmyset\u001b[49m\n",
      "\u001b[31mNameError\u001b[39m: name 'myset' is not defined"
     ]
    }
   ],
   "source": [
    "del myset # Delete the set object\n",
    "myset"
   ]
  },
  {
   "cell_type": "markdown",
   "id": "029839e0-591d-4ca9-9bd1-cc2837dd95bc",
   "metadata": {},
   "source": [
    "# Copy Set"
   ]
  },
  {
   "cell_type": "code",
   "execution_count": 25,
   "id": "2b29e220-09ee-4782-b024-05369e4a15d2",
   "metadata": {},
   "outputs": [
    {
     "data": {
      "text/plain": [
       "{'eight', 'five', 'four', 'one', 'seven', 'six', 'three', 'two'}"
      ]
     },
     "execution_count": 25,
     "metadata": {},
     "output_type": "execute_result"
    }
   ],
   "source": [
    "myset = {'one', 'two', 'three', 'four', 'five', 'six', 'seven', 'eight'}\n",
    "myset"
   ]
  },
  {
   "cell_type": "code",
   "execution_count": 26,
   "id": "6a987480-dbbc-4b95-925a-c005fd1a08ab",
   "metadata": {},
   "outputs": [
    {
     "data": {
      "text/plain": [
       "{'eight', 'five', 'four', 'one', 'seven', 'six', 'three', 'two'}"
      ]
     },
     "execution_count": 26,
     "metadata": {},
     "output_type": "execute_result"
    }
   ],
   "source": [
    "myset1 = myset # Create a new reference \"myset1\"\n",
    "myset1"
   ]
  },
  {
   "cell_type": "code",
   "execution_count": 27,
   "id": "6c5aac30-7a90-4355-9786-8cce16b95a2b",
   "metadata": {},
   "outputs": [
    {
     "data": {
      "text/plain": [
       "(2192320376704, 2192320376704)"
      ]
     },
     "execution_count": 27,
     "metadata": {},
     "output_type": "execute_result"
    }
   ],
   "source": [
    "id(myset) , id(myset1) # The address of both myset & myset1 will be the same "
   ]
  },
  {
   "cell_type": "code",
   "execution_count": 28,
   "id": "3b4423b2-d681-4e1d-8ecc-b7782219d9b6",
   "metadata": {},
   "outputs": [
    {
     "data": {
      "text/plain": [
       "{'eight', 'five', 'four', 'one', 'seven', 'six', 'three', 'two'}"
      ]
     },
     "execution_count": 28,
     "metadata": {},
     "output_type": "execute_result"
    }
   ],
   "source": [
    "my_set = myset.copy() # Create a copy of the list\n",
    "my_set\n"
   ]
  },
  {
   "cell_type": "code",
   "execution_count": 29,
   "id": "1c25aecf-bf37-4474-8290-bd028ae867a3",
   "metadata": {},
   "outputs": [
    {
     "data": {
      "text/plain": [
       "2192320377152"
      ]
     },
     "execution_count": 29,
     "metadata": {},
     "output_type": "execute_result"
    }
   ],
   "source": [
    "id(my_set) # The address of my_set will be different from myset because my_set is copied from myset"
   ]
  },
  {
   "cell_type": "code",
   "execution_count": 30,
   "id": "72841bfd-0fa1-4271-9146-e1f25843ba24",
   "metadata": {},
   "outputs": [
    {
     "data": {
      "text/plain": [
       "{'eight', 'five', 'four', 'nine', 'one', 'seven', 'six', 'three', 'two'}"
      ]
     },
     "execution_count": 30,
     "metadata": {},
     "output_type": "execute_result"
    }
   ],
   "source": [
    "myset.add('nine')\n",
    "myset"
   ]
  },
  {
   "cell_type": "code",
   "execution_count": 31,
   "id": "25f310d4-5714-47e7-a5e4-6af3f7098011",
   "metadata": {},
   "outputs": [
    {
     "data": {
      "text/plain": [
       "{'eight', 'five', 'four', 'nine', 'one', 'seven', 'six', 'three', 'two'}"
      ]
     },
     "execution_count": 31,
     "metadata": {},
     "output_type": "execute_result"
    }
   ],
   "source": [
    "myset1 # myset1 will be also impacted as it is pointing to the same Set"
   ]
  },
  {
   "cell_type": "code",
   "execution_count": 32,
   "id": "b9a9a625-297e-4ef3-a54c-1f90f191c6d8",
   "metadata": {},
   "outputs": [
    {
     "data": {
      "text/plain": [
       "{'eight', 'five', 'four', 'one', 'seven', 'six', 'three', 'two'}"
      ]
     },
     "execution_count": 32,
     "metadata": {},
     "output_type": "execute_result"
    }
   ],
   "source": [
    "my_set # Copy of the set won't be impacted due to changes made on the original Set"
   ]
  },
  {
   "cell_type": "markdown",
   "id": "aefc1af3-4017-4c6c-af39-9300846d54dc",
   "metadata": {},
   "source": [
    "# Set Operation"
   ]
  },
  {
   "cell_type": "markdown",
   "id": "f43f4cae-eda0-4d36-a355-d05b6bfe382e",
   "metadata": {},
   "source": [
    " ## Union"
   ]
  },
  {
   "cell_type": "code",
   "execution_count": 35,
   "id": "7e97869b-6ca8-49dd-b456-199066fb4129",
   "metadata": {},
   "outputs": [
    {
     "name": "stdout",
     "output_type": "stream",
     "text": [
      "{1, 2, 3, 4, 5}\n",
      "{4, 5, 6, 7, 8}\n",
      "{8, 9, 10}\n"
     ]
    }
   ],
   "source": [
    "A = {1,2,3,4,5}\n",
    "B = {4,5,6,7,8}\n",
    "C = {8,9,10}\n",
    "print(A)\n",
    "print(B)\n",
    "print(C)"
   ]
  },
  {
   "cell_type": "code",
   "execution_count": 36,
   "id": "04f6ea9b-62e4-4ff2-a937-5cf16523bfed",
   "metadata": {},
   "outputs": [
    {
     "data": {
      "text/plain": [
       "{1, 2, 3, 4, 5, 6, 7, 8}"
      ]
     },
     "execution_count": 36,
     "metadata": {},
     "output_type": "execute_result"
    }
   ],
   "source": [
    "A | B # Union of A and B (All elements from both sets. NO DUPLICATES)"
   ]
  },
  {
   "cell_type": "code",
   "execution_count": 37,
   "id": "c7c34d08-c780-440f-b174-d6b59fbb6244",
   "metadata": {},
   "outputs": [
    {
     "data": {
      "text/plain": [
       "{1, 2, 3, 4, 5, 6, 7, 8}"
      ]
     },
     "execution_count": 37,
     "metadata": {},
     "output_type": "execute_result"
    }
   ],
   "source": [
    "A.union(B) # Union of A and B"
   ]
  },
  {
   "cell_type": "code",
   "execution_count": 38,
   "id": "50c3669a-2ddf-4e71-a489-d012bc48cdfa",
   "metadata": {},
   "outputs": [
    {
     "data": {
      "text/plain": [
       "{1, 2, 3, 4, 5, 6, 7, 8, 9, 10}"
      ]
     },
     "execution_count": 38,
     "metadata": {},
     "output_type": "execute_result"
    }
   ],
   "source": [
    "A.union(B, C) # Union of A, B and C"
   ]
  },
  {
   "cell_type": "code",
   "execution_count": 39,
   "id": "e2c53409-3f98-40db-b0f0-3ae39a001ca0",
   "metadata": {},
   "outputs": [
    {
     "data": {
      "text/plain": [
       "{1, 2, 3, 4, 5, 6, 7, 8, 9, 10}"
      ]
     },
     "execution_count": 39,
     "metadata": {},
     "output_type": "execute_result"
    }
   ],
   "source": [
    "\"\"\"\n",
    "Updates the set calling the update() method with union of A , B & C.\n",
    "For below example Set A will be updated with union of A,B & C.\n",
    "\"\"\"\n",
    "A.update(B,C)\n",
    "A\n"
   ]
  },
  {
   "cell_type": "markdown",
   "id": "dfe5b2bd-565a-48a2-b2d7-2f900cf62995",
   "metadata": {},
   "source": [
    "# Intersection"
   ]
  },
  {
   "cell_type": "code",
   "execution_count": 40,
   "id": "a9e0bc2a-1467-49d0-adac-5084bbcb624c",
   "metadata": {},
   "outputs": [
    {
     "name": "stdout",
     "output_type": "stream",
     "text": [
      "{1, 2, 3, 4, 5}\n",
      "{4, 5, 6, 7, 8}\n"
     ]
    }
   ],
   "source": [
    "A = {1,2,3,4,5}\n",
    "B = {4,5,6,7,8}\n",
    "print(A)\n",
    "print(B)"
   ]
  },
  {
   "cell_type": "code",
   "execution_count": 41,
   "id": "2af8d5d5-9df3-4d34-80bb-eff6a7a13f95",
   "metadata": {},
   "outputs": [
    {
     "data": {
      "text/plain": [
       "{4, 5}"
      ]
     },
     "execution_count": 41,
     "metadata": {},
     "output_type": "execute_result"
    }
   ],
   "source": [
    "A & B # Intersection of A and B (Common items in both sets)"
   ]
  },
  {
   "cell_type": "code",
   "execution_count": 43,
   "id": "f1bc2808-81b9-426c-9d5b-bf6a751d1836",
   "metadata": {},
   "outputs": [
    {
     "ename": "SyntaxError",
     "evalue": "invalid syntax (3871018507.py, line 1)",
     "output_type": "error",
     "traceback": [
      "  \u001b[36mCell\u001b[39m\u001b[36m \u001b[39m\u001b[32mIn[43]\u001b[39m\u001b[32m, line 1\u001b[39m\n\u001b[31m    \u001b[39m\u001b[31mA.intersection(B) Intersection of A and B\u001b[39m\n                      ^\n\u001b[31mSyntaxError\u001b[39m\u001b[31m:\u001b[39m invalid syntax\n"
     ]
    }
   ],
   "source": [
    "A.intersection(B) Intersection of A and B"
   ]
  },
  {
   "cell_type": "code",
   "execution_count": 44,
   "id": "d8d02d68-8375-404d-be10-98a8f5fdf611",
   "metadata": {},
   "outputs": [
    {
     "data": {
      "text/plain": [
       "{4, 5}"
      ]
     },
     "execution_count": 44,
     "metadata": {},
     "output_type": "execute_result"
    }
   ],
   "source": [
    "\"\"\"\n",
    "Updates the set calling the intersection_update() method with the intersection o\n",
    "For below example Set A will be updated with the intersection of A & B.\n",
    "\"\"\"\n",
    "A.intersection_update(B)\n",
    "A\n"
   ]
  },
  {
   "cell_type": "markdown",
   "id": "6df58153-ae6a-4f4e-99b4-b9464c3d4d87",
   "metadata": {},
   "source": [
    "# Difference"
   ]
  },
  {
   "cell_type": "code",
   "execution_count": 46,
   "id": "e60ada37-a92c-4f42-9897-fd70283a23f9",
   "metadata": {},
   "outputs": [
    {
     "name": "stdout",
     "output_type": "stream",
     "text": [
      "{1, 2, 3, 4, 5}\n",
      "{4, 5, 6, 7, 8}\n"
     ]
    }
   ],
   "source": [
    "A = {1,2,3,4,5}\n",
    "B = {4,5,6,7,8}\n",
    "print(A)\n",
    "print(B)"
   ]
  },
  {
   "cell_type": "code",
   "execution_count": 47,
   "id": "7c098f3f-b820-4e51-b9a5-6af2bc3f1869",
   "metadata": {},
   "outputs": [
    {
     "data": {
      "text/plain": [
       "{1, 2, 3}"
      ]
     },
     "execution_count": 47,
     "metadata": {},
     "output_type": "execute_result"
    }
   ],
   "source": [
    "A - B # set of elements that are only in A but not in B"
   ]
  },
  {
   "cell_type": "code",
   "execution_count": 48,
   "id": "1cc9479c-39b7-4d33-b437-c68e5b9f1c41",
   "metadata": {},
   "outputs": [
    {
     "data": {
      "text/plain": [
       "{1, 2, 3}"
      ]
     },
     "execution_count": 48,
     "metadata": {},
     "output_type": "execute_result"
    }
   ],
   "source": [
    "A.difference(B) # Difference of sets"
   ]
  },
  {
   "cell_type": "code",
   "execution_count": 49,
   "id": "76ee6a2e-f8fa-4392-b1ba-5237575513df",
   "metadata": {},
   "outputs": [
    {
     "data": {
      "text/plain": [
       "{6, 7, 8}"
      ]
     },
     "execution_count": 49,
     "metadata": {},
     "output_type": "execute_result"
    }
   ],
   "source": [
    "B- A # set of elements that are only in B but not in A\n"
   ]
  },
  {
   "cell_type": "code",
   "execution_count": 50,
   "id": "d061ff19-90ae-4496-b15a-b2625188ed7e",
   "metadata": {},
   "outputs": [
    {
     "data": {
      "text/plain": [
       "{6, 7, 8}"
      ]
     },
     "execution_count": 50,
     "metadata": {},
     "output_type": "execute_result"
    }
   ],
   "source": [
    "B.difference(A)"
   ]
  },
  {
   "cell_type": "code",
   "execution_count": 51,
   "id": "de2a5a31-aa54-4dad-9ed9-451806b1bbbb",
   "metadata": {},
   "outputs": [
    {
     "data": {
      "text/plain": [
       "{6, 7, 8}"
      ]
     },
     "execution_count": 51,
     "metadata": {},
     "output_type": "execute_result"
    }
   ],
   "source": [
    "\"\"\"\n",
    "Updates the set calling the difference_update() method with the difference of se\n",
    "For below example Set B will be updated with the difference of B & A.\n",
    "\"\"\"\n",
    "B.difference_update(A)\n",
    "B"
   ]
  },
  {
   "cell_type": "markdown",
   "id": "75d0f36c-141b-4b86-9559-2b4da5d07587",
   "metadata": {},
   "source": [
    "# Symmetric Difference"
   ]
  },
  {
   "cell_type": "code",
   "execution_count": 52,
   "id": "68c9b52e-f4dd-4748-a74a-d93c2144c692",
   "metadata": {},
   "outputs": [
    {
     "name": "stdout",
     "output_type": "stream",
     "text": [
      "{1, 2, 3, 4, 5}\n",
      "{4, 5, 6, 7, 8}\n"
     ]
    }
   ],
   "source": [
    "A = {1,2,3,4,5}\n",
    "B = {4,5,6,7,8}\n",
    "print(A)\n",
    "print(B)"
   ]
  },
  {
   "cell_type": "code",
   "execution_count": 53,
   "id": "0e3c339e-1e02-4d48-bf4c-297ca14c47a1",
   "metadata": {},
   "outputs": [
    {
     "data": {
      "text/plain": [
       "{1, 2, 3, 6, 7, 8}"
      ]
     },
     "execution_count": 53,
     "metadata": {},
     "output_type": "execute_result"
    }
   ],
   "source": [
    "A ^ B # Symmetric difference (Set of elements in A and B but not in both"
   ]
  },
  {
   "cell_type": "code",
   "execution_count": 54,
   "id": "980e06b5-7713-4567-b826-c6d75f9b9745",
   "metadata": {},
   "outputs": [
    {
     "data": {
      "text/plain": [
       "{1, 2, 3, 6, 7, 8}"
      ]
     },
     "execution_count": 54,
     "metadata": {},
     "output_type": "execute_result"
    }
   ],
   "source": [
    "A.symmetric_difference(B) # Symmetric difference of sets"
   ]
  },
  {
   "cell_type": "code",
   "execution_count": 61,
   "id": "5d12d482-8ad5-4445-ab0c-9843725ececa",
   "metadata": {},
   "outputs": [
    {
     "data": {
      "text/plain": [
       "{1, 2, 3, 4, 5}"
      ]
     },
     "execution_count": 61,
     "metadata": {},
     "output_type": "execute_result"
    }
   ],
   "source": [
    "\"\"\"\n",
    "Updates the set calling the symmetric_difference_update() method with the symmet\n",
    "For below example Set A will be updated with the symmetric difference of A & B.\n",
    "\"\"\"\n",
    "A.symmetric_difference_update(B)\n",
    "A\n",
    " "
   ]
  },
  {
   "cell_type": "markdown",
   "id": "ff00709e-7ad7-4eb2-904f-3230d0e7836e",
   "metadata": {},
   "source": [
    " # Subset , Superset & Disjoint"
   ]
  },
  {
   "cell_type": "code",
   "execution_count": 62,
   "id": "a1cb19ad-7ed3-4e20-acd9-5ab3b6fcbc49",
   "metadata": {},
   "outputs": [
    {
     "name": "stdout",
     "output_type": "stream",
     "text": [
      "{1, 2, 3, 4, 5, 6, 7, 8, 9}\n",
      "{3, 4, 5, 6, 7, 8}\n",
      "{40, 10, 20, 30}\n"
     ]
    }
   ],
   "source": [
    "A = {1,2,3,4,5,6,7,8,9}\n",
    "B = {3,4,5,6,7,8}\n",
    "C = {10,20,30,40}\n",
    "print(A)\n",
    "print(B)\n",
    "print(C)"
   ]
  },
  {
   "cell_type": "code",
   "execution_count": 63,
   "id": "127b7367-4909-4cdd-b11f-2fd8f73cfe6e",
   "metadata": {},
   "outputs": [
    {
     "data": {
      "text/plain": [
       "True"
      ]
     },
     "execution_count": 63,
     "metadata": {},
     "output_type": "execute_result"
    }
   ],
   "source": [
    "B.issubset(A) # Set B is said to be the subset of set A if all elements of B are present"
   ]
  },
  {
   "cell_type": "code",
   "execution_count": 64,
   "id": "18254302-6207-42f4-b217-3490a6646882",
   "metadata": {},
   "outputs": [
    {
     "data": {
      "text/plain": [
       "True"
      ]
     },
     "execution_count": 64,
     "metadata": {},
     "output_type": "execute_result"
    }
   ],
   "source": [
    "A.issuperset(B) # Set A is said to be the superset of set B if all elements of B"
   ]
  },
  {
   "cell_type": "code",
   "execution_count": 65,
   "id": "d61f464d-9d0a-46a3-ba3e-bc6668e16e34",
   "metadata": {},
   "outputs": [
    {
     "data": {
      "text/plain": [
       "True"
      ]
     },
     "execution_count": 65,
     "metadata": {},
     "output_type": "execute_result"
    }
   ],
   "source": [
    "C.isdisjoint(A) # Two sets are said to be disjoint sets if they have no common elements"
   ]
  },
  {
   "cell_type": "code",
   "execution_count": 66,
   "id": "865e3b0d-1e36-4eb0-8701-ed7776a7624d",
   "metadata": {},
   "outputs": [
    {
     "data": {
      "text/plain": [
       "False"
      ]
     },
     "execution_count": 66,
     "metadata": {},
     "output_type": "execute_result"
    }
   ],
   "source": [
    "B.isdisjoint(A) # Two sets are said to be disjoint sets if they have no common elements"
   ]
  },
  {
   "cell_type": "markdown",
   "id": "73364934-cc00-4123-a15b-39c0131b4ecc",
   "metadata": {},
   "source": [
    "# Other Builtin functions"
   ]
  },
  {
   "cell_type": "code",
   "execution_count": 67,
   "id": "81bc8082-dfa0-48f4-bcea-c5657873966f",
   "metadata": {},
   "outputs": [
    {
     "data": {
      "text/plain": [
       "{1, 2, 3, 4, 5, 6, 7, 8, 9}"
      ]
     },
     "execution_count": 67,
     "metadata": {},
     "output_type": "execute_result"
    }
   ],
   "source": [
    "A"
   ]
  },
  {
   "cell_type": "code",
   "execution_count": 68,
   "id": "619b89de-c390-4fe1-8447-7c8a52b0b5ed",
   "metadata": {},
   "outputs": [
    {
     "data": {
      "text/plain": [
       "45"
      ]
     },
     "execution_count": 68,
     "metadata": {},
     "output_type": "execute_result"
    }
   ],
   "source": [
    "sum(A)"
   ]
  },
  {
   "cell_type": "code",
   "execution_count": 69,
   "id": "dd3b30e3-d114-401d-a451-3caa6388b2be",
   "metadata": {},
   "outputs": [
    {
     "data": {
      "text/plain": [
       "9"
      ]
     },
     "execution_count": 69,
     "metadata": {},
     "output_type": "execute_result"
    }
   ],
   "source": [
    "max(A)\n"
   ]
  },
  {
   "cell_type": "code",
   "execution_count": 70,
   "id": "3b31beb1-e7c3-4891-a727-d25298f77d35",
   "metadata": {},
   "outputs": [
    {
     "data": {
      "text/plain": [
       "1"
      ]
     },
     "execution_count": 70,
     "metadata": {},
     "output_type": "execute_result"
    }
   ],
   "source": [
    "min(A)"
   ]
  },
  {
   "cell_type": "code",
   "execution_count": 71,
   "id": "8b6c8fb8-6d5b-4f5a-b1b3-abe66ac0609b",
   "metadata": {},
   "outputs": [
    {
     "data": {
      "text/plain": [
       "9"
      ]
     },
     "execution_count": 71,
     "metadata": {},
     "output_type": "execute_result"
    }
   ],
   "source": [
    "len(A)"
   ]
  },
  {
   "cell_type": "code",
   "execution_count": 72,
   "id": "04a52b75-b2cd-467b-a69b-581b3b642721",
   "metadata": {},
   "outputs": [
    {
     "data": {
      "text/plain": [
       "[(0, 1), (1, 2), (2, 3), (3, 4), (4, 5), (5, 6), (6, 7), (7, 8), (8, 9)]"
      ]
     },
     "execution_count": 72,
     "metadata": {},
     "output_type": "execute_result"
    }
   ],
   "source": [
    "list(enumerate(A))"
   ]
  },
  {
   "cell_type": "code",
   "execution_count": 73,
   "id": "f9d28f3a-fe04-4eb1-a74c-db024510ea46",
   "metadata": {},
   "outputs": [
    {
     "data": {
      "text/plain": [
       "[9, 8, 7, 6, 5, 4, 3, 2, 1]"
      ]
     },
     "execution_count": 73,
     "metadata": {},
     "output_type": "execute_result"
    }
   ],
   "source": [
    "D= sorted(A,reverse=True)\n",
    "D"
   ]
  },
  {
   "cell_type": "code",
   "execution_count": 74,
   "id": "f1762c27-e6b7-41c4-882c-522005f06331",
   "metadata": {},
   "outputs": [
    {
     "data": {
      "text/plain": [
       "[1, 2, 3, 4, 5, 6, 7, 8, 9]"
      ]
     },
     "execution_count": 74,
     "metadata": {},
     "output_type": "execute_result"
    }
   ],
   "source": [
    "sorted(D)"
   ]
  },
  {
   "cell_type": "code",
   "execution_count": null,
   "id": "95d99a94-48da-459b-95e3-1531c57c9389",
   "metadata": {},
   "outputs": [],
   "source": []
  },
  {
   "cell_type": "code",
   "execution_count": null,
   "id": "bcc46518-168b-4b0a-8cc6-b8d5ebc24729",
   "metadata": {},
   "outputs": [],
   "source": []
  },
  {
   "cell_type": "code",
   "execution_count": null,
   "id": "356f368d-7f09-4d93-92fc-98aebc477036",
   "metadata": {},
   "outputs": [],
   "source": []
  },
  {
   "cell_type": "markdown",
   "id": "85a9e4f5-2103-437e-9890-6240f88b3b44",
   "metadata": {},
   "source": [
    "# Dictionary"
   ]
  },
  {
   "cell_type": "markdown",
   "id": "60b245e7-212b-4d90-b674-59e84262527c",
   "metadata": {},
   "source": [
    "Dictionary is a mutable data type in Python.\n",
    "\n",
    "A python dictionary is a collection of key and value pairs separated by a colon (:) & enclosed\n",
    "in curly braces {}.\n",
    "\n",
    "Keys must be unique in a dictionary, duplicate values are allowed."
   ]
  },
  {
   "cell_type": "markdown",
   "id": "c2a15ebe-878f-49b7-bc35-ae5e1cd74f4e",
   "metadata": {},
   "source": [
    "## Create Dictionary"
   ]
  },
  {
   "cell_type": "code",
   "execution_count": 2,
   "id": "65bb6100-3246-4507-9b9c-6e645000da63",
   "metadata": {},
   "outputs": [
    {
     "data": {
      "text/plain": [
       "{}"
      ]
     },
     "execution_count": 2,
     "metadata": {},
     "output_type": "execute_result"
    }
   ],
   "source": [
    "mydict = dict() # empty dictionary\n",
    "mydict"
   ]
  },
  {
   "cell_type": "code",
   "execution_count": 3,
   "id": "700afdd3-909f-444d-9dfd-49852f807502",
   "metadata": {},
   "outputs": [
    {
     "data": {
      "text/plain": [
       "{1: 'one', 2: 'two', 3: 'three'}"
      ]
     },
     "execution_count": 3,
     "metadata": {},
     "output_type": "execute_result"
    }
   ],
   "source": [
    "mydict = {1:'one' , 2:'two' , 3:'three'} # dictionary with integer keys\n",
    "mydict"
   ]
  },
  {
   "cell_type": "code",
   "execution_count": 4,
   "id": "3fe9453f-fa7b-4545-8292-0498c9359f5b",
   "metadata": {},
   "outputs": [
    {
     "data": {
      "text/plain": [
       "{1: 'one', 2: 'two', 3: 'three'}"
      ]
     },
     "execution_count": 4,
     "metadata": {},
     "output_type": "execute_result"
    }
   ],
   "source": [
    "mydict = dict({1:'one' , 2:'two' , 3:'three'}) # Create dictionary using dict()\n",
    "mydict"
   ]
  },
  {
   "cell_type": "code",
   "execution_count": 5,
   "id": "c7fa0eba-c54e-46e9-bbc6-c9d904c51df7",
   "metadata": {},
   "outputs": [
    {
     "data": {
      "text/plain": [
       "{'A': 'one', 'B': 'two', 'C': 'three'}"
      ]
     },
     "execution_count": 5,
     "metadata": {},
     "output_type": "execute_result"
    }
   ],
   "source": [
    "mydict = {'A':'one' , 'B':'two' , 'C':'three'} # dictionary with character keys\n",
    "mydict"
   ]
  },
  {
   "cell_type": "code",
   "execution_count": 6,
   "id": "d6e03b4f-fc46-4b85-8f98-6af0636651d8",
   "metadata": {},
   "outputs": [
    {
     "data": {
      "text/plain": [
       "{1: 'one', 'A': 'two', 3: 'three'}"
      ]
     },
     "execution_count": 6,
     "metadata": {},
     "output_type": "execute_result"
    }
   ],
   "source": [
    "mydict = {1:'one' , 'A':'two' , 3:'three'} # dictionary with mixed keys\n",
    "mydict"
   ]
  },
  {
   "cell_type": "code",
   "execution_count": 7,
   "id": "c5679412-9f9c-48dd-8cc4-eacc813fa0ae",
   "metadata": {},
   "outputs": [
    {
     "data": {
      "text/plain": [
       "dict_keys([1, 'A', 3])"
      ]
     },
     "execution_count": 7,
     "metadata": {},
     "output_type": "execute_result"
    }
   ],
   "source": [
    "mydict.keys() # Return Dictionary Keys using keys() method"
   ]
  },
  {
   "cell_type": "code",
   "execution_count": 8,
   "id": "fddda6d1-72e4-4992-bfb0-8b90148e73a2",
   "metadata": {},
   "outputs": [
    {
     "data": {
      "text/plain": [
       "dict_values(['one', 'two', 'three'])"
      ]
     },
     "execution_count": 8,
     "metadata": {},
     "output_type": "execute_result"
    }
   ],
   "source": [
    "mydict.values() # Return Dictionary Values using values() method"
   ]
  },
  {
   "cell_type": "code",
   "execution_count": 9,
   "id": "8a60d357-75cf-413f-99ce-bb80988c2984",
   "metadata": {},
   "outputs": [
    {
     "data": {
      "text/plain": [
       "dict_items([(1, 'one'), ('A', 'two'), (3, 'three')])"
      ]
     },
     "execution_count": 9,
     "metadata": {},
     "output_type": "execute_result"
    }
   ],
   "source": [
    "mydict.items() # Access each key-value pair within a dictionary"
   ]
  },
  {
   "cell_type": "code",
   "execution_count": 10,
   "id": "47682750-ae73-4279-aaae-112a3ad9b433",
   "metadata": {},
   "outputs": [
    {
     "data": {
      "text/plain": [
       "{1: 'one', 2: 'two', 'A': ['asif', 'john', 'Maria']}"
      ]
     },
     "execution_count": 10,
     "metadata": {},
     "output_type": "execute_result"
    }
   ],
   "source": [
    "mydict = {1:'one' , 2:'two' , 'A':['asif' , 'john' , 'Maria']} # dictionary with\n",
    "mydict"
   ]
  },
  {
   "cell_type": "code",
   "execution_count": 11,
   "id": "0a22c988-d1c6-4b4b-8b69-4e138f620591",
   "metadata": {},
   "outputs": [
    {
     "data": {
      "text/plain": [
       "{1: 'one',\n",
       " 2: 'two',\n",
       " 'A': ['asif', 'john', 'Maria'],\n",
       " 'B': ('Bat', 'cat', 'mat')}"
      ]
     },
     "execution_count": 11,
     "metadata": {},
     "output_type": "execute_result"
    }
   ],
   "source": [
    "mydict = {1:'one' , 2:'two' , 'A':['asif' , 'john' , 'Maria'], 'B':('Bat' , 'cat','mat')}\n",
    "mydict"
   ]
  },
  {
   "cell_type": "markdown",
   "id": "d596be64-5a16-4aa5-8947-e928062d2d11",
   "metadata": {},
   "source": [
    "## dict.fromkeys(keys, value) creates a dictionary with each key in keys mapped to the same value."
   ]
  },
  {
   "cell_type": "code",
   "execution_count": 12,
   "id": "9c452218-a5c8-4d4f-9a5b-7d0d32abadf6",
   "metadata": {},
   "outputs": [
    {
     "data": {
      "text/plain": [
       "{'a': None, 'c': None, 'b': None, 'd': None}"
      ]
     },
     "execution_count": 12,
     "metadata": {},
     "output_type": "execute_result"
    }
   ],
   "source": [
    "keys = {'a' , 'b' , 'c' , 'd'}\n",
    "mydict3 = dict.fromkeys(keys) # Create a dictionary from a sequence of keys\n",
    "mydict3"
   ]
  },
  {
   "cell_type": "code",
   "execution_count": 13,
   "id": "8789625f-fca5-41a8-bdc8-bb1044bb1466",
   "metadata": {},
   "outputs": [
    {
     "data": {
      "text/plain": [
       "{'a': 10, 'c': 10, 'b': 10, 'd': 10}"
      ]
     },
     "execution_count": 13,
     "metadata": {},
     "output_type": "execute_result"
    }
   ],
   "source": [
    "keys = {'a' , 'b' , 'c' , 'd'}\n",
    "value = 10\n",
    "mydict3 = dict.fromkeys(keys , value) # Create a dictionary from a sequence of\n",
    "mydict3"
   ]
  },
  {
   "cell_type": "code",
   "execution_count": 14,
   "id": "743e78a9-9339-4ad2-899f-4ad418029054",
   "metadata": {},
   "outputs": [
    {
     "data": {
      "text/plain": [
       "{'a': [10, 20, 30], 'c': [10, 20, 30], 'b': [10, 20, 30], 'd': [10, 20, 30]}"
      ]
     },
     "execution_count": 14,
     "metadata": {},
     "output_type": "execute_result"
    }
   ],
   "source": [
    "keys = {'a' , 'b' , 'c' , 'd'}\n",
    "value = [10,20,30]\n",
    "mydict3 = dict.fromkeys(keys , value) # Create a dictionary from a sequence of\n",
    "mydict3\n"
   ]
  },
  {
   "cell_type": "code",
   "execution_count": 15,
   "id": "142988dd-c5a5-4d00-b201-686b781b94d4",
   "metadata": {},
   "outputs": [
    {
     "data": {
      "text/plain": [
       "{'a': [10, 20, 30, 40],\n",
       " 'c': [10, 20, 30, 40],\n",
       " 'b': [10, 20, 30, 40],\n",
       " 'd': [10, 20, 30, 40]}"
      ]
     },
     "execution_count": 15,
     "metadata": {},
     "output_type": "execute_result"
    }
   ],
   "source": [
    "value.append(40)\n",
    "mydict3"
   ]
  },
  {
   "cell_type": "markdown",
   "id": "ba9f01e5-869a-4c82-a905-8f708e73c759",
   "metadata": {},
   "source": [
    " ## Accessing Items"
   ]
  },
  {
   "cell_type": "code",
   "execution_count": 16,
   "id": "b34fe597-03b7-4f11-baad-4b6f32fb9b47",
   "metadata": {},
   "outputs": [
    {
     "data": {
      "text/plain": [
       "{1: 'one', 2: 'two', 3: 'three', 4: 'four'}"
      ]
     },
     "execution_count": 16,
     "metadata": {},
     "output_type": "execute_result"
    }
   ],
   "source": [
    "mydict = {1:'one' , 2:'two' , 3:'three' , 4:'four'}\n",
    "mydict"
   ]
  },
  {
   "cell_type": "code",
   "execution_count": 17,
   "id": "ef3df7a3-b713-4ddf-8f60-7a998a91f49d",
   "metadata": {},
   "outputs": [
    {
     "data": {
      "text/plain": [
       "'one'"
      ]
     },
     "execution_count": 17,
     "metadata": {},
     "output_type": "execute_result"
    }
   ],
   "source": [
    "mydict[1] # Access item using key"
   ]
  },
  {
   "cell_type": "code",
   "execution_count": 18,
   "id": "41a92a10-269e-4071-899b-b5135ed3fbf4",
   "metadata": {},
   "outputs": [
    {
     "data": {
      "text/plain": [
       "'one'"
      ]
     },
     "execution_count": 18,
     "metadata": {},
     "output_type": "execute_result"
    }
   ],
   "source": [
    "mydict.get(1) # Access item using get() method"
   ]
  },
  {
   "cell_type": "code",
   "execution_count": 19,
   "id": "674afca6-d738-4ba1-aaaa-d876269fed96",
   "metadata": {},
   "outputs": [
    {
     "data": {
      "text/plain": [
       "{'Name': 'Sania', 'ID': 74123, 'DOB': 1991, 'job': 'Analyst'}"
      ]
     },
     "execution_count": 19,
     "metadata": {},
     "output_type": "execute_result"
    }
   ],
   "source": [
    "mydict1 = {'Name':'Sania' , 'ID': 74123 , 'DOB': 1991 , 'job' :'Analyst'}\n",
    "mydict1\n"
   ]
  },
  {
   "cell_type": "code",
   "execution_count": 20,
   "id": "265066cb-8f97-4caa-adc0-cd0d86db85a0",
   "metadata": {},
   "outputs": [
    {
     "data": {
      "text/plain": [
       "'Sania'"
      ]
     },
     "execution_count": 20,
     "metadata": {},
     "output_type": "execute_result"
    }
   ],
   "source": [
    "mydict1['Name'] # Access item using key"
   ]
  },
  {
   "cell_type": "code",
   "execution_count": 21,
   "id": "85bae567-3a14-4e63-95a6-3737937567f5",
   "metadata": {},
   "outputs": [
    {
     "data": {
      "text/plain": [
       "'Analyst'"
      ]
     },
     "execution_count": 21,
     "metadata": {},
     "output_type": "execute_result"
    }
   ],
   "source": [
    "mydict1.get('job') # Access item using get() method"
   ]
  },
  {
   "cell_type": "markdown",
   "id": "78500d37-d2fc-4795-97c8-a6f613d7df20",
   "metadata": {},
   "source": [
    "# Add, Remove & Change Items"
   ]
  },
  {
   "cell_type": "code",
   "execution_count": 26,
   "id": "3c5f98c2-92e5-45ec-9a78-a4769f01248d",
   "metadata": {},
   "outputs": [
    {
     "data": {
      "text/plain": [
       "{'Name': 'Sania', 'ID': 12345, 'DOB': 1991, 'Address': 'Hilsinki'}"
      ]
     },
     "execution_count": 26,
     "metadata": {},
     "output_type": "execute_result"
    }
   ],
   "source": [
    "mydict1 = {'Name':'Sania' , 'ID': 12345 , 'DOB': 1991 , 'Address' : 'Hilsinki'}\n",
    "mydict1"
   ]
  },
  {
   "cell_type": "code",
   "execution_count": 27,
   "id": "51906e90-972d-4d32-9006-ffee3bb56e05",
   "metadata": {},
   "outputs": [
    {
     "data": {
      "text/plain": [
       "{'Name': 'Sania', 'ID': 12345, 'DOB': 1992, 'Address': 'Delhi'}"
      ]
     },
     "execution_count": 27,
     "metadata": {},
     "output_type": "execute_result"
    }
   ],
   "source": [
    "mydict1['DOB'] = 1992 # Changing Dictionary Items\n",
    "mydict1['Address'] = 'Delhi'\n",
    "mydict1"
   ]
  },
  {
   "cell_type": "code",
   "execution_count": 28,
   "id": "25be7a72-9e98-4cea-9e08-4bd594e38905",
   "metadata": {},
   "outputs": [
    {
     "data": {
      "text/plain": [
       "{'Name': 'Sania', 'ID': 12345, 'DOB': 2004, 'Address': 'Delhi'}"
      ]
     },
     "execution_count": 28,
     "metadata": {},
     "output_type": "execute_result"
    }
   ],
   "source": [
    "dict1 = {'DOB':2004}\n",
    "mydict1.update(dict1)\n",
    "mydict1"
   ]
  },
  {
   "cell_type": "code",
   "execution_count": 30,
   "id": "1b9b79ac-21b7-4a3c-bb26-812602014fb1",
   "metadata": {},
   "outputs": [
    {
     "data": {
      "text/plain": [
       "{'Name': 'Sania',\n",
       " 'ID': 12345,\n",
       " 'DOB': 2004,\n",
       " 'Address': 'Delhi',\n",
       " 'Job': 'Data scientist'}"
      ]
     },
     "execution_count": 30,
     "metadata": {},
     "output_type": "execute_result"
    }
   ],
   "source": [
    "mydict1['Job'] = 'Data scientist' # Adding items in the dictionary\n",
    "mydict1\n"
   ]
  },
  {
   "cell_type": "code",
   "execution_count": 31,
   "id": "54320912-840e-4ec8-a8a7-f6ce4ed14725",
   "metadata": {},
   "outputs": [
    {
     "data": {
      "text/plain": [
       "{'Name': 'Sania', 'DOB': 2004, 'Address': 'Delhi', 'Job': 'Data scientist'}"
      ]
     },
     "execution_count": 31,
     "metadata": {},
     "output_type": "execute_result"
    }
   ],
   "source": [
    "mydict1.pop('ID') # Removing items in the dictionary using Pop method\n",
    "mydict1"
   ]
  },
  {
   "cell_type": "code",
   "execution_count": 32,
   "id": "1609197d-5ed7-4466-80ba-46f64465c7c7",
   "metadata": {},
   "outputs": [
    {
     "data": {
      "text/plain": [
       "('Job', 'Data scientist')"
      ]
     },
     "execution_count": 32,
     "metadata": {},
     "output_type": "execute_result"
    }
   ],
   "source": [
    "mydict1.popitem() # A random item is removed"
   ]
  },
  {
   "cell_type": "code",
   "execution_count": 33,
   "id": "ef4621d2-dd30-4465-a785-3ab300a2389d",
   "metadata": {},
   "outputs": [
    {
     "data": {
      "text/plain": [
       "{'Name': 'Sania', 'DOB': 2004, 'Address': 'Delhi'}"
      ]
     },
     "execution_count": 33,
     "metadata": {},
     "output_type": "execute_result"
    }
   ],
   "source": [
    "mydict1"
   ]
  },
  {
   "cell_type": "code",
   "execution_count": 34,
   "id": "f5123ba3-53cd-4814-a8db-b5dc86b928aa",
   "metadata": {},
   "outputs": [
    {
     "data": {
      "text/plain": [
       "{'Name': 'Sania', 'DOB': 2004}"
      ]
     },
     "execution_count": 34,
     "metadata": {},
     "output_type": "execute_result"
    }
   ],
   "source": [
    "del[mydict1['Address']] # Removing item using del method\n",
    "mydict1"
   ]
  },
  {
   "cell_type": "code",
   "execution_count": 35,
   "id": "6e316735-be3c-4af3-9fe9-0b5756538c38",
   "metadata": {},
   "outputs": [
    {
     "data": {
      "text/plain": [
       "{}"
      ]
     },
     "execution_count": 35,
     "metadata": {},
     "output_type": "execute_result"
    }
   ],
   "source": [
    "mydict1.clear() # Delete all items of the dictionary using clear method\n",
    "mydict1"
   ]
  },
  {
   "cell_type": "code",
   "execution_count": 36,
   "id": "1d7b1e6c-2386-464c-9671-1d5ed021f400",
   "metadata": {},
   "outputs": [
    {
     "ename": "NameError",
     "evalue": "name 'mydict1' is not defined",
     "output_type": "error",
     "traceback": [
      "\u001b[31m---------------------------------------------------------------------------\u001b[39m",
      "\u001b[31mNameError\u001b[39m                                 Traceback (most recent call last)",
      "\u001b[36mCell\u001b[39m\u001b[36m \u001b[39m\u001b[32mIn[36]\u001b[39m\u001b[32m, line 2\u001b[39m\n\u001b[32m      1\u001b[39m \u001b[38;5;28;01mdel\u001b[39;00m mydict1 \u001b[38;5;66;03m# Delete the dictionary object\u001b[39;00m\n\u001b[32m----> \u001b[39m\u001b[32m2\u001b[39m \u001b[43mmydict1\u001b[49m\n",
      "\u001b[31mNameError\u001b[39m: name 'mydict1' is not defined"
     ]
    }
   ],
   "source": [
    "del mydict1 # Delete the dictionary object\n",
    "mydict1"
   ]
  },
  {
   "cell_type": "markdown",
   "id": "f07db0da-4bd7-45d7-ad11-c843470c1afd",
   "metadata": {},
   "source": [
    "# Copy Dictionary\n"
   ]
  },
  {
   "cell_type": "code",
   "execution_count": 39,
   "id": "f5ef7ee4-570c-4c42-aa68-bed6ebfbebe6",
   "metadata": {},
   "outputs": [
    {
     "data": {
      "text/plain": [
       "{'Name': 'Carlos', 'ID': 12345, 'DOB': 1991, 'Address': 'Monaco'}"
      ]
     },
     "execution_count": 39,
     "metadata": {},
     "output_type": "execute_result"
    }
   ],
   "source": [
    "mydict = {'Name':'Carlos' , 'ID': 12345 , 'DOB': 1991 , 'Address' : 'Monaco'}\n",
    "mydict\n"
   ]
  },
  {
   "cell_type": "code",
   "execution_count": 41,
   "id": "6a5a5d05-1b90-49de-b4cb-eb1d462503b8",
   "metadata": {},
   "outputs": [],
   "source": [
    "mydict1 = mydict # Create a new reference \"mydict1\"\n"
   ]
  },
  {
   "cell_type": "code",
   "execution_count": 42,
   "id": "9c11e1ba-2061-4002-a472-1e636a85493b",
   "metadata": {},
   "outputs": [
    {
     "data": {
      "text/plain": [
       "(1850633353088, 1850633353088)"
      ]
     },
     "execution_count": 42,
     "metadata": {},
     "output_type": "execute_result"
    }
   ],
   "source": [
    "id(mydict) , id(mydict1) # The address of both mydict & mydict1 will be the same"
   ]
  },
  {
   "cell_type": "code",
   "execution_count": 44,
   "id": "99e5a39e-5d9a-4c4d-b744-2d40fab304ec",
   "metadata": {},
   "outputs": [
    {
     "data": {
      "text/plain": [
       "{'Name': 'Carlos', 'ID': 12345, 'DOB': 1991, 'Address': 'Monaco'}"
      ]
     },
     "execution_count": 44,
     "metadata": {},
     "output_type": "execute_result"
    }
   ],
   "source": [
    "mydict2 = mydict.copy() # Create a copy of the dictionary\n",
    "mydict2"
   ]
  },
  {
   "cell_type": "code",
   "execution_count": 45,
   "id": "0bfc2393-6bb2-45a3-9f8e-4f9fc573b178",
   "metadata": {},
   "outputs": [
    {
     "data": {
      "text/plain": [
       "1850633448256"
      ]
     },
     "execution_count": 45,
     "metadata": {},
     "output_type": "execute_result"
    }
   ],
   "source": [
    "id(mydict2) # The address of mydict2 will be different from mydict because mydict"
   ]
  },
  {
   "cell_type": "code",
   "execution_count": 46,
   "id": "1f9f9339-0515-4d6d-affd-1be27fa2e8c0",
   "metadata": {},
   "outputs": [],
   "source": [
    "mydict['Address'] = 'Mumbai'\n"
   ]
  },
  {
   "cell_type": "code",
   "execution_count": 47,
   "id": "2e4aa877-d792-4b8c-a27b-756176c57a2c",
   "metadata": {},
   "outputs": [
    {
     "data": {
      "text/plain": [
       "{'Name': 'Carlos', 'ID': 12345, 'DOB': 1991, 'Address': 'Mumbai'}"
      ]
     },
     "execution_count": 47,
     "metadata": {},
     "output_type": "execute_result"
    }
   ],
   "source": [
    "mydict\n"
   ]
  },
  {
   "cell_type": "code",
   "execution_count": 48,
   "id": "b31a7164-d820-42d6-9ec2-4afe0922c966",
   "metadata": {},
   "outputs": [
    {
     "data": {
      "text/plain": [
       "{'Name': 'Carlos', 'ID': 12345, 'DOB': 1991, 'Address': 'Mumbai'}"
      ]
     },
     "execution_count": 48,
     "metadata": {},
     "output_type": "execute_result"
    }
   ],
   "source": [
    "mydict1 # mydict1 will be also impacted as it is pointing to the same dictionary"
   ]
  },
  {
   "cell_type": "code",
   "execution_count": 49,
   "id": "355d8eed-03ac-4f54-9e33-b14f728458b7",
   "metadata": {},
   "outputs": [
    {
     "data": {
      "text/plain": [
       "{'Name': 'Carlos', 'ID': 12345, 'DOB': 1991, 'Address': 'Monaco'}"
      ]
     },
     "execution_count": 49,
     "metadata": {},
     "output_type": "execute_result"
    }
   ],
   "source": [
    "mydict2 # Copy of list won't be impacted due to the changes made in the original"
   ]
  },
  {
   "cell_type": "markdown",
   "id": "8826dd80-ee89-4afc-bedb-42f9c69dd7cc",
   "metadata": {},
   "source": [
    "# Loop through a Dictionary"
   ]
  },
  {
   "cell_type": "code",
   "execution_count": 52,
   "id": "445b9e46-264b-4269-8748-3a2ae892d0e6",
   "metadata": {},
   "outputs": [
    {
     "data": {
      "text/plain": [
       "{'Name': 'Sania',\n",
       " 'ID': 12345,\n",
       " 'DOB': 1991,\n",
       " 'Address': 'usa',\n",
       " 'job': 'Data scientist'}"
      ]
     },
     "execution_count": 52,
     "metadata": {},
     "output_type": "execute_result"
    }
   ],
   "source": [
    "mydict1 = {'Name':'Sania' , 'ID': 12345 , 'DOB': 1991 , 'Address' : 'usa','job':'Data scientist' }\n",
    "mydict1"
   ]
  },
  {
   "cell_type": "code",
   "execution_count": 54,
   "id": "dab66b4c-3af5-4a10-a971-d9e6ea2191b9",
   "metadata": {},
   "outputs": [
    {
     "name": "stdout",
     "output_type": "stream",
     "text": [
      "Name : Sania\n",
      "ID : 12345\n",
      "DOB : 1991\n",
      "Address : usa\n",
      "job : Data scientist\n"
     ]
    }
   ],
   "source": [
    "for i in mydict1:\n",
    "    print(i , ':' , mydict1[i]) # Key & value pair"
   ]
  },
  {
   "cell_type": "code",
   "execution_count": 55,
   "id": "5e3ff113-175c-40d5-a9c6-cf8b309eba99",
   "metadata": {},
   "outputs": [
    {
     "name": "stdout",
     "output_type": "stream",
     "text": [
      "Sania\n",
      "12345\n",
      "1991\n",
      "usa\n",
      "Data scientist\n"
     ]
    }
   ],
   "source": [
    "for i in mydict1:\n",
    "    print(mydict1[i]) # Dictionary items"
   ]
  },
  {
   "cell_type": "markdown",
   "id": "396b9f9f-1ad0-4f38-9964-333736f68f09",
   "metadata": {},
   "source": [
    " # Dictionary Membership"
   ]
  },
  {
   "cell_type": "code",
   "execution_count": 57,
   "id": "fe92b4cd-f743-4ed5-8759-cce05f9e8360",
   "metadata": {},
   "outputs": [
    {
     "data": {
      "text/plain": [
       "{'Name': 'Carlos', 'ID': 55, 'DOB': 1994, 'Job': 'F1 Driver'}"
      ]
     },
     "execution_count": 57,
     "metadata": {},
     "output_type": "execute_result"
    }
   ],
   "source": [
    "mydict1 = {'Name':'Carlos' , 'ID': 55 , 'DOB': 1994 , 'Job': 'F1 Driver'}\n",
    "mydict1"
   ]
  },
  {
   "cell_type": "code",
   "execution_count": 58,
   "id": "c8e95b16-b355-4d86-9089-0c89ba7d6d34",
   "metadata": {},
   "outputs": [
    {
     "data": {
      "text/plain": [
       "True"
      ]
     },
     "execution_count": 58,
     "metadata": {},
     "output_type": "execute_result"
    }
   ],
   "source": [
    "'Name' in mydict1 # Test if a key is in a dictionary or not."
   ]
  },
  {
   "cell_type": "code",
   "execution_count": 59,
   "id": "07587276-293b-4ccf-9d66-c822568d9520",
   "metadata": {},
   "outputs": [
    {
     "data": {
      "text/plain": [
       "False"
      ]
     },
     "execution_count": 59,
     "metadata": {},
     "output_type": "execute_result"
    }
   ],
   "source": [
    "'Carlos' in mydict1 # Membership test can be only done for keys."
   ]
  },
  {
   "cell_type": "code",
   "execution_count": 60,
   "id": "b9e2a0d5-9520-445c-8b97-74941560442f",
   "metadata": {},
   "outputs": [
    {
     "data": {
      "text/plain": [
       "True"
      ]
     },
     "execution_count": 60,
     "metadata": {},
     "output_type": "execute_result"
    }
   ],
   "source": [
    "'ID' in mydict1"
   ]
  },
  {
   "cell_type": "code",
   "execution_count": 61,
   "id": "addda8c1-32da-4a18-939e-c3f6f18843f7",
   "metadata": {},
   "outputs": [
    {
     "data": {
      "text/plain": [
       "False"
      ]
     },
     "execution_count": 61,
     "metadata": {},
     "output_type": "execute_result"
    }
   ],
   "source": [
    "'Address' in mydict1"
   ]
  },
  {
   "cell_type": "markdown",
   "id": "07371d21-6ddd-41dd-87cb-b16ba5afd20e",
   "metadata": {},
   "source": [
    "# All / Any"
   ]
  },
  {
   "cell_type": "markdown",
   "id": "fa05aa05-ea44-4d0c-bdb2-05e5e0ae00df",
   "metadata": {},
   "source": [
    "The all() method returns:\n",
    "\n",
    "True - If all all keys of the dictionary are true\n",
    "False - If any key of the dictionary is false\n",
    "\n",
    "The any() function returns True if any key of the dictionary is True. If not, any() returns False."
   ]
  },
  {
   "cell_type": "code",
   "execution_count": 62,
   "id": "bb1e4e8d-18a0-45f9-9a0e-4e7df58e82b0",
   "metadata": {},
   "outputs": [
    {
     "data": {
      "text/plain": [
       "{'Name': 'Carlos', 'ID': 55, 'DOB': 1994, 'Job': 'F1 Driver'}"
      ]
     },
     "execution_count": 62,
     "metadata": {},
     "output_type": "execute_result"
    }
   ],
   "source": [
    "mydict1 = {'Name':'Carlos' , 'ID': 55 , 'DOB': 1994 , 'Job': 'F1 Driver'}\n",
    "mydict1"
   ]
  },
  {
   "cell_type": "code",
   "execution_count": 63,
   "id": "97623b12-6ad5-4cc0-ac0a-5a7e8ab4cd22",
   "metadata": {},
   "outputs": [
    {
     "data": {
      "text/plain": [
       "True"
      ]
     },
     "execution_count": 63,
     "metadata": {},
     "output_type": "execute_result"
    }
   ],
   "source": [
    "all(mydict1) # Will Return false as one value is false (Value 0)"
   ]
  }
 ],
 "metadata": {
  "kernelspec": {
   "display_name": "Python 3 (ipykernel)",
   "language": "python",
   "name": "python3"
  },
  "language_info": {
   "codemirror_mode": {
    "name": "ipython",
    "version": 3
   },
   "file_extension": ".py",
   "mimetype": "text/x-python",
   "name": "python",
   "nbconvert_exporter": "python",
   "pygments_lexer": "ipython3",
   "version": "3.13.5"
  }
 },
 "nbformat": 4,
 "nbformat_minor": 5
}
